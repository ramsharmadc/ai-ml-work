{
 "cells": [
  {
   "cell_type": "markdown",
   "metadata": {},
   "source": [
    "### NLP system for creating Relevant Question and Answer based on job role"
   ]
  },
  {
   "cell_type": "markdown",
   "metadata": {},
   "source": [
    "### <span style=\"color:#800000\">Import libraries</span>"
   ]
  },
  {
   "cell_type": "code",
   "execution_count": 404,
   "metadata": {},
   "outputs": [],
   "source": [
    "import pandas as pd\n",
    "import numpy as np\n",
    "import re\n",
    "import html\n",
    "import string\n",
    "import unicodedata\n",
    "import json\n",
    "import ast\n",
    "import random\n",
    "\n",
    "import nltk\n",
    "from nltk.tokenize import sent_tokenize, word_tokenize \n",
    "from nltk.corpus import stopwords\n",
    "\n",
    "from nltk.tag import pos_tag\n",
    "from nltk.chunk import ne_chunk\n",
    "\n",
    "from sklearn.feature_extraction.text import TfidfVectorizer,CountVectorizer\n",
    "\n",
    "import collections\n",
    "from collections import Counter\n",
    "import matplotlib.pyplot as plt\n",
    "from spacy.training import Example\n",
    "import seaborn as sns\n",
    "\n",
    "from spacy.util import minibatch, compounding\n",
    "from pathlib import Path\n",
    "\n",
    "import spacy\n",
    "from spacy import displacy\n",
    "import en_core_web_sm\n",
    "\n",
    "pd.set_option('display.max_colwidth', None)"
   ]
  },
  {
   "cell_type": "markdown",
   "metadata": {},
   "source": [
    "### <span style=\"color:#800000\">Loading Datasets</span>"
   ]
  },
  {
   "cell_type": "code",
   "execution_count": 2,
   "metadata": {},
   "outputs": [
    {
     "data": {
      "text/html": [
       "<div>\n",
       "<style scoped>\n",
       "    .dataframe tbody tr th:only-of-type {\n",
       "        vertical-align: middle;\n",
       "    }\n",
       "\n",
       "    .dataframe tbody tr th {\n",
       "        vertical-align: top;\n",
       "    }\n",
       "\n",
       "    .dataframe thead th {\n",
       "        text-align: right;\n",
       "    }\n",
       "</style>\n",
       "<table border=\"1\" class=\"dataframe\">\n",
       "  <thead>\n",
       "    <tr style=\"text-align: right;\">\n",
       "      <th></th>\n",
       "      <th>job_role</th>\n",
       "      <th>title</th>\n",
       "      <th>description</th>\n",
       "      <th>tags</th>\n",
       "      <th>new_title</th>\n",
       "    </tr>\n",
       "  </thead>\n",
       "  <tbody>\n",
       "    <tr>\n",
       "      <th>0</th>\n",
       "      <td>artificial intelligence</td>\n",
       "      <td>Leadership Role - Product Management - Artificial Intelligence - Mobile Apps (6-10 yrs)</td>\n",
       "      <td>&lt;p&gt;Opportunity for a Product Management position with the booming AI platform.\\r&lt;br/&gt;\\r&lt;br/&gt;Position: Product Manager_Mobile\\r&lt;br/&gt;\\r&lt;br/&gt;Domain: Artificial Intelligence_Product management\\r&lt;br/&gt;\\r&lt;br/&gt;Experience: 6+ Years (minimum 4 Years into product Management)\\r&lt;br/&gt;\\r&lt;br/&gt;Mandatory to have: Exposure in Mobile Product Management\\r&lt;br/&gt;\\r&lt;br/&gt;Job Responsibilities\\r&lt;br/&gt;\\r&lt;br/&gt;1. Defining the value proposition for the application. What value does the application promise its users-  Why should people use this application and what value will users derive by using this application.\\r&lt;br/&gt;\\r&lt;br/&gt;2. Conduct extensive research of the domain to understand other similar applications available to consumers and their strengths and weaknesses; assess the gap between consumer expectations and what is available to them from competing applications.\\r&lt;br/&gt;\\r&lt;br/&gt;3. Define a distinctive positioning for the application in line with the value it provides to the end user, its unique features and functionality and differentiation from other such applications.\\r&lt;br/&gt;\\r&lt;br/&gt;4. Define a detailed list of features and functionality for the voice application, organize and prioritize them for implementation.\\r&lt;br/&gt;\\r&lt;br/&gt;5. Build wireframes for top-level conversation flow.\\r&lt;br/&gt;\\r&lt;br/&gt;6. Work with engineering teams and conversation designers. Work with conversation designers to improve the conversation quality and make conversations more human- like. Work with engineering teams to understand and leverage platform capabilities and features in order to create compelling conversational experiences that are human like.\\r&lt;br/&gt;\\r&lt;br/&gt;7. Research all data sources in specific domain areas to identify structured and unstructured data sources for the application.\\r&lt;br/&gt;\\r&lt;br/&gt;8. Identify the categories of questions that the application should be capable of answering in a domain. Work with the engineering team to identify sources of structured and unstructured data that will help in answering these questions. \\r&lt;br/&gt;\\r&lt;br/&gt;9. Create product notes and product specifications. Write product descriptions for the application on app stores. \\r&lt;br/&gt;\\r&lt;br/&gt;10. Review user feedback everyday, respond to user comments, address user issues, and prioritize bug fixes and product features based on user feedback.\\r&lt;br/&gt;\\r&lt;br/&gt;11. Create marketing content like demo videos and other content to demonstrate the capability of the application. Find effective ways to distribute this content to target audience.\\r&lt;br/&gt;\\r&lt;br/&gt;Skills and Qualifications:\\r&lt;br/&gt;\\r&lt;br/&gt;1. Ability to think from end-consumer's point of view. Understanding the customer deeply and ability to step into her/his shoes.\\r&lt;br/&gt;\\r&lt;br/&gt;2. Logical thinking ability to build wireframes and flowcharts for conversations and dialogs.\\r&lt;br/&gt;\\r&lt;br/&gt;3. Basic understanding of markup text editors like Sublime Text is desirable. People with logical thinking ability can learn this skill in a week's time.\\r&lt;br/&gt;\\r&lt;br/&gt;4. Knowledge of the application domain - recipes, basketball, cricket, movies, news etc.&lt;/p&gt;</td>\n",
       "      <td>['IT Product Management', 'Artificial Intelligence', 'Online Product Management']</td>\n",
       "      <td>leadership role product management artificial intelligence mobile apps yrs</td>\n",
       "    </tr>\n",
       "    <tr>\n",
       "      <th>1</th>\n",
       "      <td>artificial intelligence</td>\n",
       "      <td>Head - Data Science &amp; Emerging Artificial Intelligence (10-20 yrs)</td>\n",
       "      <td>&lt;p&gt;Basic Function / Job Responsibilities\\r&lt;br/&gt;\\r&lt;br/&gt;Operational/Executive Management\\r&lt;br/&gt;\\r&lt;br/&gt;-  Define CoE strategy and roadmap to develop a vibrant DS &amp; AI ecosystem in the country and realize the vision and objectives of\\r&lt;br/&gt;\\r&lt;br/&gt;-  Identifies opportunities of collaboration. Adopt a - String of Pearls-  approach to build a powerful eco-system of stakeholders across Innovators, Technology players, ISPs, Academia &amp; Government for the enable the CoE to be the catalyst for innovation, research, adoption, and skill &amp; talent development \\r&lt;br/&gt;\\r&lt;br/&gt;-  Identify and raise funds from Government industry partners to grow the CoE towards a self-sustaining basis over five (5) years of its operation\\r&lt;br/&gt;\\r&lt;br/&gt;-  Implements common COE vision, oversees the execution of the CoE business strategy, and manages all resources including people, process, infrastructure, to deliver the agreed deliverables and create value to the industry, government, and academia partners \\r&lt;br/&gt;\\r&lt;br/&gt;-  Lead efforts to develop DS &amp; AI policies\\r&lt;br/&gt;\\r&lt;br/&gt;-  Manages relationship with external agencies, partners, and government as appropriate to enable smooth operations and profitable growth of CoE activities\\r&lt;br/&gt;\\r&lt;br/&gt;-  Explores alliances with international organizations &amp; bodies to enhance the capabilities of DS &amp; AI in the country \\r&lt;br/&gt;\\r&lt;br/&gt;-  Represents the CoE to the public and outside groups, organizations, and agencies; responds to a wide variety of questions and comments\\r&lt;br/&gt;\\r&lt;br/&gt;Managerial Excellence\\r&lt;br/&gt;\\r&lt;br/&gt;-  Sets direction and vision for the business, team and helps them achieve/excel\\r&lt;br/&gt;\\r&lt;br/&gt;-  Identify, build, and nurture a collaborative network of organizations towards developing a vibrant DS &amp; AI ecosystem\\r&lt;br/&gt;\\r&lt;br/&gt;-  Defines &amp; manages CoE's positioning both externally and internally\\r&lt;br/&gt;\\r&lt;br/&gt;-  Promotes a mindset within CoE for sustained success, profitable growth and diversity\\r&lt;br/&gt;\\r&lt;br/&gt;-  Continually enhances own skills and builds knowledge in all aspects of the organization, the business and information system\\r&lt;br/&gt;\\r&lt;br/&gt;Knowledge, Skills,\\r&lt;br/&gt;\\r&lt;br/&gt;Qualifications and Experience\\r&lt;br/&gt;\\r&lt;br/&gt;-  Management degree (MBA - Strategy / Systems/ Marketing/ General) from Tier-1 institute) with understand of technology\\r&lt;br/&gt;\\r&lt;br/&gt;-  Overall experience of over 20 yrs (Strategy Development, Program Management, Business Management experience) of which at least 4 years in building an ecosystem integrating various stakeholders including industry, academia, and government\\r&lt;br/&gt;\\r&lt;br/&gt;-  Led programs with at-least one project of revenue of over TCV $20M USD spread over multiple geographies and domains\\r&lt;br/&gt;\\r&lt;br/&gt;-  Appreciation of deep technology areas like Data Science, AI and associated products\\r&lt;br/&gt;\\r&lt;br/&gt;-  Project / Program Management Process (PMP)\\r&lt;br/&gt;\\r&lt;br/&gt;-  Talent Management process (recruitment/selection, performance management, coaching, reward/ recognition)&lt;/p&gt;</td>\n",
       "      <td>['Data Science', 'Artificial Intelligence', 'IT Project Management', 'PMP']</td>\n",
       "      <td>head data science emerging artificial intelligence yrs</td>\n",
       "    </tr>\n",
       "    <tr>\n",
       "      <th>2</th>\n",
       "      <td>artificial intelligence</td>\n",
       "      <td>DevOps Automation Architect - Artificial Intelligence/Machine Learning - Enterprise Automation Solutions  (10-15 yrs)</td>\n",
       "      <td>&lt;p&gt;Position: DevOps Automation Architect(AI/ML)\\r&lt;br/&gt;\\r&lt;br/&gt;Location: Greater Noida\\r&lt;br/&gt;\\r&lt;br/&gt;Experience range : 10-14 years\\r&lt;br/&gt;\\r&lt;br/&gt;- Strong understanding of SDLC lifecycle and past experience of implementing automation solutions in areas like DevOps, Infrastructure automation, IP operations automation, robotic automation, cognitive computing, etc \\r&lt;br/&gt;\\r&lt;br/&gt;- Expertise in architecting and designing automation solutions along with standards/guidelines \\r&lt;br/&gt;\\r&lt;br/&gt;- Possess technical knowledge in following (two or more) areas - Artificial Intelligence / Machine Learning / NLP, RPA, DevOps, Infrastructure automation, IT Operations, Service Desk, Analytics, etc \\r&lt;br/&gt;\\r&lt;br/&gt;  Expertise or knowledge in one or more of the following tools in each category   - \\r&lt;br/&gt;\\r&lt;br/&gt;- Configuration Management and ARA: Chef, Puppet, Ansible, CA Release Automation, CA Agile Designer, XL Deploy, Jenkins, TFS, Octopus Deploy, etc \\r&lt;br/&gt;\\r&lt;br/&gt;Cloud hosting solutions : AWS, Azure, Google Cloud, etc \\r&lt;br/&gt;\\r&lt;br/&gt;IT operations and Service Desk : ServiceNow, AppDynamics, Dynatrace, Splunk, Nagios, Zabbix, Vistara, etc \\r&lt;br/&gt;\\r&lt;br/&gt;RPA : UIPath, Automation Anywhere, BluePrism, WorkFusion, Sikuli, etc \\r&lt;br/&gt;\\r&lt;br/&gt;- AI based tools for automation using Machine Learning, NLI, NLP, etc \\r&lt;br/&gt;\\r&lt;br/&gt;- Provide technical leadership and guidance to team \\r&lt;br/&gt;\\r&lt;br/&gt;- Possess strong communication and presentation skills \\r&lt;br/&gt;\\r&lt;br/&gt;  Optional Skills (good to have)  : \\r&lt;br/&gt;\\r&lt;br/&gt;- Prior consulting, advisory, or professional services experience on automation \\r&lt;br/&gt;\\r&lt;br/&gt;- Past experience of working in enterprise automation solutions or platform or frameworks&lt;/p&gt;</td>\n",
       "      <td>['Solution Design', 'Solution Architect', 'Artificial Intelligence', 'Machine Learning', 'Automation', 'Agile', 'NLP']</td>\n",
       "      <td>devops automation architect artificial intelligence machine learning enterprise automation solutions yrs</td>\n",
       "    </tr>\n",
       "    <tr>\n",
       "      <th>3</th>\n",
       "      <td>artificial intelligence</td>\n",
       "      <td>Associate Director - Product Marketing - Retail Analytics &amp; Artificial Intelligence   (10-14 yrs)</td>\n",
       "      <td>&lt;p&gt;EXPERIENCE: 10+ Years\\r&lt;br/&gt;\\r&lt;br/&gt;EDUCATION: MBA from a front line business school\\r&lt;br/&gt;\\r&lt;br/&gt;LOCATION: Bangalore, India\\r&lt;br/&gt;\\r&lt;br/&gt;PRIMARY RESPONSIBILITIES:\\r&lt;br/&gt;\\r&lt;br/&gt;- Develop/refine strategy - Develop a deep understanding of product/solution, buyer segments, and audience needs/pains, buying behavior/criteria/process, competitive landscape/positions and developing a marketing playbook for winning in chosen markets.\\r&lt;br/&gt;\\r&lt;br/&gt;- Go-to-market planning - Develop product positioning and messaging that differentiates product offering in the market. Identify suitable market segments and develop a marketing plan to fulfill marketing objectives.\\r&lt;br/&gt;\\r&lt;br/&gt;- Manage marketing programs -  develop strategy, tactics and manage marketing programs and campaigns that drive demand, generate leads, shape market perceptions, engage specific audiences like users, sponsors, influencers, advisors, customers etc.\\r&lt;br/&gt;\\r&lt;br/&gt;- 360-degree marketing execution - Leverage and direct all aspects of marketing, including digital marketing, social media marketing, content marketing, event marketing, search marketing, advertising, public relations, analyst relations, customer success marketing etc., to fulfill marketing goals.\\r&lt;br/&gt;\\r&lt;br/&gt;- Content and engagement strategy - study audience needs, develop personas and content/messaging needs, execute/communicate the value proposition, benefit, usage, best practices, business cases, ROI to ensure marketing success.\\r&lt;br/&gt;\\r&lt;br/&gt;- Sales enablement -  communicate the value proposition of the product portfolio to the sales, pre-sales, partnerships and other customer/market-facing teams, and develop engagement strategies and sales tools that support the selling process.\\r&lt;br/&gt;\\r&lt;br/&gt; - Market &amp; competitive intelligence -  closely track competitive landscape, win-loss analysis, deal orchestration, track buying criteria, selection/evaluation processes, sales lifecycles and engagement/content needs to support market/competitive position.\\r&lt;br/&gt;\\r&lt;br/&gt;- Innovation and product development - develop inputs for product engineering and design based on market insights, user experiences, sales challenges, customer satisfaction, emerging technology trends, analyst reviews etc.\\r&lt;br/&gt;\\r&lt;br/&gt;- Thought leadership - represent the company in major industry forums, associations, events and tech media platforms, speak at events and influence the adoption of new technologies in business, develop peer networks and advisory forums to drive visibility and establish company position, author high-quality content for relevant industry audiences.\\r&lt;br/&gt;\\r&lt;br/&gt;- Manage product launches -  plan the launch of new products and releases, manage the cross-functional implementation of the plan\\r&lt;br/&gt;\\r&lt;br/&gt;- Marketing measurements - track effectiveness of marketing programs, identify gaps and areas of improvement; establish review mechanisms for continuous learning across cross-functional teams and agencies.\\r&lt;br/&gt;\\r&lt;br/&gt;- Organizational development - Support the development of internal and external marketing competencies, skills, teams, agencies/partners, consultants and resources to deliver and improve marketing capabilities and results.&lt;/p&gt;</td>\n",
       "      <td>['Marketing', 'Product Marketing', 'Marketing Head', 'IT Marketing', 'IT Product Marketing', 'IT Marketing Head']</td>\n",
       "      <td>associate director product marketing retail analytics artificial intelligence yrs</td>\n",
       "    </tr>\n",
       "    <tr>\n",
       "      <th>4</th>\n",
       "      <td>artificial intelligence</td>\n",
       "      <td>Manager - Advance Analytics - Machine Learning &amp; Artificial Intelligence - Insurance  (12-15 yrs)</td>\n",
       "      <td>&lt;p&gt;&lt;p&gt;JD :&lt;br&gt;&lt;br&gt;- Capability development &amp;amp; Value creation through Business Adoption of AI, Deep Learning and Advanced Analytics solutions&lt;br&gt;&lt;br&gt;- Responsible for Stakeholder Management &amp;amp; Business Development for the AI &amp;amp; Advanced Analytics vertical&lt;br&gt;&lt;br&gt;- P&amp;amp;L Ownership for Analytics vertical- Rigorously manage estimates, forecasts, and actuals.&lt;br&gt;&lt;br&gt;- Innovation: Responsible for Artificial Intelligence &amp;amp; Machine learning based product development &amp;amp; deployment leveraging cloud &amp;amp; in-house infrastructure.&lt;br&gt;&lt;br&gt;- Leading Artificial Intelligence &amp;amp; Advanced Analytics Centre of Excellence within designing, building, attracting, rewarding and retaining teams&lt;br&gt;&lt;br&gt;- Resource Management : Managing adequate skills based resourcing levels for the team and ensuring effective work allocation&lt;br&gt;&lt;br&gt;Responsibilities :&amp;nbsp;&lt;br&gt;&lt;br&gt;- Organizational &amp;amp; Team Management : Strategic design and optimized delivery structure. Attract, recruit, develop and retain talent. Employee evaluations, succession planning, compensation, merit, and reward planning/execution. Build a collaborative, cohesive, credible, high performing organization.&lt;br&gt;&lt;br&gt;- Capability Development : Responsible in increasing the internal skills capability within the AI &amp;amp; Advanced Analytics team &lt;br&gt;&lt;br&gt;- Service Delivery : Lead and provide direction to the Analytics Team. Service delivery responsibility for all projects in Analytics&lt;br&gt;&lt;br&gt;- Leadership : Demonstrate character, clarity, courage and commitment to high-performance&lt;br&gt;&lt;br&gt;- Stakeholder Management : Responsible for existing Stakeholder Management and identification of Business Development opportunities for Analytics&lt;br&gt;&lt;br&gt;- Change Orientation : Champion a better, faster and simpler way of doing things. Build environment of trust, high performance and engagement by establishing clear goals and a commitment to feedback, development and recognition. Apply original thinking and continuous improvement to processes, products, systems or services and manage change to better serve customer needs&lt;br&gt;&lt;br&gt;- Collaboration &amp;amp; Communication : Connect, engage and communicate with others. Encourage open expression of ideas; communicate effectively at all levels and build strong relationships&lt;br&gt;&lt;br&gt;- Compliance - To ensure that you understand and adhere to Code of Conduct and, where appropriate, comply with all relevant regulatory policies. This includes completion of any mandatory training requirements&lt;br&gt;&lt;br&gt;Qualifications :&lt;br&gt;&lt;br&gt;- Minimum of 12 years of Artificial Intelligence, Machine Learning, Predictive Analytics &amp;amp; Statistical Modelling, Big Data &amp;amp; Analytics&lt;br&gt;&lt;br&gt;- Master's Degree in premier institutes like IIT, ISI, IISc etc with Mathematics, Computer Science, Econometrics, Statistics or equivalent work experience.&lt;br&gt;&lt;br&gt;- 12+ years of experience in managing multiple, medium to large global cross-functional teams or projects, influencing senior level management and key stakeholders&lt;br&gt;&lt;br&gt;- Technology skills : Python(Deep learning/Neural Networks, LSTM, CNN, RNN), R, SAS, JSON, Hadoop, Cloud Foundry, Pivotal, MatLabs, Tableau, Qlik, SAP Hana, Oracle, Spark, Greenplum, Cassandra, Amazon Web Services, Microsoft Azure, Google Cloud, Informatica, Angular JS, SQL, NOSQL&lt;br&gt;&lt;/p&gt;&lt;/p&gt;</td>\n",
       "      <td>['Analytics', 'Artificial Intelligence', 'Machine Learning', 'Statistical Modeling', 'Big Data', 'Python', 'SAS', 'Statistics', 'Predictive analytics']</td>\n",
       "      <td>manager advance analytics machine learning artificial intelligence insurance yrs</td>\n",
       "    </tr>\n",
       "  </tbody>\n",
       "</table>\n",
       "</div>"
      ],
      "text/plain": [
       "                  job_role  \\\n",
       "0  artificial intelligence   \n",
       "1  artificial intelligence   \n",
       "2  artificial intelligence   \n",
       "3  artificial intelligence   \n",
       "4  artificial intelligence   \n",
       "\n",
       "                                                                                                                   title  \\\n",
       "0                                Leadership Role - Product Management - Artificial Intelligence - Mobile Apps (6-10 yrs)   \n",
       "1                                                     Head - Data Science & Emerging Artificial Intelligence (10-20 yrs)   \n",
       "2  DevOps Automation Architect - Artificial Intelligence/Machine Learning - Enterprise Automation Solutions  (10-15 yrs)   \n",
       "3                      Associate Director - Product Marketing - Retail Analytics & Artificial Intelligence   (10-14 yrs)   \n",
       "4                      Manager - Advance Analytics - Machine Learning & Artificial Intelligence - Insurance  (12-15 yrs)   \n",
       "\n",
       "                                                                                                                                                                                                                                                                                                                                                                                                                                                                                                                                                                                                                                                                                                                                                                                                                                                                                                                                                                                                                                                                                                                                                                                                                                                                                                                                                                                                                                                                                                                                                                                                                                                                                                                                                                                                                                                                                                                                                                                                                                                                                                                                                                                                                                                                                                                                                                                                                                                                                                                                                                                                                                                                                                                                                                                                                                                                                                                                                                                                                                                                                                                                                                                                                                                                                                                                                                                                                             description  \\\n",
       "0                                                                                                                                                                                                                                                    <p>Opportunity for a Product Management position with the booming AI platform.\\r<br/>\\r<br/>Position: Product Manager_Mobile\\r<br/>\\r<br/>Domain: Artificial Intelligence_Product management\\r<br/>\\r<br/>Experience: 6+ Years (minimum 4 Years into product Management)\\r<br/>\\r<br/>Mandatory to have: Exposure in Mobile Product Management\\r<br/>\\r<br/>Job Responsibilities\\r<br/>\\r<br/>1. Defining the value proposition for the application. What value does the application promise its users-  Why should people use this application and what value will users derive by using this application.\\r<br/>\\r<br/>2. Conduct extensive research of the domain to understand other similar applications available to consumers and their strengths and weaknesses; assess the gap between consumer expectations and what is available to them from competing applications.\\r<br/>\\r<br/>3. Define a distinctive positioning for the application in line with the value it provides to the end user, its unique features and functionality and differentiation from other such applications.\\r<br/>\\r<br/>4. Define a detailed list of features and functionality for the voice application, organize and prioritize them for implementation.\\r<br/>\\r<br/>5. Build wireframes for top-level conversation flow.\\r<br/>\\r<br/>6. Work with engineering teams and conversation designers. Work with conversation designers to improve the conversation quality and make conversations more human- like. Work with engineering teams to understand and leverage platform capabilities and features in order to create compelling conversational experiences that are human like.\\r<br/>\\r<br/>7. Research all data sources in specific domain areas to identify structured and unstructured data sources for the application.\\r<br/>\\r<br/>8. Identify the categories of questions that the application should be capable of answering in a domain. Work with the engineering team to identify sources of structured and unstructured data that will help in answering these questions. \\r<br/>\\r<br/>9. Create product notes and product specifications. Write product descriptions for the application on app stores. \\r<br/>\\r<br/>10. Review user feedback everyday, respond to user comments, address user issues, and prioritize bug fixes and product features based on user feedback.\\r<br/>\\r<br/>11. Create marketing content like demo videos and other content to demonstrate the capability of the application. Find effective ways to distribute this content to target audience.\\r<br/>\\r<br/>Skills and Qualifications:\\r<br/>\\r<br/>1. Ability to think from end-consumer's point of view. Understanding the customer deeply and ability to step into her/his shoes.\\r<br/>\\r<br/>2. Logical thinking ability to build wireframes and flowcharts for conversations and dialogs.\\r<br/>\\r<br/>3. Basic understanding of markup text editors like Sublime Text is desirable. People with logical thinking ability can learn this skill in a week's time.\\r<br/>\\r<br/>4. Knowledge of the application domain - recipes, basketball, cricket, movies, news etc.</p>   \n",
       "1                                                                                                                                                                                                                                                                                                                                                          <p>Basic Function / Job Responsibilities\\r<br/>\\r<br/>Operational/Executive Management\\r<br/>\\r<br/>-  Define CoE strategy and roadmap to develop a vibrant DS & AI ecosystem in the country and realize the vision and objectives of\\r<br/>\\r<br/>-  Identifies opportunities of collaboration. Adopt a - String of Pearls-  approach to build a powerful eco-system of stakeholders across Innovators, Technology players, ISPs, Academia & Government for the enable the CoE to be the catalyst for innovation, research, adoption, and skill & talent development \\r<br/>\\r<br/>-  Identify and raise funds from Government industry partners to grow the CoE towards a self-sustaining basis over five (5) years of its operation\\r<br/>\\r<br/>-  Implements common COE vision, oversees the execution of the CoE business strategy, and manages all resources including people, process, infrastructure, to deliver the agreed deliverables and create value to the industry, government, and academia partners \\r<br/>\\r<br/>-  Lead efforts to develop DS & AI policies\\r<br/>\\r<br/>-  Manages relationship with external agencies, partners, and government as appropriate to enable smooth operations and profitable growth of CoE activities\\r<br/>\\r<br/>-  Explores alliances with international organizations & bodies to enhance the capabilities of DS & AI in the country \\r<br/>\\r<br/>-  Represents the CoE to the public and outside groups, organizations, and agencies; responds to a wide variety of questions and comments\\r<br/>\\r<br/>Managerial Excellence\\r<br/>\\r<br/>-  Sets direction and vision for the business, team and helps them achieve/excel\\r<br/>\\r<br/>-  Identify, build, and nurture a collaborative network of organizations towards developing a vibrant DS & AI ecosystem\\r<br/>\\r<br/>-  Defines & manages CoE's positioning both externally and internally\\r<br/>\\r<br/>-  Promotes a mindset within CoE for sustained success, profitable growth and diversity\\r<br/>\\r<br/>-  Continually enhances own skills and builds knowledge in all aspects of the organization, the business and information system\\r<br/>\\r<br/>Knowledge, Skills,\\r<br/>\\r<br/>Qualifications and Experience\\r<br/>\\r<br/>-  Management degree (MBA - Strategy / Systems/ Marketing/ General) from Tier-1 institute) with understand of technology\\r<br/>\\r<br/>-  Overall experience of over 20 yrs (Strategy Development, Program Management, Business Management experience) of which at least 4 years in building an ecosystem integrating various stakeholders including industry, academia, and government\\r<br/>\\r<br/>-  Led programs with at-least one project of revenue of over TCV $20M USD spread over multiple geographies and domains\\r<br/>\\r<br/>-  Appreciation of deep technology areas like Data Science, AI and associated products\\r<br/>\\r<br/>-  Project / Program Management Process (PMP)\\r<br/>\\r<br/>-  Talent Management process (recruitment/selection, performance management, coaching, reward/ recognition)</p>   \n",
       "2                                                                                                                                                                                                                                                                                                                                                                                                                                                                                                                                                                                                                                                                                                                                                                                                                                                                                                                                                                                                                                                                                                                                                                                                                                                                                                                                                                                                                                                                                                                                                                                                                                                                                   <p>Position: DevOps Automation Architect(AI/ML)\\r<br/>\\r<br/>Location: Greater Noida\\r<br/>\\r<br/>Experience range : 10-14 years\\r<br/>\\r<br/>- Strong understanding of SDLC lifecycle and past experience of implementing automation solutions in areas like DevOps, Infrastructure automation, IP operations automation, robotic automation, cognitive computing, etc \\r<br/>\\r<br/>- Expertise in architecting and designing automation solutions along with standards/guidelines \\r<br/>\\r<br/>- Possess technical knowledge in following (two or more) areas - Artificial Intelligence / Machine Learning / NLP, RPA, DevOps, Infrastructure automation, IT Operations, Service Desk, Analytics, etc \\r<br/>\\r<br/>  Expertise or knowledge in one or more of the following tools in each category   - \\r<br/>\\r<br/>- Configuration Management and ARA: Chef, Puppet, Ansible, CA Release Automation, CA Agile Designer, XL Deploy, Jenkins, TFS, Octopus Deploy, etc \\r<br/>\\r<br/>Cloud hosting solutions : AWS, Azure, Google Cloud, etc \\r<br/>\\r<br/>IT operations and Service Desk : ServiceNow, AppDynamics, Dynatrace, Splunk, Nagios, Zabbix, Vistara, etc \\r<br/>\\r<br/>RPA : UIPath, Automation Anywhere, BluePrism, WorkFusion, Sikuli, etc \\r<br/>\\r<br/>- AI based tools for automation using Machine Learning, NLI, NLP, etc \\r<br/>\\r<br/>- Provide technical leadership and guidance to team \\r<br/>\\r<br/>- Possess strong communication and presentation skills \\r<br/>\\r<br/>  Optional Skills (good to have)  : \\r<br/>\\r<br/>- Prior consulting, advisory, or professional services experience on automation \\r<br/>\\r<br/>- Past experience of working in enterprise automation solutions or platform or frameworks</p>   \n",
       "3                                                                                                       <p>EXPERIENCE: 10+ Years\\r<br/>\\r<br/>EDUCATION: MBA from a front line business school\\r<br/>\\r<br/>LOCATION: Bangalore, India\\r<br/>\\r<br/>PRIMARY RESPONSIBILITIES:\\r<br/>\\r<br/>- Develop/refine strategy - Develop a deep understanding of product/solution, buyer segments, and audience needs/pains, buying behavior/criteria/process, competitive landscape/positions and developing a marketing playbook for winning in chosen markets.\\r<br/>\\r<br/>- Go-to-market planning - Develop product positioning and messaging that differentiates product offering in the market. Identify suitable market segments and develop a marketing plan to fulfill marketing objectives.\\r<br/>\\r<br/>- Manage marketing programs -  develop strategy, tactics and manage marketing programs and campaigns that drive demand, generate leads, shape market perceptions, engage specific audiences like users, sponsors, influencers, advisors, customers etc.\\r<br/>\\r<br/>- 360-degree marketing execution - Leverage and direct all aspects of marketing, including digital marketing, social media marketing, content marketing, event marketing, search marketing, advertising, public relations, analyst relations, customer success marketing etc., to fulfill marketing goals.\\r<br/>\\r<br/>- Content and engagement strategy - study audience needs, develop personas and content/messaging needs, execute/communicate the value proposition, benefit, usage, best practices, business cases, ROI to ensure marketing success.\\r<br/>\\r<br/>- Sales enablement -  communicate the value proposition of the product portfolio to the sales, pre-sales, partnerships and other customer/market-facing teams, and develop engagement strategies and sales tools that support the selling process.\\r<br/>\\r<br/> - Market & competitive intelligence -  closely track competitive landscape, win-loss analysis, deal orchestration, track buying criteria, selection/evaluation processes, sales lifecycles and engagement/content needs to support market/competitive position.\\r<br/>\\r<br/>- Innovation and product development - develop inputs for product engineering and design based on market insights, user experiences, sales challenges, customer satisfaction, emerging technology trends, analyst reviews etc.\\r<br/>\\r<br/>- Thought leadership - represent the company in major industry forums, associations, events and tech media platforms, speak at events and influence the adoption of new technologies in business, develop peer networks and advisory forums to drive visibility and establish company position, author high-quality content for relevant industry audiences.\\r<br/>\\r<br/>- Manage product launches -  plan the launch of new products and releases, manage the cross-functional implementation of the plan\\r<br/>\\r<br/>- Marketing measurements - track effectiveness of marketing programs, identify gaps and areas of improvement; establish review mechanisms for continuous learning across cross-functional teams and agencies.\\r<br/>\\r<br/>- Organizational development - Support the development of internal and external marketing competencies, skills, teams, agencies/partners, consultants and resources to deliver and improve marketing capabilities and results.</p>   \n",
       "4  <p><p>JD :<br><br>- Capability development &amp; Value creation through Business Adoption of AI, Deep Learning and Advanced Analytics solutions<br><br>- Responsible for Stakeholder Management &amp; Business Development for the AI &amp; Advanced Analytics vertical<br><br>- P&amp;L Ownership for Analytics vertical- Rigorously manage estimates, forecasts, and actuals.<br><br>- Innovation: Responsible for Artificial Intelligence &amp; Machine learning based product development &amp; deployment leveraging cloud &amp; in-house infrastructure.<br><br>- Leading Artificial Intelligence &amp; Advanced Analytics Centre of Excellence within designing, building, attracting, rewarding and retaining teams<br><br>- Resource Management : Managing adequate skills based resourcing levels for the team and ensuring effective work allocation<br><br>Responsibilities :&nbsp;<br><br>- Organizational &amp; Team Management : Strategic design and optimized delivery structure. Attract, recruit, develop and retain talent. Employee evaluations, succession planning, compensation, merit, and reward planning/execution. Build a collaborative, cohesive, credible, high performing organization.<br><br>- Capability Development : Responsible in increasing the internal skills capability within the AI &amp; Advanced Analytics team <br><br>- Service Delivery : Lead and provide direction to the Analytics Team. Service delivery responsibility for all projects in Analytics<br><br>- Leadership : Demonstrate character, clarity, courage and commitment to high-performance<br><br>- Stakeholder Management : Responsible for existing Stakeholder Management and identification of Business Development opportunities for Analytics<br><br>- Change Orientation : Champion a better, faster and simpler way of doing things. Build environment of trust, high performance and engagement by establishing clear goals and a commitment to feedback, development and recognition. Apply original thinking and continuous improvement to processes, products, systems or services and manage change to better serve customer needs<br><br>- Collaboration &amp; Communication : Connect, engage and communicate with others. Encourage open expression of ideas; communicate effectively at all levels and build strong relationships<br><br>- Compliance - To ensure that you understand and adhere to Code of Conduct and, where appropriate, comply with all relevant regulatory policies. This includes completion of any mandatory training requirements<br><br>Qualifications :<br><br>- Minimum of 12 years of Artificial Intelligence, Machine Learning, Predictive Analytics &amp; Statistical Modelling, Big Data &amp; Analytics<br><br>- Master's Degree in premier institutes like IIT, ISI, IISc etc with Mathematics, Computer Science, Econometrics, Statistics or equivalent work experience.<br><br>- 12+ years of experience in managing multiple, medium to large global cross-functional teams or projects, influencing senior level management and key stakeholders<br><br>- Technology skills : Python(Deep learning/Neural Networks, LSTM, CNN, RNN), R, SAS, JSON, Hadoop, Cloud Foundry, Pivotal, MatLabs, Tableau, Qlik, SAP Hana, Oracle, Spark, Greenplum, Cassandra, Amazon Web Services, Microsoft Azure, Google Cloud, Informatica, Angular JS, SQL, NOSQL<br></p></p>   \n",
       "\n",
       "                                                                                                                                                      tags  \\\n",
       "0                                                                        ['IT Product Management', 'Artificial Intelligence', 'Online Product Management']   \n",
       "1                                                                              ['Data Science', 'Artificial Intelligence', 'IT Project Management', 'PMP']   \n",
       "2                                   ['Solution Design', 'Solution Architect', 'Artificial Intelligence', 'Machine Learning', 'Automation', 'Agile', 'NLP']   \n",
       "3                                        ['Marketing', 'Product Marketing', 'Marketing Head', 'IT Marketing', 'IT Product Marketing', 'IT Marketing Head']   \n",
       "4  ['Analytics', 'Artificial Intelligence', 'Machine Learning', 'Statistical Modeling', 'Big Data', 'Python', 'SAS', 'Statistics', 'Predictive analytics']   \n",
       "\n",
       "                                                                                                  new_title  \n",
       "0                                leadership role product management artificial intelligence mobile apps yrs  \n",
       "1                                                    head data science emerging artificial intelligence yrs  \n",
       "2  devops automation architect artificial intelligence machine learning enterprise automation solutions yrs  \n",
       "3                         associate director product marketing retail analytics artificial intelligence yrs  \n",
       "4                          manager advance analytics machine learning artificial intelligence insurance yrs  "
      ]
     },
     "execution_count": 2,
     "metadata": {},
     "output_type": "execute_result"
    }
   ],
   "source": [
    "# Reading data and creating the dataframe \n",
    "job = pd.read_csv(\"F:\\BITS\\Capstone\\Dataset\\JobDescriptions.csv\")\n",
    "\n",
    "# Checking the first 5 rows of the data\n",
    "job.head()"
   ]
  },
  {
   "cell_type": "code",
   "execution_count": 3,
   "metadata": {},
   "outputs": [
    {
     "data": {
      "text/plain": [
       "(105, 5)"
      ]
     },
     "execution_count": 3,
     "metadata": {},
     "output_type": "execute_result"
    }
   ],
   "source": [
    "job.shape"
   ]
  },
  {
   "cell_type": "code",
   "execution_count": 31,
   "metadata": {},
   "outputs": [],
   "source": [
    "#Cleaning and stripping HTML\n",
    "def remove_html_tags(text):\n",
    "    clean = re.compile('<.*?>')\n",
    "    cleantext = re.sub(clean, '', text)\n",
    "    return cleantext"
   ]
  },
  {
   "cell_type": "code",
   "execution_count": 32,
   "metadata": {},
   "outputs": [],
   "source": [
    "#Removing Escaping characters &lt\n",
    "def escaping_html_char(doc):\n",
    "    cleandoc = html.unescape(doc)\n",
    "    return cleandoc"
   ]
  },
  {
   "cell_type": "code",
   "execution_count": 43,
   "metadata": {},
   "outputs": [],
   "source": [
    "#Removing newline & extra spaces\n",
    "def textcleaning(doc):\n",
    "    # remove extra newlines\n",
    "    a = doc.replace(\"\\\\n\",\" \").strip()\n",
    "    a = a.replace(\"\\\\r\",\" \").strip()\n",
    "    #a = re.sub(r'\\d+','',a)# remove numbers\n",
    "    cleandoc = re.sub(\"\\s+\",\" \", a)\n",
    "    return cleandoc"
   ]
  },
  {
   "cell_type": "code",
   "execution_count": 34,
   "metadata": {},
   "outputs": [],
   "source": [
    "def text_norm(doc):\n",
    "    cleandoc = doc.lower()\n",
    "    return cleandoc"
   ]
  },
  {
   "cell_type": "code",
   "execution_count": 35,
   "metadata": {},
   "outputs": [],
   "source": [
    "abbr_dict={\n",
    "    \"what's\":\"what is\",\n",
    "    \"what're\":\"what are\",\n",
    "    \"who's\":\"who is\",\n",
    "    \"who're\":\"who are\",\n",
    "    \"where's\":\"where is\",\n",
    "    \"where're\":\"where are\",\n",
    "    \"when's\":\"when is\",\n",
    "    \"when're\":\"when are\",\n",
    "    \"how's\":\"how is\",\n",
    "    \"how're\":\"how are\",\n",
    "\n",
    "    \"i'm\":\"i am\",\n",
    "    \"we're\":\"we are\",\n",
    "    \"you're\":\"you are\",\n",
    "    \"they're\":\"they are\",\n",
    "    \"it's\":\"it is\",\n",
    "    \"he's\":\"he is\",\n",
    "    \"she's\":\"she is\",\n",
    "    \"that's\":\"that is\",\n",
    "    \"there's\":\"there is\",\n",
    "    \"there're\":\"there are\",\n",
    "\n",
    "    \"i've\":\"i have\",\n",
    "    \"we've\":\"we have\",\n",
    "    \"you've\":\"you have\",\n",
    "    \"they've\":\"they have\",\n",
    "    \"who've\":\"who have\",\n",
    "    \"would've\":\"would have\",\n",
    "    \"not've\":\"not have\",\n",
    "\n",
    "    \"i'll\":\"i will\",\n",
    "    \"we'll\":\"we will\",\n",
    "    \"you'll\":\"you will\",\n",
    "    \"he'll\":\"he will\",\n",
    "    \"she'll\":\"she will\",\n",
    "    \"it'll\":\"it will\",\n",
    "    \"they'll\":\"they will\",\n",
    "\n",
    "    \"isn't\":\"is not\",\n",
    "    \"wasn't\":\"was not\",\n",
    "    \"aren't\":\"are not\",\n",
    "    \"weren't\":\"were not\",\n",
    "    \"can't\":\"can not\",\n",
    "    \"couldn't\":\"could not\",\n",
    "    \"don't\":\"do not\",\n",
    "    \"didn't\":\"did not\",\n",
    "    \"shouldn't\":\"should not\",\n",
    "    \"wouldn't\":\"would not\",\n",
    "    \"doesn't\":\"does not\",\n",
    "    \"haven't\":\"have not\",\n",
    "    \"hasn't\":\"has not\",\n",
    "    \"hadn't\":\"had not\",\n",
    "    \"won't\":\"will not\"\n",
    "}\n",
    "\n",
    "def process_data(doc):\n",
    "    for key, value in abbr_dict.items():\n",
    "        doc = doc.replace(key,value)\n",
    "    return doc\n",
    "\n"
   ]
  },
  {
   "cell_type": "code",
   "execution_count": 36,
   "metadata": {},
   "outputs": [],
   "source": [
    "# Removing accented characters\n",
    "# A simple example — converting é to e.\n",
    "def decode_text(doc):\n",
    "    cleandoc = unicodedata.normalize('NFKD', doc).encode('ascii','ignore').decode(\"utf8\")\n",
    "    return cleandoc"
   ]
  },
  {
   "cell_type": "code",
   "execution_count": 37,
   "metadata": {},
   "outputs": [],
   "source": [
    "def text_tokenize(doc):\n",
    "    return word_tokenize(doc)"
   ]
  },
  {
   "cell_type": "code",
   "execution_count": 38,
   "metadata": {},
   "outputs": [],
   "source": [
    "def remove_stopwords(words):\n",
    "    # set of stop words\n",
    "    stop_words = set(stopwords.words('english')) \n",
    "    stext = [] \n",
    "    for w in words:\n",
    "        if w not in stop_words:\n",
    "            stext.append(w)\n",
    "    return stext"
   ]
  },
  {
   "cell_type": "code",
   "execution_count": 39,
   "metadata": {},
   "outputs": [],
   "source": [
    "def remove_punctuation(doc):\n",
    "    table = str.maketrans(string.punctuation, ' '*len(string.punctuation))\n",
    "    ##str.maketrans('', '', string.punctuation)\n",
    "    cleandoc = doc.translate(table)\n",
    "    return cleandoc"
   ]
  },
  {
   "cell_type": "code",
   "execution_count": 438,
   "metadata": {},
   "outputs": [],
   "source": [
    "def data_preprocessing(doc,w_stop):\n",
    "\n",
    "    doc = str(doc)\n",
    "    \n",
    "    step1 = remove_html_tags(doc)            # Cleaning and stripping HTML\n",
    "    step2 = escaping_html_char(step1)        # Removing Escaping characters &lt\n",
    "    step3 = textcleaning(step2)              # Removing newline & extra spaces\n",
    "    step4 = text_norm(step3)                 # Case Normalization\n",
    "    step5 = process_data(step4)              # Transforming abbreviations\n",
    "    step6 = remove_punctuation(step5)        # Remove punctuation\n",
    "    step7 = decode_text(step6)               # Text encoding - Removing accented characters\n",
    "    step8 = text_tokenize(step7)             # Tokenization\n",
    "    \n",
    "\n",
    "    if w_stop:\n",
    "        step11 = remove_stopwords(step8)\n",
    "        cleandoc = \" \".join(step11)\n",
    "    else:\n",
    "        cleandoc = \" \".join(step8)\n",
    "    \n",
    "    return cleandoc"
   ]
  },
  {
   "cell_type": "code",
   "execution_count": 439,
   "metadata": {},
   "outputs": [
    {
     "data": {
      "image/png": "[encoded data removed]",
      "text/plain": [
       "<Figure size 864x360 with 1 Axes>"
      ]
     },
     "metadata": {},
     "output_type": "display_data"
    }
   ],
   "source": [
    "sns.set_style('darkgrid')\n",
    "fig, ax = plt.subplots(figsize=(12, 5))\n",
    "\n",
    "# split() returns list of all the words in the string\n",
    "roles = job['job_role'].value_counts() \n",
    "\n",
    "sns.barplot(y=roles.index, x=roles.values, ax=ax)\n",
    "ax.set_ylabel('Domain', fontsize=14)\n",
    "ax.tick_params(labelsize=12)"
   ]
  },
  {
   "cell_type": "code",
   "execution_count": 440,
   "metadata": {},
   "outputs": [],
   "source": [
    "job['Clean_description'] = job['description'].apply(data_preprocessing,w_stop=True)\n",
    "\n",
    "def get_bigram(doc):\n",
    "    nltk_tokens = nltk.word_tokenize(doc)\n",
    "    result = list(nltk.bigrams(nltk_tokens))\n",
    "    return result\n",
    "\n",
    "bi = job['Clean_description'].apply(get_bigram)\n"
   ]
  },
  {
   "cell_type": "code",
   "execution_count": 441,
   "metadata": {},
   "outputs": [],
   "source": [
    "words = job['Clean_description'].apply(nltk.word_tokenize)\n",
    "\n",
    "onegrams = []\n",
    "for i in words:\n",
    "    onegrams.extend(i)\n",
    "\n",
    "\n",
    "# get the frequency of each bigram in our corpus\n",
    "wordFreq = collections.Counter(onegrams)\n",
    "\n",
    "onedf = pd.DataFrame.from_dict(wordFreq,orient='index',columns=['Count']).reset_index()\n",
    "onedf.rename(columns={\"index\": \"bigram\"},inplace=True)\n",
    "onedf.sort_values(by='Count', ascending=False,inplace=True)\n",
    "\n",
    "topone = onedf[onedf.Count>10]"
   ]
  },
  {
   "cell_type": "code",
   "execution_count": 94,
   "metadata": {},
   "outputs": [],
   "source": [
    "esBigrams = []\n",
    "for i in bi:\n",
    "    esBigrams.extend(i)\n",
    "\n",
    "lst = []\n",
    "for j in esBigrams:\n",
    "    lst.append(j[0]+\" \"+j[1])\n",
    "    \n",
    " # get the frequency of each bigram in our corpus\n",
    "esBigramFreq = collections.Counter(lst)\n",
    "\n",
    "# what are the ten most popular ngrams in this Spanish corpus?\n",
    "esBigramFreq.most_common(30) \n",
    "\n",
    "bidf = pd.DataFrame.from_dict(esBigramFreq,orient='index',columns=['Count']).reset_index()\n",
    "bidf.rename(columns={\"index\": \"bigram\"},inplace=True)\n",
    "bidf.sort_values(by='Count', ascending=False,inplace=True)\n",
    "\n",
    "topbi = bidf[bidf.Count>10]\n",
    "#job[(job.title.str.contains(\"Recruitment\")) & (job.title.str.contains(\"Learning\"))]"
   ]
  },
  {
   "cell_type": "code",
   "execution_count": 107,
   "metadata": {},
   "outputs": [],
   "source": [
    "#pd.DataFrame(topone).to_csv('F:\\BITS\\Capstone\\Dataset\\Mytags1.csv',index=False)\n",
    "#pd.DataFrame(topbi).to_csv('F:\\BITS\\Capstone\\Dataset\\Mytags2.csv',index=False)"
   ]
  },
  {
   "cell_type": "code",
   "execution_count": 344,
   "metadata": {},
   "outputs": [],
   "source": [
    "mtags = pd.read_csv('F:\\BITS\\Capstone\\Dataset\\Mytags2.csv')"
   ]
  },
  {
   "cell_type": "code",
   "execution_count": 442,
   "metadata": {},
   "outputs": [],
   "source": [
    "obdesc = job['Clean_description'][0]\n",
    "\n",
    "def auto_tags(doc,domain):\n",
    "    d = dict()\n",
    "    l = []\n",
    "    ws = []\n",
    "    st = []\n",
    "    for m in mtags.to_numpy():\n",
    "        w,t = m[0],m[2]\n",
    "        if doc.find(w)>=0:\n",
    "            for f in re.finditer(w, doc):\n",
    "                if w not in ws:                \n",
    "                    ws.append(w)\n",
    "                    count = len([i for i in st if i > f.start()]) \n",
    "                    if count == 0:\n",
    "                        st.append(f.end())\n",
    "                        a = tuple([f.start(),f.end(),t.upper()])\n",
    "                        l.append(a)\n",
    "    #l.append((0,len(domain),'DOMAIN'))\n",
    "    d['entities'] = l\n",
    "    return d\n",
    "\n",
    "#auto_tags(obdesc,'AI')"
   ]
  },
  {
   "cell_type": "code",
   "execution_count": 443,
   "metadata": {},
   "outputs": [],
   "source": [
    "job['Tags'] = job.apply(lambda x: auto_tags(x['Clean_description'], x['job_role']), axis=1)"
   ]
  },
  {
   "cell_type": "code",
   "execution_count": 444,
   "metadata": {},
   "outputs": [],
   "source": [
    "cols = ['domain','title','description','clean_description','tags']\n",
    "new_job = job[['job_role','title','description','Clean_description','Tags']]\n",
    "new_job.columns = cols"
   ]
  },
  {
   "cell_type": "code",
   "execution_count": 445,
   "metadata": {},
   "outputs": [],
   "source": [
    "new_job.to_csv('jobdescription_train.csv',index=False)"
   ]
  },
  {
   "cell_type": "code",
   "execution_count": 481,
   "metadata": {},
   "outputs": [],
   "source": [
    "df = pd.read_csv('jobdescription_train.csv')\n",
    "\n",
    "df['clean_description'] = df['clean_description'].str.replace('^ +', '_')\n",
    "TRAIN_DATA = df[['clean_description','tags']].to_numpy()"
   ]
  },
  {
   "cell_type": "code",
   "execution_count": 459,
   "metadata": {},
   "outputs": [],
   "source": [
    "# Import and load the spacy model\n",
    "import spacy\n",
    "nlp=spacy.load(\"en_core_web_sm\") \n",
    "\n",
    "# Getting the ner component\n",
    "ner=nlp.get_pipe('ner')\n",
    "\n",
    "# Adding labels to the `ner`\n",
    "ner.add_label('SKILLS')\n",
    "ner.add_label('ROLES')\n",
    "\n",
    "# Disable pipeline components you dont need to change\n",
    "pipe_exceptions = [\"ner\", \"trf_wordpiecer\", \"trf_tok2vec\"]\n",
    "unaffected_pipes = [pipe for pipe in nlp.pipe_names if pipe not in pipe_exceptions]"
   ]
  },
  {
   "cell_type": "code",
   "execution_count": 460,
   "metadata": {},
   "outputs": [],
   "source": [
    "def train_spacy(data,iterations):\n",
    "    TRAIN_DATA = data\n",
    "    nlp = spacy.blank('en')  # create blank Language class\n",
    "    # create the built-in pipeline components and add them to the pipeline\n",
    "    # nlp.create_pipe works for built-ins that are registered with spaCy\n",
    "    if 'ner' not in nlp.pipe_names:\n",
    "        nlp.add_pipe('ner', last=True)\n",
    "       \n",
    "\n",
    "    # get names of other pipes to disable them during training\n",
    "    other_pipes = [pipe for pipe in nlp.pipe_names if pipe != 'ner']\n",
    "    with nlp.disable_pipes(*other_pipes):  # only train NER\n",
    "        optimizer = nlp.begin_training()\n",
    "        for itn in range(iterations):\n",
    "            print(\"Statring iteration \" + str(itn))\n",
    "            random.shuffle(TRAIN_DATA)\n",
    "            losses = {}\n",
    "            batches = minibatch(TRAIN_DATA, size=compounding(4.0, 32.0, 1.001))\n",
    "            for batch in batches:\n",
    "                examples = []\n",
    "                for text, annots in batch:\n",
    "                    annots = ast.literal_eval(annots)\n",
    "                    examples.append(Example.from_dict(nlp.make_doc(text), annots))\n",
    "                    nlp.update(examples,losses=losses)\n",
    "                print(\"Losses\", losses) \n",
    "    return nlp"
   ]
  },
  {
   "cell_type": "code",
   "execution_count": 492,
   "metadata": {},
   "outputs": [
    {
     "name": "stdout",
     "output_type": "stream",
     "text": [
      "Statring iteration 0\n",
      "Losses {'ner': 1984.068860411644}\n",
      "Losses {'ner': 2608.2187490463257}\n",
      "Losses {'ner': 2725.592136845966}\n",
      "Losses {'ner': 2800.868847517572}\n"
     ]
    },
    {
     "name": "stderr",
     "output_type": "stream",
     "text": [
      "D:\\Python\\lib\\site-packages\\spacy\\training\\iob_utils.py:142: UserWarning: [W030] Some entities could not be aligned in the text \"experience 10 years education mba front line busin...\" with entities \"[(0, 10, 'SKILLS'), (45, 53, 'ROLES'), (1323, 1327...\". Use `spacy.training.offsets_to_biluo_tags(nlp.make_doc(text), entities)` to check the alignment. Misaligned entities ('-') will be ignored during training.\n",
      "  entities=ent_str[:50] + \"...\" if len(ent_str) > 50 else ent_str,\n"
     ]
    },
    {
     "name": "stdout",
     "output_type": "stream",
     "text": [
      "Losses {'ner': 2899.8216269360805}\n",
      "Losses {'ner': 2975.05988764483}\n"
     ]
    },
    {
     "name": "stderr",
     "output_type": "stream",
     "text": [
      "D:\\Python\\lib\\site-packages\\spacy\\training\\iob_utils.py:142: UserWarning: [W030] Some entities could not be aligned in the text \"roles responsibilities lead drive engineering life...\" with entities \"[(488, 506, 'ROLES'), (526, 530, 'ROLES'), (705, 7...\". Use `spacy.training.offsets_to_biluo_tags(nlp.make_doc(text), entities)` to check the alignment. Misaligned entities ('-') will be ignored during training.\n",
      "  entities=ent_str[:50] + \"...\" if len(ent_str) > 50 else ent_str,\n"
     ]
    },
    {
     "name": "stdout",
     "output_type": "stream",
     "text": [
      "Losses {'ner': 3046.144230709759}\n"
     ]
    },
    {
     "name": "stderr",
     "output_type": "stream",
     "text": [
      "D:\\Python\\lib\\site-packages\\spacy\\training\\iob_utils.py:142: UserWarning: [W030] Some entities could not be aligned in the text \"job purpose extracting patterns insights data appl...\" with entities \"[(125, 141, 'SKILLS'), (683, 699, 'SKILLS'), (765,...\". Use `spacy.training.offsets_to_biluo_tags(nlp.make_doc(text), entities)` to check the alignment. Misaligned entities ('-') will be ignored during training.\n",
      "  entities=ent_str[:50] + \"...\" if len(ent_str) > 50 else ent_str,\n",
      "D:\\Python\\lib\\site-packages\\spacy\\training\\iob_utils.py:142: UserWarning: [W030] Some entities could not be aligned in the text \"looking sr manager machine learning exposure retai...\" with entities \"[(19, 35, 'SKILLS'), (505, 513, 'SKILLS'), (624, 6...\". Use `spacy.training.offsets_to_biluo_tags(nlp.make_doc(text), entities)` to check the alignment. Misaligned entities ('-') will be ignored during training.\n",
      "  entities=ent_str[:50] + \"...\" if len(ent_str) > 50 else ent_str,\n",
      "D:\\Python\\lib\\site-packages\\spacy\\training\\iob_utils.py:142: UserWarning: [W030] Some entities could not be aligned in the text \"job purpose extracting patterns insights data appl...\" with entities \"[(125, 141, 'SKILLS'), (683, 699, 'SKILLS'), (765,...\". Use `spacy.training.offsets_to_biluo_tags(nlp.make_doc(text), entities)` to check the alignment. Misaligned entities ('-') will be ignored during training.\n",
      "  entities=ent_str[:50] + \"...\" if len(ent_str) > 50 else ent_str,\n"
     ]
    },
    {
     "name": "stdout",
     "output_type": "stream",
     "text": [
      "Losses {'ner': 3207.557142405856}\n"
     ]
    },
    {
     "name": "stderr",
     "output_type": "stream",
     "text": [
      "D:\\Python\\lib\\site-packages\\spacy\\training\\iob_utils.py:142: UserWarning: [W030] Some entities could not be aligned in the text \"experience 10 years education mba front line busin...\" with entities \"[(0, 10, 'SKILLS'), (45, 53, 'ROLES'), (1323, 1327...\". Use `spacy.training.offsets_to_biluo_tags(nlp.make_doc(text), entities)` to check the alignment. Misaligned entities ('-') will be ignored during training.\n",
      "  entities=ent_str[:50] + \"...\" if len(ent_str) > 50 else ent_str,\n",
      "D:\\Python\\lib\\site-packages\\spacy\\training\\iob_utils.py:142: UserWarning: [W030] Some entities could not be aligned in the text \"experience 10 years education mba front line busin...\" with entities \"[(0, 10, 'SKILLS'), (45, 53, 'ROLES'), (1323, 1327...\". Use `spacy.training.offsets_to_biluo_tags(nlp.make_doc(text), entities)` to check the alignment. Misaligned entities ('-') will be ignored during training.\n",
      "  entities=ent_str[:50] + \"...\" if len(ent_str) > 50 else ent_str,\n"
     ]
    },
    {
     "name": "stdout",
     "output_type": "stream",
     "text": [
      "Losses {'ner': 3603.2340438748633}\n"
     ]
    },
    {
     "name": "stderr",
     "output_type": "stream",
     "text": [
      "D:\\Python\\lib\\site-packages\\spacy\\training\\iob_utils.py:142: UserWarning: [W030] Some entities could not be aligned in the text \"job purpose extracting patterns insights data appl...\" with entities \"[(125, 141, 'SKILLS'), (683, 699, 'SKILLS'), (765,...\". Use `spacy.training.offsets_to_biluo_tags(nlp.make_doc(text), entities)` to check the alignment. Misaligned entities ('-') will be ignored during training.\n",
      "  entities=ent_str[:50] + \"...\" if len(ent_str) > 50 else ent_str,\n"
     ]
    },
    {
     "name": "stdout",
     "output_type": "stream",
     "text": [
      "Losses {'ner': 3690.886217469875}\n"
     ]
    },
    {
     "name": "stderr",
     "output_type": "stream",
     "text": [
      "D:\\Python\\lib\\site-packages\\spacy\\training\\iob_utils.py:142: UserWarning: [W030] Some entities could not be aligned in the text \"location gurgaon bengaluru mumbaiqualification bac...\" with entities \"[(706, 715, 'SKILLS'), (975, 985, 'ROLES'), (1106,...\". Use `spacy.training.offsets_to_biluo_tags(nlp.make_doc(text), entities)` to check the alignment. Misaligned entities ('-') will be ignored during training.\n",
      "  entities=ent_str[:50] + \"...\" if len(ent_str) > 50 else ent_str,\n"
     ]
    },
    {
     "name": "stdout",
     "output_type": "stream",
     "text": [
      "Losses {'ner': 3744.198461147039}\n"
     ]
    },
    {
     "name": "stderr",
     "output_type": "stream",
     "text": [
      "D:\\Python\\lib\\site-packages\\spacy\\training\\iob_utils.py:142: UserWarning: [W030] Some entities could not be aligned in the text \"data scientist iit dse iims looking self driven py...\" with entities \"[(0, 14, 'SKILLS'), (81, 91, 'SKILLS'), (405, 407,...\". Use `spacy.training.offsets_to_biluo_tags(nlp.make_doc(text), entities)` to check the alignment. Misaligned entities ('-') will be ignored during training.\n",
      "  entities=ent_str[:50] + \"...\" if len(ent_str) > 50 else ent_str,\n"
     ]
    },
    {
     "name": "stdout",
     "output_type": "stream",
     "text": [
      "Losses {'ner': 3812.1240166246557}\n"
     ]
    },
    {
     "name": "stderr",
     "output_type": "stream",
     "text": [
      "D:\\Python\\lib\\site-packages\\spacy\\training\\iob_utils.py:142: UserWarning: [W030] Some entities could not be aligned in the text \"data scientist iit dse iims looking self driven py...\" with entities \"[(0, 14, 'SKILLS'), (81, 91, 'SKILLS'), (405, 407,...\". Use `spacy.training.offsets_to_biluo_tags(nlp.make_doc(text), entities)` to check the alignment. Misaligned entities ('-') will be ignored during training.\n",
      "  entities=ent_str[:50] + \"...\" if len(ent_str) > 50 else ent_str,\n"
     ]
    },
    {
     "name": "stdout",
     "output_type": "stream",
     "text": [
      "Losses {'ner': 3891.1453227424217}\n",
      "Losses {'ner': 3935.2506863731583}\n"
     ]
    },
    {
     "name": "stderr",
     "output_type": "stream",
     "text": [
      "D:\\Python\\lib\\site-packages\\spacy\\training\\iob_utils.py:142: UserWarning: [W030] Some entities could not be aligned in the text \"sales director marketing cloud role sales director...\" with entities \"[(692, 712, 'ROLES'), (822, 832, 'SKILLS'), (1215,...\". Use `spacy.training.offsets_to_biluo_tags(nlp.make_doc(text), entities)` to check the alignment. Misaligned entities ('-') will be ignored during training.\n",
      "  entities=ent_str[:50] + \"...\" if len(ent_str) > 50 else ent_str,\n",
      "D:\\Python\\lib\\site-packages\\spacy\\training\\iob_utils.py:142: UserWarning: [W030] Some entities could not be aligned in the text \"must experience cloud architecture planning must p...\" with entities \"[(5, 15, 'SKILLS'), (54, 58, 'ROLES'), (240, 249, ...\". Use `spacy.training.offsets_to_biluo_tags(nlp.make_doc(text), entities)` to check the alignment. Misaligned entities ('-') will be ignored during training.\n",
      "  entities=ent_str[:50] + \"...\" if len(ent_str) > 50 else ent_str,\n",
      "D:\\Python\\lib\\site-packages\\spacy\\training\\iob_utils.py:142: UserWarning: [W030] Some entities could not be aligned in the text \"job descriptionwe looking data scientist help us d...\" with entities \"[(319, 335, 'SKILLS'), (1107, 1117, 'SKILLS'), (15...\". Use `spacy.training.offsets_to_biluo_tags(nlp.make_doc(text), entities)` to check the alignment. Misaligned entities ('-') will be ignored during training.\n",
      "  entities=ent_str[:50] + \"...\" if len(ent_str) > 50 else ent_str,\n"
     ]
    },
    {
     "name": "stdout",
     "output_type": "stream",
     "text": [
      "Losses {'ner': 4005.4119356855317}\n"
     ]
    },
    {
     "name": "stderr",
     "output_type": "stream",
     "text": [
      "D:\\Python\\lib\\site-packages\\spacy\\training\\iob_utils.py:142: UserWarning: [W030] Some entities could not be aligned in the text \"looking vp machine learning retail banking nbfc gu...\" with entities \"[(11, 27, 'SKILLS'), (624, 632, 'SKILLS'), (697, 7...\". Use `spacy.training.offsets_to_biluo_tags(nlp.make_doc(text), entities)` to check the alignment. Misaligned entities ('-') will be ignored during training.\n",
      "  entities=ent_str[:50] + \"...\" if len(ent_str) > 50 else ent_str,\n",
      "D:\\Python\\lib\\site-packages\\spacy\\training\\iob_utils.py:142: UserWarning: [W030] Some entities could not be aligned in the text \"leadership opportunity cloud solution architect in...\" with entities \"[(352, 361, 'SKILLS'), (362, 372, 'SKILLS'), (1381...\". Use `spacy.training.offsets_to_biluo_tags(nlp.make_doc(text), entities)` to check the alignment. Misaligned entities ('-') will be ignored during training.\n",
      "  entities=ent_str[:50] + \"...\" if len(ent_str) > 50 else ent_str,\n"
     ]
    },
    {
     "name": "stdout",
     "output_type": "stream",
     "text": [
      "Losses {'ner': 4073.17129550593}\n"
     ]
    },
    {
     "name": "stderr",
     "output_type": "stream",
     "text": [
      "D:\\Python\\lib\\site-packages\\spacy\\training\\iob_utils.py:142: UserWarning: [W030] Some entities could not be aligned in the text \"job descriptionwe looking data scientist help us d...\" with entities \"[(319, 335, 'SKILLS'), (1107, 1117, 'SKILLS'), (15...\". Use `spacy.training.offsets_to_biluo_tags(nlp.make_doc(text), entities)` to check the alignment. Misaligned entities ('-') will be ignored during training.\n",
      "  entities=ent_str[:50] + \"...\" if len(ent_str) > 50 else ent_str,\n"
     ]
    },
    {
     "name": "stdout",
     "output_type": "stream",
     "text": [
      "Losses {'ner': 4129.813010145428}\n"
     ]
    },
    {
     "name": "stderr",
     "output_type": "stream",
     "text": [
      "D:\\Python\\lib\\site-packages\\spacy\\training\\iob_utils.py:142: UserWarning: [W030] Some entities could not be aligned in the text \"looking sr manager machine learning exposure retai...\" with entities \"[(19, 35, 'SKILLS'), (505, 513, 'SKILLS'), (624, 6...\". Use `spacy.training.offsets_to_biluo_tags(nlp.make_doc(text), entities)` to check the alignment. Misaligned entities ('-') will be ignored during training.\n",
      "  entities=ent_str[:50] + \"...\" if len(ent_str) > 50 else ent_str,\n",
      "D:\\Python\\lib\\site-packages\\spacy\\training\\iob_utils.py:142: UserWarning: [W030] Some entities could not be aligned in the text \"looking sr manager machine learning exposure retai...\" with entities \"[(19, 35, 'SKILLS'), (505, 513, 'SKILLS'), (624, 6...\". Use `spacy.training.offsets_to_biluo_tags(nlp.make_doc(text), entities)` to check the alignment. Misaligned entities ('-') will be ignored during training.\n",
      "  entities=ent_str[:50] + \"...\" if len(ent_str) > 50 else ent_str,\n"
     ]
    },
    {
     "name": "stdout",
     "output_type": "stream",
     "text": [
      "Losses {'ner': 4195.348480692301}\n"
     ]
    },
    {
     "name": "stderr",
     "output_type": "stream",
     "text": [
      "D:\\Python\\lib\\site-packages\\spacy\\training\\iob_utils.py:142: UserWarning: [W030] Some entities could not be aligned in the text \"10 15 years industry experience covering cloud lan...\" with entities \"[(21, 31, 'SKILLS'), (75, 79, 'SKILLS'), (482, 493...\". Use `spacy.training.offsets_to_biluo_tags(nlp.make_doc(text), entities)` to check the alignment. Misaligned entities ('-') will be ignored during training.\n",
      "  entities=ent_str[:50] + \"...\" if len(ent_str) > 50 else ent_str,\n"
     ]
    },
    {
     "name": "stdout",
     "output_type": "stream",
     "text": [
      "Losses {'ner': 4233.945418897434}\n",
      "Losses {'ner': 4271.196571368437}\n",
      "Losses {'ner': 4305.505945554821}\n"
     ]
    },
    {
     "name": "stderr",
     "output_type": "stream",
     "text": [
      "D:\\Python\\lib\\site-packages\\spacy\\training\\iob_utils.py:142: UserWarning: [W030] Some entities could not be aligned in the text \"experience 10 years education mba front line busin...\" with entities \"[(0, 10, 'SKILLS'), (45, 53, 'ROLES'), (1323, 1327...\". Use `spacy.training.offsets_to_biluo_tags(nlp.make_doc(text), entities)` to check the alignment. Misaligned entities ('-') will be ignored during training.\n",
      "  entities=ent_str[:50] + \"...\" if len(ent_str) > 50 else ent_str,\n"
     ]
    },
    {
     "name": "stdout",
     "output_type": "stream",
     "text": [
      "Losses {'ner': 4343.911357353274}\n"
     ]
    },
    {
     "name": "stderr",
     "output_type": "stream",
     "text": [
      "D:\\Python\\lib\\site-packages\\spacy\\training\\iob_utils.py:142: UserWarning: [W030] Some entities could not be aligned in the text \"roles responsibilities lead drive engineering life...\" with entities \"[(488, 506, 'ROLES'), (526, 530, 'ROLES'), (705, 7...\". Use `spacy.training.offsets_to_biluo_tags(nlp.make_doc(text), entities)` to check the alignment. Misaligned entities ('-') will be ignored during training.\n",
      "  entities=ent_str[:50] + \"...\" if len(ent_str) > 50 else ent_str,\n"
     ]
    },
    {
     "name": "stdout",
     "output_type": "stream",
     "text": [
      "Losses {'ner': 4366.910396225345}\n",
      "Losses {'ner': 4423.007264273172}\n"
     ]
    },
    {
     "name": "stderr",
     "output_type": "stream",
     "text": [
      "D:\\Python\\lib\\site-packages\\spacy\\training\\iob_utils.py:142: UserWarning: [W030] Some entities could not be aligned in the text \"job purpose extracting patterns insights data appl...\" with entities \"[(125, 141, 'SKILLS'), (683, 699, 'SKILLS'), (765,...\". Use `spacy.training.offsets_to_biluo_tags(nlp.make_doc(text), entities)` to check the alignment. Misaligned entities ('-') will be ignored during training.\n",
      "  entities=ent_str[:50] + \"...\" if len(ent_str) > 50 else ent_str,\n"
     ]
    },
    {
     "name": "stdout",
     "output_type": "stream",
     "text": [
      "Losses {'ner': 4487.974025577538}\n"
     ]
    },
    {
     "name": "stderr",
     "output_type": "stream",
     "text": [
      "D:\\Python\\lib\\site-packages\\spacy\\training\\iob_utils.py:142: UserWarning: [W030] Some entities could not be aligned in the text \"job description 6 years relevant work experience m...\" with entities \"[(49, 65, 'SKILLS'), (174, 182, 'SKILLS'), (574, 5...\". Use `spacy.training.offsets_to_biluo_tags(nlp.make_doc(text), entities)` to check the alignment. Misaligned entities ('-') will be ignored during training.\n",
      "  entities=ent_str[:50] + \"...\" if len(ent_str) > 50 else ent_str,\n",
      "D:\\Python\\lib\\site-packages\\spacy\\training\\iob_utils.py:142: UserWarning: [W030] Some entities could not be aligned in the text \"organization exciting start around founded best in...\" with entities \"[(354, 372, 'ROLES'), (449, 453, 'ROLES'), (506, 5...\". Use `spacy.training.offsets_to_biluo_tags(nlp.make_doc(text), entities)` to check the alignment. Misaligned entities ('-') will be ignored during training.\n",
      "  entities=ent_str[:50] + \"...\" if len(ent_str) > 50 else ent_str,\n",
      "D:\\Python\\lib\\site-packages\\spacy\\training\\iob_utils.py:142: UserWarning: [W030] Some entities could not be aligned in the text \"candidate analytics experience least 2 years bfsi ...\" with entities \"[(656, 672, 'SKILLS'), (673, 696, 'SKILLS'), (1185...\". Use `spacy.training.offsets_to_biluo_tags(nlp.make_doc(text), entities)` to check the alignment. Misaligned entities ('-') will be ignored during training.\n",
      "  entities=ent_str[:50] + \"...\" if len(ent_str) > 50 else ent_str,\n"
     ]
    },
    {
     "name": "stdout",
     "output_type": "stream",
     "text": [
      "Losses {'ner': 4520.2493002844785}\n",
      "Losses {'ner': 4526.536318935855}\n"
     ]
    }
   ],
   "source": [
    "prdnlp = train_spacy(TRAIN_DATA, 1)"
   ]
  },
  {
   "cell_type": "code",
   "execution_count": null,
   "metadata": {},
   "outputs": [],
   "source": []
  }
 ],
 "metadata": {
  "kernelspec": {
   "display_name": "Python 3",
   "language": "python",
   "name": "python3"
  },
  "language_info": {
   "codemirror_mode": {
    "name": "ipython",
    "version": 3
   },
   "file_extension": ".py",
   "mimetype": "text/x-python",
   "name": "python",
   "nbconvert_exporter": "python",
   "pygments_lexer": "ipython3",
   "version": "3.6.5"
  }
 },
 "nbformat": 4,
 "nbformat_minor": 2
}
