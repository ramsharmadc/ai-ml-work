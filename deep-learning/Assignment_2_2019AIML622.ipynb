{
  "nbformat": 4,
  "nbformat_minor": 0,
  "metadata": {
    "colab": {
      "name": "Assignment-2_2019AIML622.ipynb",
      "provenance": [],
      "collapsed_sections": []
    },
    "kernelspec": {
      "name": "python3",
      "display_name": "Python 3"
    }
  },
  "cells": [
    {
      "cell_type": "markdown",
      "metadata": {
        "id": "MpSVncX7Qteo"
      },
      "source": [
        "## Assignment-2: CNN to detect face mask or not?"
      ]
    },
    {
      "cell_type": "code",
      "metadata": {
        "colab": {
          "base_uri": "https://localhost:8080/"
        },
        "id": "UGo6c5x18sIA",
        "outputId": "b0a1e79c-bd51-4451-e65d-f15f7c893e3a"
      },
      "source": [
        "# Using Google Colab paltform\r\n",
        "# Using Google Drive to import datasets\r\n",
        "\r\n",
        "from google.colab import drive\r\n",
        "\r\n",
        "# mounting Google drive\r\n",
        "drive.mount('/content/gdrive')"
      ],
      "execution_count": 19,
      "outputs": [
        {
          "output_type": "stream",
          "text": [
            "Drive already mounted at /content/gdrive; to attempt to forcibly remount, call drive.mount(\"/content/gdrive\", force_remount=True).\n"
          ],
          "name": "stdout"
        }
      ]
    },
    {
      "cell_type": "code",
      "metadata": {
        "id": "gKqtpiPQ9Trl"
      },
      "source": [
        "# importing required libraries\r\n",
        "\r\n",
        "import os\r\n",
        "import numpy as np\r\n",
        "import pandas as pd\r\n",
        "import matplotlib.pyplot as plt\r\n",
        "import seaborn as sns\r\n",
        "from matplotlib import rc\r\n",
        "import tensorflow as tf\r\n",
        "from tensorflow import keras\r\n",
        "from tensorflow.keras import layers\r\n",
        "from tensorflow.keras.models import Sequential\r\n",
        "from sklearn.metrics import classification_report, confusion_matrix, precision_recall_fscore_support\r\n",
        "from sklearn.metrics import accuracy_score\r\n",
        "from matplotlib import pyplot as plt"
      ],
      "execution_count": 20,
      "outputs": []
    },
    {
      "cell_type": "markdown",
      "metadata": {
        "id": "aDBlScgSRIMo"
      },
      "source": [
        "### 1. Load the images in appropriate data structures in your program, ready to be passed as input to the model for training. Consider input image size to be 64x64x3"
      ]
    },
    {
      "cell_type": "code",
      "metadata": {
        "id": "roTprcPE9f0N"
      },
      "source": [
        "batch_size = 32\r\n",
        "img_height = 64\r\n",
        "img_width = 64\r\n",
        "epochs = 70\r\n",
        "\r\n",
        "train_ds_path = '/content/gdrive/MyDrive/dataset-face-mask/dataset/train_validate'\r\n",
        "test_ds_path = '/content/gdrive/MyDrive/dataset-face-mask/dataset/test'\r\n",
        "validation_ds_path = '/content/gdrive/MyDrive/output/val'\r\n"
      ],
      "execution_count": 21,
      "outputs": []
    },
    {
      "cell_type": "code",
      "metadata": {
        "colab": {
          "base_uri": "https://localhost:8080/"
        },
        "id": "jP7Mo7wF9yD8",
        "outputId": "8d9304b5-53fe-4a9c-ab57-58c7916a9447"
      },
      "source": [
        "# load the train and test datasets\r\n",
        "\r\n",
        "def load_datasets(train_ds_path, test_ds_path):\r\n",
        "  train_ds = tf.keras.preprocessing.image_dataset_from_directory(train_ds_path, seed=123, image_size=(img_height, img_width), batch_size=batch_size)\r\n",
        "  test_ds =  tf.keras.preprocessing.image_dataset_from_directory(test_ds_path, seed=123, image_size=(img_height, img_width), batch_size=batch_size)\r\n",
        "  return train_ds, test_ds\r\n",
        "\r\n",
        "train_ds, test_ds =  load_datasets(train_ds_path, test_ds_path)"
      ],
      "execution_count": 22,
      "outputs": [
        {
          "output_type": "stream",
          "text": [
            "Found 1727 files belonging to 2 classes.\n",
            "Found 320 files belonging to 2 classes.\n"
          ],
          "name": "stdout"
        }
      ]
    },
    {
      "cell_type": "code",
      "metadata": {
        "colab": {
          "base_uri": "https://localhost:8080/"
        },
        "id": "FPFFYC81Ix1C",
        "outputId": "f48061a9-2e02-4b4e-b86a-7556bf202a16"
      },
      "source": [
        "# display the trained datasets class names\r\n",
        "\r\n",
        "class_names = train_ds.class_names\r\n",
        "print('Class names are ' + str(class_names))"
      ],
      "execution_count": 23,
      "outputs": [
        {
          "output_type": "stream",
          "text": [
            "Class names are ['masked', 'unmasked']\n"
          ],
          "name": "stdout"
        }
      ]
    },
    {
      "cell_type": "code",
      "metadata": {
        "id": "Zb_4Y9eHI--i"
      },
      "source": [
        "# Caching the train/test/validation dataset for prformance\r\n",
        "AUTOTUNE = tf.data.AUTOTUNE\r\n",
        "train_ds = train_ds.cache().shuffle(1000).prefetch(buffer_size=AUTOTUNE)\r\n",
        "test_ds = test_ds.cache().prefetch(buffer_size=AUTOTUNE)"
      ],
      "execution_count": 24,
      "outputs": []
    },
    {
      "cell_type": "code",
      "metadata": {
        "colab": {
          "base_uri": "https://localhost:8080/"
        },
        "id": "1MpnBX5HJEkt",
        "outputId": "82e36a6b-7b21-48e7-ab7e-51a5681325fb"
      },
      "source": [
        "# Normalization the train datasets\r\n",
        "\r\n",
        "normalization_layer = layers.experimental.preprocessing.Rescaling(1./255)\r\n",
        "normalized_ds = train_ds.map(lambda x, y: (normalization_layer(x), y))\r\n",
        "image_batch, labels_batch = next(iter(normalized_ds))\r\n",
        "first_image = image_batch[0]\r\n",
        "print(np.min(first_image), np.max(first_image)) "
      ],
      "execution_count": 25,
      "outputs": [
        {
          "output_type": "stream",
          "text": [
            "0.12168735 0.96614206\n"
          ],
          "name": "stdout"
        }
      ]
    },
    {
      "cell_type": "markdown",
      "metadata": {
        "id": "WoDfEW0RRjzu"
      },
      "source": [
        "### 2. Configure the CNN model (use keras tensorflow), an indicative (minimal) configuration is as below. Take activation function (A)=relu. \r\n",
        "Feel free to use standard values for anything that is not mentioned (eg, take pool size 2x2, filter size 3x3, and so on)\r\n",
        "No of the datasets classes are 2"
      ]
    },
    {
      "cell_type": "code",
      "metadata": {
        "id": "fICFvjo8JKEL"
      },
      "source": [
        "num_classes = 2\r\n",
        "default_model = Sequential([\r\n",
        "  layers.experimental.preprocessing.Rescaling(1./255, input_shape=(img_height, img_width, 3)),\r\n",
        "  layers.Conv2D(16, 3, padding='same', activation='relu'),\r\n",
        "  layers.MaxPooling2D(),\r\n",
        "  layers.Flatten(),\r\n",
        "  layers.Dense(128, activation='softmax'),\r\n",
        "  layers.Dense(num_classes)\r\n",
        "])\r\n",
        "\r\n",
        "# Compile the model with adam optimizer with metrics as accuracy\r\n",
        "default_model.compile(optimizer='adam', loss=tf.keras.losses.SparseCategoricalCrossentropy(from_logits=True), metrics=['accuracy'])"
      ],
      "execution_count": 26,
      "outputs": []
    },
    {
      "cell_type": "markdown",
      "metadata": {
        "id": "GI6WOhnIRwIP"
      },
      "source": [
        "### 3. Train the CNN model for E epoch (take E=70), save the train_loss, train_acc, validation_loss, validation_acc for each epoch and plot it after training has finished. [4 points]"
      ]
    },
    {
      "cell_type": "code",
      "metadata": {
        "colab": {
          "base_uri": "https://localhost:8080/"
        },
        "id": "G_uUcxAXR0hK",
        "outputId": "b758af2b-ec7a-4758-9442-42eb7436383e"
      },
      "source": [
        "default_model_saved = default_model.fit(train_ds, epochs=epochs, validation_data=test_ds)"
      ],
      "execution_count": 27,
      "outputs": [
        {
          "output_type": "stream",
          "text": [
            "Epoch 1/70\n",
            "54/54 [==============================] - 6s 105ms/step - loss: 0.6709 - accuracy: 0.5933 - val_loss: 0.6340 - val_accuracy: 0.7531\n",
            "Epoch 2/70\n",
            "54/54 [==============================] - 5s 84ms/step - loss: 0.5778 - accuracy: 0.9227 - val_loss: 0.6854 - val_accuracy: 0.5375\n",
            "Epoch 3/70\n",
            "54/54 [==============================] - 5s 84ms/step - loss: 0.5260 - accuracy: 0.9280 - val_loss: 0.6486 - val_accuracy: 0.6313\n",
            "Epoch 4/70\n",
            "54/54 [==============================] - 5s 84ms/step - loss: 0.4705 - accuracy: 0.9552 - val_loss: 0.6266 - val_accuracy: 0.6750\n",
            "Epoch 5/70\n",
            "54/54 [==============================] - 5s 84ms/step - loss: 0.4206 - accuracy: 0.9746 - val_loss: 0.6654 - val_accuracy: 0.6062\n",
            "Epoch 6/70\n",
            "54/54 [==============================] - 4s 84ms/step - loss: 0.3871 - accuracy: 0.9817 - val_loss: 0.5676 - val_accuracy: 0.7500\n",
            "Epoch 7/70\n",
            "54/54 [==============================] - 5s 84ms/step - loss: 0.3655 - accuracy: 0.9680 - val_loss: 0.6055 - val_accuracy: 0.6687\n",
            "Epoch 8/70\n",
            "54/54 [==============================] - 4s 83ms/step - loss: 0.3339 - accuracy: 0.9796 - val_loss: 0.6236 - val_accuracy: 0.6562\n",
            "Epoch 9/70\n",
            "54/54 [==============================] - 5s 84ms/step - loss: 0.3058 - accuracy: 0.9830 - val_loss: 0.7056 - val_accuracy: 0.5906\n",
            "Epoch 10/70\n",
            "54/54 [==============================] - 4s 83ms/step - loss: 0.2895 - accuracy: 0.9801 - val_loss: 0.5939 - val_accuracy: 0.7000\n",
            "Epoch 11/70\n",
            "54/54 [==============================] - 4s 83ms/step - loss: 0.2642 - accuracy: 0.9867 - val_loss: 0.6741 - val_accuracy: 0.6406\n",
            "Epoch 12/70\n",
            "54/54 [==============================] - 4s 82ms/step - loss: 0.2452 - accuracy: 0.9894 - val_loss: 0.6466 - val_accuracy: 0.6625\n",
            "Epoch 13/70\n",
            "54/54 [==============================] - 4s 81ms/step - loss: 0.2363 - accuracy: 0.9829 - val_loss: 0.6567 - val_accuracy: 0.6531\n",
            "Epoch 14/70\n",
            "54/54 [==============================] - 4s 81ms/step - loss: 0.2188 - accuracy: 0.9883 - val_loss: 0.6292 - val_accuracy: 0.6969\n",
            "Epoch 15/70\n",
            "54/54 [==============================] - 4s 80ms/step - loss: 0.2049 - accuracy: 0.9906 - val_loss: 0.6385 - val_accuracy: 0.6844\n",
            "Epoch 16/70\n",
            "54/54 [==============================] - 4s 80ms/step - loss: 0.1949 - accuracy: 0.9893 - val_loss: 0.6442 - val_accuracy: 0.6875\n",
            "Epoch 17/70\n",
            "54/54 [==============================] - 4s 81ms/step - loss: 0.1729 - accuracy: 0.9953 - val_loss: 0.7363 - val_accuracy: 0.6313\n",
            "Epoch 18/70\n",
            "54/54 [==============================] - 4s 81ms/step - loss: 0.1800 - accuracy: 0.9879 - val_loss: 0.7387 - val_accuracy: 0.6281\n",
            "Epoch 19/70\n",
            "54/54 [==============================] - 4s 82ms/step - loss: 0.1628 - accuracy: 0.9910 - val_loss: 0.6506 - val_accuracy: 0.6938\n",
            "Epoch 20/70\n",
            "54/54 [==============================] - 4s 83ms/step - loss: 0.1542 - accuracy: 0.9911 - val_loss: 0.6714 - val_accuracy: 0.6906\n",
            "Epoch 21/70\n",
            "54/54 [==============================] - 4s 81ms/step - loss: 0.1443 - accuracy: 0.9924 - val_loss: 0.6910 - val_accuracy: 0.6781\n",
            "Epoch 22/70\n",
            "54/54 [==============================] - 4s 82ms/step - loss: 0.1308 - accuracy: 0.9960 - val_loss: 0.6882 - val_accuracy: 0.6844\n",
            "Epoch 23/70\n",
            "54/54 [==============================] - 4s 82ms/step - loss: 0.1350 - accuracy: 0.9908 - val_loss: 0.6908 - val_accuracy: 0.6906\n",
            "Epoch 24/70\n",
            "54/54 [==============================] - 4s 83ms/step - loss: 0.1322 - accuracy: 0.9893 - val_loss: 0.7393 - val_accuracy: 0.6656\n",
            "Epoch 25/70\n",
            "54/54 [==============================] - 4s 82ms/step - loss: 0.1210 - accuracy: 0.9925 - val_loss: 0.7450 - val_accuracy: 0.6656\n",
            "Epoch 26/70\n",
            "54/54 [==============================] - 5s 84ms/step - loss: 0.1192 - accuracy: 0.9911 - val_loss: 0.7377 - val_accuracy: 0.6750\n",
            "Epoch 27/70\n",
            "54/54 [==============================] - 4s 82ms/step - loss: 0.1094 - accuracy: 0.9935 - val_loss: 0.6829 - val_accuracy: 0.7125\n",
            "Epoch 28/70\n",
            "54/54 [==============================] - 4s 81ms/step - loss: 0.0988 - accuracy: 0.9963 - val_loss: 0.6633 - val_accuracy: 0.7250\n",
            "Epoch 29/70\n",
            "54/54 [==============================] - 4s 81ms/step - loss: 0.1174 - accuracy: 0.9857 - val_loss: 0.9058 - val_accuracy: 0.6313\n",
            "Epoch 30/70\n",
            "54/54 [==============================] - 5s 89ms/step - loss: 0.1268 - accuracy: 0.9788 - val_loss: 0.7958 - val_accuracy: 0.6656\n",
            "Epoch 31/70\n",
            "54/54 [==============================] - 4s 83ms/step - loss: 0.0954 - accuracy: 0.9934 - val_loss: 0.7330 - val_accuracy: 0.7000\n",
            "Epoch 32/70\n",
            "54/54 [==============================] - 4s 80ms/step - loss: 0.0862 - accuracy: 0.9960 - val_loss: 0.8264 - val_accuracy: 0.6750\n",
            "Epoch 33/70\n",
            "54/54 [==============================] - 4s 82ms/step - loss: 0.0911 - accuracy: 0.9913 - val_loss: 0.8598 - val_accuracy: 0.6562\n",
            "Epoch 34/70\n",
            "54/54 [==============================] - 4s 81ms/step - loss: 0.0860 - accuracy: 0.9932 - val_loss: 0.8107 - val_accuracy: 0.6781\n",
            "Epoch 35/70\n",
            "54/54 [==============================] - 4s 83ms/step - loss: 0.0853 - accuracy: 0.9922 - val_loss: 0.8070 - val_accuracy: 0.6687\n",
            "Epoch 36/70\n",
            "54/54 [==============================] - 4s 83ms/step - loss: 0.0754 - accuracy: 0.9956 - val_loss: 0.8340 - val_accuracy: 0.6781\n",
            "Epoch 37/70\n",
            "54/54 [==============================] - 5s 87ms/step - loss: 0.0717 - accuracy: 0.9959 - val_loss: 0.7385 - val_accuracy: 0.7094\n",
            "Epoch 38/70\n",
            "54/54 [==============================] - 4s 82ms/step - loss: 0.0716 - accuracy: 0.9947 - val_loss: 0.7694 - val_accuracy: 0.7000\n",
            "Epoch 39/70\n",
            "54/54 [==============================] - 4s 83ms/step - loss: 0.0642 - accuracy: 0.9964 - val_loss: 0.8217 - val_accuracy: 0.6906\n",
            "Epoch 40/70\n",
            "54/54 [==============================] - 4s 82ms/step - loss: 0.0611 - accuracy: 0.9968 - val_loss: 0.7942 - val_accuracy: 0.6906\n",
            "Epoch 41/70\n",
            "54/54 [==============================] - 4s 82ms/step - loss: 0.0653 - accuracy: 0.9955 - val_loss: 0.8154 - val_accuracy: 0.6875\n",
            "Epoch 42/70\n",
            "54/54 [==============================] - 4s 82ms/step - loss: 0.0702 - accuracy: 0.9930 - val_loss: 0.8672 - val_accuracy: 0.6781\n",
            "Epoch 43/70\n",
            "54/54 [==============================] - 4s 83ms/step - loss: 0.0653 - accuracy: 0.9942 - val_loss: 0.8731 - val_accuracy: 0.6875\n",
            "Epoch 44/70\n",
            "54/54 [==============================] - 4s 82ms/step - loss: 0.0561 - accuracy: 0.9968 - val_loss: 0.8875 - val_accuracy: 0.6875\n",
            "Epoch 45/70\n",
            "54/54 [==============================] - 4s 81ms/step - loss: 0.0545 - accuracy: 0.9967 - val_loss: 0.8989 - val_accuracy: 0.6812\n",
            "Epoch 46/70\n",
            "54/54 [==============================] - 4s 82ms/step - loss: 0.0502 - accuracy: 0.9978 - val_loss: 0.9080 - val_accuracy: 0.6812\n",
            "Epoch 47/70\n",
            "54/54 [==============================] - 4s 82ms/step - loss: 0.0629 - accuracy: 0.9935 - val_loss: 0.9188 - val_accuracy: 0.6781\n",
            "Epoch 48/70\n",
            "54/54 [==============================] - 4s 83ms/step - loss: 0.0633 - accuracy: 0.9925 - val_loss: 0.9312 - val_accuracy: 0.6781\n",
            "Epoch 49/70\n",
            "54/54 [==============================] - 4s 81ms/step - loss: 0.0561 - accuracy: 0.9945 - val_loss: 0.9355 - val_accuracy: 0.6781\n",
            "Epoch 50/70\n",
            "54/54 [==============================] - 4s 82ms/step - loss: 0.0597 - accuracy: 0.9929 - val_loss: 0.9324 - val_accuracy: 0.6781\n",
            "Epoch 51/70\n",
            "54/54 [==============================] - 4s 82ms/step - loss: 0.0545 - accuracy: 0.9943 - val_loss: 0.9601 - val_accuracy: 0.6781\n",
            "Epoch 52/70\n",
            "54/54 [==============================] - 4s 81ms/step - loss: 0.0446 - accuracy: 0.9970 - val_loss: 0.9603 - val_accuracy: 0.6750\n",
            "Epoch 53/70\n",
            "54/54 [==============================] - 4s 81ms/step - loss: 0.0627 - accuracy: 0.9912 - val_loss: 0.9738 - val_accuracy: 0.6812\n",
            "Epoch 54/70\n",
            "54/54 [==============================] - 4s 81ms/step - loss: 0.0452 - accuracy: 0.9962 - val_loss: 0.9887 - val_accuracy: 0.6781\n",
            "Epoch 55/70\n",
            "54/54 [==============================] - 4s 83ms/step - loss: 0.0491 - accuracy: 0.9948 - val_loss: 0.9942 - val_accuracy: 0.6781\n",
            "Epoch 56/70\n",
            "54/54 [==============================] - 5s 85ms/step - loss: 0.0387 - accuracy: 0.9976 - val_loss: 0.9963 - val_accuracy: 0.6750\n",
            "Epoch 57/70\n",
            "54/54 [==============================] - 4s 83ms/step - loss: 0.0451 - accuracy: 0.9954 - val_loss: 1.0066 - val_accuracy: 0.6781\n",
            "Epoch 58/70\n",
            "54/54 [==============================] - 4s 84ms/step - loss: 0.0399 - accuracy: 0.9967 - val_loss: 1.0087 - val_accuracy: 0.6750\n",
            "Epoch 59/70\n",
            "54/54 [==============================] - 5s 86ms/step - loss: 0.0451 - accuracy: 0.9951 - val_loss: 1.0351 - val_accuracy: 0.6812\n",
            "Epoch 60/70\n",
            "54/54 [==============================] - 4s 82ms/step - loss: 0.0419 - accuracy: 0.9957 - val_loss: 1.0238 - val_accuracy: 0.6750\n",
            "Epoch 61/70\n",
            "54/54 [==============================] - 4s 82ms/step - loss: 0.0352 - accuracy: 0.9974 - val_loss: 1.0378 - val_accuracy: 0.6781\n",
            "Epoch 62/70\n",
            "54/54 [==============================] - 4s 82ms/step - loss: 0.0347 - accuracy: 0.9975 - val_loss: 1.0461 - val_accuracy: 0.6750\n",
            "Epoch 63/70\n",
            "54/54 [==============================] - 4s 83ms/step - loss: 0.0424 - accuracy: 0.9951 - val_loss: 1.0577 - val_accuracy: 0.6781\n",
            "Epoch 64/70\n",
            "54/54 [==============================] - 4s 82ms/step - loss: 0.0332 - accuracy: 0.9974 - val_loss: 1.0610 - val_accuracy: 0.6750\n",
            "Epoch 65/70\n",
            "54/54 [==============================] - 4s 82ms/step - loss: 0.0355 - accuracy: 0.9967 - val_loss: 1.0725 - val_accuracy: 0.6781\n",
            "Epoch 66/70\n",
            "54/54 [==============================] - 4s 83ms/step - loss: 0.0419 - accuracy: 0.9947 - val_loss: 1.0752 - val_accuracy: 0.6781\n",
            "Epoch 67/70\n",
            "54/54 [==============================] - 4s 82ms/step - loss: 0.0313 - accuracy: 0.9975 - val_loss: 1.0815 - val_accuracy: 0.6750\n",
            "Epoch 68/70\n",
            "54/54 [==============================] - 4s 82ms/step - loss: 0.0461 - accuracy: 0.9933 - val_loss: 1.0956 - val_accuracy: 0.6812\n",
            "Epoch 69/70\n",
            "54/54 [==============================] - 4s 81ms/step - loss: 0.0348 - accuracy: 0.9963 - val_loss: 1.0991 - val_accuracy: 0.6812\n",
            "Epoch 70/70\n",
            "54/54 [==============================] - 4s 82ms/step - loss: 0.0343 - accuracy: 0.9962 - val_loss: 1.1050 - val_accuracy: 0.6750\n"
          ],
          "name": "stdout"
        }
      ]
    },
    {
      "cell_type": "code",
      "metadata": {
        "colab": {
          "base_uri": "https://localhost:8080/",
          "height": 499
        },
        "id": "sejAhy3yJK_I",
        "outputId": "58610cd2-a78b-4e0b-c584-b3e67ca63e6d"
      },
      "source": [
        "# Plotting Accuracy and loss for teh default model\r\n",
        "acc = default_model_saved.history['accuracy']\r\n",
        "val_acc = default_model_saved.history['val_accuracy']\r\n",
        "loss = default_model_saved.history['loss']\r\n",
        "val_loss = default_model_saved.history['val_loss']\r\n",
        "epochs_range = range(epochs)\r\n",
        "\r\n",
        "plt.figure(figsize=(8, 8))\r\n",
        "plt.subplot(1, 2, 1)\r\n",
        "plt.plot(epochs_range, acc, label='Training Accuracy')\r\n",
        "plt.plot(epochs_range, val_acc, label='Validation Accuracy')\r\n",
        "plt.legend(loc='lower right')\r\n",
        "plt.title('Training and Validation Accuracy')\r\n",
        "plt.subplot(1, 2, 2)\r\n",
        "plt.plot(epochs_range, loss, label='Training Loss')\r\n",
        "plt.plot(epochs_range, val_loss, label='Validation Loss')\r\n",
        "plt.legend(loc='upper right')\r\n",
        "plt.title('Default Model - Training and Validation Loss')\r\n",
        "plt.show()"
      ],
      "execution_count": 28,
      "outputs": [
        {
          "output_type": "display_data",
          "data": {
            "image/png": "[encoded data removed]",
            "text/plain": [
              "<Figure size 576x576 with 2 Axes>"
            ]
          },
          "metadata": {
            "tags": [],
            "needs_background": "light"
          }
        }
      ]
    },
    {
      "cell_type": "markdown",
      "metadata": {
        "id": "BVUSlFLAR7Lh"
      },
      "source": [
        "### 4. Evaluate the trained CNN model on test data. Print classification  results. [2 point]"
      ]
    },
    {
      "cell_type": "code",
      "metadata": {
        "colab": {
          "base_uri": "https://localhost:8080/"
        },
        "id": "galYj6ndJWJN",
        "outputId": "f3c7408f-4337-4500-9867-8bfcc063331e"
      },
      "source": [
        "df = pd.DataFrame(columns=['Actual', 'Predicted'])\r\n",
        "images = []\r\n",
        "rows_list = []\r\n",
        "def predictimages(folder_path, mask_type, df):\r\n",
        "  className = 'masked'\r\n",
        "  if mask_type == False:\r\n",
        "    className = 'unmasked'\r\n",
        "  folder_path += '/' + className\r\n",
        "  for img in os.listdir(folder_path):\r\n",
        "    img = os.path.join(folder_path, img)\r\n",
        "    img = keras.preprocessing.image.load_img(img, target_size=(img_height, img_width))\r\n",
        "    img_array = keras.preprocessing.image.img_to_array(img)\r\n",
        "    img_array = tf.expand_dims(img_array, 0)\r\n",
        "    predictions = default_model.predict(img_array)\r\n",
        "    score = tf.nn.softmax(predictions[0])\r\n",
        "    rows_list.append({'Actual': mask_type, 'Predicted' : mask_type if (class_names[np.argmax(score)] == className) else (not mask_type)})\r\n",
        "\r\n",
        "folder_path = test_ds_path\r\n",
        "mask_type = True\r\n",
        "predictimages(folder_path, mask_type, df)\r\n",
        "mask_type = False\r\n",
        "predictimages(folder_path, mask_type, df)\r\n",
        "df = pd.DataFrame(rows_list)\r\n",
        "\r\n",
        "print('---------------------------Accuracy Score----------------')\r\n",
        "print(accuracy_score(df['Actual'].tolist(),df['Predicted'].tolist()))\r\n",
        "print('---------------------------Confusion Matrix----------------')\r\n",
        "print(confusion_matrix(df['Actual'].tolist(),df['Predicted'].tolist()).ravel())\r\n",
        "print('---------------------------Precision Recall Fscore Support----------------')\r\n",
        "default_precision, default_recall, default_fscore, default_support = precision_recall_fscore_support(df['Actual'].tolist(),df['Predicted'].tolist(), average='macro')\r\n",
        "print(default_precision, default_recall, default_fscore, default_support)\r\n",
        "print('---------------------------Classification Report----------------')\r\n",
        "print(classification_report(df['Actual'].tolist(),df['Predicted'].tolist()))"
      ],
      "execution_count": 29,
      "outputs": [
        {
          "output_type": "stream",
          "text": [
            "---------------------------Accuracy Score----------------\n",
            "0.675\n",
            "---------------------------Confusion Matrix----------------\n",
            "[131  29  75  85]\n",
            "---------------------------Precision Recall Fscore Support----------------\n",
            "0.6907681825924034 0.675 0.6681424753699494 None\n",
            "---------------------------Classification Report----------------\n",
            "              precision    recall  f1-score   support\n",
            "\n",
            "       False       0.64      0.82      0.72       160\n",
            "        True       0.75      0.53      0.62       160\n",
            "\n",
            "    accuracy                           0.68       320\n",
            "   macro avg       0.69      0.68      0.67       320\n",
            "weighted avg       0.69      0.68      0.67       320\n",
            "\n"
          ],
          "name": "stdout"
        }
      ]
    },
    {
      "cell_type": "code",
      "metadata": {
        "colab": {
          "base_uri": "https://localhost:8080/"
        },
        "id": "IWZ8UDo0JaIw",
        "outputId": "37642f36-b528-40a5-ca53-1fa4d99c8da3"
      },
      "source": [
        "#5  Adding more layers to improve the accuracy\r\n",
        "improved_model = Sequential([\r\n",
        "  layers.experimental.preprocessing.Rescaling(1./255, input_shape=(img_height, img_width, 3)),\r\n",
        "  layers.Conv2D(16, 3, padding='same', activation='relu'),\r\n",
        "  layers.MaxPooling2D(),\r\n",
        "  layers.Conv2D(32, 3, padding='same', activation='relu'),\r\n",
        "  layers.MaxPooling2D(),\r\n",
        "  layers.Conv2D(64, 3, padding='same', activation='relu'),\r\n",
        "  layers.MaxPooling2D(),\r\n",
        "  layers.Flatten(),\r\n",
        "  layers.Dense(128, activation='softmax'),\r\n",
        "  layers.Dense(num_classes)\r\n",
        "])\r\n",
        "\r\n",
        "# Compile the model with adam optimizer with metrics as accuracy\r\n",
        "improved_model.compile(optimizer='adam', loss=tf.keras.losses.SparseCategoricalCrossentropy(from_logits=True), metrics=['accuracy'])\r\n",
        "\r\n",
        "# Train the CNN model for E epoch (take E=70), save the train_loss, train_acc, validation_loss, validation_acc for each epoch and plot it after training has finished. [4 points]\r\n",
        "improved_model_saved = improved_model.fit(train_ds, epochs=epochs, validation_data=test_ds)"
      ],
      "execution_count": 30,
      "outputs": [
        {
          "output_type": "stream",
          "text": [
            "Epoch 1/70\n",
            "54/54 [==============================] - 8s 144ms/step - loss: 0.6567 - accuracy: 0.6840 - val_loss: 0.6395 - val_accuracy: 0.6687\n",
            "Epoch 2/70\n",
            "54/54 [==============================] - 8s 145ms/step - loss: 0.5151 - accuracy: 0.9206 - val_loss: 0.5909 - val_accuracy: 0.7375\n",
            "Epoch 3/70\n",
            "54/54 [==============================] - 8s 145ms/step - loss: 0.4624 - accuracy: 0.9373 - val_loss: 0.5769 - val_accuracy: 0.7500\n",
            "Epoch 4/70\n",
            "54/54 [==============================] - 8s 144ms/step - loss: 0.4877 - accuracy: 0.8616 - val_loss: 0.6313 - val_accuracy: 0.6625\n",
            "Epoch 5/70\n",
            "54/54 [==============================] - 8s 140ms/step - loss: 0.4018 - accuracy: 0.9474 - val_loss: 0.6015 - val_accuracy: 0.6906\n",
            "Epoch 6/70\n",
            "54/54 [==============================] - 8s 141ms/step - loss: 0.3585 - accuracy: 0.9635 - val_loss: 0.6541 - val_accuracy: 0.6438\n",
            "Epoch 7/70\n",
            "54/54 [==============================] - 8s 139ms/step - loss: 0.3407 - accuracy: 0.9605 - val_loss: 0.6923 - val_accuracy: 0.6000\n",
            "Epoch 8/70\n",
            "54/54 [==============================] - 8s 141ms/step - loss: 0.3149 - accuracy: 0.9650 - val_loss: 0.5641 - val_accuracy: 0.7375\n",
            "Epoch 9/70\n",
            "54/54 [==============================] - 7s 139ms/step - loss: 0.3196 - accuracy: 0.9450 - val_loss: 0.5769 - val_accuracy: 0.7250\n",
            "Epoch 10/70\n",
            "54/54 [==============================] - 7s 138ms/step - loss: 0.2798 - accuracy: 0.9675 - val_loss: 0.5796 - val_accuracy: 0.7281\n",
            "Epoch 11/70\n",
            "54/54 [==============================] - 8s 140ms/step - loss: 0.2637 - accuracy: 0.9683 - val_loss: 0.5809 - val_accuracy: 0.7250\n",
            "Epoch 12/70\n",
            "54/54 [==============================] - 8s 140ms/step - loss: 0.2419 - accuracy: 0.9730 - val_loss: 0.6881 - val_accuracy: 0.6500\n",
            "Epoch 13/70\n",
            "54/54 [==============================] - 8s 140ms/step - loss: 0.2236 - accuracy: 0.9779 - val_loss: 0.7305 - val_accuracy: 0.6406\n",
            "Epoch 14/70\n",
            "54/54 [==============================] - 8s 144ms/step - loss: 0.2093 - accuracy: 0.9816 - val_loss: 0.7922 - val_accuracy: 0.6031\n",
            "Epoch 15/70\n",
            "54/54 [==============================] - 8s 148ms/step - loss: 0.2035 - accuracy: 0.9784 - val_loss: 0.6420 - val_accuracy: 0.7031\n",
            "Epoch 16/70\n",
            "54/54 [==============================] - 7s 139ms/step - loss: 0.2006 - accuracy: 0.9741 - val_loss: 0.6635 - val_accuracy: 0.6969\n",
            "Epoch 17/70\n",
            "54/54 [==============================] - 8s 140ms/step - loss: 0.1738 - accuracy: 0.9853 - val_loss: 0.6659 - val_accuracy: 0.6938\n",
            "Epoch 18/70\n",
            "54/54 [==============================] - 8s 143ms/step - loss: 0.1962 - accuracy: 0.9693 - val_loss: 0.7091 - val_accuracy: 0.6812\n",
            "Epoch 19/70\n",
            "54/54 [==============================] - 8s 141ms/step - loss: 0.1672 - accuracy: 0.9814 - val_loss: 0.6495 - val_accuracy: 0.7156\n",
            "Epoch 20/70\n",
            "54/54 [==============================] - 7s 139ms/step - loss: 0.1661 - accuracy: 0.9760 - val_loss: 0.6811 - val_accuracy: 0.7031\n",
            "Epoch 21/70\n",
            "54/54 [==============================] - 8s 141ms/step - loss: 0.1435 - accuracy: 0.9870 - val_loss: 0.8047 - val_accuracy: 0.6375\n",
            "Epoch 22/70\n",
            "54/54 [==============================] - 8s 143ms/step - loss: 0.1370 - accuracy: 0.9877 - val_loss: 0.9197 - val_accuracy: 0.6031\n",
            "Epoch 23/70\n",
            "54/54 [==============================] - 8s 140ms/step - loss: 0.1482 - accuracy: 0.9781 - val_loss: 0.8566 - val_accuracy: 0.6281\n",
            "Epoch 24/70\n",
            "54/54 [==============================] - 7s 138ms/step - loss: 0.1442 - accuracy: 0.9785 - val_loss: 0.9188 - val_accuracy: 0.6094\n",
            "Epoch 25/70\n",
            "54/54 [==============================] - 8s 139ms/step - loss: 0.1305 - accuracy: 0.9842 - val_loss: 0.7770 - val_accuracy: 0.6844\n",
            "Epoch 26/70\n",
            "54/54 [==============================] - 8s 140ms/step - loss: 0.1077 - accuracy: 0.9936 - val_loss: 0.7832 - val_accuracy: 0.6906\n",
            "Epoch 27/70\n",
            "54/54 [==============================] - 8s 140ms/step - loss: 0.1063 - accuracy: 0.9915 - val_loss: 0.8155 - val_accuracy: 0.6875\n",
            "Epoch 28/70\n",
            "54/54 [==============================] - 7s 138ms/step - loss: 0.1173 - accuracy: 0.9858 - val_loss: 0.7829 - val_accuracy: 0.7000\n",
            "Epoch 29/70\n",
            "54/54 [==============================] - 8s 143ms/step - loss: 0.1004 - accuracy: 0.9913 - val_loss: 0.8352 - val_accuracy: 0.6750\n",
            "Epoch 30/70\n",
            "54/54 [==============================] - 7s 138ms/step - loss: 0.1038 - accuracy: 0.9878 - val_loss: 0.9014 - val_accuracy: 0.6406\n",
            "Epoch 31/70\n",
            "54/54 [==============================] - 8s 142ms/step - loss: 0.1007 - accuracy: 0.9888 - val_loss: 0.7275 - val_accuracy: 0.7281\n",
            "Epoch 32/70\n",
            "54/54 [==============================] - 8s 142ms/step - loss: 0.0924 - accuracy: 0.9896 - val_loss: 0.8794 - val_accuracy: 0.6719\n",
            "Epoch 33/70\n",
            "54/54 [==============================] - 8s 144ms/step - loss: 0.0940 - accuracy: 0.9886 - val_loss: 0.7333 - val_accuracy: 0.7281\n",
            "Epoch 34/70\n",
            "54/54 [==============================] - 8s 141ms/step - loss: 0.0804 - accuracy: 0.9934 - val_loss: 0.8276 - val_accuracy: 0.6781\n",
            "Epoch 35/70\n",
            "54/54 [==============================] - 7s 137ms/step - loss: 0.0837 - accuracy: 0.9911 - val_loss: 0.6914 - val_accuracy: 0.7656\n",
            "Epoch 36/70\n",
            "54/54 [==============================] - 7s 136ms/step - loss: 0.1089 - accuracy: 0.9798 - val_loss: 1.0297 - val_accuracy: 0.6156\n",
            "Epoch 37/70\n",
            "54/54 [==============================] - 7s 135ms/step - loss: 0.0953 - accuracy: 0.9809 - val_loss: 0.9256 - val_accuracy: 0.6719\n",
            "Epoch 38/70\n",
            "54/54 [==============================] - 7s 136ms/step - loss: 0.0874 - accuracy: 0.9846 - val_loss: 0.7256 - val_accuracy: 0.7437\n",
            "Epoch 39/70\n",
            "54/54 [==============================] - 7s 136ms/step - loss: 0.1177 - accuracy: 0.9730 - val_loss: 0.7286 - val_accuracy: 0.7469\n",
            "Epoch 40/70\n",
            "54/54 [==============================] - 7s 137ms/step - loss: 0.1080 - accuracy: 0.9775 - val_loss: 1.0144 - val_accuracy: 0.6438\n",
            "Epoch 41/70\n",
            "54/54 [==============================] - 7s 136ms/step - loss: 0.0820 - accuracy: 0.9844 - val_loss: 0.9747 - val_accuracy: 0.6625\n",
            "Epoch 42/70\n",
            "54/54 [==============================] - 7s 136ms/step - loss: 0.0624 - accuracy: 0.9947 - val_loss: 0.7668 - val_accuracy: 0.7469\n",
            "Epoch 43/70\n",
            "54/54 [==============================] - 7s 137ms/step - loss: 0.0667 - accuracy: 0.9918 - val_loss: 0.7631 - val_accuracy: 0.7437\n",
            "Epoch 44/70\n",
            "54/54 [==============================] - 7s 137ms/step - loss: 0.0693 - accuracy: 0.9912 - val_loss: 0.7455 - val_accuracy: 0.7531\n",
            "Epoch 45/70\n",
            "54/54 [==============================] - 7s 135ms/step - loss: 0.0783 - accuracy: 0.9841 - val_loss: 0.8276 - val_accuracy: 0.7281\n",
            "Epoch 46/70\n",
            "54/54 [==============================] - 7s 137ms/step - loss: 0.0650 - accuracy: 0.9925 - val_loss: 1.0063 - val_accuracy: 0.6719\n",
            "Epoch 47/70\n",
            "54/54 [==============================] - 7s 137ms/step - loss: 0.0637 - accuracy: 0.9921 - val_loss: 0.9670 - val_accuracy: 0.6844\n",
            "Epoch 48/70\n",
            "54/54 [==============================] - 7s 136ms/step - loss: 0.0540 - accuracy: 0.9950 - val_loss: 0.9660 - val_accuracy: 0.6938\n",
            "Epoch 49/70\n",
            "54/54 [==============================] - 7s 138ms/step - loss: 0.0511 - accuracy: 0.9954 - val_loss: 0.9643 - val_accuracy: 0.6875\n",
            "Epoch 50/70\n",
            "54/54 [==============================] - 7s 138ms/step - loss: 0.0496 - accuracy: 0.9955 - val_loss: 0.9631 - val_accuracy: 0.6906\n",
            "Epoch 51/70\n",
            "54/54 [==============================] - 7s 138ms/step - loss: 0.0563 - accuracy: 0.9932 - val_loss: 0.9641 - val_accuracy: 0.6938\n",
            "Epoch 52/70\n",
            "54/54 [==============================] - 7s 136ms/step - loss: 0.0581 - accuracy: 0.9923 - val_loss: 0.9648 - val_accuracy: 0.6969\n",
            "Epoch 53/70\n",
            "54/54 [==============================] - 7s 136ms/step - loss: 0.0675 - accuracy: 0.9892 - val_loss: 0.9721 - val_accuracy: 0.6969\n",
            "Epoch 54/70\n",
            "54/54 [==============================] - 7s 139ms/step - loss: 0.0618 - accuracy: 0.9907 - val_loss: 0.9657 - val_accuracy: 0.7000\n",
            "Epoch 55/70\n",
            "54/54 [==============================] - 8s 141ms/step - loss: 0.0460 - accuracy: 0.9952 - val_loss: 0.9678 - val_accuracy: 0.7000\n",
            "Epoch 56/70\n",
            "54/54 [==============================] - 8s 144ms/step - loss: 0.0583 - accuracy: 0.9916 - val_loss: 0.9526 - val_accuracy: 0.7094\n",
            "Epoch 57/70\n",
            "54/54 [==============================] - 7s 138ms/step - loss: 0.0451 - accuracy: 0.9948 - val_loss: 1.1763 - val_accuracy: 0.6344\n",
            "Epoch 58/70\n",
            "54/54 [==============================] - 7s 139ms/step - loss: 0.0558 - accuracy: 0.9899 - val_loss: 1.1381 - val_accuracy: 0.6656\n",
            "Epoch 59/70\n",
            "54/54 [==============================] - 7s 138ms/step - loss: 0.0522 - accuracy: 0.9919 - val_loss: 0.9505 - val_accuracy: 0.7219\n",
            "Epoch 60/70\n",
            "54/54 [==============================] - 7s 137ms/step - loss: 0.0589 - accuracy: 0.9906 - val_loss: 1.1109 - val_accuracy: 0.6625\n",
            "Epoch 61/70\n",
            "54/54 [==============================] - 7s 137ms/step - loss: 0.0474 - accuracy: 0.9935 - val_loss: 1.0491 - val_accuracy: 0.6844\n",
            "Epoch 62/70\n",
            "54/54 [==============================] - 7s 136ms/step - loss: 0.0662 - accuracy: 0.9852 - val_loss: 1.2364 - val_accuracy: 0.6406\n",
            "Epoch 63/70\n",
            "54/54 [==============================] - 7s 137ms/step - loss: 0.0795 - accuracy: 0.9794 - val_loss: 0.8656 - val_accuracy: 0.7250\n",
            "Epoch 64/70\n",
            "54/54 [==============================] - 7s 136ms/step - loss: 0.0655 - accuracy: 0.9857 - val_loss: 0.9767 - val_accuracy: 0.7094\n",
            "Epoch 65/70\n",
            "54/54 [==============================] - 7s 138ms/step - loss: 0.0454 - accuracy: 0.9933 - val_loss: 0.9576 - val_accuracy: 0.7063\n",
            "Epoch 66/70\n",
            "54/54 [==============================] - 7s 136ms/step - loss: 0.0483 - accuracy: 0.9916 - val_loss: 1.0476 - val_accuracy: 0.6906\n",
            "Epoch 67/70\n",
            "54/54 [==============================] - 7s 136ms/step - loss: 0.0517 - accuracy: 0.9919 - val_loss: 1.0877 - val_accuracy: 0.6844\n",
            "Epoch 68/70\n",
            "54/54 [==============================] - 7s 137ms/step - loss: 0.0332 - accuracy: 0.9969 - val_loss: 0.9834 - val_accuracy: 0.7188\n",
            "Epoch 69/70\n",
            "54/54 [==============================] - 7s 136ms/step - loss: 0.0430 - accuracy: 0.9939 - val_loss: 0.9951 - val_accuracy: 0.7156\n",
            "Epoch 70/70\n",
            "54/54 [==============================] - 7s 136ms/step - loss: 0.0420 - accuracy: 0.9942 - val_loss: 0.9957 - val_accuracy: 0.7156\n"
          ],
          "name": "stdout"
        }
      ]
    },
    {
      "cell_type": "code",
      "metadata": {
        "colab": {
          "base_uri": "https://localhost:8080/",
          "height": 499
        },
        "id": "JEUR7omfJaOv",
        "outputId": "87334a00-bb69-4bcb-8107-ea2bf1614709"
      },
      "source": [
        "# Plotting Accuracy and loss for teh improved model\r\n",
        "acc = improved_model_saved.history['accuracy']\r\n",
        "val_acc = improved_model_saved.history['val_accuracy']\r\n",
        "loss = improved_model_saved.history['loss']\r\n",
        "val_loss = improved_model_saved.history['val_loss']\r\n",
        "\r\n",
        "epochs_range = range(epochs)\r\n",
        "\r\n",
        "plt.figure(figsize=(8, 8))\r\n",
        "plt.subplot(1, 2, 1)\r\n",
        "plt.plot(epochs_range, acc, label='Training Accuracy')\r\n",
        "plt.plot(epochs_range, val_acc, label='Validation Accuracy')\r\n",
        "plt.legend(loc='lower right')\r\n",
        "plt.title('Training and Validation Accuracy')\r\n",
        "\r\n",
        "plt.subplot(1, 2, 2)\r\n",
        "plt.plot(epochs_range, loss, label='Training Loss')\r\n",
        "plt.plot(epochs_range, val_loss, label='Validation Loss')\r\n",
        "plt.legend(loc='upper right')\r\n",
        "plt.title('Improved Model - Training and Validation Loss')\r\n",
        "plt.show()    "
      ],
      "execution_count": 31,
      "outputs": [
        {
          "output_type": "display_data",
          "data": {
            "image/png": "[encoded data removed]",
            "text/plain": [
              "<Figure size 576x576 with 2 Axes>"
            ]
          },
          "metadata": {
            "tags": [],
            "needs_background": "light"
          }
        }
      ]
    },
    {
      "cell_type": "code",
      "metadata": {
        "colab": {
          "base_uri": "https://localhost:8080/"
        },
        "id": "_KHsDG_VJaQy",
        "outputId": "89184798-d113-4506-c6d5-6bc27ccda9c2"
      },
      "source": [
        "# Evaluate the trained CNN model on test data. Print classification results. [2 point]\r\n",
        "df = pd.DataFrame(columns=['Actual', 'Predicted'])\r\n",
        "images = []\r\n",
        "rows_list = []\r\n",
        "def predictimages(folder_path, mask_type, df):\r\n",
        "  className = 'masked'\r\n",
        "  if mask_type == False:\r\n",
        "    className = 'unmasked'\r\n",
        "  folder_path += '/' + className\r\n",
        "  for img in os.listdir(folder_path):\r\n",
        "    img = os.path.join(folder_path, img)\r\n",
        "    img = keras.preprocessing.image.load_img(img, target_size=(img_height, img_width))\r\n",
        "    img_array = keras.preprocessing.image.img_to_array(img)\r\n",
        "    img_array = tf.expand_dims(img_array, 0)\r\n",
        "    predictions = improved_model.predict(img_array)\r\n",
        "    score = tf.nn.softmax(predictions[0])\r\n",
        "    rows_list.append({'Actual': mask_type, 'Predicted' : mask_type if (class_names[np.argmax(score)] == className) else (not mask_type)})\r\n",
        "\r\n",
        "folder_path = test_ds_path\r\n",
        "mask_type = True\r\n",
        "predictimages(folder_path, mask_type, df)\r\n",
        "mask_type = False\r\n",
        "predictimages(folder_path, mask_type, df)\r\n",
        "df = pd.DataFrame(rows_list)\r\n",
        "\r\n",
        "print('---------------------------Accuracy Score----------------')\r\n",
        "print(accuracy_score(df['Actual'].tolist(),df['Predicted'].tolist()))\r\n",
        "print('---------------------------Confusion Matrix----------------')\r\n",
        "print(confusion_matrix(df['Actual'].tolist(),df['Predicted'].tolist()).ravel())\r\n",
        "print('---------------------------Precision Recall Fscore Support----------------')\r\n",
        "imporived_precision, imporived_recall, imporived_fscore, imporived_support = precision_recall_fscore_support(df['Actual'].tolist(),df['Predicted'].tolist(), average='macro')\r\n",
        "print(imporived_precision, imporived_recall, imporived_fscore, imporived_support)\r\n",
        "print('---------------------------Classification Report----------------')\r\n",
        "print(classification_report(df['Actual'].tolist(),df['Predicted'].tolist()))"
      ],
      "execution_count": 32,
      "outputs": [
        {
          "output_type": "stream",
          "text": [
            "---------------------------Accuracy Score----------------\n",
            "0.71875\n",
            "---------------------------Confusion Matrix----------------\n",
            "[142  18  72  88]\n",
            "---------------------------Precision Recall Fscore Support----------------\n",
            "0.746870040557221 0.71875 0.7105062120541996 None\n",
            "---------------------------Classification Report----------------\n",
            "              precision    recall  f1-score   support\n",
            "\n",
            "       False       0.66      0.89      0.76       160\n",
            "        True       0.83      0.55      0.66       160\n",
            "\n",
            "    accuracy                           0.72       320\n",
            "   macro avg       0.75      0.72      0.71       320\n",
            "weighted avg       0.75      0.72      0.71       320\n",
            "\n"
          ],
          "name": "stdout"
        }
      ]
    },
    {
      "cell_type": "code",
      "metadata": {
        "colab": {
          "base_uri": "https://localhost:8080/",
          "height": 497
        },
        "id": "lIo5nSO6JaTU",
        "outputId": "333d203a-4c8c-480c-a073-ca1a8b35ee7d"
      },
      "source": [
        "# Plot precision and recall for default and improved model in a single bar plot\r\n",
        "fig, ax = plt.subplots(figsize=(10,8))\r\n",
        "rc('font', weight='bold')\r\n",
        "bars1 = np.array([default_precision, imporived_precision])*100\r\n",
        "bars2 = np.array([default_recall, imporived_recall])*100\r\n",
        "bars = np.add(bars1, bars2).tolist()\r\n",
        "r = [0,1]\r\n",
        "names = ['Default Model','Improved Model']\r\n",
        "barWidth = 0.4\r\n",
        "plt.bar(r, bars1, color='#6c3376', edgecolor='white', width=barWidth, label=\"Precision\")\r\n",
        "plt.bar(r, bars2, bottom=bars1, color='#f3e151', edgecolor='white', width=barWidth, label=\"Recall\")\r\n",
        "plt.xticks(r, names, fontweight='bold')\r\n",
        "plt.xlabel(\"Model - Precision and Recall\")\r\n",
        "plt.legend(loc=\"center\")\r\n",
        "plt.show()"
      ],
      "execution_count": 33,
      "outputs": [
        {
          "output_type": "display_data",
          "data": {
            "image/png": "[encoded data removed]",
            "text/plain": [
              "<Figure size 720x576 with 1 Axes>"
            ]
          },
          "metadata": {
            "tags": [],
            "needs_background": "light"
          }
        }
      ]
    },
    {
      "cell_type": "code",
      "metadata": {
        "colab": {
          "base_uri": "https://localhost:8080/"
        },
        "id": "ttOUyiDhJaWQ",
        "outputId": "3e3890d6-ea01-4a2b-bb76-1446ea7cc170"
      },
      "source": [
        "print('\\nDefault Model Precision :' + str(default_precision))\r\n",
        "print('\\nImproved Model Precision : ' + str(imporived_precision))\r\n",
        "print('--------------------------------------------------------')\r\n",
        "print('\\nDefault Model Recall :' + str(default_recall))\r\n",
        "print('\\nImproved Model Recall : ' + str(imporived_recall))"
      ],
      "execution_count": 34,
      "outputs": [
        {
          "output_type": "stream",
          "text": [
            "\n",
            "Default Model Precision :0.6907681825924034\n",
            "\n",
            "Improved Model Precision : 0.746870040557221\n",
            "--------------------------------------------------------\n",
            "\n",
            "Default Model Recall :0.675\n",
            "\n",
            "Improved Model Recall : 0.71875\n"
          ],
          "name": "stdout"
        }
      ]
    },
    {
      "cell_type": "markdown",
      "metadata": {
        "id": "2U3S7yvvJyX9"
      },
      "source": [
        "## End Of Assignment"
      ]
    }
  ]
}