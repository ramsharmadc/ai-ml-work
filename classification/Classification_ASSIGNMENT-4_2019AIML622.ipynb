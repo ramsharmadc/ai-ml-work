{
 "cells": [
  {
   "cell_type": "code",
   "execution_count": 88,
   "metadata": {
    "collapsed": false
   },
   "outputs": [
   ],
   "source": [
    "## Assignment 4 - SVM Assignment"
   ]
  },
  {
   "cell_type": "code",
   "execution_count": 89,
   "metadata": {
    "collapsed": false
   },
   "outputs": [
   ],
   "source": [
    "## 1. Reading the dataset"
   ]
  },
  {
   "cell_type": "code",
   "execution_count": 90,
   "metadata": {
    "collapsed": false
   },
   "outputs": [
   ],
   "source": [
    "import pandas as pd\n",
    "import numpy as np\n",
    "import seaborn as sns\n",
    "import matplotlib.pyplot as plt\n",
    "from sklearn.linear_model import LogisticRegression"
   ]
  },
  {
   "cell_type": "code",
   "execution_count": 91,
   "metadata": {
    "collapsed": false
   },
   "outputs": [
    {
     "name": "stdout",
     "output_type": "stream",
     "text": [
      "   No. of times pregnant  Plasma glucose concentration  \\\n",
      "0                      6                           148   \n",
      "1                      1                            85   \n",
      "2                      8                           183   \n",
      "3                      1                            89   \n",
      "4                      0                           137   \n",
      "\n",
      "   Diastolic blood pressure (mm Hg)  Triceps skin fold thickness (mm)  \\\n",
      "0                                72                                35   \n",
      "1                                66                                29   \n",
      "2                                64                                 0   \n",
      "3                                66                                23   \n",
      "4                                40                                35   \n",
      "\n",
      "   2-Hour serum insulin (mu U/ml)  \\\n",
      "0                               0   \n",
      "1                               0   \n",
      "2                               0   \n",
      "3                              94   \n",
      "4                             168   \n",
      "\n",
      "   Body mass index (weight in kg/(height in m)^2)  Diabetes pedigree function  \\\n",
      "0                                            33.6                       0.627   \n",
      "1                                            26.6                       0.351   \n",
      "2                                            23.3                       0.672   \n",
      "3                                            28.1                       0.167   \n",
      "4                                            43.1                       2.288   \n",
      "\n",
      "   Age (years)  Class variable (0 or 1)  \n",
      "0           50                        1  \n",
      "1           31                        0  \n",
      "2           32                        1  \n",
      "3           21                        0  \n",
      "4           33                        1  \n"
     ]
    }
   ],
   "source": [
    "diabetesDF = pd.read_csv('Diabetes.csv')\n",
    "print(diabetesDF.head())"
   ]
  },
  {
   "cell_type": "code",
   "execution_count": 92,
   "metadata": {
    "collapsed": false
   },
   "outputs": [
    {
     "data": {
      "text/html": [
       "<div>\n",
       "<style scoped>\n",
       "    .dataframe tbody tr th:only-of-type {\n",
       "        vertical-align: middle;\n",
       "    }\n",
       "\n",
       "    .dataframe tbody tr th {\n",
       "        vertical-align: top;\n",
       "    }\n",
       "\n",
       "    .dataframe thead th {\n",
       "        text-align: right;\n",
       "    }\n",
       "</style>\n",
       "<table border=\"1\" class=\"dataframe\">\n",
       "  <thead>\n",
       "    <tr style=\"text-align: right;\">\n",
       "      <th></th>\n",
       "      <th>No. of times pregnant</th>\n",
       "      <th>Plasma glucose concentration</th>\n",
       "      <th>Diastolic blood pressure (mm Hg)</th>\n",
       "      <th>Triceps skin fold thickness (mm)</th>\n",
       "      <th>2-Hour serum insulin (mu U/ml)</th>\n",
       "      <th>Body mass index (weight in kg/(height in m)^2)</th>\n",
       "      <th>Diabetes pedigree function</th>\n",
       "      <th>Age (years)</th>\n",
       "      <th>Class variable (0 or 1)</th>\n",
       "    </tr>\n",
       "  </thead>\n",
       "  <tbody>\n",
       "    <tr>\n",
       "      <th>count</th>\n",
       "      <td>768.000000</td>\n",
       "      <td>768.000000</td>\n",
       "      <td>768.000000</td>\n",
       "      <td>768.000000</td>\n",
       "      <td>768.000000</td>\n",
       "      <td>768.000000</td>\n",
       "      <td>768.000000</td>\n",
       "      <td>768.000000</td>\n",
       "      <td>768.000000</td>\n",
       "    </tr>\n",
       "    <tr>\n",
       "      <th>mean</th>\n",
       "      <td>3.845052</td>\n",
       "      <td>120.894531</td>\n",
       "      <td>69.105469</td>\n",
       "      <td>20.536458</td>\n",
       "      <td>79.799479</td>\n",
       "      <td>31.992578</td>\n",
       "      <td>0.471876</td>\n",
       "      <td>33.240885</td>\n",
       "      <td>0.348958</td>\n",
       "    </tr>\n",
       "    <tr>\n",
       "      <th>std</th>\n",
       "      <td>3.369578</td>\n",
       "      <td>31.972618</td>\n",
       "      <td>19.355807</td>\n",
       "      <td>15.952218</td>\n",
       "      <td>115.244002</td>\n",
       "      <td>7.884160</td>\n",
       "      <td>0.331329</td>\n",
       "      <td>11.760232</td>\n",
       "      <td>0.476951</td>\n",
       "    </tr>\n",
       "    <tr>\n",
       "      <th>min</th>\n",
       "      <td>0.000000</td>\n",
       "      <td>0.000000</td>\n",
       "      <td>0.000000</td>\n",
       "      <td>0.000000</td>\n",
       "      <td>0.000000</td>\n",
       "      <td>0.000000</td>\n",
       "      <td>0.078000</td>\n",
       "      <td>21.000000</td>\n",
       "      <td>0.000000</td>\n",
       "    </tr>\n",
       "    <tr>\n",
       "      <th>25%</th>\n",
       "      <td>1.000000</td>\n",
       "      <td>99.000000</td>\n",
       "      <td>62.000000</td>\n",
       "      <td>0.000000</td>\n",
       "      <td>0.000000</td>\n",
       "      <td>27.300000</td>\n",
       "      <td>0.243750</td>\n",
       "      <td>24.000000</td>\n",
       "      <td>0.000000</td>\n",
       "    </tr>\n",
       "    <tr>\n",
       "      <th>50%</th>\n",
       "      <td>3.000000</td>\n",
       "      <td>117.000000</td>\n",
       "      <td>72.000000</td>\n",
       "      <td>23.000000</td>\n",
       "      <td>30.500000</td>\n",
       "      <td>32.000000</td>\n",
       "      <td>0.372500</td>\n",
       "      <td>29.000000</td>\n",
       "      <td>0.000000</td>\n",
       "    </tr>\n",
       "    <tr>\n",
       "      <th>75%</th>\n",
       "      <td>6.000000</td>\n",
       "      <td>140.250000</td>\n",
       "      <td>80.000000</td>\n",
       "      <td>32.000000</td>\n",
       "      <td>127.250000</td>\n",
       "      <td>36.600000</td>\n",
       "      <td>0.626250</td>\n",
       "      <td>41.000000</td>\n",
       "      <td>1.000000</td>\n",
       "    </tr>\n",
       "    <tr>\n",
       "      <th>max</th>\n",
       "      <td>17.000000</td>\n",
       "      <td>199.000000</td>\n",
       "      <td>122.000000</td>\n",
       "      <td>99.000000</td>\n",
       "      <td>846.000000</td>\n",
       "      <td>67.100000</td>\n",
       "      <td>2.420000</td>\n",
       "      <td>81.000000</td>\n",
       "      <td>1.000000</td>\n",
       "    </tr>\n",
       "  </tbody>\n",
       "</table>\n",
       "</div>"
      ],
      "text/plain": [
       "       No. of times pregnant  Plasma glucose concentration  \\\n",
       "count             768.000000                    768.000000   \n",
       "mean                3.845052                    120.894531   \n",
       "std                 3.369578                     31.972618   \n",
       "min                 0.000000                      0.000000   \n",
       "25%                 1.000000                     99.000000   \n",
       "50%                 3.000000                    117.000000   \n",
       "75%                 6.000000                    140.250000   \n",
       "max                17.000000                    199.000000   \n",
       "\n",
       "       Diastolic blood pressure (mm Hg)  Triceps skin fold thickness (mm)  \\\n",
       "count                        768.000000                        768.000000   \n",
       "mean                          69.105469                         20.536458   \n",
       "std                           19.355807                         15.952218   \n",
       "min                            0.000000                          0.000000   \n",
       "25%                           62.000000                          0.000000   \n",
       "50%                           72.000000                         23.000000   \n",
       "75%                           80.000000                         32.000000   \n",
       "max                          122.000000                         99.000000   \n",
       "\n",
       "       2-Hour serum insulin (mu U/ml)  \\\n",
       "count                      768.000000   \n",
       "mean                        79.799479   \n",
       "std                        115.244002   \n",
       "min                          0.000000   \n",
       "25%                          0.000000   \n",
       "50%                         30.500000   \n",
       "75%                        127.250000   \n",
       "max                        846.000000   \n",
       "\n",
       "       Body mass index (weight in kg/(height in m)^2)  \\\n",
       "count                                      768.000000   \n",
       "mean                                        31.992578   \n",
       "std                                          7.884160   \n",
       "min                                          0.000000   \n",
       "25%                                         27.300000   \n",
       "50%                                         32.000000   \n",
       "75%                                         36.600000   \n",
       "max                                         67.100000   \n",
       "\n",
       "       Diabetes pedigree function  Age (years)  Class variable (0 or 1)  \n",
       "count                  768.000000   768.000000               768.000000  \n",
       "mean                     0.471876    33.240885                 0.348958  \n",
       "std                      0.331329    11.760232                 0.476951  \n",
       "min                      0.078000    21.000000                 0.000000  \n",
       "25%                      0.243750    24.000000                 0.000000  \n",
       "50%                      0.372500    29.000000                 0.000000  \n",
       "75%                      0.626250    41.000000                 1.000000  \n",
       "max                      2.420000    81.000000                 1.000000  "
      ]
     },
     "execution_count": 92,
     "metadata": {
     },
     "output_type": "execute_result"
    }
   ],
   "source": [
    "diabetesDF.describe()"
   ]
  },
  {
   "cell_type": "code",
   "execution_count": 93,
   "metadata": {
    "collapsed": false
   },
   "outputs": [
   ],
   "source": [
    "## 1.1 Find missing values"
   ]
  },
  {
   "cell_type": "code",
   "execution_count": 94,
   "metadata": {
    "collapsed": false
   },
   "outputs": [
    {
     "name": "stdout",
     "output_type": "stream",
     "text": [
      "<class 'pandas.core.frame.DataFrame'>\n",
      "RangeIndex: 768 entries, 0 to 767\n",
      "Data columns (total 9 columns):\n",
      " #   Column                                          Non-Null Count  Dtype  \n",
      "---  ------                                          --------------  -----  \n",
      " 0   No. of times pregnant                           768 non-null    int64  \n",
      " 1   Plasma glucose concentration                    768 non-null    int64  \n",
      " 2   Diastolic blood pressure (mm Hg)                768 non-null    int64  \n",
      " 3   Triceps skin fold thickness (mm)                768 non-null    int64  \n",
      " 4   2-Hour serum insulin (mu U/ml)                  768 non-null    int64  \n",
      " 5   Body mass index (weight in kg/(height in m)^2)  768 non-null    float64\n",
      " 6   Diabetes pedigree function                      768 non-null    float64\n",
      " 7   Age (years)                                     768 non-null    int64  \n",
      " 8   Class variable (0 or 1)                         768 non-null    int64  \n",
      "dtypes: float64(2), int64(7)\n",
      "memory usage: 54.1 KB\n"
     ]
    }
   ],
   "source": [
    "diabetesDF.info()"
   ]
  },
  {
   "cell_type": "code",
   "execution_count": 95,
   "metadata": {
    "collapsed": false
   },
   "outputs": [
    {
     "data": {
      "text/plain": [
       "No. of times pregnant                             0\n",
       "Plasma glucose concentration                      0\n",
       "Diastolic blood pressure (mm Hg)                  0\n",
       "Triceps skin fold thickness (mm)                  0\n",
       "2-Hour serum insulin (mu U/ml)                    0\n",
       "Body mass index (weight in kg/(height in m)^2)    0\n",
       "Diabetes pedigree function                        0\n",
       "Age (years)                                       0\n",
       "Class variable (0 or 1)                           0\n",
       "dtype: int64"
      ]
     },
     "execution_count": 95,
     "metadata": {
     },
     "output_type": "execute_result"
    }
   ],
   "source": [
    "## finding count of null values\n",
    "\n",
    "diabetesDF.isnull().sum()"
   ]
  },
  {
   "cell_type": "code",
   "execution_count": 96,
   "metadata": {
    "collapsed": false
   },
   "outputs": [
    {
     "data": {
      "text/html": [
       "<div>\n",
       "<style scoped>\n",
       "    .dataframe tbody tr th:only-of-type {\n",
       "        vertical-align: middle;\n",
       "    }\n",
       "\n",
       "    .dataframe tbody tr th {\n",
       "        vertical-align: top;\n",
       "    }\n",
       "\n",
       "    .dataframe thead th {\n",
       "        text-align: right;\n",
       "    }\n",
       "</style>\n",
       "<table border=\"1\" class=\"dataframe\">\n",
       "  <thead>\n",
       "    <tr style=\"text-align: right;\">\n",
       "      <th></th>\n",
       "      <th>No. of times pregnant</th>\n",
       "      <th>Plasma glucose concentration</th>\n",
       "      <th>Diastolic blood pressure (mm Hg)</th>\n",
       "      <th>Triceps skin fold thickness (mm)</th>\n",
       "      <th>2-Hour serum insulin (mu U/ml)</th>\n",
       "      <th>Body mass index (weight in kg/(height in m)^2)</th>\n",
       "      <th>Diabetes pedigree function</th>\n",
       "      <th>Age (years)</th>\n",
       "      <th>Class variable (0 or 1)</th>\n",
       "    </tr>\n",
       "  </thead>\n",
       "  <tbody>\n",
       "    <tr>\n",
       "      <th>0</th>\n",
       "      <td>6</td>\n",
       "      <td>148.0</td>\n",
       "      <td>72.0</td>\n",
       "      <td>35.0</td>\n",
       "      <td>NaN</td>\n",
       "      <td>33.6</td>\n",
       "      <td>0.627</td>\n",
       "      <td>50</td>\n",
       "      <td>1</td>\n",
       "    </tr>\n",
       "    <tr>\n",
       "      <th>1</th>\n",
       "      <td>1</td>\n",
       "      <td>85.0</td>\n",
       "      <td>66.0</td>\n",
       "      <td>29.0</td>\n",
       "      <td>NaN</td>\n",
       "      <td>26.6</td>\n",
       "      <td>0.351</td>\n",
       "      <td>31</td>\n",
       "      <td>0</td>\n",
       "    </tr>\n",
       "    <tr>\n",
       "      <th>2</th>\n",
       "      <td>8</td>\n",
       "      <td>183.0</td>\n",
       "      <td>64.0</td>\n",
       "      <td>NaN</td>\n",
       "      <td>NaN</td>\n",
       "      <td>23.3</td>\n",
       "      <td>0.672</td>\n",
       "      <td>32</td>\n",
       "      <td>1</td>\n",
       "    </tr>\n",
       "    <tr>\n",
       "      <th>3</th>\n",
       "      <td>1</td>\n",
       "      <td>89.0</td>\n",
       "      <td>66.0</td>\n",
       "      <td>23.0</td>\n",
       "      <td>94.0</td>\n",
       "      <td>28.1</td>\n",
       "      <td>0.167</td>\n",
       "      <td>21</td>\n",
       "      <td>0</td>\n",
       "    </tr>\n",
       "    <tr>\n",
       "      <th>4</th>\n",
       "      <td>0</td>\n",
       "      <td>137.0</td>\n",
       "      <td>40.0</td>\n",
       "      <td>35.0</td>\n",
       "      <td>168.0</td>\n",
       "      <td>43.1</td>\n",
       "      <td>2.288</td>\n",
       "      <td>33</td>\n",
       "      <td>1</td>\n",
       "    </tr>\n",
       "    <tr>\n",
       "      <th>5</th>\n",
       "      <td>5</td>\n",
       "      <td>116.0</td>\n",
       "      <td>74.0</td>\n",
       "      <td>NaN</td>\n",
       "      <td>NaN</td>\n",
       "      <td>25.6</td>\n",
       "      <td>0.201</td>\n",
       "      <td>30</td>\n",
       "      <td>0</td>\n",
       "    </tr>\n",
       "    <tr>\n",
       "      <th>6</th>\n",
       "      <td>3</td>\n",
       "      <td>78.0</td>\n",
       "      <td>50.0</td>\n",
       "      <td>32.0</td>\n",
       "      <td>88.0</td>\n",
       "      <td>31.0</td>\n",
       "      <td>0.248</td>\n",
       "      <td>26</td>\n",
       "      <td>1</td>\n",
       "    </tr>\n",
       "    <tr>\n",
       "      <th>7</th>\n",
       "      <td>10</td>\n",
       "      <td>115.0</td>\n",
       "      <td>NaN</td>\n",
       "      <td>NaN</td>\n",
       "      <td>NaN</td>\n",
       "      <td>35.3</td>\n",
       "      <td>0.134</td>\n",
       "      <td>29</td>\n",
       "      <td>0</td>\n",
       "    </tr>\n",
       "  </tbody>\n",
       "</table>\n",
       "</div>"
      ],
      "text/plain": [
       "   No. of times pregnant  Plasma glucose concentration  \\\n",
       "0                      6                         148.0   \n",
       "1                      1                          85.0   \n",
       "2                      8                         183.0   \n",
       "3                      1                          89.0   \n",
       "4                      0                         137.0   \n",
       "5                      5                         116.0   \n",
       "6                      3                          78.0   \n",
       "7                     10                         115.0   \n",
       "\n",
       "   Diastolic blood pressure (mm Hg)  Triceps skin fold thickness (mm)  \\\n",
       "0                              72.0                              35.0   \n",
       "1                              66.0                              29.0   \n",
       "2                              64.0                               NaN   \n",
       "3                              66.0                              23.0   \n",
       "4                              40.0                              35.0   \n",
       "5                              74.0                               NaN   \n",
       "6                              50.0                              32.0   \n",
       "7                               NaN                               NaN   \n",
       "\n",
       "   2-Hour serum insulin (mu U/ml)  \\\n",
       "0                             NaN   \n",
       "1                             NaN   \n",
       "2                             NaN   \n",
       "3                            94.0   \n",
       "4                           168.0   \n",
       "5                             NaN   \n",
       "6                            88.0   \n",
       "7                             NaN   \n",
       "\n",
       "   Body mass index (weight in kg/(height in m)^2)  Diabetes pedigree function  \\\n",
       "0                                            33.6                       0.627   \n",
       "1                                            26.6                       0.351   \n",
       "2                                            23.3                       0.672   \n",
       "3                                            28.1                       0.167   \n",
       "4                                            43.1                       2.288   \n",
       "5                                            25.6                       0.201   \n",
       "6                                            31.0                       0.248   \n",
       "7                                            35.3                       0.134   \n",
       "\n",
       "   Age (years)  Class variable (0 or 1)  \n",
       "0           50                        1  \n",
       "1           31                        0  \n",
       "2           32                        1  \n",
       "3           21                        0  \n",
       "4           33                        1  \n",
       "5           30                        0  \n",
       "6           26                        1  \n",
       "7           29                        0  "
      ]
     },
     "execution_count": 96,
     "metadata": {
     },
     "output_type": "execute_result"
    }
   ],
   "source": [
    "## replacing 0s with NaN values\n",
    "\n",
    "diabetesDF['Plasma glucose concentration'] = diabetesDF['Plasma glucose concentration'].replace(0, np.nan)\n",
    "diabetesDF['Diastolic blood pressure (mm Hg)'] = diabetesDF['Diastolic blood pressure (mm Hg)'].replace(0, np.nan)\n",
    "diabetesDF['Triceps skin fold thickness (mm)'] = diabetesDF['Triceps skin fold thickness (mm)'].replace(0, np.nan)\n",
    "diabetesDF['2-Hour serum insulin (mu U/ml)'] = diabetesDF['2-Hour serum insulin (mu U/ml)'].replace(0, np.nan)\n",
    "diabetesDF['Body mass index (weight in kg/(height in m)^2)'] = diabetesDF['Body mass index (weight in kg/(height in m)^2)'].replace(0, np.nan)\n",
    "diabetesDF['Diabetes pedigree function'] = diabetesDF['Diabetes pedigree function'].replace(0, np.nan)\n",
    "diabetesDF['Age (years)'] = diabetesDF['Age (years)'].replace(0, np.nan)\n",
    "\n",
    "diabetesDF.head(8)"
   ]
  },
  {
   "cell_type": "code",
   "execution_count": 97,
   "metadata": {
    "collapsed": false
   },
   "outputs": [
    {
     "data": {
      "text/plain": [
       "No. of times pregnant                               0\n",
       "Plasma glucose concentration                        5\n",
       "Diastolic blood pressure (mm Hg)                   35\n",
       "Triceps skin fold thickness (mm)                  227\n",
       "2-Hour serum insulin (mu U/ml)                    374\n",
       "Body mass index (weight in kg/(height in m)^2)     11\n",
       "Diabetes pedigree function                          0\n",
       "Age (years)                                         0\n",
       "Class variable (0 or 1)                             0\n",
       "dtype: int64"
      ]
     },
     "execution_count": 97,
     "metadata": {
     },
     "output_type": "execute_result"
    }
   ],
   "source": [
    "## now checking null values again, we will see the count inceased after replacing 0's with null\n",
    "\n",
    "diabetesDF.isnull().sum()"
   ]
  },
  {
   "cell_type": "code",
   "execution_count": 98,
   "metadata": {
    "collapsed": false
   },
   "outputs": [
    {
     "data": {
      "text/html": [
       "<div>\n",
       "<style scoped>\n",
       "    .dataframe tbody tr th:only-of-type {\n",
       "        vertical-align: middle;\n",
       "    }\n",
       "\n",
       "    .dataframe tbody tr th {\n",
       "        vertical-align: top;\n",
       "    }\n",
       "\n",
       "    .dataframe thead th {\n",
       "        text-align: right;\n",
       "    }\n",
       "</style>\n",
       "<table border=\"1\" class=\"dataframe\">\n",
       "  <thead>\n",
       "    <tr style=\"text-align: right;\">\n",
       "      <th></th>\n",
       "      <th>No. of times pregnant</th>\n",
       "      <th>Plasma glucose concentration</th>\n",
       "      <th>Diastolic blood pressure (mm Hg)</th>\n",
       "      <th>Triceps skin fold thickness (mm)</th>\n",
       "      <th>2-Hour serum insulin (mu U/ml)</th>\n",
       "      <th>Body mass index (weight in kg/(height in m)^2)</th>\n",
       "      <th>Diabetes pedigree function</th>\n",
       "      <th>Age (years)</th>\n",
       "      <th>Class variable (0 or 1)</th>\n",
       "    </tr>\n",
       "  </thead>\n",
       "  <tbody>\n",
       "    <tr>\n",
       "      <th>count</th>\n",
       "      <td>768.000000</td>\n",
       "      <td>768.000000</td>\n",
       "      <td>768.000000</td>\n",
       "      <td>768.000000</td>\n",
       "      <td>768.000000</td>\n",
       "      <td>768.000000</td>\n",
       "      <td>768.000000</td>\n",
       "      <td>768.000000</td>\n",
       "      <td>768.000000</td>\n",
       "    </tr>\n",
       "    <tr>\n",
       "      <th>mean</th>\n",
       "      <td>3.845052</td>\n",
       "      <td>121.656250</td>\n",
       "      <td>72.386719</td>\n",
       "      <td>29.108073</td>\n",
       "      <td>140.671875</td>\n",
       "      <td>32.455208</td>\n",
       "      <td>0.471876</td>\n",
       "      <td>33.240885</td>\n",
       "      <td>0.348958</td>\n",
       "    </tr>\n",
       "    <tr>\n",
       "      <th>std</th>\n",
       "      <td>3.369578</td>\n",
       "      <td>30.438286</td>\n",
       "      <td>12.096642</td>\n",
       "      <td>8.791221</td>\n",
       "      <td>86.383060</td>\n",
       "      <td>6.875177</td>\n",
       "      <td>0.331329</td>\n",
       "      <td>11.760232</td>\n",
       "      <td>0.476951</td>\n",
       "    </tr>\n",
       "    <tr>\n",
       "      <th>min</th>\n",
       "      <td>0.000000</td>\n",
       "      <td>44.000000</td>\n",
       "      <td>24.000000</td>\n",
       "      <td>7.000000</td>\n",
       "      <td>14.000000</td>\n",
       "      <td>18.200000</td>\n",
       "      <td>0.078000</td>\n",
       "      <td>21.000000</td>\n",
       "      <td>0.000000</td>\n",
       "    </tr>\n",
       "    <tr>\n",
       "      <th>25%</th>\n",
       "      <td>1.000000</td>\n",
       "      <td>99.750000</td>\n",
       "      <td>64.000000</td>\n",
       "      <td>25.000000</td>\n",
       "      <td>121.500000</td>\n",
       "      <td>27.500000</td>\n",
       "      <td>0.243750</td>\n",
       "      <td>24.000000</td>\n",
       "      <td>0.000000</td>\n",
       "    </tr>\n",
       "    <tr>\n",
       "      <th>50%</th>\n",
       "      <td>3.000000</td>\n",
       "      <td>117.000000</td>\n",
       "      <td>72.000000</td>\n",
       "      <td>29.000000</td>\n",
       "      <td>125.000000</td>\n",
       "      <td>32.300000</td>\n",
       "      <td>0.372500</td>\n",
       "      <td>29.000000</td>\n",
       "      <td>0.000000</td>\n",
       "    </tr>\n",
       "    <tr>\n",
       "      <th>75%</th>\n",
       "      <td>6.000000</td>\n",
       "      <td>140.250000</td>\n",
       "      <td>80.000000</td>\n",
       "      <td>32.000000</td>\n",
       "      <td>127.250000</td>\n",
       "      <td>36.600000</td>\n",
       "      <td>0.626250</td>\n",
       "      <td>41.000000</td>\n",
       "      <td>1.000000</td>\n",
       "    </tr>\n",
       "    <tr>\n",
       "      <th>max</th>\n",
       "      <td>17.000000</td>\n",
       "      <td>199.000000</td>\n",
       "      <td>122.000000</td>\n",
       "      <td>99.000000</td>\n",
       "      <td>846.000000</td>\n",
       "      <td>67.100000</td>\n",
       "      <td>2.420000</td>\n",
       "      <td>81.000000</td>\n",
       "      <td>1.000000</td>\n",
       "    </tr>\n",
       "  </tbody>\n",
       "</table>\n",
       "</div>"
      ],
      "text/plain": [
       "       No. of times pregnant  Plasma glucose concentration  \\\n",
       "count             768.000000                    768.000000   \n",
       "mean                3.845052                    121.656250   \n",
       "std                 3.369578                     30.438286   \n",
       "min                 0.000000                     44.000000   \n",
       "25%                 1.000000                     99.750000   \n",
       "50%                 3.000000                    117.000000   \n",
       "75%                 6.000000                    140.250000   \n",
       "max                17.000000                    199.000000   \n",
       "\n",
       "       Diastolic blood pressure (mm Hg)  Triceps skin fold thickness (mm)  \\\n",
       "count                        768.000000                        768.000000   \n",
       "mean                          72.386719                         29.108073   \n",
       "std                           12.096642                          8.791221   \n",
       "min                           24.000000                          7.000000   \n",
       "25%                           64.000000                         25.000000   \n",
       "50%                           72.000000                         29.000000   \n",
       "75%                           80.000000                         32.000000   \n",
       "max                          122.000000                         99.000000   \n",
       "\n",
       "       2-Hour serum insulin (mu U/ml)  \\\n",
       "count                      768.000000   \n",
       "mean                       140.671875   \n",
       "std                         86.383060   \n",
       "min                         14.000000   \n",
       "25%                        121.500000   \n",
       "50%                        125.000000   \n",
       "75%                        127.250000   \n",
       "max                        846.000000   \n",
       "\n",
       "       Body mass index (weight in kg/(height in m)^2)  \\\n",
       "count                                      768.000000   \n",
       "mean                                        32.455208   \n",
       "std                                          6.875177   \n",
       "min                                         18.200000   \n",
       "25%                                         27.500000   \n",
       "50%                                         32.300000   \n",
       "75%                                         36.600000   \n",
       "max                                         67.100000   \n",
       "\n",
       "       Diabetes pedigree function  Age (years)  Class variable (0 or 1)  \n",
       "count                  768.000000   768.000000               768.000000  \n",
       "mean                     0.471876    33.240885                 0.348958  \n",
       "std                      0.331329    11.760232                 0.476951  \n",
       "min                      0.078000    21.000000                 0.000000  \n",
       "25%                      0.243750    24.000000                 0.000000  \n",
       "50%                      0.372500    29.000000                 0.000000  \n",
       "75%                      0.626250    41.000000                 1.000000  \n",
       "max                      2.420000    81.000000                 1.000000  "
      ]
     },
     "execution_count": 98,
     "metadata": {
     },
     "output_type": "execute_result"
    }
   ],
   "source": [
    "## Filling Null values by median values\n",
    "\n",
    "diabetesDF['Body mass index (weight in kg/(height in m)^2)'].fillna(diabetesDF['Body mass index (weight in kg/(height in m)^2)'].median(), inplace=True)\n",
    "diabetesDF['Plasma glucose concentration'].fillna(diabetesDF['Plasma glucose concentration'].median(), inplace=True)\n",
    "diabetesDF['Diastolic blood pressure (mm Hg)'].fillna(diabetesDF['Diastolic blood pressure (mm Hg)'].median(), inplace=True)\n",
    "diabetesDF['Triceps skin fold thickness (mm)'].fillna(diabetesDF['Triceps skin fold thickness (mm)'].median(), inplace=True)\n",
    "diabetesDF['2-Hour serum insulin (mu U/ml)'].fillna(diabetesDF['2-Hour serum insulin (mu U/ml)'].median(), inplace=True)\n",
    "\n",
    "diabetesDF.describe()"
   ]
  },
  {
   "cell_type": "code",
   "execution_count": 99,
   "metadata": {
    "collapsed": false
   },
   "outputs": [
    {
     "data": {
      "text/html": [
       "<div>\n",
       "<style scoped>\n",
       "    .dataframe tbody tr th:only-of-type {\n",
       "        vertical-align: middle;\n",
       "    }\n",
       "\n",
       "    .dataframe tbody tr th {\n",
       "        vertical-align: top;\n",
       "    }\n",
       "\n",
       "    .dataframe thead th {\n",
       "        text-align: right;\n",
       "    }\n",
       "</style>\n",
       "<table border=\"1\" class=\"dataframe\">\n",
       "  <thead>\n",
       "    <tr style=\"text-align: right;\">\n",
       "      <th></th>\n",
       "      <th>No. of times pregnant</th>\n",
       "      <th>Plasma glucose concentration</th>\n",
       "      <th>Diastolic blood pressure (mm Hg)</th>\n",
       "      <th>Triceps skin fold thickness (mm)</th>\n",
       "      <th>2-Hour serum insulin (mu U/ml)</th>\n",
       "      <th>Body mass index (weight in kg/(height in m)^2)</th>\n",
       "      <th>Diabetes pedigree function</th>\n",
       "      <th>Age (years)</th>\n",
       "      <th>Class variable (0 or 1)</th>\n",
       "    </tr>\n",
       "  </thead>\n",
       "  <tbody>\n",
       "    <tr>\n",
       "      <th>count</th>\n",
       "      <td>768.000000</td>\n",
       "      <td>768.000000</td>\n",
       "      <td>768.000000</td>\n",
       "      <td>768.000000</td>\n",
       "      <td>768.000000</td>\n",
       "      <td>768.000000</td>\n",
       "      <td>768.000000</td>\n",
       "      <td>768.000000</td>\n",
       "      <td>768.000000</td>\n",
       "    </tr>\n",
       "    <tr>\n",
       "      <th>mean</th>\n",
       "      <td>3.845052</td>\n",
       "      <td>121.656250</td>\n",
       "      <td>72.386719</td>\n",
       "      <td>29.108073</td>\n",
       "      <td>140.671875</td>\n",
       "      <td>32.455208</td>\n",
       "      <td>0.471876</td>\n",
       "      <td>33.240885</td>\n",
       "      <td>0.348958</td>\n",
       "    </tr>\n",
       "    <tr>\n",
       "      <th>std</th>\n",
       "      <td>3.369578</td>\n",
       "      <td>30.438286</td>\n",
       "      <td>12.096642</td>\n",
       "      <td>8.791221</td>\n",
       "      <td>86.383060</td>\n",
       "      <td>6.875177</td>\n",
       "      <td>0.331329</td>\n",
       "      <td>11.760232</td>\n",
       "      <td>0.476951</td>\n",
       "    </tr>\n",
       "    <tr>\n",
       "      <th>min</th>\n",
       "      <td>0.000000</td>\n",
       "      <td>44.000000</td>\n",
       "      <td>24.000000</td>\n",
       "      <td>7.000000</td>\n",
       "      <td>14.000000</td>\n",
       "      <td>18.200000</td>\n",
       "      <td>0.078000</td>\n",
       "      <td>21.000000</td>\n",
       "      <td>0.000000</td>\n",
       "    </tr>\n",
       "    <tr>\n",
       "      <th>25%</th>\n",
       "      <td>1.000000</td>\n",
       "      <td>99.750000</td>\n",
       "      <td>64.000000</td>\n",
       "      <td>25.000000</td>\n",
       "      <td>121.500000</td>\n",
       "      <td>27.500000</td>\n",
       "      <td>0.243750</td>\n",
       "      <td>24.000000</td>\n",
       "      <td>0.000000</td>\n",
       "    </tr>\n",
       "    <tr>\n",
       "      <th>50%</th>\n",
       "      <td>3.000000</td>\n",
       "      <td>117.000000</td>\n",
       "      <td>72.000000</td>\n",
       "      <td>29.000000</td>\n",
       "      <td>125.000000</td>\n",
       "      <td>32.300000</td>\n",
       "      <td>0.372500</td>\n",
       "      <td>29.000000</td>\n",
       "      <td>0.000000</td>\n",
       "    </tr>\n",
       "    <tr>\n",
       "      <th>75%</th>\n",
       "      <td>6.000000</td>\n",
       "      <td>140.250000</td>\n",
       "      <td>80.000000</td>\n",
       "      <td>32.000000</td>\n",
       "      <td>127.250000</td>\n",
       "      <td>36.600000</td>\n",
       "      <td>0.626250</td>\n",
       "      <td>41.000000</td>\n",
       "      <td>1.000000</td>\n",
       "    </tr>\n",
       "    <tr>\n",
       "      <th>max</th>\n",
       "      <td>17.000000</td>\n",
       "      <td>199.000000</td>\n",
       "      <td>122.000000</td>\n",
       "      <td>99.000000</td>\n",
       "      <td>846.000000</td>\n",
       "      <td>67.100000</td>\n",
       "      <td>2.420000</td>\n",
       "      <td>81.000000</td>\n",
       "      <td>1.000000</td>\n",
       "    </tr>\n",
       "  </tbody>\n",
       "</table>\n",
       "</div>"
      ],
      "text/plain": [
       "       No. of times pregnant  Plasma glucose concentration  \\\n",
       "count             768.000000                    768.000000   \n",
       "mean                3.845052                    121.656250   \n",
       "std                 3.369578                     30.438286   \n",
       "min                 0.000000                     44.000000   \n",
       "25%                 1.000000                     99.750000   \n",
       "50%                 3.000000                    117.000000   \n",
       "75%                 6.000000                    140.250000   \n",
       "max                17.000000                    199.000000   \n",
       "\n",
       "       Diastolic blood pressure (mm Hg)  Triceps skin fold thickness (mm)  \\\n",
       "count                        768.000000                        768.000000   \n",
       "mean                          72.386719                         29.108073   \n",
       "std                           12.096642                          8.791221   \n",
       "min                           24.000000                          7.000000   \n",
       "25%                           64.000000                         25.000000   \n",
       "50%                           72.000000                         29.000000   \n",
       "75%                           80.000000                         32.000000   \n",
       "max                          122.000000                         99.000000   \n",
       "\n",
       "       2-Hour serum insulin (mu U/ml)  \\\n",
       "count                      768.000000   \n",
       "mean                       140.671875   \n",
       "std                         86.383060   \n",
       "min                         14.000000   \n",
       "25%                        121.500000   \n",
       "50%                        125.000000   \n",
       "75%                        127.250000   \n",
       "max                        846.000000   \n",
       "\n",
       "       Body mass index (weight in kg/(height in m)^2)  \\\n",
       "count                                      768.000000   \n",
       "mean                                        32.455208   \n",
       "std                                          6.875177   \n",
       "min                                         18.200000   \n",
       "25%                                         27.500000   \n",
       "50%                                         32.300000   \n",
       "75%                                         36.600000   \n",
       "max                                         67.100000   \n",
       "\n",
       "       Diabetes pedigree function  Age (years)  Class variable (0 or 1)  \n",
       "count                  768.000000   768.000000               768.000000  \n",
       "mean                     0.471876    33.240885                 0.348958  \n",
       "std                      0.331329    11.760232                 0.476951  \n",
       "min                      0.078000    21.000000                 0.000000  \n",
       "25%                      0.243750    24.000000                 0.000000  \n",
       "50%                      0.372500    29.000000                 0.000000  \n",
       "75%                      0.626250    41.000000                 1.000000  \n",
       "max                      2.420000    81.000000                 1.000000  "
      ]
     },
     "execution_count": 99,
     "metadata": {
     },
     "output_type": "execute_result"
    }
   ],
   "source": [
    "## 1.2 - Differences between mean and median in the features\n",
    "\n",
    "diabetesDF.describe()"
   ]
  },
  {
   "cell_type": "code",
   "execution_count": 100,
   "metadata": {
    "collapsed": false
   },
   "outputs": [
    {
     "data": {
      "text/plain": [
       "No. of times pregnant                               3.845052\n",
       "Plasma glucose concentration                      121.656250\n",
       "Diastolic blood pressure (mm Hg)                   72.386719\n",
       "Triceps skin fold thickness (mm)                   29.108073\n",
       "2-Hour serum insulin (mu U/ml)                    140.671875\n",
       "Body mass index (weight in kg/(height in m)^2)     32.455208\n",
       "Diabetes pedigree function                          0.471876\n",
       "Age (years)                                        33.240885\n",
       "Class variable (0 or 1)                             0.348958\n",
       "dtype: float64"
      ]
     },
     "execution_count": 100,
     "metadata": {
     },
     "output_type": "execute_result"
    }
   ],
   "source": [
    "## Mean of the features\n",
    "## Mean represents the arithmetic average of the data. \n",
    "## The line of code below prints the mean of the numerical variables in the data.\n",
    "\n",
    "diabetesDF.mean()"
   ]
  },
  {
   "cell_type": "code",
   "execution_count": 101,
   "metadata": {
    "collapsed": false
   },
   "outputs": [
    {
     "data": {
      "text/plain": [
       "No. of times pregnant                               3.0000\n",
       "Plasma glucose concentration                      117.0000\n",
       "Diastolic blood pressure (mm Hg)                   72.0000\n",
       "Triceps skin fold thickness (mm)                   29.0000\n",
       "2-Hour serum insulin (mu U/ml)                    125.0000\n",
       "Body mass index (weight in kg/(height in m)^2)     32.3000\n",
       "Diabetes pedigree function                          0.3725\n",
       "Age (years)                                        29.0000\n",
       "Class variable (0 or 1)                             0.0000\n",
       "dtype: float64"
      ]
     },
     "execution_count": 101,
     "metadata": {
     },
     "output_type": "execute_result"
    }
   ],
   "source": [
    "## median of features\n",
    "## median represents the 50th percentile, or the middle value of the data, that separates the distribution into two halves. \n",
    "## The line of code below prints the median of the numerical variables in the data.\n",
    "\n",
    "diabetesDF.median()"
   ]
  },
  {
   "cell_type": "code",
   "execution_count": 102,
   "metadata": {
    "collapsed": false
   },
   "outputs": [
    {
     "data": {
      "text/plain": [
       "No. of times pregnant                              0.845052\n",
       "Plasma glucose concentration                       4.656250\n",
       "Diastolic blood pressure (mm Hg)                   0.386719\n",
       "Triceps skin fold thickness (mm)                   0.108073\n",
       "2-Hour serum insulin (mu U/ml)                    15.671875\n",
       "Body mass index (weight in kg/(height in m)^2)     0.155208\n",
       "Diabetes pedigree function                         0.099376\n",
       "Age (years)                                        4.240885\n",
       "Class variable (0 or 1)                            0.348958\n",
       "dtype: float64"
      ]
     },
     "execution_count": 102,
     "metadata": {
     },
     "output_type": "execute_result"
    }
   ],
   "source": [
    "## calculate how much the mean and median differs for each feature\n",
    "## we can see that mean is always greater than median for every feature\n",
    "\n",
    "diabetesDF.mean() - diabetesDF.median()"
   ]
  },
  {
   "cell_type": "code",
   "execution_count": 103,
   "metadata": {
    "collapsed": false
   },
   "outputs": [
   ],
   "source": [
    "## 2. Visualize the feature relationships"
   ]
  },
  {
   "cell_type": "code",
   "execution_count": 0,
   "metadata": {
    "collapsed": false
   },
   "outputs": [
   ],
   "source": [
    "## 2.1 - Pair-Wise plot\n",
    "\n",
    "import seaborn as sns; sns.set(style=\"ticks\", color_codes=True)\n",
    "\n",
    "g = sns.pairplot(diabetesDF)"
   ]
  },
  {
   "cell_type": "code",
   "execution_count": 0,
   "metadata": {
    "collapsed": false
   },
   "outputs": [
   ],
   "source": [
    "## 2.2 - Heat map\n",
    "\n",
    "ax = sns.heatmap(diabetesDF)"
   ]
  },
  {
   "cell_type": "code",
   "execution_count": 0,
   "metadata": {
    "collapsed": false
   },
   "outputs": [
   ],
   "source": [
    "## Finding Correlation between features and plotting heat map\n",
    "\n",
    "corr = diabetesDF.corr()\n",
    "print(corr)\n",
    "sns.heatmap(corr, xticklabels=corr.columns, yticklabels=corr.columns)"
   ]
  },
  {
   "cell_type": "code",
   "execution_count": 0,
   "metadata": {
    "collapsed": false
   },
   "outputs": [
   ],
   "source": [
    "## 3. Split the Features"
   ]
  },
  {
   "cell_type": "code",
   "execution_count": 0,
   "metadata": {
    "collapsed": false
   },
   "outputs": [
   ],
   "source": [
    "## 3.1 - Divide into features and target"
   ]
  },
  {
   "cell_type": "code",
   "execution_count": 0,
   "metadata": {
    "collapsed": false
   },
   "outputs": [
   ],
   "source": [
    "X_features = pd.DataFrame(data = diabetesDF, columns = [\"No. of times pregnant\",\n",
    "                                                        \"Plasma glucose concentration\",\n",
    "                                                        \"Diastolic blood pressure (mm Hg)\",\n",
    "                                                        \"Body mass index (weight in kg/(height in m)^2)\",\n",
    "                                                        \"Triceps skin fold thickness (mm)\",\n",
    "                                                        \"2-Hour serum insulin (mu U/ml)\",\n",
    "                                                        \"Diabetes pedigree function\",\n",
    "                                                        \"Age (years)\"])\n",
    "X_features.head()\n"
   ]
  },
  {
   "cell_type": "code",
   "execution_count": 0,
   "metadata": {
    "collapsed": false
   },
   "outputs": [
   ],
   "source": [
    "Y = diabetesDF[\"Class variable (0 or 1)\"]\n",
    "Y.head()"
   ]
  },
  {
   "cell_type": "code",
   "execution_count": 0,
   "metadata": {
    "collapsed": false
   },
   "outputs": [
   ],
   "source": [
    "## 3.2 - Dividing the training and test data"
   ]
  },
  {
   "cell_type": "code",
   "execution_count": 0,
   "metadata": {
    "collapsed": false
   },
   "outputs": [
   ],
   "source": [
    "## Scaling the features\n",
    "\n",
    "from sklearn.preprocessing import StandardScaler\n",
    "\n",
    "scaler = StandardScaler()\n",
    "X_features = scaler.fit_transform(X_features)\n",
    "X_features"
   ]
  },
  {
   "cell_type": "code",
   "execution_count": 0,
   "metadata": {
    "collapsed": false
   },
   "outputs": [
   ],
   "source": [
    "## 3.2 - Split Data: Training & Testing\n",
    "## Ensure that data is divided with more or less equal ration of class 1 and 0 in both test and train set\n",
    "\n",
    "\n",
    "from sklearn.model_selection import train_test_split\n",
    "X_train, X_test, Y_train, Y_test = train_test_split(X_features, Y, test_size=0.25, random_state=10, stratify=Y)\n",
    "\n",
    "print(\"X_train - \",X_train)\n",
    "print(\"X_test - \",X_test)\n",
    "print(\"Y_train - \",Y_train)\n",
    "print(\"Y_test - \",Y_test)"
   ]
  },
  {
   "cell_type": "code",
   "execution_count": 0,
   "metadata": {
    "collapsed": false
   },
   "outputs": [
   ],
   "source": [
    "## 4 - Implement the SVM Model"
   ]
  },
  {
   "cell_type": "code",
   "execution_count": 0,
   "metadata": {
    "collapsed": false
   },
   "outputs": [
   ],
   "source": [
    "## 4.1 - Scaling of the features is done in Step 3"
   ]
  },
  {
   "cell_type": "code",
   "execution_count": 0,
   "metadata": {
    "collapsed": false
   },
   "outputs": [
   ],
   "source": [
    "## 4.2 -Training the SVM model\n",
    "\n",
    "from sklearn.model_selection import KFold\n",
    "from sklearn.model_selection import cross_val_score\n",
    "from sklearn.svm import SVC\n",
    "\n",
    "models = []\n",
    "\n",
    "models.append((\"Support Vector Machine-linear:\",SVC(kernel=\"linear\",C=0.2)))\n",
    "models.append((\"Support Vector Machine-rbf:\",SVC(kernel=\"rbf\")))\n",
    "\n",
    "results = []\n",
    "names = []\n",
    "\n",
    "for name, model in models:\n",
    "    kfold = KFold(n_splits=5, random_state=3)\n",
    "    cv_result = cross_val_score(model, X_train, Y_train, cv = kfold, scoring = \"accuracy\")\n",
    "    names.append(name)\n",
    "    results.append(cv_result)"
   ]
  },
  {
   "cell_type": "code",
   "execution_count": 0,
   "metadata": {
    "collapsed": false
   },
   "outputs": [
   ],
   "source": [
    "## 4.3 - Prediction for SVM mode\n",
    "\n",
    "print(\"SVM Model results -\")\n",
    "\n",
    "for i in range(len(names)):\n",
    "    print(names[i], results[i].mean()*100)\n"
   ]
  },
  {
   "cell_type": "code",
   "execution_count": 0,
   "metadata": {
    "collapsed": false
   },
   "outputs": [
   ],
   "source": [
    "## 5 - Measure Accuracy"
   ]
  },
  {
   "cell_type": "code",
   "execution_count": 0,
   "metadata": {
    "collapsed": false
   },
   "outputs": [
   ],
   "source": [
    "import numpy as np\n",
    "import matplotlib.pyplot as plt\n",
    "\n",
    "from sklearn import svm, datasets\n",
    "from sklearn.model_selection import train_test_split\n",
    "from sklearn.metrics import plot_confusion_matrix\n",
    "\n",
    "\n",
    "# Run classifier, using a model that is too regularized (C too low) to see\n",
    "# the impact on the results\n",
    "classifier = svm.SVC(kernel='linear', C=0.01).fit(X_train, Y_train)\n",
    "np.set_printoptions(precision=2)\n"
   ]
  },
  {
   "cell_type": "code",
   "execution_count": 0,
   "metadata": {
    "collapsed": false
   },
   "outputs": [
   ],
   "source": [
    "## 5.1 - Confusion Matrix\n",
    "\n",
    "from sklearn.metrics import confusion_matrix\n",
    "\n",
    "print(\"Confustion Matrix \\n\")\n",
    "\n",
    "y_predict = classifier.predict(X_test)\n",
    "\n",
    "print(confusion_matrix(Y_test, y_predict))"
   ]
  },
  {
   "cell_type": "code",
   "execution_count": 0,
   "metadata": {
    "collapsed": false
   },
   "outputs": [
   ],
   "source": [
    "## 5.2 - Classification Report\n",
    "\n",
    "from sklearn.metrics import classification_report\n",
    "\n",
    "print(\"Classification Report \\n\")\n",
    "\n",
    "y_predict = classifier.predict(X_test)\n",
    "\n",
    "print(classification_report(Y_test, y_predict))"
   ]
  },
  {
   "cell_type": "code",
   "execution_count": 0,
   "metadata": {
    "collapsed": false
   },
   "outputs": [
   ],
   "source": [
    "## 5.3 - Cross Tab with True and Predictable Labels\n",
    "\n",
    "confusion_matrix = pd.crosstab(Y_test, y_predict, rownames=['Actual'], colnames=['Predicted'])\n",
    "print (confusion_matrix)"
   ]
  },
  {
   "cell_type": "code",
   "execution_count": 0,
   "metadata": {
    "collapsed": false
   },
   "outputs": [
   ],
   "source": [
    "## plotting the above results using heatmap\n",
    "\n",
    "import seaborn as sn\n",
    "import matplotlib.pyplot as plt\n",
    "\n",
    "sn.heatmap(confusion_matrix, annot=True)\n",
    "plt.show()"
   ]
  },
  {
   "cell_type": "code",
   "execution_count": 0,
   "metadata": {
    "collapsed": false
   },
   "outputs": [
   ],
   "source": [
   ]
  },
  {
   "cell_type": "code",
   "execution_count": 0,
   "metadata": {
    "collapsed": false
   },
   "outputs": [
   ],
   "source": [
   ]
  }
 ],
 "metadata": {
  "kernelspec": {
   "display_name": "Python 3 (system-wide)",
   "language": "python",
   "metadata": {
    "cocalc": {
     "description": "Python 3 programming language",
     "priority": 100,
     "url": "https://www.python.org/"
    }
   },
   "name": "python3"
  },
  "language_info": {
   "codemirror_mode": {
    "name": "ipython",
    "version": 3
   },
   "file_extension": ".py",
   "mimetype": "text/x-python",
   "name": "python",
   "nbconvert_exporter": "python",
   "pygments_lexer": "ipython3",
   "version": "3.6.9"
  }
 },
 "nbformat": 4,
 "nbformat_minor": 4
}