{
 "cells": [
  {
   "cell_type": "code",
   "execution_count": 1,
   "metadata": {},
   "outputs": [],
   "source": [
    "import numpy as np \n",
    "import pandas as pd # data processing\n",
    "import matplotlib.pyplot as plt \n",
    "\n",
    "from sklearn.cluster import KMeans\n"
   ]
  },
  {
   "cell_type": "code",
   "execution_count": 2,
   "metadata": {},
   "outputs": [
    {
     "data": {
      "text/html": [
       "<div>\n",
       "<style scoped>\n",
       "    .dataframe tbody tr th:only-of-type {\n",
       "        vertical-align: middle;\n",
       "    }\n",
       "\n",
       "    .dataframe tbody tr th {\n",
       "        vertical-align: top;\n",
       "    }\n",
       "\n",
       "    .dataframe thead th {\n",
       "        text-align: right;\n",
       "    }\n",
       "</style>\n",
       "<table border=\"1\" class=\"dataframe\">\n",
       "  <thead>\n",
       "    <tr style=\"text-align: right;\">\n",
       "      <th></th>\n",
       "      <th>CustomerID</th>\n",
       "      <th>Gender</th>\n",
       "      <th>Age</th>\n",
       "      <th>Spending Score (1-100)</th>\n",
       "    </tr>\n",
       "  </thead>\n",
       "  <tbody>\n",
       "    <tr>\n",
       "      <th>0</th>\n",
       "      <td>1</td>\n",
       "      <td>Male</td>\n",
       "      <td>19</td>\n",
       "      <td>39</td>\n",
       "    </tr>\n",
       "    <tr>\n",
       "      <th>1</th>\n",
       "      <td>2</td>\n",
       "      <td>Male</td>\n",
       "      <td>21</td>\n",
       "      <td>81</td>\n",
       "    </tr>\n",
       "    <tr>\n",
       "      <th>2</th>\n",
       "      <td>3</td>\n",
       "      <td>Female</td>\n",
       "      <td>20</td>\n",
       "      <td>6</td>\n",
       "    </tr>\n",
       "    <tr>\n",
       "      <th>3</th>\n",
       "      <td>4</td>\n",
       "      <td>Female</td>\n",
       "      <td>23</td>\n",
       "      <td>77</td>\n",
       "    </tr>\n",
       "    <tr>\n",
       "      <th>4</th>\n",
       "      <td>5</td>\n",
       "      <td>Female</td>\n",
       "      <td>31</td>\n",
       "      <td>40</td>\n",
       "    </tr>\n",
       "  </tbody>\n",
       "</table>\n",
       "</div>"
      ],
      "text/plain": [
       "   CustomerID  Gender  Age  Spending Score (1-100)\n",
       "0           1    Male   19                      39\n",
       "1           2    Male   21                      81\n",
       "2           3  Female   20                       6\n",
       "3           4  Female   23                      77\n",
       "4           5  Female   31                      40"
      ]
     },
     "execution_count": 2,
     "metadata": {},
     "output_type": "execute_result"
    }
   ],
   "source": [
    "df = pd.read_csv('C:/Users/bits-wilp/OneDrive - Lupa Systems/Swarna/Unsupervised learning/Datasets/Mall_Customers.csv')\n",
    "df.head()"
   ]
  },
  {
   "cell_type": "code",
   "execution_count": 3,
   "metadata": {},
   "outputs": [
    {
     "data": {
      "text/plain": [
       "(200, 4)"
      ]
     },
     "execution_count": 3,
     "metadata": {},
     "output_type": "execute_result"
    }
   ],
   "source": [
    "df.shape"
   ]
  },
  {
   "cell_type": "code",
   "execution_count": 4,
   "metadata": {},
   "outputs": [
    {
     "data": {
      "text/html": [
       "<div>\n",
       "<style scoped>\n",
       "    .dataframe tbody tr th:only-of-type {\n",
       "        vertical-align: middle;\n",
       "    }\n",
       "\n",
       "    .dataframe tbody tr th {\n",
       "        vertical-align: top;\n",
       "    }\n",
       "\n",
       "    .dataframe thead th {\n",
       "        text-align: right;\n",
       "    }\n",
       "</style>\n",
       "<table border=\"1\" class=\"dataframe\">\n",
       "  <thead>\n",
       "    <tr style=\"text-align: right;\">\n",
       "      <th></th>\n",
       "      <th>CustomerID</th>\n",
       "      <th>Age</th>\n",
       "      <th>Spending Score (1-100)</th>\n",
       "    </tr>\n",
       "  </thead>\n",
       "  <tbody>\n",
       "    <tr>\n",
       "      <th>count</th>\n",
       "      <td>200.000000</td>\n",
       "      <td>200.000000</td>\n",
       "      <td>200.000000</td>\n",
       "    </tr>\n",
       "    <tr>\n",
       "      <th>mean</th>\n",
       "      <td>100.500000</td>\n",
       "      <td>38.850000</td>\n",
       "      <td>50.200000</td>\n",
       "    </tr>\n",
       "    <tr>\n",
       "      <th>std</th>\n",
       "      <td>57.879185</td>\n",
       "      <td>13.969007</td>\n",
       "      <td>25.823522</td>\n",
       "    </tr>\n",
       "    <tr>\n",
       "      <th>min</th>\n",
       "      <td>1.000000</td>\n",
       "      <td>18.000000</td>\n",
       "      <td>1.000000</td>\n",
       "    </tr>\n",
       "    <tr>\n",
       "      <th>25%</th>\n",
       "      <td>50.750000</td>\n",
       "      <td>28.750000</td>\n",
       "      <td>34.750000</td>\n",
       "    </tr>\n",
       "    <tr>\n",
       "      <th>50%</th>\n",
       "      <td>100.500000</td>\n",
       "      <td>36.000000</td>\n",
       "      <td>50.000000</td>\n",
       "    </tr>\n",
       "    <tr>\n",
       "      <th>75%</th>\n",
       "      <td>150.250000</td>\n",
       "      <td>49.000000</td>\n",
       "      <td>73.000000</td>\n",
       "    </tr>\n",
       "    <tr>\n",
       "      <th>max</th>\n",
       "      <td>200.000000</td>\n",
       "      <td>70.000000</td>\n",
       "      <td>99.000000</td>\n",
       "    </tr>\n",
       "  </tbody>\n",
       "</table>\n",
       "</div>"
      ],
      "text/plain": [
       "       CustomerID         Age  Spending Score (1-100)\n",
       "count  200.000000  200.000000              200.000000\n",
       "mean   100.500000   38.850000               50.200000\n",
       "std     57.879185   13.969007               25.823522\n",
       "min      1.000000   18.000000                1.000000\n",
       "25%     50.750000   28.750000               34.750000\n",
       "50%    100.500000   36.000000               50.000000\n",
       "75%    150.250000   49.000000               73.000000\n",
       "max    200.000000   70.000000               99.000000"
      ]
     },
     "execution_count": 4,
     "metadata": {},
     "output_type": "execute_result"
    }
   ],
   "source": [
    "df.describe()"
   ]
  },
  {
   "cell_type": "code",
   "execution_count": 5,
   "metadata": {},
   "outputs": [
    {
     "data": {
      "text/plain": [
       "CustomerID                 int64\n",
       "Gender                    object\n",
       "Age                        int64\n",
       "Spending Score (1-100)     int64\n",
       "dtype: object"
      ]
     },
     "execution_count": 5,
     "metadata": {},
     "output_type": "execute_result"
    }
   ],
   "source": [
    "df.dtypes"
   ]
  },
  {
   "cell_type": "code",
   "execution_count": 6,
   "metadata": {},
   "outputs": [
    {
     "data": {
      "text/plain": [
       "CustomerID                0\n",
       "Gender                    0\n",
       "Age                       0\n",
       "Spending Score (1-100)    0\n",
       "dtype: int64"
      ]
     },
     "execution_count": 6,
     "metadata": {},
     "output_type": "execute_result"
    }
   ],
   "source": [
    "df.isnull().sum()"
   ]
  },
  {
   "cell_type": "code",
   "execution_count": 7,
   "metadata": {},
   "outputs": [
    {
     "data": {
      "text/plain": [
       "Text(0.5, 1.0, 'Visualisation of Data')"
      ]
     },
     "execution_count": 7,
     "metadata": {},
     "output_type": "execute_result"
    },
    {
     "data": {
      "image/png": "[encoded data removed]",
      "text/plain": [
       "<Figure size 432x288 with 1 Axes>"
      ]
     },
     "metadata": {
      "needs_background": "light"
     },
     "output_type": "display_data"
    }
   ],
   "source": [
    "#getting the values and plotting it\n",
    "f1 = df['Age'].values\n",
    "f2 = df['Spending Score (1-100)'].values\n",
    "plt.scatter(f1,f2,c='red',s=5)\n",
    "plt.title('Visualisation of Data')\n"
   ]
  },
  {
   "cell_type": "markdown",
   "metadata": {},
   "source": [
    "<b> Normalise the Dataset </b>"
   ]
  },
  {
   "cell_type": "code",
   "execution_count": 8,
   "metadata": {},
   "outputs": [],
   "source": [
    "X = np.array(list(zip(f1,f2)))"
   ]
  },
  {
   "cell_type": "code",
   "execution_count": 9,
   "metadata": {},
   "outputs": [],
   "source": [
    "from sklearn.preprocessing import StandardScaler"
   ]
  },
  {
   "cell_type": "code",
   "execution_count": 10,
   "metadata": {},
   "outputs": [
    {
     "data": {
      "text/plain": [
       "array([[-1.42456879, -0.43480148],\n",
       "       [-1.28103541,  1.19570407],\n",
       "       [-1.3528021 , -1.71591298],\n",
       "       [-1.13750203,  1.04041783],\n",
       "       [-0.56336851, -0.39597992],\n",
       "       [-1.20926872,  1.00159627],\n",
       "       [-0.27630176, -1.71591298],\n",
       "       [-1.13750203,  1.70038436],\n",
       "       [ 1.80493225, -1.83237767],\n",
       "       [-0.6351352 ,  0.84631002],\n",
       "       [ 2.02023231, -1.4053405 ],\n",
       "       [-0.27630176,  1.89449216],\n",
       "       [ 1.37433211, -1.36651894],\n",
       "       [-1.06573534,  1.04041783],\n",
       "       [-0.13276838, -1.44416206],\n",
       "       [-1.20926872,  1.11806095],\n",
       "       [-0.27630176, -0.59008772],\n",
       "       [-1.3528021 ,  0.61338066],\n",
       "       [ 0.94373197, -0.82301709],\n",
       "       [-0.27630176,  1.8556706 ],\n",
       "       [-0.27630176, -0.59008772],\n",
       "       [-0.99396865,  0.88513158],\n",
       "       [ 0.51313183, -1.75473454],\n",
       "       [-0.56336851,  0.88513158],\n",
       "       [ 1.08726535, -1.4053405 ],\n",
       "       [-0.70690189,  1.23452563],\n",
       "       [ 0.44136514, -0.7065524 ],\n",
       "       [-0.27630176,  0.41927286],\n",
       "       [ 0.08253169, -0.74537397],\n",
       "       [-1.13750203,  1.42863343],\n",
       "       [ 1.51786549, -1.7935561 ],\n",
       "       [-1.28103541,  0.88513158],\n",
       "       [ 1.01549866, -1.7935561 ],\n",
       "       [-1.49633548,  1.62274124],\n",
       "       [ 0.7284319 , -1.4053405 ],\n",
       "       [-1.28103541,  1.19570407],\n",
       "       [ 0.22606507, -1.28887582],\n",
       "       [-0.6351352 ,  0.88513158],\n",
       "       [-0.20453507, -0.93948177],\n",
       "       [-1.3528021 ,  0.96277471],\n",
       "       [ 1.87669894, -0.59008772],\n",
       "       [-1.06573534,  1.62274124],\n",
       "       [ 0.65666521, -0.55126616],\n",
       "       [-0.56336851,  0.41927286],\n",
       "       [ 0.7284319 , -0.86183865],\n",
       "       [-1.06573534,  0.5745591 ],\n",
       "       [ 0.80019859,  0.18634349],\n",
       "       [-0.85043527, -0.12422899],\n",
       "       [-0.70690189, -0.3183368 ],\n",
       "       [-0.56336851, -0.3183368 ],\n",
       "       [ 0.7284319 ,  0.06987881],\n",
       "       [-0.41983513,  0.38045129],\n",
       "       [-0.56336851,  0.14752193],\n",
       "       [ 1.4460988 ,  0.38045129],\n",
       "       [ 0.80019859, -0.20187212],\n",
       "       [ 0.58489852, -0.35715836],\n",
       "       [ 0.87196528, -0.00776431],\n",
       "       [ 2.16376569, -0.16305055],\n",
       "       [-0.85043527,  0.03105725],\n",
       "       [ 1.01549866, -0.16305055],\n",
       "       [ 2.23553238,  0.22516505],\n",
       "       [-1.42456879,  0.18634349],\n",
       "       [ 2.02023231,  0.06987881],\n",
       "       [ 1.08726535,  0.34162973],\n",
       "       [ 1.73316556,  0.03105725],\n",
       "       [-1.49633548,  0.34162973],\n",
       "       [ 0.29783176, -0.00776431],\n",
       "       [ 2.091999  , -0.08540743],\n",
       "       [-1.42456879,  0.34162973],\n",
       "       [-0.49160182, -0.12422899],\n",
       "       [ 2.23553238,  0.18634349],\n",
       "       [ 0.58489852, -0.3183368 ],\n",
       "       [ 1.51786549, -0.04658587],\n",
       "       [ 1.51786549,  0.22516505],\n",
       "       [ 1.4460988 , -0.12422899],\n",
       "       [-0.92220196,  0.14752193],\n",
       "       [ 0.44136514,  0.10870037],\n",
       "       [ 0.08253169, -0.08540743],\n",
       "       [-1.13750203,  0.06987881],\n",
       "       [ 0.7284319 , -0.3183368 ],\n",
       "       [ 1.30256542,  0.03105725],\n",
       "       [-0.06100169,  0.18634349],\n",
       "       [ 2.02023231, -0.35715836],\n",
       "       [ 0.51313183, -0.24069368],\n",
       "       [-1.28103541,  0.26398661],\n",
       "       [ 0.65666521, -0.16305055],\n",
       "       [ 1.15903204,  0.30280817],\n",
       "       [-1.20926872,  0.18634349],\n",
       "       [-0.34806844,  0.38045129],\n",
       "       [ 0.80019859, -0.16305055],\n",
       "       [ 2.091999  ,  0.18634349],\n",
       "       [-1.49633548, -0.35715836],\n",
       "       [ 0.65666521, -0.04658587],\n",
       "       [ 0.08253169, -0.39597992],\n",
       "       [-0.49160182, -0.3183368 ],\n",
       "       [-1.06573534,  0.06987881],\n",
       "       [ 0.58489852, -0.12422899],\n",
       "       [-0.85043527, -0.00776431],\n",
       "       [ 0.65666521, -0.3183368 ],\n",
       "       [-1.3528021 , -0.04658587],\n",
       "       [-1.13750203, -0.35715836],\n",
       "       [ 0.7284319 , -0.08540743],\n",
       "       [ 2.02023231,  0.34162973],\n",
       "       [-0.92220196,  0.18634349],\n",
       "       [ 0.7284319 ,  0.22516505],\n",
       "       [-1.28103541, -0.3183368 ],\n",
       "       [ 1.94846562, -0.00776431],\n",
       "       [ 1.08726535, -0.16305055],\n",
       "       [ 2.091999  , -0.27951524],\n",
       "       [ 1.94846562, -0.08540743],\n",
       "       [ 1.87669894,  0.06987881],\n",
       "       [-1.42456879,  0.14752193],\n",
       "       [-0.06100169, -0.3183368 ],\n",
       "       [-1.42456879, -0.16305055],\n",
       "       [-1.49633548, -0.08540743],\n",
       "       [-1.42456879, -0.00776431],\n",
       "       [ 1.73316556, -0.27951524],\n",
       "       [ 0.7284319 ,  0.34162973],\n",
       "       [ 0.87196528, -0.27951524],\n",
       "       [ 0.80019859,  0.26398661],\n",
       "       [-0.85043527,  0.22516505],\n",
       "       [-0.06100169, -0.39597992],\n",
       "       [ 0.08253169,  0.30280817],\n",
       "       [ 0.010765  ,  1.58391968],\n",
       "       [-1.13750203, -0.82301709],\n",
       "       [-0.56336851,  1.04041783],\n",
       "       [ 0.29783176, -0.59008772],\n",
       "       [ 0.08253169,  1.73920592],\n",
       "       [ 1.4460988 , -1.52180518],\n",
       "       [-0.06100169,  0.96277471],\n",
       "       [ 0.58489852, -1.5994483 ],\n",
       "       [ 0.010765  ,  0.96277471],\n",
       "       [-0.99396865, -0.62890928],\n",
       "       [-0.56336851,  0.80748846],\n",
       "       [-1.3528021 , -1.75473454],\n",
       "       [-0.70690189,  1.46745499],\n",
       "       [ 0.36959845, -1.67709142],\n",
       "       [-0.49160182,  0.88513158],\n",
       "       [-1.42456879, -1.56062674],\n",
       "       [-0.27630176,  0.84631002],\n",
       "       [ 1.30256542, -1.75473454],\n",
       "       [-0.49160182,  1.6615628 ],\n",
       "       [-0.77866858, -0.39597992],\n",
       "       [-0.49160182,  1.42863343],\n",
       "       [-0.99396865, -1.48298362],\n",
       "       [-0.77866858,  1.81684904],\n",
       "       [ 0.65666521, -0.55126616],\n",
       "       [-0.49160182,  0.92395314],\n",
       "       [-0.34806844, -1.09476801],\n",
       "       [-0.34806844,  1.54509812],\n",
       "       [ 0.29783176, -1.28887582],\n",
       "       [ 0.010765  ,  1.46745499],\n",
       "       [ 0.36959845, -1.17241113],\n",
       "       [-0.06100169,  1.00159627],\n",
       "       [ 0.58489852, -1.32769738],\n",
       "       [-0.85043527,  1.50627656],\n",
       "       [-0.13276838, -1.91002079],\n",
       "       [-0.6351352 ,  1.07923939],\n",
       "       [-0.34806844, -1.91002079],\n",
       "       [-0.6351352 ,  0.88513158],\n",
       "       [ 1.23079873, -0.59008772],\n",
       "       [-0.70690189,  1.27334719],\n",
       "       [-1.42456879, -1.75473454],\n",
       "       [-0.56336851,  1.6615628 ],\n",
       "       [ 0.80019859, -0.93948177],\n",
       "       [-0.20453507,  0.96277471],\n",
       "       [ 0.22606507, -1.17241113],\n",
       "       [-0.41983513,  1.73920592],\n",
       "       [-0.20453507, -0.90066021],\n",
       "       [-0.49160182,  0.49691598],\n",
       "       [ 0.08253169, -1.44416206],\n",
       "       [-0.77866858,  0.96277471],\n",
       "       [-0.20453507, -1.56062674],\n",
       "       [-0.20453507,  1.62274124],\n",
       "       [ 0.94373197, -1.44416206],\n",
       "       [-0.6351352 ,  1.38981187],\n",
       "       [ 1.37433211, -1.36651894],\n",
       "       [-0.85043527,  0.72984534],\n",
       "       [ 1.4460988 , -1.4053405 ],\n",
       "       [-0.27630176,  1.54509812],\n",
       "       [-0.13276838, -0.7065524 ],\n",
       "       [-0.49160182,  1.38981187],\n",
       "       [ 0.51313183, -1.36651894],\n",
       "       [-0.70690189,  1.46745499],\n",
       "       [ 0.15429838, -0.43480148],\n",
       "       [-0.6351352 ,  1.81684904],\n",
       "       [ 1.08726535, -1.01712489],\n",
       "       [-0.77866858,  0.69102378],\n",
       "       [ 0.15429838, -1.28887582],\n",
       "       [-0.20453507,  1.35099031],\n",
       "       [-0.34806844, -1.05594645],\n",
       "       [-0.49160182,  0.72984534],\n",
       "       [-0.41983513, -1.63826986],\n",
       "       [-0.06100169,  1.58391968],\n",
       "       [ 0.58489852, -1.32769738],\n",
       "       [-0.27630176,  1.11806095],\n",
       "       [ 0.44136514, -0.86183865],\n",
       "       [-0.49160182,  0.92395314],\n",
       "       [-0.49160182, -1.25005425],\n",
       "       [-0.6351352 ,  1.27334719]])"
      ]
     },
     "execution_count": 10,
     "metadata": {},
     "output_type": "execute_result"
    }
   ],
   "source": [
    "StandardScaler().fit_transform(X)"
   ]
  },
  {
   "cell_type": "markdown",
   "metadata": {},
   "source": [
    "<b> K-Means Clustering </b>"
   ]
  },
  {
   "cell_type": "code",
   "execution_count": 11,
   "metadata": {},
   "outputs": [],
   "source": [
    "X1 = df[['Age' , 'Spending Score (1-100)']].iloc[: , :].values\n",
    "kmeans = KMeans(n_clusters=2, init='k-means++', max_iter=300, n_init=10, random_state=0)\n",
    "kmeans=kmeans.fit(X1)"
   ]
  },
  {
   "cell_type": "code",
   "execution_count": 12,
   "metadata": {},
   "outputs": [
    {
     "name": "stdout",
     "output_type": "stream",
     "text": [
      "[[46.16521739 32.88695652]\n",
      " [28.95294118 73.62352941]]\n"
     ]
    }
   ],
   "source": [
    "#getting the cluster labels\n",
    "labels = kmeans.predict(X1)\n",
    "#Centroid Values and print them\n",
    "centroids = kmeans.cluster_centers_\n",
    "print(centroids)"
   ]
  },
  {
   "cell_type": "code",
   "execution_count": 23,
   "metadata": {},
   "outputs": [
    {
     "data": {
      "text/plain": [
       "28165.583566629342"
      ]
     },
     "execution_count": 23,
     "metadata": {},
     "output_type": "execute_result"
    }
   ],
   "source": [
    "kmeans.inertia_"
   ]
  },
  {
   "cell_type": "code",
   "execution_count": 25,
   "metadata": {},
   "outputs": [
    {
     "data": {
      "text/plain": [
       "6"
      ]
     },
     "execution_count": 25,
     "metadata": {},
     "output_type": "execute_result"
    }
   ],
   "source": [
    "# The number of iterations required to converge\n",
    "kmeans.n_iter_"
   ]
  },
  {
   "cell_type": "code",
   "execution_count": 13,
   "metadata": {},
   "outputs": [
    {
     "data": {
      "text/plain": [
       "<matplotlib.collections.PathCollection at 0x1c5aed7be50>"
      ]
     },
     "execution_count": 13,
     "metadata": {},
     "output_type": "execute_result"
    },
    {
     "data": {
      "image/png": "[encoded data removed]",
      "text/plain": [
       "<Figure size 432x288 with 1 Axes>"
      ]
     },
     "metadata": {
      "needs_background": "light"
     },
     "output_type": "display_data"
    }
   ],
   "source": [
    "plt.scatter(X1[:,0],X1[:,1],c=kmeans.labels_, cmap='rainbow')"
   ]
  },
  {
   "cell_type": "code",
   "execution_count": 14,
   "metadata": {},
   "outputs": [],
   "source": [
    "inertia = []\n",
    "K = range(1,10) \n",
    "for k in K:\n",
    "    algorithm = (KMeans(n_clusters = k ,init='k-means++', n_init = 10 ,max_iter=300, \n",
    "                          random_state= 111) )\n",
    "    algorithm.fit(X1)\n",
    "    inertia.append(algorithm.inertia_)"
   ]
  },
  {
   "cell_type": "code",
   "execution_count": 15,
   "metadata": {},
   "outputs": [
    {
     "data": {
      "image/png": "[encoded data removed]",
      "text/plain": [
       "<Figure size 432x288 with 1 Axes>"
      ]
     },
     "metadata": {
      "needs_background": "light"
     },
     "output_type": "display_data"
    }
   ],
   "source": [
    "plt.plot(K, inertia, 'bx-') \n",
    "plt.xlabel('Values of K') \n",
    "plt.ylabel('Distortion') \n",
    "plt.title('The Elbow Method using Distortion') \n",
    "plt.show() "
   ]
  },
  {
   "cell_type": "code",
   "execution_count": 19,
   "metadata": {},
   "outputs": [],
   "source": [
    "\n",
    "kmeans = KMeans(n_clusters=4, init='k-means++', max_iter=300, n_init=10, random_state=0)\n",
    "kmeans=kmeans.fit(X1)"
   ]
  },
  {
   "cell_type": "code",
   "execution_count": 20,
   "metadata": {},
   "outputs": [
    {
     "name": "stdout",
     "output_type": "stream",
     "text": [
      "[[27.61702128 49.14893617]\n",
      " [30.1754386  82.35087719]\n",
      " [43.29166667 15.02083333]\n",
      " [55.70833333 48.22916667]]\n"
     ]
    },
    {
     "data": {
      "text/plain": [
       "<matplotlib.collections.PathCollection at 0x1c5af760610>"
      ]
     },
     "execution_count": 20,
     "metadata": {},
     "output_type": "execute_result"
    },
    {
     "data": {
      "image/png": "[encoded data removed]",
      "text/plain": [
       "<Figure size 432x288 with 1 Axes>"
      ]
     },
     "metadata": {
      "needs_background": "light"
     },
     "output_type": "display_data"
    }
   ],
   "source": [
    "#getting the cluster labels\n",
    "labels = kmeans.predict(X1)\n",
    "#Centroid Values and print them\n",
    "centroids = kmeans.cluster_centers_\n",
    "print(centroids)\n",
    "plt.scatter(X1[:,0],X1[:,1],c=kmeans.labels_, cmap='rainbow')"
   ]
  },
  {
   "cell_type": "code",
   "execution_count": 22,
   "metadata": {},
   "outputs": [
    {
     "data": {
      "text/plain": [
       "<matplotlib.collections.PathCollection at 0x1c5af807b50>"
      ]
     },
     "execution_count": 22,
     "metadata": {},
     "output_type": "execute_result"
    },
    {
     "data": {
      "image/png": "[encoded data removed]",
      "text/plain": [
       "<Figure size 432x288 with 1 Axes>"
      ]
     },
     "metadata": {
      "needs_background": "light"
     },
     "output_type": "display_data"
    }
   ],
   "source": [
    "# 4.5 Plot the clusters with the centroids and the time take to fit! \n",
    "plt.scatter(X[:,0],X[:,1], c=kmeans.labels_, cmap='rainbow')\n",
    "plt.scatter(kmeans.cluster_centers_[:,0] ,kmeans.cluster_centers_[:,1], color='black')"
   ]
  },
  {
   "cell_type": "code",
   "execution_count": null,
   "metadata": {},
   "outputs": [],
   "source": []
  }
 ],
 "metadata": {
  "kernelspec": {
   "display_name": "Python 3",
   "language": "python",
   "name": "python3"
  },
  "language_info": {
   "codemirror_mode": {
    "name": "ipython",
    "version": 3
   },
   "file_extension": ".py",
   "mimetype": "text/x-python",
   "name": "python",
   "nbconvert_exporter": "python",
   "pygments_lexer": "ipython3",
   "version": "3.8.3"
  }
 },
 "nbformat": 4,
 "nbformat_minor": 4
}
