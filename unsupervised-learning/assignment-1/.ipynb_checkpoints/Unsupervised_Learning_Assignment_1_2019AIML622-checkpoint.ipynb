{
 "cells": [
  {
   "cell_type": "markdown",
   "metadata": {},
   "source": [
    "## Assignment 1"
   ]
  },
  {
   "cell_type": "code",
   "execution_count": 1,
   "metadata": {},
   "outputs": [
    {
     "ename": "ModuleNotFoundError",
     "evalue": "No module named 'scipy'",
     "output_type": "error",
     "traceback": [
      "\u001b[0;31m---------------------------------------------------------------------------\u001b[0m",
      "\u001b[0;31mModuleNotFoundError\u001b[0m                       Traceback (most recent call last)",
      "\u001b[0;32m<ipython-input-1-6be7127d82e7>\u001b[0m in \u001b[0;36m<module>\u001b[0;34m\u001b[0m\n\u001b[1;32m      3\u001b[0m \u001b[0;32mimport\u001b[0m \u001b[0mnumpy\u001b[0m \u001b[0;32mas\u001b[0m \u001b[0mnp\u001b[0m\u001b[0;34m\u001b[0m\u001b[0;34m\u001b[0m\u001b[0m\n\u001b[1;32m      4\u001b[0m \u001b[0;32mimport\u001b[0m \u001b[0mpandas\u001b[0m \u001b[0;32mas\u001b[0m \u001b[0mpd\u001b[0m\u001b[0;34m\u001b[0m\u001b[0;34m\u001b[0m\u001b[0m\n\u001b[0;32m----> 5\u001b[0;31m \u001b[0;32mfrom\u001b[0m \u001b[0mscipy\u001b[0m\u001b[0;34m.\u001b[0m\u001b[0mspatial\u001b[0m \u001b[0;32mimport\u001b[0m \u001b[0mdistance\u001b[0m\u001b[0;34m\u001b[0m\u001b[0;34m\u001b[0m\u001b[0m\n\u001b[0m\u001b[1;32m      6\u001b[0m \u001b[0;32mimport\u001b[0m \u001b[0mmatplotlib\u001b[0m\u001b[0;34m.\u001b[0m\u001b[0mpyplot\u001b[0m \u001b[0;32mas\u001b[0m \u001b[0mplt\u001b[0m\u001b[0;34m\u001b[0m\u001b[0;34m\u001b[0m\u001b[0m\n\u001b[1;32m      7\u001b[0m \u001b[0;32mfrom\u001b[0m \u001b[0msklearn\u001b[0m \u001b[0;32mimport\u001b[0m \u001b[0mpreprocessing\u001b[0m\u001b[0;34m\u001b[0m\u001b[0;34m\u001b[0m\u001b[0m\n",
      "\u001b[0;31mModuleNotFoundError\u001b[0m: No module named 'scipy'"
     ]
    }
   ],
   "source": [
    "## Importing required libraries\n",
    "\n",
    "import numpy as np\n",
    "import pandas as pd\n",
    "from scipy.spatial import distance\n",
    "import matplotlib.pyplot as plt\n",
    "from sklearn import preprocessing\n",
    "from matplotlib.colors import ListedColormap"
   ]
  },
  {
   "cell_type": "code",
   "execution_count": null,
   "metadata": {},
   "outputs": [],
   "source": [
    "# reading input file\n",
    "# given csv file is tab separated\n",
    "\n",
    "df = pd.read_csv('cricketers.csv', sep=\"\\t\")"
   ]
  },
  {
   "cell_type": "code",
   "execution_count": null,
   "metadata": {},
   "outputs": [],
   "source": [
    "# clearing some common issues with data\n",
    "df.columns = df.columns.str.strip().str.lower().str.replace(' ', '_')"
   ]
  },
  {
   "cell_type": "code",
   "execution_count": null,
   "metadata": {},
   "outputs": [],
   "source": [
    "# lookup sample records\n",
    "df.head(10)"
   ]
  },
  {
   "cell_type": "code",
   "execution_count": null,
   "metadata": {},
   "outputs": [],
   "source": [
    "# some standard description about data\n",
    "df.describe()"
   ]
  },
  {
   "cell_type": "code",
   "execution_count": null,
   "metadata": {},
   "outputs": [],
   "source": [
    "# players who played 0 times\n",
    "\n",
    "df[df['matches_played'] == 0]"
   ]
  },
  {
   "cell_type": "code",
   "execution_count": null,
   "metadata": {},
   "outputs": [],
   "source": [
    "## finding average runs\n",
    "\n",
    "df['average_runs'].unique()"
   ]
  },
  {
   "cell_type": "code",
   "execution_count": null,
   "metadata": {},
   "outputs": [],
   "source": [
    "df['bowling_economy'].unique()"
   ]
  },
  {
   "cell_type": "markdown",
   "metadata": {},
   "source": [
    "### Part 1 - Normalization of the data"
   ]
  },
  {
   "cell_type": "code",
   "execution_count": null,
   "metadata": {},
   "outputs": [],
   "source": [
    "# creating a copy for manipulation\n",
    "\n",
    "df1 = df.copy()"
   ]
  },
  {
   "cell_type": "code",
   "execution_count": null,
   "metadata": {},
   "outputs": [],
   "source": [
    "# normalization the values - because the column data is not in range\n",
    "\n",
    "minmax_scale = preprocessing.MinMaxScaler().fit(df1.iloc[:,1:])\n",
    "df1.iloc[:,1:] = minmax_scale.transform(df1.iloc[:,1:])"
   ]
  },
  {
   "cell_type": "code",
   "execution_count": null,
   "metadata": {},
   "outputs": [],
   "source": [
    "# lookup some data\n",
    "df1.head()"
   ]
  },
  {
   "cell_type": "markdown",
   "metadata": {},
   "source": [
    "### Part 2"
   ]
  },
  {
   "cell_type": "code",
   "execution_count": null,
   "metadata": {},
   "outputs": [],
   "source": [
    "def kmeans(X,k,max_iterations=100):\n",
    "    '''\n",
    "    X: multidimensional data frame\n",
    "    k: number of clusters\n",
    "    max_iterations: number of repetitions before clusters are established\n",
    "    Steps:\n",
    "        1. Convert data to numpy aray\n",
    "        2. Pick indices of k random point without replacement\n",
    "        3. Find class (P) of each data point using euclidean distance\n",
    "        4. Stop when max_iteration are reached of P matrix doesn't change\n",
    "    Return:\n",
    "        np.array: containg class of each data point and centroids\n",
    "    '''\n",
    "    if isinstance(X, pd.DataFrame):X = X.values\n",
    "    idx = np.random.choice(len(X), k, replace=False)\n",
    "    centroids = X[idx, :]\n",
    "    P = np.argmin(distance.cdist(X, centroids, 'euclidean'),axis=1)\n",
    "    for _ in range(max_iterations):\n",
    "        centroids = np.vstack([X[P==i,:].mean(axis=0) for i in range(k)])\n",
    "        tmp = np.argmin(distance.cdist(X, centroids, 'euclidean'),axis=1)\n",
    "        if np.array_equal(P,tmp):break\n",
    "        P = tmp\n",
    "    return P, centroids"
   ]
  },
  {
   "cell_type": "code",
   "execution_count": null,
   "metadata": {},
   "outputs": [],
   "source": [
    "# taking average_runs and bowling_economy for clustering\n",
    "\n",
    "df2 = df1[['average_runs','bowling_economy']]\n",
    "df2.head()"
   ]
  },
  {
   "cell_type": "code",
   "execution_count": null,
   "metadata": {},
   "outputs": [],
   "source": [
    "## with k = 2, two clusters\n",
    "\n",
    "P, centroids = kmeans(df2, 2)\n",
    "plt.figure(figsize=(12,10))\n",
    "classes = ['Cluster 1', 'Cluster 2']\n",
    "colours = ListedColormap(['red','blue'])\n",
    "ax = plt.scatter(df2.iloc[:,0],df2.iloc[:,1],c=P, cmap = colours)\n",
    "plt.scatter(centroids[0][0], centroids[0][1], s=200, c='yellow', marker='s')\n",
    "plt.scatter(centroids[1][0], centroids[1][1], s=200, c='yellow', marker='s')\n",
    "plt.xlabel(\"Average Runs\")\n",
    "plt.ylabel(\"Bowling Economy\")\n",
    "plt.legend(handles=ax.legend_elements()[0], labels=classes)\n",
    "plt.show()"
   ]
  },
  {
   "cell_type": "markdown",
   "metadata": {},
   "source": [
    "### Part - 3"
   ]
  },
  {
   "cell_type": "code",
   "execution_count": null,
   "metadata": {},
   "outputs": [],
   "source": [
    "## with k = 2, two clusters\n",
    "\n",
    "P, centroids = kmeans(df2, 2)\n",
    "plt.figure(figsize=(12,10))\n",
    "classes = ['Cluster 1', 'Cluster 2']\n",
    "colours = ListedColormap(['red','blue'])\n",
    "ax = plt.scatter(df2.iloc[:,0],df2.iloc[:,1],c=P, cmap = colours)\n",
    "plt.scatter(centroids[0][0], centroids[0][1], s=200, c='yellow', marker='s')\n",
    "plt.scatter(centroids[1][0], centroids[1][1], s=200, c='yellow', marker='s')\n",
    "plt.xlabel(\"Average Runs\")\n",
    "plt.ylabel(\"Bowling Economy\")\n",
    "plt.legend(handles=ax.legend_elements()[0], labels=classes)\n",
    "plt.show()"
   ]
  },
  {
   "cell_type": "code",
   "execution_count": null,
   "metadata": {},
   "outputs": [],
   "source": [
    "## with k = 3, three clusters\n",
    "\n",
    "P, centroids = kmeans(df2, 3)\n",
    "plt.figure(figsize=(12,10))\n",
    "classes = ['Cluster 1', 'Cluster 2', 'Cluster 3']\n",
    "colours = ListedColormap(['red','blue','orange'])\n",
    "ax = plt.scatter(df2.iloc[:,0],df2.iloc[:,1],c=P, cmap = colours)\n",
    "plt.scatter(centroids[0][0], centroids[0][1], s=200, c='yellow', marker='s')\n",
    "plt.scatter(centroids[1][0], centroids[1][1], s=200, c='yellow', marker='s')\n",
    "plt.scatter(centroids[2][0], centroids[2][1], s=200, c='yellow', marker='s')\n",
    "plt.xlabel(\"Average Runs\")\n",
    "plt.ylabel(\"Bowling Economy\")\n",
    "plt.legend(handles=ax.legend_elements()[0], labels=classes)\n",
    "plt.show()"
   ]
  },
  {
   "cell_type": "code",
   "execution_count": null,
   "metadata": {},
   "outputs": [],
   "source": [
    "## with k = 4, four clusters\n",
    "\n",
    "P, centroids = kmeans(df2, 4)\n",
    "plt.figure(figsize=(12,10))\n",
    "classes = ['Cluster 1', 'Cluster 2', 'Cluster 3', 'Cluster 4']\n",
    "colours = ListedColormap(['red','blue','orange','pink'])\n",
    "ax = plt.scatter(df2.iloc[:,0],df2.iloc[:,1],c=P, cmap = colours)\n",
    "plt.scatter(centroids[0][0], centroids[0][1], s=200, c='yellow', marker='s')\n",
    "plt.scatter(centroids[1][0], centroids[1][1], s=200, c='yellow', marker='s')\n",
    "plt.scatter(centroids[2][0], centroids[2][1], s=200, c='yellow', marker='s')\n",
    "plt.scatter(centroids[3][0], centroids[3][1], s=200, c='yellow', marker='s')\n",
    "plt.xlabel(\"Average Runs\")\n",
    "plt.ylabel(\"Bowling Economy\")\n",
    "plt.legend(handles=ax.legend_elements()[0], labels=classes)\n",
    "plt.show()"
   ]
  },
  {
   "cell_type": "code",
   "execution_count": null,
   "metadata": {},
   "outputs": [],
   "source": [
    "## with k = 5, five clusters\n",
    "\n",
    "P, centroids = kmeans(df2, 5)\n",
    "plt.figure(figsize=(12,10))\n",
    "classes = ['Cluster 1', 'Cluster 2', 'Cluster 3', 'Cluster 4', 'Cluster 5']\n",
    "colours = ListedColormap(['red','blue','orange','pink','green'])\n",
    "ax = plt.scatter(df2.iloc[:,0],df2.iloc[:,1],c=P, cmap = colours)\n",
    "plt.scatter(centroids[0][0], centroids[0][1], s=200, c='yellow', marker='s')\n",
    "plt.scatter(centroids[1][0], centroids[1][1], s=200, c='yellow', marker='s')\n",
    "plt.scatter(centroids[2][0], centroids[2][1], s=200, c='yellow', marker='s')\n",
    "plt.scatter(centroids[3][0], centroids[3][1], s=200, c='yellow', marker='s')\n",
    "plt.scatter(centroids[4][0], centroids[4][1], s=200, c='yellow', marker='s')\n",
    "plt.xlabel(\"Average Runs\")\n",
    "plt.ylabel(\"Bowling Economy\")\n",
    "plt.legend(handles=ax.legend_elements()[0], labels=classes)\n",
    "plt.show()"
   ]
  },
  {
   "cell_type": "markdown",
   "metadata": {},
   "source": [
    "### Assignment - End"
   ]
  },
  {
   "cell_type": "code",
   "execution_count": null,
   "metadata": {},
   "outputs": [],
   "source": []
  }
 ],
 "metadata": {
  "kernelspec": {
   "display_name": "Python 3",
   "language": "python",
   "name": "python3"
  },
  "language_info": {
   "codemirror_mode": {
    "name": "ipython",
    "version": 3
   },
   "file_extension": ".py",
   "mimetype": "text/x-python",
   "name": "python",
   "nbconvert_exporter": "python",
   "pygments_lexer": "ipython3",
   "version": "3.8.0"
  }
 },
 "nbformat": 4,
 "nbformat_minor": 4
}
