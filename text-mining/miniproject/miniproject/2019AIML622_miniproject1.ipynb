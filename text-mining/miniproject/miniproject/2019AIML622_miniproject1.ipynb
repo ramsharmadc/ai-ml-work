{
 "cells": [
  {
   "cell_type": "code",
   "execution_count": 18,
   "metadata": {},
   "outputs": [],
   "source": [
    "## Student Id -2019AIML622\n",
    "## Assignment 1 - Start ##"
   ]
  },
  {
   "cell_type": "markdown",
   "metadata": {},
   "source": [
    "The dataset is comprised of tab-separated files with phrases from the Rotten Tomatoes dataset. \n",
    "\n",
    "train.tsv contains the phrases and their associated sentiment labels.\n",
    "\n",
    "The sentiment labels are:\n",
    "\n",
    "0 - negative\n",
    "1 - somewhat negative\n",
    "2 - neutral\n",
    "3 - somewhat positive\n",
    "4 - positive"
   ]
  },
  {
   "cell_type": "code",
   "execution_count": 19,
   "metadata": {},
   "outputs": [],
   "source": [
    "## Importing required libraries\n",
    "\n",
    "import pandas as pd\n",
    "from sklearn.feature_extraction.text import CountVectorizer\n",
    "from nltk.tokenize import RegexpTokenizer\n",
    "\n",
    "from nltk.tokenize import RegexpTokenizer\n",
    "from sklearn.model_selection import train_test_split\n",
    "from sklearn.naive_bayes import MultinomialNB\n",
    "from sklearn.metrics import classification_report, confusion_matrix\n",
    "import seaborn  as sns\n",
    "import matplotlib.pyplot as plt\n",
    "from sklearn import metrics\n",
    "from sklearn.metrics import classification_report\n"
   ]
  },
  {
   "cell_type": "markdown",
   "metadata": {},
   "source": [
    "## Read the data and load it as a dataframe in the variable \"dataset\" ; Note: File is \"tab\" seperated ( 1 mark )"
   ]
  },
  {
   "cell_type": "code",
   "execution_count": 20,
   "metadata": {},
   "outputs": [],
   "source": [
    "## reading dataset\n",
    "\n",
    "data_frame = pd.read_csv(\"train.tsv\",sep='\\t')"
   ]
  },
  {
   "cell_type": "markdown",
   "metadata": {},
   "source": [
    "## Print the dataframe ( 1 mark )"
   ]
  },
  {
   "cell_type": "code",
   "execution_count": 21,
   "metadata": {},
   "outputs": [
    {
     "name": "stdout",
     "output_type": "stream",
     "text": [
      "        PhraseId  SentenceId  \\\n",
      "0              1           1   \n",
      "1              2           1   \n",
      "2              3           1   \n",
      "3              4           1   \n",
      "4              5           1   \n",
      "...          ...         ...   \n",
      "156055    156056        8544   \n",
      "156056    156057        8544   \n",
      "156057    156058        8544   \n",
      "156058    156059        8544   \n",
      "156059    156060        8544   \n",
      "\n",
      "                                                   Phrase  Sentiment  \n",
      "0       A series of escapades demonstrating the adage ...          1  \n",
      "1       A series of escapades demonstrating the adage ...          2  \n",
      "2                                                A series          2  \n",
      "3                                                       A          2  \n",
      "4                                                  series          2  \n",
      "...                                                   ...        ...  \n",
      "156055                                          Hearst 's          2  \n",
      "156056                          forced avuncular chortles          1  \n",
      "156057                                 avuncular chortles          3  \n",
      "156058                                          avuncular          2  \n",
      "156059                                           chortles          2  \n",
      "\n",
      "[156060 rows x 4 columns]\n"
     ]
    }
   ],
   "source": [
    "\n",
    "print(data_frame)\n"
   ]
  },
  {
   "cell_type": "markdown",
   "metadata": {},
   "source": [
    "## Print the distribution of the Sentiment ( 1 mark )"
   ]
  },
  {
   "cell_type": "code",
   "execution_count": 22,
   "metadata": {},
   "outputs": [
    {
     "data": {
      "text/plain": [
       "2    79582\n",
       "3    32927\n",
       "1    27273\n",
       "4     9206\n",
       "0     7072\n",
       "Name: Sentiment, dtype: int64"
      ]
     },
     "execution_count": 22,
     "metadata": {},
     "output_type": "execute_result"
    }
   ],
   "source": [
    "data_frame.Sentiment.value_counts()"
   ]
  },
  {
   "cell_type": "code",
   "execution_count": 23,
   "metadata": {},
   "outputs": [],
   "source": [
    "\n",
    "token = RegexpTokenizer(r'[a-zA-Z0-9]+')\n",
    "cv = CountVectorizer(stop_words='english',ngram_range = (1,1),tokenizer = token.tokenize)\n",
    "text_counts = cv.fit_transform(data_frame['Phrase'])"
   ]
  },
  {
   "cell_type": "markdown",
   "metadata": {},
   "source": [
    "## Divide the data into train and test in the ratio 80 and 20 respectively. ( 1 mark )"
   ]
  },
  {
   "cell_type": "code",
   "execution_count": 24,
   "metadata": {},
   "outputs": [],
   "source": [
    "# text_counts would be used as x ( features ) and data[\"Sentiment\"] as y\n",
    "\n",
    "X_train,X_test,y_train,y_test = train_test_split(text_counts,data_frame[\"Sentiment\"],test_size=0.2,random_state=10)"
   ]
  },
  {
   "cell_type": "markdown",
   "metadata": {},
   "source": [
    "## Train Multinomial Naive Bayes Classification model using Sklearn ( 2 marks )"
   ]
  },
  {
   "cell_type": "code",
   "execution_count": 25,
   "metadata": {},
   "outputs": [
    {
     "data": {
      "text/plain": [
       "MultinomialNB()"
      ]
     },
     "execution_count": 25,
     "metadata": {},
     "output_type": "execute_result"
    }
   ],
   "source": [
    "multinomialnb = MultinomialNB()\n",
    "multinomialnb.fit(X_train,y_train)"
   ]
  },
  {
   "cell_type": "markdown",
   "metadata": {},
   "source": [
    "## Calculate the Test Accuracy , Precision , Recall , Confusion Matrix on test data ( 4 marks, each cary 1 mark )"
   ]
  },
  {
   "cell_type": "code",
   "execution_count": 26,
   "metadata": {},
   "outputs": [
    {
     "name": "stdout",
     "output_type": "stream",
     "text": [
      "              precision    recall  f1-score   support\n",
      "\n",
      "           0       0.44      0.27      0.34      1463\n",
      "           1       0.49      0.43      0.46      5367\n",
      "           2       0.69      0.78      0.73     15841\n",
      "           3       0.53      0.51      0.52      6678\n",
      "           4       0.48      0.30      0.37      1863\n",
      "\n",
      "    accuracy                           0.61     31212\n",
      "   macro avg       0.53      0.46      0.48     31212\n",
      "weighted avg       0.60      0.61      0.60     31212\n",
      "\n"
     ]
    },
    {
     "data": {
      "text/plain": [
       "Text(0.5, 15.0, 'Predicted label')"
      ]
     },
     "execution_count": 26,
     "metadata": {},
     "output_type": "execute_result"
    },
    {
     "data": {
      "image/png": "[encoded data removed]",
      "text/plain": [
       "<Figure size 432x288 with 2 Axes>"
      ]
     },
     "metadata": {
      "needs_background": "light"
     },
     "output_type": "display_data"
    }
   ],
   "source": [
    "y_pred = multinomialnb.predict(X_test)\n",
    "\n",
    "print(classification_report(y_test,y_pred))\n",
    "\n",
    "cnf_matrix = metrics.confusion_matrix(y_test, y_pred)\n",
    "p = sns.heatmap(pd.DataFrame(cnf_matrix), annot=True, cmap=\"YlGnBu\" ,fmt='g')\n",
    "plt.title('Confusion matrix', y=1.1)\n",
    "plt.ylabel('Actual label')\n",
    "plt.xlabel('Predicted label')"
   ]
  },
  {
   "cell_type": "markdown",
   "metadata": {},
   "source": [
    "## Predict the class for the sentence : \"I ate pizza last night at dominos which was very healthy and tasty\" ( 2 marks )"
   ]
  },
  {
   "cell_type": "code",
   "execution_count": 27,
   "metadata": {},
   "outputs": [
    {
     "name": "stdout",
     "output_type": "stream",
     "text": [
      "The prediction of the sentence is: 3 - somewhat positive\n"
     ]
    }
   ],
   "source": [
    "label_descs = { 0 : \"negative\",  1 : \"somewhat negative\",  2: \"neutral\",  3: \"somewhat positive\" ,  4 :\"positive\"} \n",
    "\n",
    "test_sentence = \"I ate pizza last night at dominos which was very healthy and tasty\"\n",
    "test_vector = cv.transform([test_sentence])\n",
    "y_pred = multinomialnb.predict(test_vector)\n",
    "print(\"The prediction of the sentence is: %d - %s\"%(y_pred[0], label_descs[  y_pred[0]]))"
   ]
  },
  {
   "cell_type": "code",
   "execution_count": 28,
   "metadata": {},
   "outputs": [],
   "source": [
    "## Assignment 1 - End ##"
   ]
  }
 ],
 "metadata": {
  "kernelspec": {
   "display_name": "Python 3",
   "language": "python",
   "name": "python3"
  },
  "language_info": {
   "codemirror_mode": {
    "name": "ipython",
    "version": 3
   },
   "file_extension": ".py",
   "mimetype": "text/x-python",
   "name": "python",
   "nbconvert_exporter": "python",
   "pygments_lexer": "ipython3",
   "version": "3.8.0"
  }
 },
 "nbformat": 4,
 "nbformat_minor": 4
}
