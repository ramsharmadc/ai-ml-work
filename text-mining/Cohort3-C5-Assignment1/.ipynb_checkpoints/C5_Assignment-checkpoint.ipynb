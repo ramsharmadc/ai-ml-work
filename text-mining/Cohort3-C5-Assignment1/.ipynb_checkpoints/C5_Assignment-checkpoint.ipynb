{
 "cells": [
  {
   "cell_type": "markdown",
   "metadata": {},
   "source": [
    "# Text Retrieval\n",
    "There are 2 standard models for retrieving text data.\n",
    "1. Boolean Retrieval Model\n",
    "2. Vector Space Model\n",
    "\n",
    "The aim of any information retrieval model is to retrieve documents related to a query."
   ]
  },
  {
   "cell_type": "markdown",
   "metadata": {},
   "source": [
    "## 1. Boolean Retrieval Model\n",
    "In this model we consider every query and document as a set of words and we retrieve a document if and only if the query word is present in it. Model can be extended to support complex queries with boolean operators.\n",
    "\n",
    "In this assignment we are going to implement both the models, using scikit-learn package. We are going to use song lyrics dataset.\n",
    "\n",
    "\n",
    "**Step 1. Import necessary packages -- numpy and pandas - 1 Mark** "
   ]
  },
  {
   "cell_type": "code",
   "execution_count": 60,
   "metadata": {},
   "outputs": [],
   "source": [
    "import pandas as pd\n",
    "import numpy as np"
   ]
  },
  {
   "cell_type": "markdown",
   "metadata": {},
   "source": [
    "**Step 2. Read the dataset and store it in variable 'df' - 1 mark** <br> \n",
    "\n",
    "The lyric column of the dataset has song lyrics. We aim to give some lyrics as a query and retrieve the song name. \n"
   ]
  },
  {
   "cell_type": "code",
   "execution_count": 61,
   "metadata": {},
   "outputs": [],
   "source": [
    "\n",
    "df = pd.read_csv(\"modified_song_lyrics.csv\")\n",
    "\n",
    "#df.head()"
   ]
  },
  {
   "cell_type": "markdown",
   "metadata": {},
   "source": [
    "**Documentation Reference: https://scikit-learn.org/stable/modules/generated/sklearn.feature_extraction.text.CountVectorizer.html**<br>"
   ]
  },
  {
   "cell_type": "markdown",
   "metadata": {},
   "source": [
    "**Step 3**<br>\n",
    "1. Import this class\n",
    "2. Create a 'vectorizer' object of 'CountVectorizer' with parameter binary=True - 1 Mark"
   ]
  },
  {
   "cell_type": "code",
   "execution_count": 62,
   "metadata": {},
   "outputs": [],
   "source": [
    "from sklearn.feature_extraction.text import CountVectorizer\n",
    "count_vectorizer = CountVectorizer(binary=True)"
   ]
  },
  {
   "cell_type": "markdown",
   "metadata": {},
   "source": [
    "We aim to analyze the lyrics for presence or absence. <br> \n",
    "**Step 4. Fit and transform the lyric column using vectorizer - 2 Marks**<br>\n",
    "X object is a matrix of size (n_songs,n_unique_words) where each entry is 0 or 1 if the word in present in this song. Verify this using X.shape method"
   ]
  },
  {
   "cell_type": "code",
   "execution_count": 63,
   "metadata": {},
   "outputs": [
    {
     "data": {
      "text/plain": [
       "(94, 2301)"
      ]
     },
     "execution_count": 63,
     "metadata": {},
     "output_type": "execute_result"
    }
   ],
   "source": [
    "X = count_vectorizer.fit_transform(df['lyric'])\n",
    "X.shape"
   ]
  },
  {
   "cell_type": "code",
   "execution_count": 64,
   "metadata": {},
   "outputs": [],
   "source": [
    "query1 = 'beautiful'\n",
    "query2 = 'girl'\n",
    "# To get list of all doc containing a word, we do it in the following way\n",
    "list_q1 = X[:,count_vectorizer.vocabulary_[query1]]\n",
    "# Step 5. Do the same for 'query2' and store it in 'list_q2'\n",
    "list_q2 = X[:,count_vectorizer.vocabulary_[query2]]"
   ]
  },
  {
   "cell_type": "code",
   "execution_count": 65,
   "metadata": {},
   "outputs": [
    {
     "name": "stdout",
     "output_type": "stream",
     "text": [
      "Teardrops On My Guitar\n",
      "Superman\n",
      "End Game (Ft. Ed Sheeran & Future)\n"
     ]
    }
   ],
   "source": [
    "# AND Operation\n",
    "for i in range(list_q1.shape[0]):\n",
    "    if list_q1[i]==1 and list_q2[i]==1:\n",
    "        print(df.iloc[i,1])"
   ]
  },
  {
   "cell_type": "markdown",
   "metadata": {},
   "source": [
    "**Step 6. Implement OR operation - 1 Mark**"
   ]
  },
  {
   "cell_type": "code",
   "execution_count": 66,
   "metadata": {},
   "outputs": [
    {
     "name": "stdout",
     "output_type": "stream",
     "text": [
      "Teardrops On My Guitar\n",
      "A Place In This World\n",
      "Stay Beautiful\n",
      "Mary's Song (Oh My My My)\n",
      "I'm Only Me When I'm With You\n",
      "Invisible\n",
      "Fifteen\n",
      "Hey Stephen\n",
      "White Horse\n",
      "You Belong With Me\n",
      "The Way I Loved You\n",
      "Back To December\n",
      "Speak Now\n",
      "Dear John\n",
      "Innocent\n",
      "Last Kiss\n",
      "Superman\n",
      "Holy Ground\n",
      "Sad Beautiful Tragic\n",
      "Everything Has Changed (Ft. Ed Sheeran)\n",
      "Begin Again\n",
      "Girl at Home\n",
      "Blank Space\n",
      "Style\n",
      "How You Get The Girl\n",
      "End Game (Ft. Ed Sheeran & Future)\n",
      "So It Goes...\n",
      "King of My Heart\n"
     ]
    }
   ],
   "source": [
    "# OR Operation\n",
    "for i in range(list_q1.shape[0]):\n",
    "    if list_q1[i]==1 or list_q2[i]==1:\n",
    "        print(df.iloc[i,1])"
   ]
  },
  {
   "cell_type": "markdown",
   "metadata": {},
   "source": [
    "## 2. Vector Space Model\n",
    "In this model, every document and query is represented as a vector and closest vector as measured by cosine distance is considered as the correct answer."
   ]
  },
  {
   "cell_type": "markdown",
   "metadata": {},
   "source": [
    "**Documentation Reference:**<br>\n",
    "1. https://scikit-learn.org/stable/modules/generated/sklearn.feature_extraction.text.TfidfVectorizer.html\n",
    "2. https://scikit-learn.org/stable/modules/generated/sklearn.metrics.pairwise.cosine_similarity.html\n",
    "\n",
    "**Step 1. Import above references - 1 Mark**"
   ]
  },
  {
   "cell_type": "code",
   "execution_count": 67,
   "metadata": {},
   "outputs": [],
   "source": [
    "from sklearn.feature_extraction.text import TfidfVectorizer"
   ]
  },
  {
   "cell_type": "markdown",
   "metadata": {},
   "source": [
    "**Step 2. Create a 'vectorizer' object of 'TfidfVectorizer' - 1 Mark**"
   ]
  },
  {
   "cell_type": "code",
   "execution_count": 68,
   "metadata": {},
   "outputs": [],
   "source": [
    "tfidf_vectorizer = TfidfVectorizer()"
   ]
  },
  {
   "cell_type": "markdown",
   "metadata": {},
   "source": [
    "Here we attempt to calculate tf-idf scores of the terms (lyrics). We do that by doing the following. <br> \n",
    "**Step 3. Fit and transform the lyric column using vectorizer - 2 Marks**<br>\n",
    "X object is a matrix of size (n_songs,n_unique_words) where each entry is tf-idf score of the word in this song. Verify this using X.shape method"
   ]
  },
  {
   "cell_type": "code",
   "execution_count": 69,
   "metadata": {},
   "outputs": [
    {
     "data": {
      "text/plain": [
       "(94, 2301)"
      ]
     },
     "execution_count": 69,
     "metadata": {},
     "output_type": "execute_result"
    }
   ],
   "source": [
    "X = tfidf_vectorizer.fit_transform(df['lyric'])\n",
    "X.shape"
   ]
  },
  {
   "cell_type": "markdown",
   "metadata": {},
   "source": [
    "**Step 4. Use 'transform' method of vectorizer on 'query' and store in 'query_vec' - 1 Mark**<br>\n",
    "This method converts a text value into a tf-idf vector"
   ]
  },
  {
   "cell_type": "code",
   "execution_count": 70,
   "metadata": {},
   "outputs": [
    {
     "data": {
      "text/plain": [
       "(1, 2301)"
      ]
     },
     "execution_count": 70,
     "metadata": {},
     "output_type": "execute_result"
    }
   ],
   "source": [
    "query = \"Take it easy, with me\"\n",
    "query_vec = tfidf_vectorizer.transform([query])\n",
    "\n",
    "query_vec.shape"
   ]
  },
  {
   "cell_type": "markdown",
   "metadata": {},
   "source": [
    "**Step 5. Use 'cosine_similarity' on 'X' and 'query_vec' store it in 'results' - 1 Mark**"
   ]
  },
  {
   "cell_type": "code",
   "execution_count": 71,
   "metadata": {},
   "outputs": [],
   "source": [
    "from sklearn.metrics.pairwise import cosine_similarity\n",
    "\n",
    "results = cosine_similarity(X, query_vec)"
   ]
  },
  {
   "cell_type": "code",
   "execution_count": 72,
   "metadata": {},
   "outputs": [
    {
     "name": "stdout",
     "output_type": "stream",
     "text": [
      "Song --  Breathe (Ft. Colbie Caillat)\n"
     ]
    }
   ],
   "source": [
    "# Print Name of the song\n",
    "song_index = np.argmax(results.reshape((-1,)))\n",
    "print('Song -- ', df.iloc[song_index,1]) # add song name here "
   ]
  },
  {
   "cell_type": "code",
   "execution_count": null,
   "metadata": {},
   "outputs": [],
   "source": []
  },
  {
   "cell_type": "code",
   "execution_count": null,
   "metadata": {},
   "outputs": [],
   "source": []
  }
 ],
 "metadata": {
  "kernelspec": {
   "display_name": "Python 3",
   "language": "python",
   "name": "python3"
  },
  "language_info": {
   "codemirror_mode": {
    "name": "ipython",
    "version": 3
   },
   "file_extension": ".py",
   "mimetype": "text/x-python",
   "name": "python",
   "nbconvert_exporter": "python",
   "pygments_lexer": "ipython3",
   "version": "3.8.0"
  }
 },
 "nbformat": 4,
 "nbformat_minor": 2
}
