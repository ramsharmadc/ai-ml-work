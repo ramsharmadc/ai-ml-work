{
 "cells": [
  {
   "cell_type": "code",
   "execution_count": 2,
   "metadata": {},
   "outputs": [],
   "source": [
    "from requests import get\n",
    "from requests.exceptions import RequestException\n",
    "from contextlib import closing\n",
    "from bs4 import BeautifulSoup\n",
    "import pandas as pd"
   ]
  },
  {
   "cell_type": "code",
   "execution_count": 3,
   "metadata": {},
   "outputs": [],
   "source": [
    "# utility to print any error passed\n",
    "def log_error(e):\n",
    "    print(e)"
   ]
  },
  {
   "cell_type": "code",
   "execution_count": 4,
   "metadata": {},
   "outputs": [],
   "source": [
    "# check if the response returned is good or not\n",
    "def is_good_response(resp):\n",
    "    content_type = resp.headers['Content-Type'].lower()\n",
    "    return (resp.status_code == 200 and content_type is not None and content_type.find('html') > -1)"
   ]
  },
  {
   "cell_type": "code",
   "execution_count": 5,
   "metadata": {},
   "outputs": [],
   "source": [
    "# utility to get html content from a given url\n",
    "def simple_get(url):\n",
    "    try:\n",
    "        with closing(get(url, stream=True)) as resp:\n",
    "            if is_good_response(resp):\n",
    "                return resp.content\n",
    "            else :\n",
    "                return None\n",
    "    except RequestException as re:\n",
    "        log_error('Error during requests to {0} : {1}'.format(url, str(e)))\n",
    "        return None"
   ]
  },
  {
   "cell_type": "code",
   "execution_count": 6,
   "metadata": {},
   "outputs": [],
   "source": [
    "# JioMart data scraping - Dals and Pulses\n",
    "\n",
    "raw_html_dp = simple_get('https://www.jiomart.com/category/staples/dals-pulses')\n",
    "\n",
    "# get html parsed using Beautiful soup\n",
    "html_soup = BeautifulSoup(raw_html_dp, 'html.parser')\n",
    "\n",
    "# print(html_soup)"
   ]
  },
  {
   "cell_type": "code",
   "execution_count": 7,
   "metadata": {},
   "outputs": [],
   "source": [
    "containers = html_soup.findAll(\"div\", {\"class\" : \"col-md-3 p-0\"})\n",
    "# print (BeautifulSoup.prettify(containers[0]))"
   ]
  },
  {
   "cell_type": "code",
   "execution_count": 8,
   "metadata": {},
   "outputs": [],
   "source": [
    "## we can write the data to a csv or json file\n",
    "\n",
    "#filename = \"JioMart_1.csv\"\n",
    "#f = open(filename, \"w\")\n",
    "#headers = \"Product_Name,Product_Quantity,MRP_Price,Offer_Price,Vendor,Category\\n\"\n",
    "#f.write(headers)"
   ]
  },
  {
   "cell_type": "code",
   "execution_count": 9,
   "metadata": {},
   "outputs": [],
   "source": [
    "ProductNamesList = []\n",
    "ProductQtyList = []\n",
    "MRP_List = []\n",
    "Offer_Price_List = []\n",
    "Vendor_List = []\n",
    "Category_List = []\n",
    "\n",
    "for container in containers:\n",
    "    product = container.div.img[\"alt\"]\n",
    "    ProductNamesList.append(product)\n",
    "    \n",
    "    price_container = container.findAll(\"strike\", {\"id\" : \"price\"})\n",
    "    price = price_container[0].text.strip()\n",
    "    MRP_List.append(price)\n",
    "    \n",
    "    final_price_container = container.findAll(\"span\", {\"id\" : \"final_price\"})\n",
    "    final_price = final_price_container[0].text.strip()\n",
    "    Offer_Price_List.append(final_price)\n",
    "    \n",
    "    #print (\"Product:\" + product)\n",
    "    #print (\"Price:\" + price)\n",
    "    #print (\"Final Price:\" + final_price)\n",
    "    \n",
    "    Vendor_List.append('JioMart')\n",
    "    Category_List.append('Dals-Vegetables')\n",
    "    \n",
    "#     print (product + \",\" + price + \",\" + final_price + \",JioMart\" + \",Dals-Vegetables\" +\"\\n\")\n",
    "#     f.write(product + \",\" + price + \",\" + final_price + \",JioMart\" + \",Dals-Vegetables\" +\"\\n\")\n",
    "\n",
    "    \n",
    "# print('ProductNamesList =>', ProductNamesList)\n",
    "# print('MRP_List =>', MRP_List)\n",
    "# print('Offer_Price_List =>', Offer_Price_List)\n",
    "# print('Vendor_List =>', Vendor_List)\n",
    "# print('Category_List =>', Category_List)\n",
    "\n",
    "# f.close()"
   ]
  },
  {
   "cell_type": "code",
   "execution_count": 10,
   "metadata": {},
   "outputs": [
    {
     "data": {
      "text/html": [
       "<div>\n",
       "<style scoped>\n",
       "    .dataframe tbody tr th:only-of-type {\n",
       "        vertical-align: middle;\n",
       "    }\n",
       "\n",
       "    .dataframe tbody tr th {\n",
       "        vertical-align: top;\n",
       "    }\n",
       "\n",
       "    .dataframe thead th {\n",
       "        text-align: right;\n",
       "    }\n",
       "</style>\n",
       "<table border=\"1\" class=\"dataframe\">\n",
       "  <thead>\n",
       "    <tr style=\"text-align: right;\">\n",
       "      <th></th>\n",
       "      <th>Product_Name</th>\n",
       "      <th>MRP_Price</th>\n",
       "      <th>Offer_Price</th>\n",
       "      <th>Vendor</th>\n",
       "      <th>Category</th>\n",
       "    </tr>\n",
       "  </thead>\n",
       "  <tbody>\n",
       "    <tr>\n",
       "      <th>0</th>\n",
       "      <td>Tur / Arhar Dal 2 kg</td>\n",
       "      <td>₹ 280.00</td>\n",
       "      <td>₹ 190.00</td>\n",
       "      <td>JioMart</td>\n",
       "      <td>Dals-Vegetables</td>\n",
       "    </tr>\n",
       "    <tr>\n",
       "      <th>1</th>\n",
       "      <td>Raw Peanuts 1 Kg (Loose)</td>\n",
       "      <td>₹ 127.00</td>\n",
       "      <td>₹ 125.00</td>\n",
       "      <td>JioMart</td>\n",
       "      <td>Dals-Vegetables</td>\n",
       "    </tr>\n",
       "    <tr>\n",
       "      <th>2</th>\n",
       "      <td>Good Life Tur Dal 1 kg</td>\n",
       "      <td>₹ 137.00</td>\n",
       "      <td>₹ 108.00</td>\n",
       "      <td>JioMart</td>\n",
       "      <td>Dals-Vegetables</td>\n",
       "    </tr>\n",
       "    <tr>\n",
       "      <th>3</th>\n",
       "      <td>Good Life Tur Dal Oily 1 kg</td>\n",
       "      <td>₹ 133.00</td>\n",
       "      <td>₹ 116.00</td>\n",
       "      <td>JioMart</td>\n",
       "      <td>Dals-Vegetables</td>\n",
       "    </tr>\n",
       "    <tr>\n",
       "      <th>4</th>\n",
       "      <td>Good Life Moong Dal Chilka 500 g</td>\n",
       "      <td>₹ 84.00</td>\n",
       "      <td>₹ 71.00</td>\n",
       "      <td>JioMart</td>\n",
       "      <td>Dals-Vegetables</td>\n",
       "    </tr>\n",
       "  </tbody>\n",
       "</table>\n",
       "</div>"
      ],
      "text/plain": [
       "                       Product_Name MRP_Price Offer_Price   Vendor  \\\n",
       "0              Tur / Arhar Dal 2 kg  ₹ 280.00    ₹ 190.00  JioMart   \n",
       "1          Raw Peanuts 1 Kg (Loose)  ₹ 127.00    ₹ 125.00  JioMart   \n",
       "2            Good Life Tur Dal 1 kg  ₹ 137.00    ₹ 108.00  JioMart   \n",
       "3      Good Life Tur Dal Oily 1 kg   ₹ 133.00    ₹ 116.00  JioMart   \n",
       "4  Good Life Moong Dal Chilka 500 g   ₹ 84.00     ₹ 71.00  JioMart   \n",
       "\n",
       "          Category  \n",
       "0  Dals-Vegetables  \n",
       "1  Dals-Vegetables  \n",
       "2  Dals-Vegetables  \n",
       "3  Dals-Vegetables  \n",
       "4  Dals-Vegetables  "
      ]
     },
     "execution_count": 10,
     "metadata": {},
     "output_type": "execute_result"
    }
   ],
   "source": [
    "import pandas as pd\n",
    "\n",
    "table_dict = { 'Product_Name' : ProductNamesList,\n",
    "                'MRP_Price' : MRP_List,\n",
    "                'Offer_Price' : Offer_Price_List,\n",
    "                'Vendor' : Vendor_List,\n",
    "                'Category' : Category_List}\n",
    "\n",
    "df = pd.DataFrame(table_dict)\n",
    "\n",
    "df.head()"
   ]
  },
  {
   "cell_type": "code",
   "execution_count": 11,
   "metadata": {},
   "outputs": [
    {
     "data": {
      "text/plain": [
       "(20, 5)"
      ]
     },
     "execution_count": 11,
     "metadata": {},
     "output_type": "execute_result"
    }
   ],
   "source": [
    "df.shape"
   ]
  },
  {
   "cell_type": "code",
   "execution_count": 12,
   "metadata": {},
   "outputs": [
    {
     "name": "stdout",
     "output_type": "stream",
     "text": [
      "        0        1        2        3           4     5       6      7     8  \\\n",
      "0     Tur        /    Arhar      Dal           2    kg    None   None  None   \n",
      "1     Raw  Peanuts        1       Kg     (Loose)  None    None   None  None   \n",
      "2    Good     Life      Tur      Dal           1    kg    None   None  None   \n",
      "3    Good     Life      Tur      Dal        Oily     1      kg   None  None   \n",
      "4    Good     Life    Moong      Dal      Chilka   500       g   None  None   \n",
      "5   Loose     Toor      Dal    Value           1    kg    None   None  None   \n",
      "6    Pick        N     Cook  Premium       Moong   Dal       1     kg  None   \n",
      "7    Good     Life     Urad      Dal         500     g    None   None  None   \n",
      "8    Good     Life     Urad      Dal      Chilka   500       g   None  None   \n",
      "9   Loose    Chana      Dal        1          kg  None    None   None  None   \n",
      "10   Pick        N     Cook     Maha        Toor   Dal       1     kg  None   \n",
      "11   Good     Life    Chana      Dal         500     g    None   None  None   \n",
      "12  Loose    Moong      Dal        1          kg  None    None   None  None   \n",
      "13   Tata  Sampann     High  Protein  Unpolished   Tur       /  Arhar   Dal   \n",
      "14   Pick        N     Cook   Masoor         Dal   500       g   None  None   \n",
      "15   Good     Life     Toor      Dal         500     g    None   None  None   \n",
      "16   Good     Life  Roasted    Chana         Dal     /  Bengal   Gram   200   \n",
      "17   Good     Life    Brown    Chana           1    kg    None   None  None   \n",
      "18  Chana      Dal        2       kg        None  None    None   None  None   \n",
      "19   Good     Life    Moong      Dal         500     g    None   None  None   \n",
      "\n",
      "       9    10  \n",
      "0   None  None  \n",
      "1   None  None  \n",
      "2   None  None  \n",
      "3   None  None  \n",
      "4   None  None  \n",
      "5   None  None  \n",
      "6   None  None  \n",
      "7   None  None  \n",
      "8   None  None  \n",
      "9   None  None  \n",
      "10  None  None  \n",
      "11  None  None  \n",
      "12  None  None  \n",
      "13     1    kg  \n",
      "14  None  None  \n",
      "15  None  None  \n",
      "16     g  None  \n",
      "17  None  None  \n",
      "18  None  None  \n",
      "19  None  None  \n",
      "<class 'pandas.core.frame.DataFrame'>\n"
     ]
    }
   ],
   "source": [
    "price_qty_mixed=df.Product_Name.str.split(expand=True,)\n",
    "print(price_qty_mixed)\n",
    "print(type(price_qty_mixed))"
   ]
  },
  {
   "cell_type": "code",
   "execution_count": 13,
   "metadata": {},
   "outputs": [],
   "source": [
    "qty_df = df.Product_Name.str.extract('(\\d+)')\n",
    "\n",
    "df['Product_Quantity'] = qty_df"
   ]
  },
  {
   "cell_type": "code",
   "execution_count": 14,
   "metadata": {},
   "outputs": [],
   "source": [
    "df['Product_Name'] = df['Product_Name'].str[:16]"
   ]
  },
  {
   "cell_type": "code",
   "execution_count": 15,
   "metadata": {},
   "outputs": [],
   "source": [
    "import numpy as np\n",
    "\n",
    "newdf = df[['Product_Name', 'Product_Quantity', 'MRP_Price', 'Offer_Price', 'Vendor', 'Category']].copy()\n",
    "\n",
    "newdf['Product_Quantity'] = pd.to_numeric(df['Product_Quantity'])\n",
    "\n",
    "# newdf['Product_Quantity'] = newdf['Product_Quantity'].filter().div(1000)\n",
    "\n",
    "a = np.array(newdf['Product_Quantity'].values.tolist())\n",
    "# print (a)\n",
    "\n",
    "newdf['Product_Quantity'] = np.where(a > 100, a/1000, a).tolist()\n",
    "\n",
    "newdf['MRP_Price'] = newdf['MRP_Price'].map(lambda x: x.lstrip('₹').strip())\n",
    "newdf['Offer_Price'] = newdf['Offer_Price'].map(lambda x: x.lstrip('₹').strip())\n",
    "\n",
    "newdf.head()\n",
    "newdf.describe()\n",
    "\n",
    "newdf['MRP_Price'] = pd.to_numeric(newdf['MRP_Price'])\n",
    "newdf['Offer_Price(Rs)'] = pd.to_numeric(newdf['Offer_Price'])\n"
   ]
  },
  {
   "cell_type": "markdown",
   "metadata": {},
   "source": [
    "### Exploratory Data Analysis"
   ]
  },
  {
   "cell_type": "code",
   "execution_count": 16,
   "metadata": {},
   "outputs": [],
   "source": [
    "## Observations:\n",
    "## With a quick look we can observer the following:\n",
    "## 1. There is one dependent variable(Y) or Response which is column 'Cost' \n",
    "## 2. There are 5 independent variables or features as Height', Width', 'Length', 'Weight', 'Weight1'\n",
    "## 3. The given Regression problem is Multi-Variate Regression. \n",
    "## 4. The Linear Regression equation is of form: Y = α + β1X1 + β2X2 + β3X3\n",
    "## The selection of features plays the most important role in multivariate regression"
   ]
  },
  {
   "cell_type": "code",
   "execution_count": 17,
   "metadata": {},
   "outputs": [
    {
     "data": {
      "text/html": [
       "<div>\n",
       "<style scoped>\n",
       "    .dataframe tbody tr th:only-of-type {\n",
       "        vertical-align: middle;\n",
       "    }\n",
       "\n",
       "    .dataframe tbody tr th {\n",
       "        vertical-align: top;\n",
       "    }\n",
       "\n",
       "    .dataframe thead th {\n",
       "        text-align: right;\n",
       "    }\n",
       "</style>\n",
       "<table border=\"1\" class=\"dataframe\">\n",
       "  <thead>\n",
       "    <tr style=\"text-align: right;\">\n",
       "      <th></th>\n",
       "      <th>Product_Name</th>\n",
       "      <th>Product_Quantity</th>\n",
       "      <th>MRP_Price</th>\n",
       "      <th>Offer_Price</th>\n",
       "      <th>Vendor</th>\n",
       "      <th>Category</th>\n",
       "      <th>Offer_Price(Rs)</th>\n",
       "    </tr>\n",
       "  </thead>\n",
       "  <tbody>\n",
       "    <tr>\n",
       "      <th>0</th>\n",
       "      <td>Tur / Arhar Dal</td>\n",
       "      <td>2.0</td>\n",
       "      <td>280.0</td>\n",
       "      <td>190.00</td>\n",
       "      <td>JioMart</td>\n",
       "      <td>Dals-Vegetables</td>\n",
       "      <td>190.0</td>\n",
       "    </tr>\n",
       "    <tr>\n",
       "      <th>1</th>\n",
       "      <td>Raw Peanuts 1 Kg</td>\n",
       "      <td>1.0</td>\n",
       "      <td>127.0</td>\n",
       "      <td>125.00</td>\n",
       "      <td>JioMart</td>\n",
       "      <td>Dals-Vegetables</td>\n",
       "      <td>125.0</td>\n",
       "    </tr>\n",
       "    <tr>\n",
       "      <th>2</th>\n",
       "      <td>Good Life Tur Da</td>\n",
       "      <td>1.0</td>\n",
       "      <td>137.0</td>\n",
       "      <td>108.00</td>\n",
       "      <td>JioMart</td>\n",
       "      <td>Dals-Vegetables</td>\n",
       "      <td>108.0</td>\n",
       "    </tr>\n",
       "    <tr>\n",
       "      <th>3</th>\n",
       "      <td>Good Life Tur Da</td>\n",
       "      <td>1.0</td>\n",
       "      <td>133.0</td>\n",
       "      <td>116.00</td>\n",
       "      <td>JioMart</td>\n",
       "      <td>Dals-Vegetables</td>\n",
       "      <td>116.0</td>\n",
       "    </tr>\n",
       "    <tr>\n",
       "      <th>4</th>\n",
       "      <td>Good Life Moong</td>\n",
       "      <td>0.5</td>\n",
       "      <td>84.0</td>\n",
       "      <td>71.00</td>\n",
       "      <td>JioMart</td>\n",
       "      <td>Dals-Vegetables</td>\n",
       "      <td>71.0</td>\n",
       "    </tr>\n",
       "  </tbody>\n",
       "</table>\n",
       "</div>"
      ],
      "text/plain": [
       "       Product_Name  Product_Quantity  MRP_Price Offer_Price   Vendor  \\\n",
       "0  Tur / Arhar Dal                2.0      280.0      190.00  JioMart   \n",
       "1  Raw Peanuts 1 Kg               1.0      127.0      125.00  JioMart   \n",
       "2  Good Life Tur Da               1.0      137.0      108.00  JioMart   \n",
       "3  Good Life Tur Da               1.0      133.0      116.00  JioMart   \n",
       "4  Good Life Moong                0.5       84.0       71.00  JioMart   \n",
       "\n",
       "          Category  Offer_Price(Rs)  \n",
       "0  Dals-Vegetables            190.0  \n",
       "1  Dals-Vegetables            125.0  \n",
       "2  Dals-Vegetables            108.0  \n",
       "3  Dals-Vegetables            116.0  \n",
       "4  Dals-Vegetables             71.0  "
      ]
     },
     "execution_count": 17,
     "metadata": {},
     "output_type": "execute_result"
    }
   ],
   "source": [
    "newdf.head()"
   ]
  },
  {
   "cell_type": "code",
   "execution_count": 18,
   "metadata": {},
   "outputs": [
    {
     "data": {
      "text/html": [
       "<div>\n",
       "<style scoped>\n",
       "    .dataframe tbody tr th:only-of-type {\n",
       "        vertical-align: middle;\n",
       "    }\n",
       "\n",
       "    .dataframe tbody tr th {\n",
       "        vertical-align: top;\n",
       "    }\n",
       "\n",
       "    .dataframe thead th {\n",
       "        text-align: right;\n",
       "    }\n",
       "</style>\n",
       "<table border=\"1\" class=\"dataframe\">\n",
       "  <thead>\n",
       "    <tr style=\"text-align: right;\">\n",
       "      <th></th>\n",
       "      <th>Product_Quantity</th>\n",
       "      <th>MRP_Price</th>\n",
       "      <th>Offer_Price(Rs)</th>\n",
       "    </tr>\n",
       "  </thead>\n",
       "  <tbody>\n",
       "    <tr>\n",
       "      <th>count</th>\n",
       "      <td>20.000000</td>\n",
       "      <td>20.000000</td>\n",
       "      <td>20.000000</td>\n",
       "    </tr>\n",
       "    <tr>\n",
       "      <th>mean</th>\n",
       "      <td>0.885000</td>\n",
       "      <td>116.350000</td>\n",
       "      <td>95.550000</td>\n",
       "    </tr>\n",
       "    <tr>\n",
       "      <th>std</th>\n",
       "      <td>0.465974</td>\n",
       "      <td>60.162302</td>\n",
       "      <td>43.648687</td>\n",
       "    </tr>\n",
       "    <tr>\n",
       "      <th>min</th>\n",
       "      <td>0.200000</td>\n",
       "      <td>35.000000</td>\n",
       "      <td>25.000000</td>\n",
       "    </tr>\n",
       "    <tr>\n",
       "      <th>25%</th>\n",
       "      <td>0.500000</td>\n",
       "      <td>76.750000</td>\n",
       "      <td>66.750000</td>\n",
       "    </tr>\n",
       "    <tr>\n",
       "      <th>50%</th>\n",
       "      <td>1.000000</td>\n",
       "      <td>96.500000</td>\n",
       "      <td>83.500000</td>\n",
       "    </tr>\n",
       "    <tr>\n",
       "      <th>75%</th>\n",
       "      <td>1.000000</td>\n",
       "      <td>138.750000</td>\n",
       "      <td>122.750000</td>\n",
       "    </tr>\n",
       "    <tr>\n",
       "      <th>max</th>\n",
       "      <td>2.000000</td>\n",
       "      <td>280.000000</td>\n",
       "      <td>190.000000</td>\n",
       "    </tr>\n",
       "  </tbody>\n",
       "</table>\n",
       "</div>"
      ],
      "text/plain": [
       "       Product_Quantity   MRP_Price  Offer_Price(Rs)\n",
       "count         20.000000   20.000000        20.000000\n",
       "mean           0.885000  116.350000        95.550000\n",
       "std            0.465974   60.162302        43.648687\n",
       "min            0.200000   35.000000        25.000000\n",
       "25%            0.500000   76.750000        66.750000\n",
       "50%            1.000000   96.500000        83.500000\n",
       "75%            1.000000  138.750000       122.750000\n",
       "max            2.000000  280.000000       190.000000"
      ]
     },
     "execution_count": 18,
     "metadata": {},
     "output_type": "execute_result"
    }
   ],
   "source": [
    "newdf.describe()"
   ]
  },
  {
   "cell_type": "code",
   "execution_count": 19,
   "metadata": {},
   "outputs": [
    {
     "data": {
      "text/plain": [
       "(20, 7)"
      ]
     },
     "execution_count": 19,
     "metadata": {},
     "output_type": "execute_result"
    }
   ],
   "source": [
    "newdf.shape"
   ]
  },
  {
   "cell_type": "code",
   "execution_count": 20,
   "metadata": {},
   "outputs": [
    {
     "name": "stdout",
     "output_type": "stream",
     "text": [
      "<class 'pandas.core.frame.DataFrame'>\n",
      "RangeIndex: 20 entries, 0 to 19\n",
      "Data columns (total 7 columns):\n",
      " #   Column            Non-Null Count  Dtype  \n",
      "---  ------            --------------  -----  \n",
      " 0   Product_Name      20 non-null     object \n",
      " 1   Product_Quantity  20 non-null     float64\n",
      " 2   MRP_Price         20 non-null     float64\n",
      " 3   Offer_Price       20 non-null     object \n",
      " 4   Vendor            20 non-null     object \n",
      " 5   Category          20 non-null     object \n",
      " 6   Offer_Price(Rs)   20 non-null     float64\n",
      "dtypes: float64(3), object(4)\n",
      "memory usage: 864.0+ bytes\n"
     ]
    }
   ],
   "source": [
    "newdf.info()"
   ]
  },
  {
   "cell_type": "code",
   "execution_count": 21,
   "metadata": {},
   "outputs": [
    {
     "data": {
      "text/plain": [
       "array([280., 127., 137., 133.,  84., 101., 226.,  80.,  79.,  68., 144.,\n",
       "        49., 132., 149.,  70.,  35.,  91., 180.,  92.])"
      ]
     },
     "execution_count": 21,
     "metadata": {},
     "output_type": "execute_result"
    }
   ],
   "source": [
    "newdf.MRP_Price.unique()"
   ]
  },
  {
   "cell_type": "code",
   "execution_count": 22,
   "metadata": {},
   "outputs": [
    {
     "data": {
      "text/plain": [
       "array(['190.00', '125.00', '108.00', '116.00', '71.00', '95.00', '180.00',\n",
       "       '70.00', '68.00', '61.00', '120.00', '40.00', '130.00', '129.00',\n",
       "       '63.00', '56.00', '25.00', '122.00', '72.00'], dtype=object)"
      ]
     },
     "execution_count": 22,
     "metadata": {},
     "output_type": "execute_result"
    }
   ],
   "source": [
    "newdf.Offer_Price.unique()"
   ]
  },
  {
   "cell_type": "code",
   "execution_count": 23,
   "metadata": {},
   "outputs": [
    {
     "data": {
      "text/plain": [
       "70.0     2\n",
       "92.0     1\n",
       "79.0     1\n",
       "127.0    1\n",
       "137.0    1\n",
       "133.0    1\n",
       "84.0     1\n",
       "101.0    1\n",
       "226.0    1\n",
       "80.0     1\n",
       "68.0     1\n",
       "180.0    1\n",
       "144.0    1\n",
       "49.0     1\n",
       "132.0    1\n",
       "149.0    1\n",
       "35.0     1\n",
       "91.0     1\n",
       "280.0    1\n",
       "Name: MRP_Price, dtype: int64"
      ]
     },
     "execution_count": 23,
     "metadata": {},
     "output_type": "execute_result"
    }
   ],
   "source": [
    "newdf.MRP_Price.value_counts()"
   ]
  },
  {
   "cell_type": "code",
   "execution_count": 24,
   "metadata": {},
   "outputs": [
    {
     "data": {
      "text/plain": [
       "Product_Name        17\n",
       "Product_Quantity     4\n",
       "MRP_Price           19\n",
       "Offer_Price         19\n",
       "Vendor               1\n",
       "Category             1\n",
       "Offer_Price(Rs)     19\n",
       "dtype: int64"
      ]
     },
     "execution_count": 24,
     "metadata": {},
     "output_type": "execute_result"
    }
   ],
   "source": [
    "\n",
    "newdf.nunique()"
   ]
  },
  {
   "cell_type": "code",
   "execution_count": 25,
   "metadata": {},
   "outputs": [
    {
     "data": {
      "text/plain": [
       "False"
      ]
     },
     "execution_count": 25,
     "metadata": {},
     "output_type": "execute_result"
    }
   ],
   "source": [
    "# check null or missing value\n",
    "\n",
    "newdf.isnull().values.any()"
   ]
  },
  {
   "cell_type": "code",
   "execution_count": 26,
   "metadata": {},
   "outputs": [
    {
     "data": {
      "text/html": [
       "<div>\n",
       "<style scoped>\n",
       "    .dataframe tbody tr th:only-of-type {\n",
       "        vertical-align: middle;\n",
       "    }\n",
       "\n",
       "    .dataframe tbody tr th {\n",
       "        vertical-align: top;\n",
       "    }\n",
       "\n",
       "    .dataframe thead th {\n",
       "        text-align: right;\n",
       "    }\n",
       "</style>\n",
       "<table border=\"1\" class=\"dataframe\">\n",
       "  <thead>\n",
       "    <tr style=\"text-align: right;\">\n",
       "      <th></th>\n",
       "      <th></th>\n",
       "      <th>Product_Quantity</th>\n",
       "      <th>MRP_Price</th>\n",
       "      <th>Offer_Price(Rs)</th>\n",
       "    </tr>\n",
       "    <tr>\n",
       "      <th>Category</th>\n",
       "      <th>Product_Name</th>\n",
       "      <th></th>\n",
       "      <th></th>\n",
       "      <th></th>\n",
       "    </tr>\n",
       "  </thead>\n",
       "  <tbody>\n",
       "    <tr>\n",
       "      <th rowspan=\"17\" valign=\"top\">Dals-Vegetables</th>\n",
       "      <th>Chana Dal 2 kg</th>\n",
       "      <td>2.0</td>\n",
       "      <td>180.0</td>\n",
       "      <td>122.0</td>\n",
       "    </tr>\n",
       "    <tr>\n",
       "      <th>Good Life Brown</th>\n",
       "      <td>1.0</td>\n",
       "      <td>91.0</td>\n",
       "      <td>70.0</td>\n",
       "    </tr>\n",
       "    <tr>\n",
       "      <th>Good Life Chana</th>\n",
       "      <td>0.5</td>\n",
       "      <td>49.0</td>\n",
       "      <td>40.0</td>\n",
       "    </tr>\n",
       "    <tr>\n",
       "      <th>Good Life Moong</th>\n",
       "      <td>1.0</td>\n",
       "      <td>176.0</td>\n",
       "      <td>143.0</td>\n",
       "    </tr>\n",
       "    <tr>\n",
       "      <th>Good Life Roaste</th>\n",
       "      <td>0.2</td>\n",
       "      <td>35.0</td>\n",
       "      <td>25.0</td>\n",
       "    </tr>\n",
       "    <tr>\n",
       "      <th>Good Life Toor D</th>\n",
       "      <td>0.5</td>\n",
       "      <td>70.0</td>\n",
       "      <td>56.0</td>\n",
       "    </tr>\n",
       "    <tr>\n",
       "      <th>Good Life Tur Da</th>\n",
       "      <td>2.0</td>\n",
       "      <td>270.0</td>\n",
       "      <td>224.0</td>\n",
       "    </tr>\n",
       "    <tr>\n",
       "      <th>Good Life Urad D</th>\n",
       "      <td>1.0</td>\n",
       "      <td>159.0</td>\n",
       "      <td>138.0</td>\n",
       "    </tr>\n",
       "    <tr>\n",
       "      <th>Loose Chana Dal</th>\n",
       "      <td>1.0</td>\n",
       "      <td>68.0</td>\n",
       "      <td>61.0</td>\n",
       "    </tr>\n",
       "    <tr>\n",
       "      <th>Loose Moong Dal</th>\n",
       "      <td>1.0</td>\n",
       "      <td>132.0</td>\n",
       "      <td>130.0</td>\n",
       "    </tr>\n",
       "    <tr>\n",
       "      <th>Loose Toor Dal V</th>\n",
       "      <td>1.0</td>\n",
       "      <td>101.0</td>\n",
       "      <td>95.0</td>\n",
       "    </tr>\n",
       "    <tr>\n",
       "      <th>Pick N Cook Maha</th>\n",
       "      <td>1.0</td>\n",
       "      <td>144.0</td>\n",
       "      <td>120.0</td>\n",
       "    </tr>\n",
       "    <tr>\n",
       "      <th>Pick N Cook Maso</th>\n",
       "      <td>0.5</td>\n",
       "      <td>70.0</td>\n",
       "      <td>63.0</td>\n",
       "    </tr>\n",
       "    <tr>\n",
       "      <th>Pick N Cook Prem</th>\n",
       "      <td>1.0</td>\n",
       "      <td>226.0</td>\n",
       "      <td>180.0</td>\n",
       "    </tr>\n",
       "    <tr>\n",
       "      <th>Raw Peanuts 1 Kg</th>\n",
       "      <td>1.0</td>\n",
       "      <td>127.0</td>\n",
       "      <td>125.0</td>\n",
       "    </tr>\n",
       "    <tr>\n",
       "      <th>Tata Sampann Hig</th>\n",
       "      <td>1.0</td>\n",
       "      <td>149.0</td>\n",
       "      <td>129.0</td>\n",
       "    </tr>\n",
       "    <tr>\n",
       "      <th>Tur / Arhar Dal</th>\n",
       "      <td>2.0</td>\n",
       "      <td>280.0</td>\n",
       "      <td>190.0</td>\n",
       "    </tr>\n",
       "  </tbody>\n",
       "</table>\n",
       "</div>"
      ],
      "text/plain": [
       "                                  Product_Quantity  MRP_Price  Offer_Price(Rs)\n",
       "Category        Product_Name                                                  \n",
       "Dals-Vegetables Chana Dal 2 kg                 2.0      180.0            122.0\n",
       "                Good Life Brown                1.0       91.0             70.0\n",
       "                Good Life Chana                0.5       49.0             40.0\n",
       "                Good Life Moong                1.0      176.0            143.0\n",
       "                Good Life Roaste               0.2       35.0             25.0\n",
       "                Good Life Toor D               0.5       70.0             56.0\n",
       "                Good Life Tur Da               2.0      270.0            224.0\n",
       "                Good Life Urad D               1.0      159.0            138.0\n",
       "                Loose Chana Dal                1.0       68.0             61.0\n",
       "                Loose Moong Dal                1.0      132.0            130.0\n",
       "                Loose Toor Dal V               1.0      101.0             95.0\n",
       "                Pick N Cook Maha               1.0      144.0            120.0\n",
       "                Pick N Cook Maso               0.5       70.0             63.0\n",
       "                Pick N Cook Prem               1.0      226.0            180.0\n",
       "                Raw Peanuts 1 Kg               1.0      127.0            125.0\n",
       "                Tata Sampann Hig               1.0      149.0            129.0\n",
       "                Tur / Arhar Dal                2.0      280.0            190.0"
      ]
     },
     "execution_count": 26,
     "metadata": {},
     "output_type": "execute_result"
    }
   ],
   "source": [
    "newdf.groupby(['Category','Product_Name']).sum()"
   ]
  },
  {
   "cell_type": "code",
   "execution_count": 27,
   "metadata": {},
   "outputs": [
    {
     "name": "stdout",
     "output_type": "stream",
     "text": [
      "IQR:\n",
      "Product_Quantity     0.5\n",
      "MRP_Price           62.0\n",
      "Offer_Price(Rs)     56.0\n",
      "dtype: float64\n",
      "\n",
      "Lower bound:\n",
      "Product_Quantity    -0.25\n",
      "MRP_Price          -16.25\n",
      "Offer_Price(Rs)    -17.25\n",
      "dtype: float64\n",
      "\n",
      "Upper bound:\n",
      "Product_Quantity      1.75\n",
      "MRP_Price           231.75\n",
      "Offer_Price(Rs)     206.75\n",
      "dtype: float64\n"
     ]
    }
   ],
   "source": [
    "\n",
    "Q1 = newdf.quantile(0.25)\n",
    "Q3 = newdf.quantile(0.75)\n",
    "IQR = Q3 - Q1\n",
    "\n",
    "print(\"IQR:\")\n",
    "print(IQR)\n",
    "\n",
    "lower_bound = Q1 -(1.5 * IQR) \n",
    "upper_bound = Q3 +(1.5 * IQR) \n",
    "\n",
    "print()\n",
    "print(\"Lower bound:\")\n",
    "print(lower_bound)\n",
    "print()\n",
    "print(\"Upper bound:\")\n",
    "print(upper_bound)"
   ]
  },
  {
   "cell_type": "code",
   "execution_count": 28,
   "metadata": {},
   "outputs": [],
   "source": [
    "## removing Outliers using IQR\n",
    "def remove_outlier(df, low, high):\n",
    "    #low = .05\n",
    "    #high = .95\n",
    "    quant_df = df.quantile([low, high])\n",
    "    for name in list(df.columns):\n",
    "#         if is_numeric_dtype(lugg_df[name]):\n",
    "        df = df[(df[name] > quant_df.loc[low, name]) \n",
    "        & (df[name] < quant_df.loc[high, name])]\n",
    "    return df"
   ]
  },
  {
   "cell_type": "code",
   "execution_count": 29,
   "metadata": {},
   "outputs": [
    {
     "ename": "NameError",
     "evalue": "name 'z' is not defined",
     "output_type": "error",
     "traceback": [
      "\u001b[1;31m---------------------------------------------------------------------------\u001b[0m",
      "\u001b[1;31mNameError\u001b[0m                                 Traceback (most recent call last)",
      "\u001b[1;32m<ipython-input-29-56d512af7917>\u001b[0m in \u001b[0;36m<module>\u001b[1;34m\u001b[0m\n\u001b[0;32m      1\u001b[0m \u001b[1;31m# After removing outliers using Z-Score calculated above\u001b[0m\u001b[1;33m\u001b[0m\u001b[1;33m\u001b[0m\u001b[1;33m\u001b[0m\u001b[0m\n\u001b[1;32m----> 2\u001b[1;33m \u001b[0mnewdf\u001b[0m \u001b[1;33m=\u001b[0m \u001b[0mnewdf\u001b[0m\u001b[1;33m[\u001b[0m\u001b[1;33m(\u001b[0m\u001b[0mz\u001b[0m \u001b[1;33m<\u001b[0m \u001b[1;36m3\u001b[0m\u001b[1;33m)\u001b[0m\u001b[1;33m.\u001b[0m\u001b[0mall\u001b[0m\u001b[1;33m(\u001b[0m\u001b[0maxis\u001b[0m\u001b[1;33m=\u001b[0m\u001b[1;36m1\u001b[0m\u001b[1;33m)\u001b[0m\u001b[1;33m]\u001b[0m\u001b[1;33m\u001b[0m\u001b[1;33m\u001b[0m\u001b[0m\n\u001b[0m\u001b[0;32m      3\u001b[0m \u001b[0mnewdf\u001b[0m\u001b[1;33m.\u001b[0m\u001b[0mshape\u001b[0m\u001b[1;33m\u001b[0m\u001b[1;33m\u001b[0m\u001b[0m\n",
      "\u001b[1;31mNameError\u001b[0m: name 'z' is not defined"
     ]
    }
   ],
   "source": [
    "# After removing outliers using Z-Score calculated above\n",
    "newdf = newdf[(z < 3).all(axis=1)]\n",
    "newdf.shape"
   ]
  },
  {
   "cell_type": "code",
   "execution_count": null,
   "metadata": {},
   "outputs": [],
   "source": [
    "## Finding Correlation and depicting using Heat Map\n",
    "\n",
    "import seaborn as sb\n",
    "\n",
    "correlation_matrix = np.corrcoef(newdf)\n",
    "print(\"Correlation Matrix:\")\n",
    "print(\"Correlation of Cost with Weight:\", correlation_matrix[0,1])\n",
    "print(\"Correlation of Cost with Volume:\", correlation_matrix[0,2])\n",
    "sb.heatmap(data=correlation_matrix, annot=True)"
   ]
  },
  {
   "cell_type": "code",
   "execution_count": null,
   "metadata": {},
   "outputs": [],
   "source": [
    "# Finding Correlation between Cost and Weight\n",
    "import matplotlib.pyplot as plt\n",
    "\n",
    "fig, ax  = plt.subplots(figsize=(12, 8))\n",
    "ax.scatter(newdf['Offer_Price'], newdf['MRP_Price'])\n",
    "ax.set_xlabel('MRP_Price')\n",
    "ax.set_ylabel('Offer_Price')\n",
    "plt.show()"
   ]
  },
  {
   "cell_type": "code",
   "execution_count": null,
   "metadata": {},
   "outputs": [],
   "source": [
    "## Distribution Plot for Cost (the dependent variable)\n",
    "sb.distplot(newdf['Offer_Price'])"
   ]
  },
  {
   "cell_type": "code",
   "execution_count": null,
   "metadata": {},
   "outputs": [],
   "source": [
    "## Distribution Plot for Cost (the dependent variable)\n",
    "sb.distplot(newdf['MRP_Price'])"
   ]
  },
  {
   "cell_type": "code",
   "execution_count": null,
   "metadata": {},
   "outputs": [],
   "source": [
    "## Distribution Plot for Cost (the dependent variable)\n",
    "sb.distplot(newdf['Product_Quantity'])"
   ]
  },
  {
   "cell_type": "code",
   "execution_count": null,
   "metadata": {},
   "outputs": [],
   "source": []
  }
 ],
 "metadata": {
  "kernelspec": {
   "display_name": "Python 3",
   "language": "python",
   "name": "python3"
  },
  "language_info": {
   "codemirror_mode": {
    "name": "ipython",
    "version": 3
   },
   "file_extension": ".py",
   "mimetype": "text/x-python",
   "name": "python",
   "nbconvert_exporter": "python",
   "pygments_lexer": "ipython3",
   "version": "3.7.7"
  }
 },
 "nbformat": 4,
 "nbformat_minor": 4
}
