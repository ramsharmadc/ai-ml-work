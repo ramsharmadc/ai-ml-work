{
 "cells": [
  {
   "cell_type": "code",
   "execution_count": 1,
   "metadata": {
    "scrolled": true
   },
   "outputs": [
    {
     "data": {
      "text/plain": [
       "200"
      ]
     },
     "execution_count": 1,
     "metadata": {},
     "output_type": "execute_result"
    }
   ],
   "source": [
    "import requests\n",
    "\n",
    "from bs4 import BeautifulSoup as Soup\n",
    "from urllib.request import urlopen as uReq\n",
    "\n",
    "r=requests.get(\"https://www.jiomart.com/category/staples/dals-pulses\")\n",
    "r.status_code"
   ]
  },
  {
   "cell_type": "code",
   "execution_count": 2,
   "metadata": {},
   "outputs": [],
   "source": [
    "my_url = 'https://www.jiomart.com/category/staples/dals-pulses'\n",
    "uClient = uReq(my_url)\n",
    "page_html = uClient.read()\n",
    "uClient.close()\n",
    "page_Soup = Soup(page_html, \"html.parser\")"
   ]
  },
  {
   "cell_type": "code",
   "execution_count": 3,
   "metadata": {
    "scrolled": true
   },
   "outputs": [
    {
     "name": "stdout",
     "output_type": "stream",
     "text": [
      "<!DOCTYPE html>\n",
      " <html lang=\"en-US\"> <head> <title>Dals &amp; Pulses - JioMart</title> <meta charset=\"utf-8\"/> <meta content=\"INDEX,FOLLOW\" name=\"robots\"/> <meta content=\"Buy Grocery Online in Mumbai, Pune, Bangalore at Reliance Smart online grocery store. Best price on fresh fruits &amp; vegetables, dairy &amp; bakery, packaged food.\" name=\"description\"> <meta content=\"\" name=\"keywords\"> <meta content=\"width=device-width, height=device-height, initial-scale=1.0, maximum-scale=1.0, user-scalable=0\" name=\"viewport\"/> <meta content=\"JioMart\" property=\"og:site_name\"> <meta content=\"website\" property=\"og:type\"/> <meta content=\"Dals &amp; Pulses - JioMart\" property=\"og:title\"/> <meta content=\"Buy Grocery Online in Mumbai, Pune, Bangalore at Reliance Smart online grocery store. Best price on fresh fruits &amp; vegetables, dairy &amp; bakery, packaged food.\" property=\"og:description\"/> <meta content=\"https://www.jiomart.com/category/staples/dals-pulses\" property=\"og:url\"/> <meta content=\"https://www.jiomart.com/assets/global/logo-fb.png\" property=\"og:image\"/> <!-- Appple Touch Icons --> <link href=\"https://www.jiomart.com/assets/global/apple-touch-icon-48x48.png\" rel=\"apple-touch-icon\" sizes=\"48x48\"/> <link href=\"https://www.jiomart.com/assets/global/apple-touch-icon-72x72.png\" rel=\"apple-touch-icon\" sizes=\"72x72\"/> <link href=\"https://www.jiomart.com/assets/global/apple-touch-icon-128x128.png\" rel=\"apple-touch-icon\" sizes=\"128x128\"/> <link href=\"https://www.jiomart.com/assets/global/apple-touch-icon-256x256.png\" rel=\"apple-touch-icon\" sizes=\"256x256\"/> <link href=\"https://www.jiomart.com/assets/global/apple-touch-icon-48x48.png\" rel=\"apple-touch-icon\"/> <meta content=\"#ffffff\" name=\"theme-color\"/> <link as=\"image\" href=\"https://www.jiomart.com/assets/smartweb/images/jiomart_logo_beta.svg\" rel=\"preload\"/> <link as=\"font\" crossorigin=\"anonymous\" href=\"https://www.jiomart.com/assets/smartweb/fonts/jio/JioTypeW04-Light.woff2\" rel=\"preload\"/> <link as=\"font\" crossorigin=\"anonymous\" href=\"https://www.jiomart.com/assets/smartweb/fonts/jio/JioTypeW04-Bold.woff2\" rel=\"preload\"/> <link as=\"font\" crossorigin=\"anonymous\" href=\"https://www.jiomart.com/assets/smartweb/fonts/jio/JioTypeW04-Medium.woff2\" rel=\"preload\"/> <link as=\"font\" crossorigin=\"anonymous\" href=\"https://www.jiomart.com/assets/smartweb/fonts/Blank-Theme-Icons/Blank-Theme-Icons.woff2\" rel=\"preload\"/> <link href=\"https://www.jiomart.com/assets/smartweb/favicon.svg\" rel=\"shortcut icon\" type=\"image/x-icon\"> <link href=\"https://www.jiomart.com/assets/smartweb/css/main.min.css\" media=\"all\" rel=\"stylesheet\" type=\"text/css\"> <link href=\"https://www.jiomart.com/assets/version1588949579/smartweb/css/style.min.css\" media=\"all\" rel=\"stylesheet\" type=\"text/css\"> <link href=\"https://www.jiomart.com/assets/version1588949579/smartweb/css/layout.min.css\" media=\"all\" rel=\"stylesheet\" type=\"text/css\"> <link href=\"https://www.jiomart.com/assets/version1588949579/smartweb/css/offers.min.css\" media=\"all\" rel=\"stylesheet\" type=\"text/css\"> <link href=\"https://www.jiomart.com/assets/version1588949579/smartweb/css/home.min.css\" media=\"all\" rel=\"stylesheet\" type=\"text/css\"> <link href=\"https://www.jiomart.com/assets/version1588949579/smartweb/css/searchpage.min.css\" media=\"all\" rel=\"stylesheet\" type=\"text/css\"> <link href=\"https://www.jiomart.com/assets/smartweb/css/jquery-ui.min.css\" media=\"all\" rel=\"stylesheet\" type=\"text/css\"> <link href=\"https://www.jiomart.com/assets/smartweb/css/listnav.css\" media=\"all\" rel=\"stylesheet\" type=\"text/css\"> <link href=\"https://www.jiomart.com/assets/version1588949579/smartweb/css/static.min.css\" media=\"all\" rel=\"stylesheet\" type=\"text/css\"> <style> .multi-srch-hide{ display:none !important; } </style> <script>(function(w,d,s,l,i){w[l]=w[l]||[];w[l].push({'gtm.start':\n",
      "\t\tnew Date().getTime(),event:'gtm.js'});var f=d.getElementsByTagName(s)[0],\n",
      "\t\tj=d.createElement(s),dl=l!='dataLayer'?'&l='+l:'';j.async=true;j.src=\n",
      "\t\t'https://www.googletagmanager.com/gtm.js?id='+i+dl;f.parentNode.insertBefore(j,f);\n",
      "\t\t})(window,document,'script','dataLayer','GTM-NQLHTD8');</script> <script>\n",
      "        window.algolia_filter = false;\n",
      "        window.algolia_app_id = \"3YP0HP3WSH\";\n",
      "        window.algolia_api_key = \"aace3f18430a49e185d2c1111602e4b1\";\n",
      "        window.algolia_index_name = \"prod_mart\";\n",
      "                window.product_image_path = \"https://www.jiomart.com/\";\n",
      "            </script> <script>\n",
      "        window.isMobile = /iphone|ipod|ipad|android|blackberry|opera mini|opera mobi|skyfire|maemo|windows phone|palm|iemobile|symbian|symbianos|fennec/i.test(navigator.userAgent.toLowerCase());\n",
      "    </script> </link></link></link></link></link></link></link></link></link></link></meta></meta></meta></head> <body class=\"otc-category-page catalog-category-view level-2\"> <noscript><iframe height=\"0\" src=\"https://www.googletagmanager.com/ns.html?id=GTM-NQLHTD8\" style=\"display:none;visibility:hidden\" width=\"0\"></iframe></noscript> <div class=\"page-wrapper\"> <div class=\"top-section\"> <!-- Header Section --> <header class=\"page-header\"> <div class=\"panel-wrapper\"> <div class=\"panel-header\"> <div class=\"logo col-lg-2 p-0\"> <a href=\"https://www.jiomart.com/\"> <img alt=\"JioMart, Online Groceries Shop\" src=\"https://www.jiomart.com/assets/smartweb/images/jiomart_logo_beta.svg\"/> </a> </div> <div class=\"search-bar col p-0\"> <div class=\"block-search\"> <div class=\"pinCode-section\" id=\"pincode_section\"> <div class=\"pinCode\" id=\"location_box\"> <button class=\"get-location\" id=\"location_btn\" type=\"button\">L</button> <span> Delivering to <br/> <input class=\"pinNum\" id=\"delivering_to\" maxlength=\"6\" placeholder=\"\" readonly=\"\" type=\"tel\"/> </span> <button class=\"editIcon\" title=\"Delivery\" type=\"button\"></button> </div> </div> <div class=\"auto-search\"> <form action=\"https://www.jiomart.com/catalogsearch/result\" id=\"search_form\" method=\"GET\"> <div class=\"search-section\"> <input autocapitalize=\"off\" autocomplete=\"off\" autocorrect=\"off\" class=\"input-text algolia-search-input aa-input\" id=\"search\" name=\"q\" placeholder=\"Search for Products...\" spellcheck=\"false\" tabindex=\"0\" type=\"text\"/> </div> <button class=\"iconSearch\" type=\"submit\"></button> <span class=\"qr-code d-none\"> <label class=\"qrcode-text-btn\"><input accept=\"image/*\" capture=\"environment\" onchange=\"openQRCamera(this);\" tabindex=\"-1\" type=\"file\"/></label> </span> </form> </div> </div> </div> <div class=\"search_list col-lg-1 p-0\"> <span id=\"rel_search_list_btn\">Search with List</span> <div class=\"search_list_block\" id=\"rel_search_list_box\" style=\"display:none;\"> <h5>Shop faster - type or paste your shopping list below</h5> <button class=\"close\" type=\"button\"> <span>×</span> </button> <div class=\"clearfix\"></div> <form id=\"rel_search_form\"> <textarea autofocus=\"true\" class=\"search_product\" id=\"rel_search_val\" name=\"searchTerm\" placeholder=\"e.g. Milk, Bread, Fruit\"></textarea> <div class=\"clearfix\"></div> <button class=\"clear_btn\" title=\"Reset\" type=\"reset\"> Clear </button> <button class=\"search_btn\" title=\"Submit\" type=\"submit\"> Search Now </button> <div class=\"clearfix\"></div> </form> </div> </div> <div class=\"login col-lg-2 p-0\"> <div class=\"logged\" style=\"display: none;\"> <a href=\"https://www.jiomart.com/customer/account/login\"> Sign In </a> <a href=\"https://www.jiomart.com/customer/account/\" id=\"logged_user\"></a> </div> </div> <div class=\"mini-cart col-lg-1 p-0\" data-block=\"minicart\" id=\"minicart_btn\"> <a class=\"cart_text\" href=\"/checkout/cart\"> <div class=\"text\"> <span class=\"counter-number\"></span> </div> Cart </a> <div class=\"minicart_container\"> <div class=\"mc_triangle\"></div> <div class=\"mc_content\"></div> </div> </div> </div> </div> </header> <!-- Header Explorer Menu Section --> <div class=\"main-navigation\"> <div class=\"explorer-menu\"> <ul> <li> <a href=\"https://www.jiomart.com/all-category\">All Categories</a> </li> <li class=\"o-menu\"> <a href=\"https://www.jiomart.com/category/fruits-vegetables\"> Fruits &amp; Vegetables </a> <ul> <li> <a href=\"https://www.jiomart.com/category/fruits-vegetables/fresh-fruits\"> Fresh Fruits </a> </li> <li> <a href=\"https://www.jiomart.com/category/fruits-vegetables/fresh-vegetables\"> Fresh Vegetables </a> </li> <li> <a href=\"https://www.jiomart.com/category/fruits-vegetables/herbs-seasonings\"> Herbs &amp; Seasonings </a> </li> </ul> </li> <li class=\"o-menu\"> <a href=\"https://www.jiomart.com/category/dairy-bakery\"> Dairy &amp; Bakery </a> <ul> <li> <a href=\"https://www.jiomart.com/category/dairy-bakery/dairy\"> Dairy </a> </li> <li> <a href=\"https://www.jiomart.com/category/dairy-bakery/toast-khari\"> Toast &amp; Khari </a> </li> <li> <a href=\"https://www.jiomart.com/category/dairy-bakery/breads-and-buns\"> Breads and Buns </a> </li> </ul> </li> <li class=\"o-menu\"> <a href=\"https://www.jiomart.com/category/staples\"> Staples </a> <ul> <li> <a href=\"https://www.jiomart.com/category/staples/atta-flours-sooji\"> Atta, Flours &amp; Sooji </a> </li> <li> <a href=\"https://www.jiomart.com/category/staples/dals-pulses\"> Dals &amp; Pulses </a> </li> <li> <a href=\"https://www.jiomart.com/category/staples/rice-rice-products\"> Rice &amp; Rice Products </a> </li> <li> <a href=\"https://www.jiomart.com/category/staples/edible-oils\"> Edible Oils </a> </li> <li> <a href=\"https://www.jiomart.com/category/staples/dry-fruits\"> Dry Fruits </a> </li> <li> <a href=\"https://www.jiomart.com/category/staples/masalas-spices\"> Masalas &amp; Spices </a> </li> <li> <a href=\"https://www.jiomart.com/category/staples/salt-sugar-jaggery\"> Salt, Sugar &amp; Jaggery </a> </li> <li> <a href=\"https://www.jiomart.com/category/staples/soya-products-wheat-other-grains\"> Soya Products, Wheat &amp; Other Grains </a> </li> </ul> </li> <li class=\"o-menu\"> <a href=\"https://www.jiomart.com/category/snacks-branded-foods\"> Snacks &amp; Branded Foods </a> <ul> <li> <a href=\"https://www.jiomart.com/category/snacks-branded-foods/biscuits-cookies\"> Biscuits &amp; Cookies </a> </li> <li> <a href=\"https://www.jiomart.com/category/snacks-branded-foods/noodle-pasta-vermicelli\"> Noodle, Pasta, Vermicelli </a> </li> <li> <a href=\"https://www.jiomart.com/category/snacks-branded-foods/breakfast-cereals\"> Breakfast Cereals </a> </li> <li> <a href=\"https://www.jiomart.com/category/snacks-branded-foods/snacks-namkeen\"> Snacks &amp; Namkeen </a> </li> <li> <a href=\"https://www.jiomart.com/category/snacks-branded-foods/chocolates-candies\"> Chocolates &amp; Candies </a> </li> <li> <a href=\"https://www.jiomart.com/category/snacks-branded-foods/ready-to-cook-eat\"> Ready To Cook &amp; Eat </a> </li> <li> <a href=\"https://www.jiomart.com/category/snacks-branded-foods/spreads-sauces-ketchup\"> Spreads, Sauces, Ketchup </a> </li> <li> <a href=\"https://www.jiomart.com/category/snacks-branded-foods/indian-sweets\"> Indian Sweets </a> </li> </ul> </li> <li class=\"o-menu\"> <a href=\"https://www.jiomart.com/category/beverages\"> Beverages </a> <ul> <li> <a href=\"https://www.jiomart.com/category/beverages/tea\"> Tea </a> </li> <li> <a href=\"https://www.jiomart.com/category/beverages/coffee\"> Coffee </a> </li> <li> <a href=\"https://www.jiomart.com/category/beverages/fruit-juices\"> Fruit juices </a> </li> <li> <a href=\"https://www.jiomart.com/category/beverages/energy-soft-drinks\"> Energy &amp; Soft Drinks </a> </li> <li> <a href=\"https://www.jiomart.com/category/beverages/health-drink-supplement\"> Health Drink &amp; Supplement </a> </li> <li> <a href=\"https://www.jiomart.com/category/beverages/water\"> Water </a> </li> </ul> </li> <li class=\"o-menu\"> <a href=\"https://www.jiomart.com/category/personal-care\"> Personal Care </a> <ul> <li> <a href=\"https://www.jiomart.com/category/personal-care/hair-care\"> Hair Care </a> </li> <li> <a href=\"https://www.jiomart.com/category/personal-care/oral-care\"> Oral Care </a> </li> <li> <a href=\"https://www.jiomart.com/category/personal-care/skin-care\"> Skin Care </a> </li> <li> <a href=\"https://www.jiomart.com/category/personal-care/bath-hand-wash\"> Bath &amp; Hand Wash </a> </li> <li> <a href=\"https://www.jiomart.com/category/personal-care/body-wash-bathing-accessories\"> Body Wash &amp; Bathing Accessories </a> </li> <li> <a href=\"https://www.jiomart.com/category/personal-care/feminine-hygiene\"> Feminine Hygiene </a> </li> <li> <a href=\"https://www.jiomart.com/category/personal-care/men-s-grooming\"> Men's Grooming </a> </li> <li> <a href=\"https://www.jiomart.com/category/personal-care/deo-fragrances\"> Deo &amp; Fragrances </a> </li> <li> <a href=\"https://www.jiomart.com/category/personal-care/health-wellness\"> Health &amp; Wellness </a> </li> <li> <a href=\"https://www.jiomart.com/category/personal-care/makeup\"> Makeup </a> </li> </ul> </li> <li class=\"o-menu\"> <a href=\"https://www.jiomart.com/category/home-care\"> Home Care </a> <ul> <li> <a href=\"https://www.jiomart.com/category/home-care/detergents\"> Detergents </a> </li> <li> <a href=\"https://www.jiomart.com/category/home-care/dishwash\"> Dishwash </a> </li> <li> <a href=\"https://www.jiomart.com/category/home-care/all-purpose-cleaners\"> All Purpose Cleaners </a> </li> <li> <a href=\"https://www.jiomart.com/category/home-care/fresheners-repellents\"> Fresheners &amp; Repellents </a> </li> <li> <a href=\"https://www.jiomart.com/category/home-care/mops-brushes-scrubs\"> Mops, Brushes &amp; Scrubs </a> </li> <li> <a href=\"https://www.jiomart.com/category/home-care/electrical\"> Electrical </a> </li> <li> <a href=\"https://www.jiomart.com/category/home-care/disposables\"> Disposables </a> </li> <li> <a href=\"https://www.jiomart.com/category/home-care/pooja-needs\"> Pooja Needs </a> </li> <li> <a href=\"https://www.jiomart.com/category/home-care/shoe-care\"> Shoe Care </a> </li> <li> <a href=\"https://www.jiomart.com/category/home-care/stationery\"> Stationery </a> </li> </ul> </li> <li class=\"o-menu\"> <a href=\"https://www.jiomart.com/category/baby-care\"> Baby Care </a> <ul> <li> <a href=\"https://www.jiomart.com/category/baby-care/baby-bath-hygiene\"> Baby Bath &amp; Hygiene </a> </li> <li> <a href=\"https://www.jiomart.com/category/baby-care/diapers-wipes\"> Diapers &amp; Wipes </a> </li> </ul> </li> </ul> </div> </div> </div> <input id=\"default_pincode\" type=\"hidden\" value=\"400052\"> <input id=\"default_citycode\" type=\"hidden\" value=\"6220\"> <main class=\"main-section full-width\" id=\"maincontent\"> <div class=\"breadcrumbs d-none d-sm-block\"> <ul class=\"items\"> <li class=\"home\"> <a href=\"https://www.jiomart.com/\" title=\"Go to Home\"> Home </a> </li> <li class=\"home\"> <a href=\"https://www.jiomart.com/category/all\" title=\"Go to All Categories\"> All Categories </a> </li> <li class=\"home\"> <a href=\"https://www.jiomart.com/category/staples\" title=\"Go to Staples\"> Staples </a> </li> <li class=\"home\"> <a href=\"https://www.jiomart.com/category/staples/dals-pulses\" title=\"Go to Dals &amp; Pulses\"> Dals &amp; Pulses </a> </li> </ul> </div> <div class=\"content-section drug-list-page\"> <input id=\"page_type\" name=\"page_type\" type=\"hidden\" value=\"category\"> <input id=\"child_cats\" name=\"child_cats\" type=\"hidden\" value=\"Urad &amp; Other Dals,Toor, Channa &amp; Moong Dal,Bhuna Chana &amp; Others,Peanut &amp; Rajma,Other Dry Beans\"/> <input id=\"curr_cat_id\" name=\"cat_id\" type=\"hidden\" value=\"92\"/> <div class=\"left-block\"> <!-- left side Section --> <div class=\"white-bg\"> <h1> Categories </h1> <ul class=\"cat-menu\"> <li> <a class=\"cat-submenu\" href=\"javascript:void(0)\">Fruits &amp; Vegetables</a> <ul class=\"inner\"> <li> <a class=\"cat-submenu-level1\" href=\"https://www.jiomart.com/category/fruits-vegetables/fresh-fruits\">Fresh Fruits</a> </li> <li> <a class=\"cat-submenu-level1\" href=\"https://www.jiomart.com/category/fruits-vegetables/fresh-vegetables\">Fresh Vegetables</a> </li> <li> <a class=\"cat-submenu-level1\" href=\"https://www.jiomart.com/category/fruits-vegetables/herbs-seasonings\">Herbs &amp; Seasonings</a> </li> <li> <a class=\"cat-submenu-level1\" href=\"https://www.jiomart.com/category/fruits-vegetables/exotic-fruits-vegetables\">Exotic Fruits &amp; Vegetables</a> </li> </ul> </li> <li> <a class=\"cat-submenu\" href=\"javascript:void(0)\">Dairy &amp; Bakery</a> <ul class=\"inner\"> <li> <a class=\"cat-submenu-level1\" href=\"https://www.jiomart.com/category/dairy-bakery/dairy\">Dairy</a> </li> <li> <a class=\"cat-submenu-level1\" href=\"https://www.jiomart.com/category/dairy-bakery/toast-khari\">Toast &amp; Khari</a> </li> <li> <a class=\"cat-submenu-level1\" href=\"https://www.jiomart.com/category/dairy-bakery/cakes-muffins\">Cakes &amp; Muffins</a> </li> <li> <a class=\"cat-submenu-level1\" href=\"https://www.jiomart.com/category/dairy-bakery/breads-and-buns\">Breads and Buns</a> </li> <li> <a class=\"cat-submenu-level1\" href=\"https://www.jiomart.com/category/dairy-bakery/baked-cookies\">Baked Cookies</a> </li> </ul> </li> <li> <a class=\"cat-submenu active\" href=\"javascript:void(0)\">Staples</a> <ul class=\"inner show\"> <li> <a class=\"cat-submenu-level1\" href=\"https://www.jiomart.com/category/staples/atta-flours-sooji\">Atta, Flours &amp; Sooji</a> </li> <li> <a class=\"cat-submenu-level1 active\" href=\"https://www.jiomart.com/category/staples/dals-pulses\">Dals &amp; Pulses</a> </li> <li> <a class=\"cat-submenu-level1\" href=\"https://www.jiomart.com/category/staples/rice-rice-products\">Rice &amp; Rice Products</a> </li> <li> <a class=\"cat-submenu-level1\" href=\"https://www.jiomart.com/category/staples/edible-oils\">Edible Oils</a> </li> <li> <a class=\"cat-submenu-level1\" href=\"https://www.jiomart.com/category/staples/dry-fruits\">Dry Fruits</a> </li> <li> <a class=\"cat-submenu-level1\" href=\"https://www.jiomart.com/category/staples/masalas-spices\">Masalas &amp; Spices</a> </li> <li> <a class=\"cat-submenu-level1\" href=\"https://www.jiomart.com/category/staples/salt-sugar-jaggery\">Salt, Sugar &amp; Jaggery</a> </li> <li> <a class=\"cat-submenu-level1\" href=\"https://www.jiomart.com/category/staples/soya-products-wheat-other-grains\">Soya Products, Wheat &amp; Other Grains</a> </li> </ul> </li> <li> <a class=\"cat-submenu\" href=\"javascript:void(0)\">Snacks &amp; Branded Foods</a> <ul class=\"inner\"> <li> <a class=\"cat-submenu-level1\" href=\"https://www.jiomart.com/category/snacks-branded-foods/biscuits-cookies\">Biscuits &amp; Cookies</a> </li> <li> <a class=\"cat-submenu-level1\" href=\"https://www.jiomart.com/category/snacks-branded-foods/noodle-pasta-vermicelli\">Noodle, Pasta, Vermicelli</a> </li> <li> <a class=\"cat-submenu-level1\" href=\"https://www.jiomart.com/category/snacks-branded-foods/breakfast-cereals\">Breakfast Cereals</a> </li> <li> <a class=\"cat-submenu-level1\" href=\"https://www.jiomart.com/category/snacks-branded-foods/snacks-namkeen\">Snacks &amp; Namkeen</a> </li> <li> <a class=\"cat-submenu-level1\" href=\"https://www.jiomart.com/category/snacks-branded-foods/chocolates-candies\">Chocolates &amp; Candies</a> </li> <li> <a class=\"cat-submenu-level1\" href=\"https://www.jiomart.com/category/snacks-branded-foods/ready-to-cook-eat\">Ready To Cook &amp; Eat</a> </li> <li> <a class=\"cat-submenu-level1\" href=\"https://www.jiomart.com/category/snacks-branded-foods/frozen-veggies-snacks\">Frozen Veggies &amp; Snacks</a> </li> <li> <a class=\"cat-submenu-level1\" href=\"https://www.jiomart.com/category/snacks-branded-foods/spreads-sauces-ketchup\">Spreads, Sauces, Ketchup</a> </li> <li> <a class=\"cat-submenu-level1\" href=\"https://www.jiomart.com/category/snacks-branded-foods/indian-sweets\">Indian Sweets</a> </li> <li> <a class=\"cat-submenu-level1\" href=\"https://www.jiomart.com/category/snacks-branded-foods/pickles-chutney\">Pickles &amp; Chutney</a> </li> <li> <a class=\"cat-submenu-level1\" href=\"https://www.jiomart.com/category/snacks-branded-foods/extracts-flavouring\">Extracts &amp; Flavouring</a> </li> </ul> </li> <li> <a class=\"cat-submenu\" href=\"javascript:void(0)\">Beverages</a> <ul class=\"inner\"> <li> <a class=\"cat-submenu-level1\" href=\"https://www.jiomart.com/category/beverages/tea\">Tea</a> </li> <li> <a class=\"cat-submenu-level1\" href=\"https://www.jiomart.com/category/beverages/coffee\">Coffee</a> </li> <li> <a class=\"cat-submenu-level1\" href=\"https://www.jiomart.com/category/beverages/fruit-juices\">Fruit juices</a> </li> <li> <a class=\"cat-submenu-level1\" href=\"https://www.jiomart.com/category/beverages/energy-soft-drinks\">Energy &amp; Soft Drinks</a> </li> <li> <a class=\"cat-submenu-level1\" href=\"https://www.jiomart.com/category/beverages/health-drink-supplement\">Health Drink &amp; Supplement</a> </li> <li> <a class=\"cat-submenu-level1\" href=\"https://www.jiomart.com/category/beverages/water\">Water</a> </li> <li> <a class=\"cat-submenu-level1\" href=\"https://www.jiomart.com/category/beverages/soda-flavoured-water\">Soda &amp; Flavoured Water</a> </li> </ul> </li> <li> <a class=\"cat-submenu\" href=\"javascript:void(0)\">Personal Care</a> <ul class=\"inner\"> <li> <a class=\"cat-submenu-level1\" href=\"https://www.jiomart.com/category/personal-care/hair-care\">Hair Care</a> </li> <li> <a class=\"cat-submenu-level1\" href=\"https://www.jiomart.com/category/personal-care/oral-care\">Oral Care</a> </li> <li> <a class=\"cat-submenu-level1\" href=\"https://www.jiomart.com/category/personal-care/skin-care\">Skin Care</a> </li> <li> <a class=\"cat-submenu-level1\" href=\"https://www.jiomart.com/category/personal-care/bath-hand-wash\">Bath &amp; Hand Wash</a> </li> <li> <a class=\"cat-submenu-level1\" href=\"https://www.jiomart.com/category/personal-care/body-wash-bathing-accessories\">Body Wash &amp; Bathing Accessories</a> </li> <li> <a class=\"cat-submenu-level1\" href=\"https://www.jiomart.com/category/personal-care/feminine-hygiene\">Feminine Hygiene</a> </li> <li> <a class=\"cat-submenu-level1\" href=\"https://www.jiomart.com/category/personal-care/men-s-grooming\">Men's Grooming</a> </li> <li> <a class=\"cat-submenu-level1\" href=\"https://www.jiomart.com/category/personal-care/deo-fragrances\">Deo &amp; Fragrances</a> </li> <li> <a class=\"cat-submenu-level1\" href=\"https://www.jiomart.com/category/personal-care/health-wellness\">Health &amp; Wellness</a> </li> <li> <a class=\"cat-submenu-level1\" href=\"https://www.jiomart.com/category/personal-care/makeup\">Makeup</a> </li> </ul> </li> <li> <a class=\"cat-submenu\" href=\"javascript:void(0)\">Home Care</a> <ul class=\"inner\"> <li> <a class=\"cat-submenu-level1\" href=\"https://www.jiomart.com/category/home-care/detergents\">Detergents</a> </li> <li> <a class=\"cat-submenu-level1\" href=\"https://www.jiomart.com/category/home-care/dishwash\">Dishwash</a> </li> <li> <a class=\"cat-submenu-level1\" href=\"https://www.jiomart.com/category/home-care/all-purpose-cleaners\">All Purpose Cleaners</a> </li> <li> <a class=\"cat-submenu-level1\" href=\"https://www.jiomart.com/category/home-care/fresheners-repellents\">Fresheners &amp; Repellents</a> </li> <li> <a class=\"cat-submenu-level1\" href=\"https://www.jiomart.com/category/home-care/pet-supplies\">Pet Supplies</a> </li> <li> <a class=\"cat-submenu-level1\" href=\"https://www.jiomart.com/category/home-care/mops-brushes-scrubs\">Mops, Brushes &amp; Scrubs</a> </li> <li> <a class=\"cat-submenu-level1\" href=\"https://www.jiomart.com/category/home-care/electrical\">Electrical</a> </li> <li> <a class=\"cat-submenu-level1\" href=\"https://www.jiomart.com/category/home-care/disposables\">Disposables</a> </li> <li> <a class=\"cat-submenu-level1\" href=\"https://www.jiomart.com/category/home-care/pooja-needs\">Pooja Needs</a> </li> <li> <a class=\"cat-submenu-level1\" href=\"https://www.jiomart.com/category/home-care/shoe-care\">Shoe Care</a> </li> <li> <a class=\"cat-submenu-level1\" href=\"https://www.jiomart.com/category/home-care/bathroom-laundry-accessories\">Bathroom &amp; Laundry Accessories</a> </li> <li> <a class=\"cat-submenu-level1\" href=\"https://www.jiomart.com/category/home-care/stationery\">Stationery</a> </li> <li> <a class=\"cat-submenu-level1\" href=\"https://www.jiomart.com/category/home-care/furnishing\">Furnishing</a> </li> </ul> </li> <li> <a class=\"cat-submenu\" href=\"javascript:void(0)\">Baby Care</a> <ul class=\"inner\"> <li> <a class=\"cat-submenu-level1\" href=\"https://www.jiomart.com/category/baby-care/baby-grooming\">Baby Grooming</a> </li> <li> <a class=\"cat-submenu-level1\" href=\"https://www.jiomart.com/category/baby-care/baby-bath-hygiene\">Baby Bath &amp; Hygiene</a> </li> <li> <a class=\"cat-submenu-level1\" href=\"https://www.jiomart.com/category/baby-care/diapers-wipes\">Diapers &amp; Wipes</a> </li> <li> <a class=\"cat-submenu-level1\" href=\"https://www.jiomart.com/category/baby-care/baby-food-formula\">Baby Food &amp; Formula</a> </li> </ul> </li> </ul> </div> <div class=\"white-bg\"> <div class=\"filter\"> <h1 class=\"filter-title\"> Filters </h1> <div id=\"algolia_filter\"> <div class=\"filter-option-title\"> <h2>Availability</h2> </div> <div class=\"layer-scroll\" id=\"stock_filter\"></div> <div class=\"filter-option-title\"> <h2>Categories</h2> </div> <div class=\"layer-scroll\" id=\"category_filter\"></div> <div class=\"filter-option-title\"> <h2>Manufacturers</h2> </div> <div class=\"layer-scroll\" id=\"manufacturer_filter\"></div> <div class=\"filter-option-title\"> <h2>Brands</h2> </div> <div class=\"layer-scroll\" id=\"brand_filter\"></div> <div class=\"filter-option-title\"> <h2>Price</h2> </div> <div class=\"layer-scroll\" id=\"alg_price_filter\"></div> <div class=\"filter-option-title\"> <h2>Discount</h2> </div> <div class=\"layer-scroll\" id=\"alg_discount_filter\"></div> </div> </div> </div> </div> <div class=\"right-block\"> <div class=\"category-main-banner\"> <img alt=\"Dals &amp; Pulses\" src=\"https://www.jiomart.com/images/category/19/dals-pulses-1.jpg\"> </img></div> <div class=\"refinements\"> <span id=\"clear_refinements\"></span> <span id=\"current_refinements\"></span> </div> <div class=\"clearfix\"></div> <div id=\"product_wrapper\"> <input id=\"product_count\" name=\"product_count\" type=\"hidden\" value=\"26\"/> <div class=\"toolbar\"> <div class=\"number\"> Showing <span id=\"showing_count\">20</span> of <span id=\"total_count\">26</span> items </div> <div class=\"sort-option\"> Sort by: <div id=\"sort-by\"></div> </div> <div class=\"clearfix\"></div> </div> <div id=\"mstar_box\"> <div class=\"white-bg box-padding\"> <div class=\"all-product\"> <h2>ALL PRODUCTS</h2></div></div></div></div></div></input></div></main></input></input></div></body></html> <div class=\"row product-list\"> <div class=\"col-md-3 p-0\"> <div class=\"cat-item\"> <a class=\"category_name\" href=\"https://www.jiomart.com/good-life-dal-mix-500-g-491187271\" title=\"Good Life Dal Mix 500 g\"> <span class=\"cat-img\"> <img alt=\"Good Life Dal Mix 500 g\" class=\"product-image-photo\" src=\"https://www.jiomart.com/images/product/150x150/491187271/good-life-dal-mix-500-gm-pp-0-20200518.jpg\"/> </span> <span class=\"dis_section\"> <span>21<span class=\"per_txt\">%</span></span> <br/> off </span> <span class=\"clsgetname\">Good Life Dal Mix 500 g</span> </a> <a href=\"https://www.jiomart.com/manufacturers/private-label\" title=\"Private Label\"> <span class=\"drug-varients ellipsis\">Mfr: Private Label</span> </a> <div class=\"clearfix\"></div> <span class=\"price-box\"> <strike id=\"price\">₹ 75.00</strike> <span id=\"final_price\">₹ 59.00</span> </span> <div class=\"cart_btn\"> <form class=\"cart-form\"> <input class=\"cart_qty\" name=\"qty\" type=\"hidden\" value=\"1\"/> <input name=\"sku\" type=\"hidden\" value=\"491187271\"/> <button class=\"toCart cartbag\" data-change=\"no\" data-sku=\"491187271\" title=\"ADD TO CART\" type=\"submit\">Add to Cart</button> </form> </div> <div class=\"clearfix\"></div> </div> </div> <div class=\"col-md-3 p-0\"> <div class=\"cat-item\"> <a class=\"category_name\" href=\"https://www.jiomart.com/good-life-urad-washed-gota-500-g-491187269\" title=\"Good Life Urad Washed Gota 500 g\"> <span class=\"cat-img\"> <img alt=\"Good Life Urad Washed Gota 500 g\" class=\"product-image-photo\" src=\"https://www.jiomart.com/images/product/150x150/491187269/good-life-urad-washed-gota-500-gm-pp-0-20200518.jpg\"/> </span> <span class=\"dis_section\"> <span>12<span class=\"per_txt\">%</span></span> <br/> off </span> <span class=\"clsgetname\">Good Life Urad Washed Gota 500 g</span> </a> <a href=\"https://www.jiomart.com/manufacturers/private-label\" title=\"Private Label\"> <span class=\"drug-varients ellipsis\">Mfr: Private Label</span> </a> <div class=\"clearfix\"></div> <span class=\"price-box\"> <strike id=\"price\">₹ 83.00</strike> <span id=\"final_price\">₹ 73.00</span> </span> <div class=\"cart_btn\"> <form class=\"cart-form\"> <input class=\"cart_qty\" name=\"qty\" type=\"hidden\" value=\"1\"/> <input name=\"sku\" type=\"hidden\" value=\"491187269\"/> <button class=\"toCart cartbag\" data-change=\"no\" data-sku=\"491187269\" title=\"ADD TO CART\" type=\"submit\">Add to Cart</button> </form> </div> <div class=\"clearfix\"></div> </div> </div> <div class=\"col-md-3 p-0\"> <div class=\"cat-item\"> <a class=\"category_name\" href=\"https://www.jiomart.com/good-life-raw-peanuts-1-kg-491299532\" title=\"Good Life Raw Peanuts 1 kg\"> <span class=\"cat-img\"> <img alt=\"Good Life Raw Peanuts 1 kg\" class=\"product-image-photo\" src=\"https://www.jiomart.com/images/product/150x150/491299532/good-life-raw-peanuts-1-kg-0-20200518.jpg\"/> </span> <span class=\"dis_section\"> <span>11<span class=\"per_txt\">%</span></span> <br/> off </span> <span class=\"clsgetname\">Good Life Raw Peanuts 1 kg</span> </a> <a href=\"https://www.jiomart.com/manufacturers/private-label\" title=\"Private Label\"> <span class=\"drug-varients ellipsis\">Mfr: Private Label</span> </a> <div class=\"clearfix\"></div> <span class=\"price-box\"> <strike id=\"price\">₹ 180.00</strike> <span id=\"final_price\">₹ 160.00</span> </span> <div class=\"cart_btn\"> <form class=\"cart-form\"> <input class=\"cart_qty\" name=\"qty\" type=\"hidden\" value=\"1\"/> <input name=\"sku\" type=\"hidden\" value=\"491299532\"/> <button class=\"toCart cartbag\" data-change=\"no\" data-sku=\"491299532\" title=\"ADD TO CART\" type=\"submit\">Add to Cart</button> </form> </div> <div class=\"clearfix\"></div> </div> </div> <div class=\"col-md-3 p-0\"> <div class=\"cat-item\"> <a class=\"category_name\" href=\"https://www.jiomart.com/good-life-tur-dal-1-kg-491187264\" title=\"Good Life Tur Dal 1 kg\"> <span class=\"cat-img\"> <img alt=\"Good Life Tur Dal 1 kg\" class=\"product-image-photo\" src=\"https://www.jiomart.com/images/product/150x150/491187264/good-life-toor-dal-1-kg-pp-0-20200518.jpg\"/> </span> <span class=\"dis_section\"> <span>21<span class=\"per_txt\">%</span></span> <br/> off </span> <span class=\"clsgetname\">Good Life Tur Dal 1 kg</span> </a> <a href=\"https://www.jiomart.com/manufacturers/private-label\" title=\"Private Label\"> <span class=\"drug-varients ellipsis\">Mfr: Private Label</span> </a> <div class=\"clearfix\"></div> <span class=\"price-box\"> <strike id=\"price\">₹ 137.00</strike> <span id=\"final_price\">₹ 108.00</span> </span> <div class=\"cart_btn\"> <form class=\"cart-form\"> <input class=\"cart_qty\" name=\"qty\" type=\"hidden\" value=\"1\"/> <input name=\"sku\" type=\"hidden\" value=\"491187264\"/> <button class=\"toCart cartbag\" data-change=\"no\" data-sku=\"491187264\" title=\"ADD TO CART\" type=\"submit\">Add to Cart</button> </form> </div> <div class=\"clearfix\"></div> </div> </div> <div class=\"col-md-3 p-0\"> <div class=\"cat-item\"> <a class=\"category_name\" href=\"https://www.jiomart.com/loose-toor-dal-value-1-kg-490155005\" title=\"Loose Toor Dal Value 1 kg\"> <span class=\"cat-img\"> <img alt=\"Loose Toor Dal Value 1 kg\" class=\"product-image-photo\" src=\"https://www.jiomart.com/images/product/150x150/490155005/loose-toor-dal-value-1-kg-0-20200522.png\"/> </span> <span class=\"dis_section\"> <span>6<span class=\"per_txt\">%</span></span> <br/> off </span> <span class=\"clsgetname\">Loose Toor Dal Value 1 kg</span> </a> <a href=\"https://www.jiomart.com/manufacturers/private-label\" title=\"Private Label\"> <span class=\"drug-varients ellipsis\">Mfr: Private Label</span> </a> <div class=\"clearfix\"></div> <span class=\"price-box\"> <strike id=\"price\">₹ 101.00</strike> <span id=\"final_price\">₹ 95.00</span> </span> <div class=\"cart_btn\"> <form class=\"cart-form\"> <input class=\"cart_qty\" name=\"qty\" type=\"hidden\" value=\"1\"/> <input name=\"sku\" type=\"hidden\" value=\"490155005\"/> <button class=\"toCart cartbag\" data-change=\"no\" data-sku=\"490155005\" title=\"ADD TO CART\" type=\"submit\">Add to Cart</button> </form> </div> <div class=\"clearfix\"></div> </div> </div> <div class=\"col-md-3 p-0\"> <div class=\"cat-item\"> <a class=\"category_name\" href=\"https://www.jiomart.com/pick-n-cook-premium-moong-dal-1-kg-490555255\" title=\"Pick N Cook Premium Moong Dal 1 kg\"> <span class=\"cat-img\"> <img alt=\"Pick N Cook Premium Moong Dal 1 kg\" class=\"product-image-photo\" src=\"https://www.jiomart.com/images/product/150x150/490555255/pick-n-cook-premium-moong-dal-1-kg-0-20200518.jpg\"/> </span> <span class=\"dis_section\"> <span>20<span class=\"per_txt\">%</span></span> <br/> off </span> <span class=\"clsgetname\">Pick N Cook Premium Moong Dal 1 kg</span> </a> <a href=\"https://www.jiomart.com/manufacturers/vichi-agro-products-pvt-limited\" title=\"Vichi Agro Products Pvt. Limited\"> <span class=\"drug-varients ellipsis\">Mfr: Vichi Agro Products Pvt. Limited</span> </a> <div class=\"clearfix\"></div> <span class=\"price-box\"> <strike id=\"price\">₹ 226.00</strike> <span id=\"final_price\">₹ 180.00</span> </span> <div class=\"cart_btn\"> <form class=\"cart-form\"> <input class=\"cart_qty\" name=\"qty\" type=\"hidden\" value=\"1\"/> <input name=\"sku\" type=\"hidden\" value=\"490555255\"/> <button class=\"toCart cartbag\" data-change=\"no\" data-sku=\"490555255\" title=\"ADD TO CART\" type=\"submit\">Add to Cart</button> </form> </div> <div class=\"clearfix\"></div> </div> </div> <div class=\"col-md-3 p-0\"> <div class=\"cat-item\"> <a class=\"category_name\" href=\"https://www.jiomart.com/good-life-urad-whole-500-g-491187275\" title=\"Good Life Urad Whole 500 g\"> <span class=\"cat-img\"> <img alt=\"Good Life Urad Whole 500 g\" class=\"product-image-photo\" src=\"https://www.jiomart.com/images/product/150x150/491187275/good-life-urad-whole-500-gm-pp-0-20200518.jpg\"/> </span> <span class=\"dis_section\"> <span>18<span class=\"per_txt\">%</span></span> <br/> off </span> <span class=\"clsgetname\">Good Life Urad Whole 500 g</span> </a> <a href=\"https://www.jiomart.com/manufacturers/private-label\" title=\"Private Label\"> <span class=\"drug-varients ellipsis\">Mfr: Private Label</span> </a> <div class=\"clearfix\"></div> <span class=\"price-box\"> <strike id=\"price\">₹ 79.00</strike> <span id=\"final_price\">₹ 65.00</span> </span> <div class=\"cart_btn\"> <form class=\"cart-form\"> <input class=\"cart_qty\" name=\"qty\" type=\"hidden\" value=\"1\"/> <input name=\"sku\" type=\"hidden\" value=\"491187275\"/> <button class=\"toCart cartbag\" data-change=\"no\" data-sku=\"491187275\" title=\"ADD TO CART\" type=\"submit\">Add to Cart</button> </form> </div> <div class=\"clearfix\"></div> </div> </div> <div class=\"col-md-3 p-0\"> <div class=\"cat-item\"> <a class=\"category_name\" href=\"https://www.jiomart.com/good-life-urad-dal-chilka-500-g-491187273\" title=\"Good Life Urad Dal Chilka 500 g\"> <span class=\"cat-img\"> <img alt=\"Good Life Urad Dal Chilka 500 g\" class=\"product-image-photo\" src=\"https://www.jiomart.com/images/product/150x150/491187273/good-life-urad-dal-chhilka-500-gm-pp-0-20200518.jpg\"/> </span> <span class=\"dis_section\"> <span>14<span class=\"per_txt\">%</span></span> <br/> off </span> <span class=\"clsgetname\">Good Life Urad Dal Chilka 500 g</span> </a> <a href=\"https://www.jiomart.com/manufacturers/private-label\" title=\"Private Label\"> <span class=\"drug-varients ellipsis\">Mfr: Private Label</span> </a> <div class=\"clearfix\"></div> <span class=\"price-box\"> <strike id=\"price\">₹ 79.00</strike> <span id=\"final_price\">₹ 68.00</span> </span> <div class=\"cart_btn\"> <form class=\"cart-form\"> <input class=\"cart_qty\" name=\"qty\" type=\"hidden\" value=\"1\"/> <input name=\"sku\" type=\"hidden\" value=\"491187273\"/> <button class=\"toCart cartbag\" data-change=\"no\" data-sku=\"491187273\" title=\"ADD TO CART\" type=\"submit\">Add to Cart</button> </form> </div> <div class=\"clearfix\"></div> </div> </div> <div class=\"col-md-3 p-0\"> <div class=\"cat-item\"> <a class=\"category_name\" href=\"https://www.jiomart.com/good-life-masoor-dal-1-kg-491187287\" title=\"Good Life Masoor Dal 1 kg\"> <span class=\"cat-img\"> <img alt=\"Good Life Masoor Dal 1 kg\" class=\"product-image-photo\" src=\"https://www.jiomart.com/images/product/150x150/491187287/good-life-masoor-dal-1-kg-pp-0-20200518.jpg\"/> </span> <span class=\"dis_section\"> <span>21<span class=\"per_txt\">%</span></span> <br/> off </span> <span class=\"clsgetname\">Good Life Masoor Dal 1 kg</span> </a> <a href=\"https://www.jiomart.com/manufacturers/private-label\" title=\"Private Label\"> <span class=\"drug-varients ellipsis\">Mfr: Private Label</span> </a> <div class=\"clearfix\"></div> <span class=\"price-box\"> <strike id=\"price\">₹ 121.00</strike> <span id=\"final_price\">₹ 95.00</span> </span> <div class=\"cart_btn\"> <form class=\"cart-form\"> <input class=\"cart_qty\" name=\"qty\" type=\"hidden\" value=\"1\"/> <input name=\"sku\" type=\"hidden\" value=\"491187287\"/> <button class=\"toCart cartbag\" data-change=\"no\" data-sku=\"491187287\" title=\"ADD TO CART\" type=\"submit\">Add to Cart</button> </form> </div> <div class=\"clearfix\"></div> </div> </div> <div class=\"col-md-3 p-0\"> <div class=\"cat-item\"> <a class=\"category_name\" href=\"https://www.jiomart.com/pick-n-cook-maha-toor-dal-1-kg-490555247\" title=\"Pick N Cook Maha Toor Dal 1 kg\"> <span class=\"cat-img\"> <img alt=\"Pick N Cook Maha Toor Dal 1 kg\" class=\"product-image-photo\" src=\"https://www.jiomart.com/images/product/150x150/490555247/pick-n-cook-maha-toor-dal-1-kg-0-20200518.jpg\"/> </span> <span class=\"dis_section\"> <span>17<span class=\"per_txt\">%</span></span> <br/> off </span> <span class=\"clsgetname\">Pick N Cook Maha Toor Dal 1 kg</span> </a> <a href=\"https://www.jiomart.com/manufacturers/vichi-agro-products-pvt-limited\" title=\"Vichi Agro Products Pvt. Limited\"> <span class=\"drug-varients ellipsis\">Mfr: Vichi Agro Products Pvt. Limited</span> </a> <div class=\"clearfix\"></div> <span class=\"price-box\"> <strike id=\"price\">₹ 144.00</strike> <span id=\"final_price\">₹ 120.00</span> </span> <div class=\"cart_btn\"> <form class=\"cart-form\"> <input class=\"cart_qty\" name=\"qty\" type=\"hidden\" value=\"1\"/> <input name=\"sku\" type=\"hidden\" value=\"490555247\"/> <button class=\"toCart cartbag\" data-change=\"no\" data-sku=\"490555247\" title=\"ADD TO CART\" type=\"submit\">Add to Cart</button> </form> </div> <div class=\"clearfix\"></div> </div> </div> <div class=\"col-md-3 p-0\"> <div class=\"cat-item\"> <a class=\"category_name\" href=\"https://www.jiomart.com/tata-sampann-high-protein-unpolished-tur-arhar-dal-1-kg-490830932\" title=\"Tata Sampann High Protein Unpolished Tur / Arhar Dal 1 kg\"> <span class=\"cat-img\"> <img alt=\"Tata Sampann High Protein Unpolished Tur / Arhar Dal 1 kg\" class=\"product-image-photo\" src=\"https://www.jiomart.com/images/product/150x150/490830932/tata-sampann-high-protein-unpolished-toor-dal-1-kg-0-20200518.jpg\"/> </span> <span class=\"dis_section\"> <span>13<span class=\"per_txt\">%</span></span> <br/> off </span> <span class=\"clsgetname\">Tata Sampann High Protein Unpolished Tur / Arhar Dal 1 kg</span> </a> <a href=\"https://www.jiomart.com/manufacturers/tata-consumer-products-limited\" title=\"Tata Consumer Products Limited\"> <span class=\"drug-varients ellipsis\">Mfr: Tata Consumer Products Limited</span> </a> <div class=\"clearfix\"></div> <span class=\"price-box\"> <strike id=\"price\">₹ 149.00</strike> <span id=\"final_price\">₹ 129.00</span> </span> <div class=\"cart_btn\"> <form class=\"cart-form\"> <input class=\"cart_qty\" name=\"qty\" type=\"hidden\" value=\"1\"/> <input name=\"sku\" type=\"hidden\" value=\"490830932\"/> <button class=\"toCart cartbag\" data-change=\"no\" data-sku=\"490830932\" title=\"ADD TO CART\" type=\"submit\">Add to Cart</button> </form> </div> <div class=\"clearfix\"></div> </div> </div> <div class=\"col-md-3 p-0\"> <div class=\"cat-item\"> <a class=\"category_name\" href=\"https://www.jiomart.com/pick-n-cook-masoor-dal-500-g-490398115\" title=\"Pick N Cook Masoor Dal 500 g\"> <span class=\"cat-img\"> <img alt=\"Pick N Cook Masoor Dal 500 g\" class=\"product-image-photo\" src=\"https://www.jiomart.com/images/product/150x150/490398115/pnc-masoor-dal-500-gm-pp-0-20200518.jpg\"/> </span> <span class=\"dis_section\"> <span>10<span class=\"per_txt\">%</span></span> <br/> off </span> <span class=\"clsgetname\">Pick N Cook Masoor Dal 500 g</span> </a> <a href=\"https://www.jiomart.com/manufacturers/vichi-agro-products-pvt-limited\" title=\"Vichi Agro Products Pvt. Limited\"> <span class=\"drug-varients ellipsis\">Mfr: Vichi Agro Products Pvt. Limited</span> </a> <div class=\"clearfix\"></div> <span class=\"price-box\"> <strike id=\"price\">₹ 70.00</strike> <span id=\"final_price\">₹ 63.00</span> </span> <div class=\"cart_btn\"> <form class=\"cart-form\"> <input class=\"cart_qty\" name=\"qty\" type=\"hidden\" value=\"1\"/> <input name=\"sku\" type=\"hidden\" value=\"490398115\"/> <button class=\"toCart cartbag\" data-change=\"no\" data-sku=\"490398115\" title=\"ADD TO CART\" type=\"submit\">Add to Cart</button> </form> </div> <div class=\"clearfix\"></div> </div> </div> <div class=\"col-md-3 p-0\"> <div class=\"cat-item\"> <a class=\"category_name\" href=\"https://www.jiomart.com/good-life-roasted-chana-dal-bengal-gram-200-g-491187295\" title=\"Good Life Roasted Chana Dal / Bengal Gram 200 g\"> <span class=\"cat-img\"> <img alt=\"Good Life Roasted Chana Dal / Bengal Gram 200 g\" class=\"product-image-photo\" src=\"https://www.jiomart.com/images/product/150x150/491187295/good-life-roasted-split-bengal-gram-200-gm-0-20200518.jpg\"/> </span> <span class=\"dis_section\"> <span>29<span class=\"per_txt\">%</span></span> <br/> off </span> <span class=\"clsgetname\">Good Life Roasted Chana Dal / Bengal Gram 200 g</span> </a> <a href=\"https://www.jiomart.com/manufacturers/private-label\" title=\"Private Label\"> <span class=\"drug-varients ellipsis\">Mfr: Private Label</span> </a> <div class=\"clearfix\"></div> <span class=\"price-box\"> <strike id=\"price\">₹ 35.00</strike> <span id=\"final_price\">₹ 25.00</span> </span> <div class=\"cart_btn\"> <form class=\"cart-form\"> <input class=\"cart_qty\" name=\"qty\" type=\"hidden\" value=\"1\"/> <input name=\"sku\" type=\"hidden\" value=\"491187295\"/> <button class=\"toCart cartbag\" data-change=\"no\" data-sku=\"491187295\" title=\"ADD TO CART\" type=\"submit\">Add to Cart</button> </form> </div> <div class=\"clearfix\"></div> </div> </div> <div class=\"col-md-3 p-0\"> <div class=\"cat-item\"> <a class=\"category_name\" href=\"https://www.jiomart.com/tata-sampann-high-protein-unpolished-moong-dal-1-kg-490830940\" title=\"Tata Sampann High Protein Unpolished Moong Dal 1 kg\"> <span class=\"cat-img\"> <img alt=\"Tata Sampann High Protein Unpolished Moong Dal 1 kg\" class=\"product-image-photo\" src=\"https://www.jiomart.com/images/product/150x150/490830940/tata-sampann-high-protein-unpolished-moong-dal-1-kg-0-20200518.jpg\"/> </span> <span class=\"dis_section\"> <span>12<span class=\"per_txt\">%</span></span> <br/> off </span> <span class=\"clsgetname\">Tata Sampann High Protein Unpolished Moong Dal 1 kg</span> </a> <a href=\"https://www.jiomart.com/manufacturers/tata-consumer-products-limited\" title=\"Tata Consumer Products Limited\"> <span class=\"drug-varients ellipsis\">Mfr: Tata Consumer Products Limited</span> </a> <div class=\"clearfix\"></div> <span class=\"price-box\"> <strike id=\"price\">₹ 200.00</strike> <span id=\"final_price\">₹ 176.70</span> </span> <div class=\"cart_btn\"> <form class=\"cart-form\"> <input class=\"cart_qty\" name=\"qty\" type=\"hidden\" value=\"1\"/> <input name=\"sku\" type=\"hidden\" value=\"490830940\"/> <button class=\"toCart cartbag\" data-change=\"no\" data-sku=\"490830940\" title=\"ADD TO CART\" type=\"submit\">Add to Cart</button> </form> </div> <div class=\"clearfix\"></div> </div> </div> <div class=\"col-md-3 p-0\"> <div class=\"cat-item\"> <a class=\"category_name\" href=\"https://www.jiomart.com/pick-n-cook-masoor-dal-1-kg-490398116\" title=\"Pick N Cook Masoor Dal 1 kg\"> <span class=\"cat-img\"> <img alt=\"Pick N Cook Masoor Dal 1 kg\" class=\"product-image-photo\" src=\"https://www.jiomart.com/images/product/150x150/490398116/pick-n-cook-masoor-dal-1-kg-0-20200518.jpg\"/> </span> <span class=\"dis_section\"> <span>12<span class=\"per_txt\">%</span></span> <br/> off </span> <span class=\"clsgetname\">Pick N Cook Masoor Dal 1 kg</span> </a> <a href=\"https://www.jiomart.com/manufacturers/vichi-agro-products-pvt-limited\" title=\"Vichi Agro Products Pvt. Limited\"> <span class=\"drug-varients ellipsis\">Mfr: Vichi Agro Products Pvt. Limited</span> </a> <div class=\"clearfix\"></div> <span class=\"price-box\"> <strike id=\"price\">₹ 137.00</strike> <span id=\"final_price\">₹ 120.00</span> </span> <div class=\"cart_btn\"> <form class=\"cart-form\"> <input class=\"cart_qty\" name=\"qty\" type=\"hidden\" value=\"1\"/> <input name=\"sku\" type=\"hidden\" value=\"490398116\"/> <button class=\"toCart cartbag\" data-change=\"no\" data-sku=\"490398116\" title=\"ADD TO CART\" type=\"submit\">Add to Cart</button> </form> </div> <div class=\"clearfix\"></div> </div> </div> <div class=\"col-md-3 p-0\"> <div class=\"cat-item\"> <a class=\"category_name\" href=\"https://www.jiomart.com/tur-arhar-dal-2-kg-491417390\" title=\"Tur / Arhar Dal 2 kg\"> <span class=\"cat-img\"> <img alt=\"Tur / Arhar Dal 2 kg\" class=\"product-image-photo\" src=\"https://www.jiomart.com/images/product/150x150/491417390/plain-toor-dal-2-kg-0-20200518.jpg\"/> </span> <span class=\"dis_section\"> <span>32<span class=\"per_txt\">%</span></span> <br/> off </span> <span class=\"clsgetname\">Tur / Arhar Dal 2 kg</span> </a> <a href=\"https://www.jiomart.com/manufacturers/private-label\" title=\"Private Label\"> <span class=\"drug-varients ellipsis\">Mfr: Private Label</span> </a> <div class=\"clearfix\"></div> <span class=\"price-box\"> <strike id=\"price\">₹ 280.00</strike> <span id=\"final_price\">₹ 190.00</span> </span> <div class=\"cart_btn\"> <form class=\"cart-form\"> <input class=\"cart_qty\" name=\"qty\" type=\"hidden\" value=\"1\"/> <input name=\"sku\" type=\"hidden\" value=\"491417390\"/> <button class=\"toCart cartbag\" data-change=\"no\" data-sku=\"491417390\" title=\"ADD TO CART\" type=\"submit\">Add to Cart</button> </form> </div> <div class=\"clearfix\"></div> </div> </div> <div class=\"col-md-3 p-0\"> <div class=\"cat-item\"> <a class=\"category_name\" href=\"https://www.jiomart.com/raw-peanuts-1-kg-loose-490198099\" title=\"Raw Peanuts 1 Kg (Loose)\"> <span class=\"cat-img\"> <img alt=\"Raw Peanuts 1 Kg (Loose)\" class=\"product-image-photo\" src=\"https://www.jiomart.com/images/product/150x150/490198099/loose-puffed-gram-split-1-kg-0-20200522.jpg\"/> </span> <span class=\"dis_section\"> <span>2<span class=\"per_txt\">%</span></span> <br/> off </span> <span class=\"clsgetname\">Raw Peanuts 1 Kg (Loose)</span> </a> <a href=\"https://www.jiomart.com/manufacturers/private-label\" title=\"Private Label\"> <span class=\"drug-varients ellipsis\">Mfr: Private Label</span> </a> <div class=\"clearfix\"></div> <span class=\"price-box\"> <strike id=\"price\">₹ 127.00</strike> <span id=\"final_price\">₹ 125.00</span> </span> <div class=\"cart_btn\"> <form class=\"cart-form\"> <input class=\"cart_qty\" name=\"qty\" type=\"hidden\" value=\"1\"/> <input name=\"sku\" type=\"hidden\" value=\"490198099\"/> <button class=\"toCart cartbag\" data-change=\"no\" data-sku=\"490198099\" title=\"ADD TO CART\" type=\"submit\">Add to Cart</button> </form> </div> <div class=\"clearfix\"></div> </div> </div> <div class=\"col-md-3 p-0\"> <div class=\"cat-item\"> <a class=\"category_name\" href=\"https://www.jiomart.com/good-life-tur-dal-oily-1-kg-491187296\" title=\"Good Life Tur Dal Oily 1 kg \"> <span class=\"cat-img\"> <img alt=\"Good Life Tur Dal Oily 1 kg \" class=\"product-image-photo\" src=\"https://www.jiomart.com/images/product/150x150/491187296/good-life-toor-dal-oily-1-kg-pp-0-20200518.jpg\"/> </span> <span class=\"dis_section\"> <span>13<span class=\"per_txt\">%</span></span> <br/> off </span> <span class=\"clsgetname\">Good Life Tur Dal Oily 1 kg </span> </a> <a href=\"https://www.jiomart.com/manufacturers/private-label\" title=\"Private Label\"> <span class=\"drug-varients ellipsis\">Mfr: Private Label</span> </a> <div class=\"clearfix\"></div> <span class=\"price-box\"> <strike id=\"price\">₹ 133.00</strike> <span id=\"final_price\">₹ 116.00</span> </span> <div class=\"cart_btn\"> <form class=\"cart-form\"> <input class=\"cart_qty\" name=\"qty\" type=\"hidden\" value=\"1\"/> <input name=\"sku\" type=\"hidden\" value=\"491187296\"/> <button class=\"toCart cartbag\" data-change=\"no\" data-sku=\"491187296\" title=\"ADD TO CART\" type=\"submit\">Add to Cart</button> </form> </div> <div class=\"clearfix\"></div> </div> </div> <div class=\"col-md-3 p-0\"> <div class=\"cat-item\"> <a class=\"category_name\" href=\"https://www.jiomart.com/loose-chana-dal-1-kg-490155015\" title=\"Loose Chana Dal 1 kg\"> <span class=\"cat-img\"> <img alt=\"Loose Chana Dal 1 kg\" class=\"product-image-photo\" src=\"https://www.jiomart.com/images/product/150x150/490155015/loose-chana-dal-1-kg-0-20200522.jpg\"/> </span> <span class=\"dis_section\"> <span>10<span class=\"per_txt\">%</span></span> <br/> off </span> <span class=\"clsgetname\">Loose Chana Dal 1 kg</span> </a> <a href=\"https://www.jiomart.com/manufacturers/private-label\" title=\"Private Label\"> <span class=\"drug-varients ellipsis\">Mfr: Private Label</span> </a> <div class=\"clearfix\"></div> <span class=\"price-box\"> <strike id=\"price\">₹ 68.00</strike> <span id=\"final_price\">₹ 61.00</span> </span> <div class=\"cart_btn\"> <form class=\"cart-form\"> <input class=\"cart_qty\" name=\"qty\" type=\"hidden\" value=\"1\"/> <input name=\"sku\" type=\"hidden\" value=\"490155015\"/> <button class=\"toCart cartbag\" data-change=\"no\" data-sku=\"490155015\" title=\"ADD TO CART\" type=\"submit\">Add to Cart</button> </form> </div> <div class=\"clearfix\"></div> </div> </div> <div class=\"col-md-3 p-0\"> <div class=\"cat-item\"> <a class=\"category_name\" href=\"https://www.jiomart.com/good-life-kabuli-chana-500-g-491187254\" title=\"Good Life Kabuli Chana 500 g\"> <span class=\"cat-img\"> <img alt=\"Good Life Kabuli Chana 500 g\" class=\"product-image-photo\" src=\"https://www.jiomart.com/images/product/150x150/491187254/good-life-kabuli-chana-500-gm-pp-0-20200518.jpg\"/> </span> <span class=\"dis_section\"> <span>12<span class=\"per_txt\">%</span></span> <br/> off </span> <span class=\"clsgetname\">Good Life Kabuli Chana 500 g</span> </a> <a href=\"https://www.jiomart.com/manufacturers/private-label\" title=\"Private Label\"> <span class=\"drug-varients ellipsis\">Mfr: Private Label</span> </a> <div class=\"clearfix\"></div> <span class=\"price-box\"> <strike id=\"price\">₹ 57.00</strike> <span id=\"final_price\">₹ 50.00</span> </span> <div class=\"cart_btn\"> <form class=\"cart-form\"> <input class=\"cart_qty\" name=\"qty\" type=\"hidden\" value=\"1\"/> <input name=\"sku\" type=\"hidden\" value=\"491187254\"/> <button class=\"toCart cartbag\" data-change=\"no\" data-sku=\"491187254\" title=\"ADD TO CART\" type=\"submit\">Add to Cart</button> </form> </div> <div class=\"clearfix\"></div> </div> </div> <div class=\"clearfix\"></div> <div class=\"pages\"><ul class=\"pages-items\"><strong>1</strong><a data-ci-pagination-page=\"2\" href=\"https://www.jiomart.com/category/staples/dals-pulses/page/2\">2</a><li class=\"next\"><a data-ci-pagination-page=\"2\" href=\"https://www.jiomart.com/category/staples/dals-pulses/page/2\" rel=\"next\">NEXT</a></li></ul></div> <div class=\"clearfix\"></div> </div>    <div class=\"white-bg\" id=\"algolia_box\" style=\"display:none;\"> <div class=\"all-product\"> <h2>ALL PRODUCTS</h2></div></div> <div class=\"product-list\"> <div id=\"algolia_hits\"> </div> </div>     <div class=\"clearfix\"></div>  <footer> <div class=\"footer-container\"> <ul> <li> <h2>Most Popular Categories</h2> </li> <li><a href=\"/category/staples\">Staples</a></li> <li><a href=\"/category/beverages\">Beverages</a></li> <li><a href=\"/category/personal-care\">Personal Care</a></li> <li><a href=\"/category/home-care\">Home Care</a></li> <li><a href=\"/category/fruits-vegetables\">Fruits and Vegetables</a></li> <li><a href=\"/category/baby-care\">Baby Care</a></li> <li><a href=\"/category/snacks-branded-foods\">Snacks &amp; Branded Foods</a></li> <li><a href=\"/category/dairy-bakery\">Dairy &amp; Bakery</a></li> </ul> <ul> <li> <h2>Customer Services</h2> </li> <li><a href=\"/about-us\">About Us</a></li> <li><a href=\"/faqs\">FAQ</a></li> <li><a href=\"/terms-and-conditions\">Terms and conditions</a></li> <li><a href=\"https://relianceretail.com/privacy-policy.html\" rel=\"noopener\" target=\"_blank\">Privacy policy</a></li> </ul> <div class=\"subscribe\"> <h2>Contact Us</h2> <br/>Email : <span style=\"display: inline-block; margin-bottom: 1rem;\"><a href=\"mailto:cs@jiomart.com\">cs@jiomart.com</a></span><br/> <p>Please note that you are accessing the BETA Version of <a href=\"https://www.jiomart.com/\">www.jiomart.com</a></p> <p>Should you encounter any bugs, glitches, lack of functionality, delayed deliveries, billing errors or other problems on the beta website, please email us on <a href=\"mailto:cs@jiomart.com\">cs@jiomart.com</a></p> </div> </div> </footer><!-- Copyright Section --> <small class=\"copyright\"> <div class=\"copyblock\"> <ul> <li>Best viewed on Microsoft Edge 81+, Mozilla Firefox 75+, Safari 5.1.5+, Google Chrome 80+</li> <li>© 2020 All rights reserved. Reliance Retail Ltd.</li> </ul> </div> </small>  <div class=\"modal fade\" data-easein=\"slideUpBigIn\" id=\"rel_pincode_popup\" role=\"dialog\" tabindex=\"-1\"> <div class=\"modal-dialog\" role=\"document\"> <div class=\"modal-content\"> <div class=\"modal-header\"> <h5 class=\"modal-title\"><span>Happiness</span> Home Delivered...</h5> <button aria-label=\"Close\" class=\"close\" data-dismiss=\"modal\" type=\"button\"> <span aria-hidden=\"true\">×</span> </button></div> <div class=\"clearfix\"></div> <div id=\"delivery_details\"> <form id=\"rel_pincode_form\"> <div class=\"lblock\"> <label>Where do you want us to deliver your grocery?</label> <input autocomplete=\"off\" class=\"inp_text\" id=\"rel_pincode\" maxlength=\"6\" name=\"rel_pincode\" placeholder=\"Enter your Pincode\" type=\"text\"/> <div id=\"rel_pin_msg\"></div> <button class=\"shopping_btn\" type=\"submit\">Start Shopping</button> </div> <div class=\"rblock\"> <img alt=\"JioMart, Online Groceries Shop\" src=\"https://www.jiomart.com/assets/smartweb/images/delivery_popup_jio.png\"/> </div> <div class=\"clearfix\"></div> </form> </div> </div> </div> </div> <script type=\"application/ld+json\">\n",
      "            {        \n",
      "                \"@context\": \"https://schema.org\",\n",
      "                \"@type\": \"BreadcrumbList\",\n",
      "                \"itemListElement\": [\n",
      "    {\n",
      "        \"@type\": \"ListItem\",\n",
      "        \"position\": 0,\n",
      "        \"name\": \"Home\",\n",
      "        \"item\": \"https://www.jiomart.com/\"\n",
      "    },\n",
      "    {\n",
      "        \"@type\": \"ListItem\",\n",
      "        \"position\": 1,\n",
      "        \"name\": \"All Categories\",\n",
      "        \"item\": \"https://www.jiomart.com/category/all\"\n",
      "    },\n",
      "    {\n",
      "        \"@type\": \"ListItem\",\n",
      "        \"position\": 2,\n",
      "        \"name\": \"Staples\",\n",
      "        \"item\": \"https://www.jiomart.com/category/staples\"\n",
      "    },\n",
      "    {\n",
      "        \"@type\": \"ListItem\",\n",
      "        \"position\": 3,\n",
      "        \"name\": \"Dals &amp; Pulses\",\n",
      "        \"item\": \"https://www.jiomart.com/category/staples/dals-pulses\"\n",
      "    }\n",
      "]            }\n",
      "        </script> <input id=\"mstar_pin_api\" type=\"hidden\" value=\"https://www.jiomart.com/mst/rest/v1/pin\"/> <script crossorigin=\"anonymous\" src=\"https://www.jiomart.com/assets/smartweb/js/jquery-3.4.1.min.js\" type=\"text/javascript\"></script> <script crossorigin=\"anonymous\" defer=\"\" src=\"https://www.jiomart.com/assets/smartweb/js/jquery-ui.min.js\" type=\"text/javascript\"></script> <script crossorigin=\"anonymous\" defer=\"\" src=\"https://www.jiomart.com/assets/smartweb/js/bootstrap.min.js\"></script> <script crossorigin=\"anonymous\" defer=\"\" src=\"https://www.jiomart.com/assets/smartweb/js/clipboard.min.js\" type=\"text/javascript\"></script> <script crossorigin=\"anonymous\" defer=\"\" src=\"https://www.jiomart.com/assets/smartweb/js/swiper.min.js\" type=\"text/javascript\"></script> <script crossorigin=\"anonymous\" defer=\"\" src=\"https://www.jiomart.com/assets/smartweb/js/algolia-autocomplete.js\"></script> <script crossorigin=\"anonymous\" defer=\"\" src=\"https://cdn.jsdelivr.net/algoliasearch/3/algoliasearch.min.js\"></script> <script crossorigin=\"anonymous\" defer=\"\" src=\"https://cdnjs.cloudflare.com/ajax/libs/jquery-cookie/1.4.1/jquery.cookie.min.js\"></script> <script crossorigin=\"anonymous\" defer=\"\" src=\"https://www.jiomart.com/assets/smartweb/js/bootstrap.notify.js\" type=\"text/javascript\"></script> <script crossorigin=\"anonymous\" defer=\"\" src=\"https://www.jiomart.com/assets/smartweb/js/jquery.validate.min.js\" type=\"text/javascript\"></script> <script crossorigin=\"anonymous\" defer=\"\" src=\"https://www.jiomart.com/assets/smartweb/js/jquery.md5.min.js\" type=\"text/javascript\"></script> <script>\n",
      "    $(document).ready(function () {\n",
      "        $('.combo-view-more').click(function(){\n",
      "            var target = $(this).attr(\"data-target\");\n",
      "            $(target).modal();\n",
      "        });\n",
      "    });\n",
      "</script> <script type=\"text/javascript\">\n",
      "$(document).ready(function () {\n",
      "    localStorage.removeItem('loginpage');\n",
      "    window.user_id     = ($.cookie('userid')!=undefined) ? $.cookie('userid'):\"\" ;\n",
      "    window.auth_token  = ($.cookie('authtoken')!=undefined) ? $.cookie('authtoken'):\"\";\n",
      "    window.cust_dname  = ($.cookie('displayname')!=undefined) ? $.cookie('displayname'):\"\";\n",
      "        window.login_session = {\n",
      "      \"async\": true,\n",
      "      \"crossDomain\": true,\n",
      "      \"url\": \"https://www.jiomart.com/mst/rest/v1/entity/customer/get_details\",\n",
      "      \"method\": \"GET\",\n",
      "      \"headers\": {\n",
      "        \"userid\": window.user_id,\n",
      "        \"authtoken\": window.auth_token\n",
      "      }\n",
      "    };\n",
      "    if((user_id!=\"\") && (cust_dname!=\"\")){\n",
      "        $('.login #logged_user').text(\"\");\n",
      "        $('.login #logged_user').append(cust_dname);\n",
      "        $('.login a:first').hide();\n",
      "        $('.login #logged_user').show();\n",
      "    } else {\n",
      "        $('.login #logged_user').hide();\n",
      "        $('.login a:first').show();\n",
      "\n",
      "    }\n",
      "        $('.logged').show();\n",
      "});\n",
      "</script> <input id=\"enable_fbpixel\" name=\"enable_fbpixel\" type=\"hidden\" value=\"0\"/> <script crossorigin=\"anonymous\" defer=\"\" src=\"https://www.jiomart.com/assets/version1588949579/smartweb/js/main.js\" type=\"text/javascript\"></script> <script crossorigin=\"anonymous\" defer=\"\" src=\"https://www.jiomart.com/assets/version1588949579/smartweb/js/search_autocomplete.js\"></script> <script crossorigin=\"anonymous\" defer=\"\" src=\"https://www.jiomart.com/assets/smartweb/js/url.min.js\" type=\"text/javascript\"></script> <script>\n",
      "$(document).ready(function(){\n",
      "    var custEmail = ($.cookie('displayemail')!=undefined) ? $.cookie('displayemail'):\"\";\n",
      "    var custNew = ($.cookie('new_customer')!=undefined) ? $.cookie('new_customer'):\"\";\n",
      "            if((user_id!=\"\") && (custEmail!=\"\")){\n",
      "            dataLayer.push({\n",
      "              'ecommerce': {\n",
      "                'currencyCode': 'INR',                       \n",
      "                'impressions': [\n",
      "                                 {  \n",
      "                   'name': \"Good Life Dal Mix 500 g\",       \n",
      "                   'id': \"491187271\",\n",
      "                   'price': \"59.00\",\n",
      "                   'brand': \"Private Label\",\n",
      "                   'category': \"Staples\",\n",
      "                                       'list': 'Category List',\n",
      "                                       'position': \"1\"\n",
      "                 },\n",
      "                                                   {\n",
      "                   'name': \"Good Life Urad Washed Gota 500 g\",\n",
      "                   'id': \"491187269\",\n",
      "                   'price': \"73.00\",\n",
      "                   'brand': \"Private Label\",\n",
      "                   'category': \"Staples\",\n",
      "                                       'list': 'Category List',\n",
      "                                       'position': \"2\"\n",
      "                 }\n",
      "                                 ]\n",
      "              },\n",
      "              \"customer\":{\"isLoggedIn\":true,\"id\":user_id,\"email\":$.md5(custEmail),\"new_customer\":custNew}\n",
      "            });\n",
      "        } else {\n",
      "            dataLayer.push({\n",
      "              'ecommerce': {\n",
      "                'currencyCode': 'INR',                       \n",
      "                'impressions': [\n",
      "                                 {  \n",
      "                   'name': \"Good Life Dal Mix 500 g\",       \n",
      "                   'id': \"491187271\",\n",
      "                   'price': \"59.00\",\n",
      "                   'brand': \"Private Label\",\n",
      "                   'category': \"Staples\",\n",
      "                                       'list': 'Category List',\n",
      "                                       'position': \"1\"\n",
      "                 },\n",
      "                                                   {\n",
      "                   'name': \"Good Life Urad Washed Gota 500 g\",\n",
      "                   'id': \"491187269\",\n",
      "                   'price': \"73.00\",\n",
      "                   'brand': \"Private Label\",\n",
      "                   'category': \"Staples\",\n",
      "                                       'list': 'Category List',\n",
      "                                       'position': \"2\"\n",
      "                 }\n",
      "                                 ]\n",
      "              },\n",
      "              \"customer\":{\"isLoggedIn\":false}\n",
      "            });\n",
      "        }\n",
      "                    $(\".category_name\").click(function(){\n",
      "                var prod_url = $(this).attr('href');\n",
      "                if((user_id!=\"\") && (custEmail!=\"\")){\n",
      "                  dataLayer.push({\n",
      "                    'event': 'productClick',\n",
      "                    'customer':{\"isLoggedIn\":true,\"id\":user_id,\"email\":$.md5(custEmail),\"new_customer\":custNew},\n",
      "                    'ecommerce': {\n",
      "                      'click': {\n",
      "                        'actionField': {'list': 'Category List'},      // Optional list property.\n",
      "                        'products': [{\n",
      "                          'name': $(this).attr('title'),                      // Name or ID is required.\n",
      "                          'id': $(this).closest('.cat-item').find('input[name=\"sku\"]').val(),\n",
      "                          'price': $(this).closest('.cat-item').find('#final_price').text(),\n",
      "                          'brand': $(this).closest('.cat-item').find('span.drug-varients').text().replace(\"Mfr:\",\"\"),\n",
      "                          'category': 'Dals & Pulses'\n",
      "                         }]\n",
      "                       }\n",
      "                     },\n",
      "                     'eventCallback': function() {\n",
      "                       document.location = prod_url\n",
      "                     }\n",
      "                  });\n",
      "                } else {\n",
      "                  dataLayer.push({\n",
      "                    'event': 'productClick',\n",
      "                    \"customer\":{\"isLoggedIn\":false},\n",
      "                    'ecommerce': {\n",
      "                      'click': {\n",
      "                        'actionField': {'list': 'Category List'},      // Optional list property.\n",
      "                        'products': [{\n",
      "                          'name': $(this).attr('title'),                      // Name or ID is required.\n",
      "                          'id': $(this).closest('.cat-item').find('input[name=\"sku\"]').val(),\n",
      "                          'price': $(this).closest('.cat-item').find('#final_price').text(),\n",
      "                          'brand': $(this).closest('.cat-item').find('span.drug-varients').text().replace(\"Mfr:\",\"\"),\n",
      "                          'category': 'Dals & Pulses'\n",
      "                         }]\n",
      "                       }\n",
      "                     },\n",
      "                     'eventCallback': function() {\n",
      "                       document.location = prod_url\n",
      "                     }\n",
      "                  });\n",
      "                }\n",
      "            });\n",
      "                });\n",
      "</script> <script crossorigin=\"anonymous\" defer=\"\" src=\"https://cdn.jsdelivr.net/npm/instantsearch.js\"></script> <script crossorigin=\"anonymous\" defer=\"\" src=\"https://www.jiomart.com/assets/version1588949579/smartweb/js/otc_category_page.js\" type=\"text/javascript\"></script> <script crossorigin=\"anonymous\" defer=\"\" src=\"https://www.jiomart.com/assets/version1588949579/smartweb/js/filter.js\" type=\"text/javascript\"></script> <script crossorigin=\"anonymous\" defer=\"\" src=\"https://www.jiomart.com/assets/smartweb/js/jquery-listnav.js\" type=\"text/javascript\"></script> <script>\n",
      "$(window).on(\"load\",function() {\n",
      "    $('#list-nav').listnav({\n",
      "        showCounts: false,\n",
      "        includeNums: false\n",
      "    });\n",
      "});\n",
      "</script> <script>\n",
      "function getPageType(){\n",
      "    var pageType = 'other pages';\n",
      "    if($(\"body\").hasClass(\"cms-home\")){\n",
      "        pageType = \"Home Page\";\n",
      "    }else if($(\"body\").hasClass(\"catalog-category-view\")){\n",
      "        pageType = \"category page\";\n",
      "    }else if($(\"body\").hasClass(\"catalog-product-view\")){\n",
      "        pageType = \"Product Details Page\";\n",
      "    }\n",
      "    else if($(\"body\").hasClass(\"search-result-page\")){\n",
      "        pageType = \"Search Page\";\n",
      "    }            \n",
      "    return pageType;\n",
      "}   \n",
      "\n",
      "function trackGoogleEvents(category,action,label){\n",
      "    if(\"ga\"in window){\n",
      "        tracker=ga.getAll()[0];\n",
      "        if(tracker){\n",
      "            tracker.send(\"event\",category,action,label);\n",
      "        }\n",
      "    }\n",
      "}\n",
      "\n",
      "\n",
      "\n",
      "$(document).ready(function(){  \n",
      "    $(\".add_to_cart_fixed .cartbag\").click(function(){\n",
      "        trackGoogleEvents(\"New Click actions\",\"Add to cart button\",\"Product Holder\");\n",
      "    });\n",
      "\n",
      "    $(\"#search\").focus(function(){\n",
      "        trackGoogleEvents(\"New Click actions\",\"Search\",\"\");\n",
      "    });\n",
      "\n",
      "    $(\".mini-cart\").click(function(){\n",
      "        var pageType = 'other pages';\n",
      "        if($(\"body\").hasClass(\"cms-home\")){\n",
      "            pageType = \"home page\";\n",
      "        }\n",
      "        else if($(\"body\").hasClass(\"catalog-category-view\")){\n",
      "            pageType = \"category page\";\n",
      "        }\n",
      "        else if($(\"body\").hasClass(\"catalog-product-view\")){\n",
      "            pageType = \"product page\";\n",
      "        }\n",
      "        trackGoogleEvents(\"New Click actions\",\"Cart\",pageType);\n",
      "    });  \n",
      "\n",
      "    });\n",
      "</script> <script>\n",
      "if ('serviceWorker' in navigator) {\n",
      "    window.addEventListener('load', () => {\n",
      "        navigator.serviceWorker.register('/service-worker.js', {\n",
      "          scope: '/'\n",
      "        });\n",
      "    });\n",
      "}\n",
      " /*$.event.special.touchstart = {\n",
      "  setup: function( _, ns, handle ){\n",
      "    if ( ns.indexOf(\"noPreventDefault\") !== -1 ) {\n",
      "      // this.addEventListener(\"touchstart\", handle, { passive: false });\n",
      "      return ;\n",
      "    } else {\n",
      "      this.addEventListener(\"touchstart\", handle, { passive: true });\n",
      "    }\n",
      "  }\n",
      "}; */\n",
      "</script> <script>\n",
      "  var ALGOLIA_INSIGHTS_SRC = \"//cdn.jsdelivr.net/npm/search-insights@1.3.1\";\n",
      "\n",
      "  !function(e,a,t,n,s,i,c){e.AlgoliaAnalyticsObject=s,e[s]=e[s]||function(){\n",
      "  (e[s].queue=e[s].queue||[]).push(arguments)},i=a.createElement(t),c=a.getElementsByTagName(t)[0],\n",
      "  i.async=1,i.src=n,c.parentNode.insertBefore(i,c)\n",
      "  }(window,document,\"script\",ALGOLIA_INSIGHTS_SRC,\"aa\");\n",
      "\n",
      "\n",
      "  // Initialize library\n",
      "  aa('init', {\n",
      "    appId: window.algolia_app_id,\n",
      "    apiKey: window.algolia_api_key\n",
      "  });\n",
      "</script>  \n"
     ]
    }
   ],
   "source": [
    "print (page_Soup)"
   ]
  },
  {
   "cell_type": "code",
   "execution_count": 4,
   "metadata": {},
   "outputs": [],
   "source": [
    "containers = page_Soup.findAll(\"div\", {\"class\" : \"col-md-3 p-0\"})"
   ]
  },
  {
   "cell_type": "code",
   "execution_count": 5,
   "metadata": {},
   "outputs": [
    {
     "name": "stdout",
     "output_type": "stream",
     "text": [
      "20\n"
     ]
    }
   ],
   "source": [
    "print (len(containers))"
   ]
  },
  {
   "cell_type": "code",
   "execution_count": 6,
   "metadata": {},
   "outputs": [
    {
     "name": "stdout",
     "output_type": "stream",
     "text": [
      "<div class=\"col-md-3 p-0\">\n",
      " <div class=\"cat-item\">\n",
      "  <a class=\"category_name\" href=\"https://www.jiomart.com/good-life-dal-mix-500-g-491187271\" title=\"Good Life Dal Mix 500 g\">\n",
      "   <span class=\"cat-img\">\n",
      "    <img alt=\"Good Life Dal Mix 500 g\" class=\"product-image-photo\" src=\"https://www.jiomart.com/images/product/150x150/491187271/good-life-dal-mix-500-gm-pp-0-20200518.jpg\"/>\n",
      "   </span>\n",
      "   <span class=\"dis_section\">\n",
      "    <span>\n",
      "     21\n",
      "     <span class=\"per_txt\">\n",
      "      %\n",
      "     </span>\n",
      "    </span>\n",
      "    <br/>\n",
      "    off\n",
      "   </span>\n",
      "   <span class=\"clsgetname\">\n",
      "    Good Life Dal Mix 500 g\n",
      "   </span>\n",
      "  </a>\n",
      "  <a href=\"https://www.jiomart.com/manufacturers/private-label\" title=\"Private Label\">\n",
      "   <span class=\"drug-varients ellipsis\">\n",
      "    Mfr: Private Label\n",
      "   </span>\n",
      "  </a>\n",
      "  <div class=\"clearfix\">\n",
      "  </div>\n",
      "  <span class=\"price-box\">\n",
      "   <strike id=\"price\">\n",
      "    ₹ 75.00\n",
      "   </strike>\n",
      "   <span id=\"final_price\">\n",
      "    ₹ 59.00\n",
      "   </span>\n",
      "  </span>\n",
      "  <div class=\"cart_btn\">\n",
      "   <form class=\"cart-form\">\n",
      "    <input class=\"cart_qty\" name=\"qty\" type=\"hidden\" value=\"1\"/>\n",
      "    <input name=\"sku\" type=\"hidden\" value=\"491187271\"/>\n",
      "    <button class=\"toCart cartbag\" data-change=\"no\" data-sku=\"491187271\" title=\"ADD TO CART\" type=\"submit\">\n",
      "     Add to Cart\n",
      "    </button>\n",
      "   </form>\n",
      "  </div>\n",
      "  <div class=\"clearfix\">\n",
      "  </div>\n",
      " </div>\n",
      "</div>\n",
      "\n"
     ]
    }
   ],
   "source": [
    "print (Soup.prettify(containers[0]))"
   ]
  },
  {
   "cell_type": "code",
   "execution_count": 7,
   "metadata": {},
   "outputs": [
    {
     "name": "stdout",
     "output_type": "stream",
     "text": [
      "Good Life Dal Mix 500 g\n"
     ]
    }
   ],
   "source": [
    "container = containers[0]\n",
    "print (container.div.img[\"alt\"])"
   ]
  },
  {
   "cell_type": "code",
   "execution_count": 8,
   "metadata": {},
   "outputs": [
    {
     "name": "stdout",
     "output_type": "stream",
     "text": [
      "₹ 75.00\n"
     ]
    }
   ],
   "source": [
    "price = container.findAll(\"strike\", {\"id\" : \"price\"})\n",
    "print (price[0].text)"
   ]
  },
  {
   "cell_type": "code",
   "execution_count": 9,
   "metadata": {},
   "outputs": [
    {
     "name": "stdout",
     "output_type": "stream",
     "text": [
      "₹ 59.00\n"
     ]
    }
   ],
   "source": [
    "final_price = container.findAll(\"span\", {\"id\" : \"final_price\"})\n",
    "print (final_price[0].text)"
   ]
  },
  {
   "cell_type": "code",
   "execution_count": 10,
   "metadata": {},
   "outputs": [],
   "source": [
    "filename = \"JioMartDals&Pulses.csv\"\n",
    "f = open(filename, \"w\")"
   ]
  },
  {
   "cell_type": "code",
   "execution_count": 11,
   "metadata": {},
   "outputs": [
    {
     "data": {
      "text/plain": [
       "26"
      ]
     },
     "execution_count": 11,
     "metadata": {},
     "output_type": "execute_result"
    }
   ],
   "source": [
    "headers = \"product,price,final_price\\n\"\n",
    "f.write(headers)"
   ]
  },
  {
   "cell_type": "code",
   "execution_count": 12,
   "metadata": {},
   "outputs": [
    {
     "name": "stdout",
     "output_type": "stream",
     "text": [
      "Good Life Dal Mix 500 g,₹ 75.00,₹ 59.00\n",
      "\n"
     ]
    },
    {
     "ename": "UnicodeEncodeError",
     "evalue": "'charmap' codec can't encode character '\\u20b9' in position 24: character maps to <undefined>",
     "output_type": "error",
     "traceback": [
      "\u001b[1;31m---------------------------------------------------------------------------\u001b[0m",
      "\u001b[1;31mUnicodeEncodeError\u001b[0m                        Traceback (most recent call last)",
      "\u001b[1;32m<ipython-input-12-d2aed253ff6e>\u001b[0m in \u001b[0;36m<module>\u001b[1;34m\u001b[0m\n\u001b[0;32m     13\u001b[0m \u001b[1;33m\u001b[0m\u001b[0m\n\u001b[0;32m     14\u001b[0m     \u001b[0mprint\u001b[0m \u001b[1;33m(\u001b[0m\u001b[0mproduct\u001b[0m \u001b[1;33m+\u001b[0m \u001b[1;34m\",\"\u001b[0m \u001b[1;33m+\u001b[0m \u001b[0mprice\u001b[0m \u001b[1;33m+\u001b[0m \u001b[1;34m\",\"\u001b[0m \u001b[1;33m+\u001b[0m \u001b[0mfinal_price\u001b[0m \u001b[1;33m+\u001b[0m \u001b[1;34m\"\\n\"\u001b[0m\u001b[1;33m)\u001b[0m\u001b[1;33m\u001b[0m\u001b[1;33m\u001b[0m\u001b[0m\n\u001b[1;32m---> 15\u001b[1;33m     \u001b[0mf\u001b[0m\u001b[1;33m.\u001b[0m\u001b[0mwrite\u001b[0m\u001b[1;33m(\u001b[0m\u001b[0mproduct\u001b[0m \u001b[1;33m+\u001b[0m \u001b[1;34m\",\"\u001b[0m \u001b[1;33m+\u001b[0m \u001b[0mprice\u001b[0m \u001b[1;33m+\u001b[0m \u001b[1;34m\",\"\u001b[0m \u001b[1;33m+\u001b[0m \u001b[0mfinal_price\u001b[0m \u001b[1;33m+\u001b[0m \u001b[1;34m\"\\n\"\u001b[0m\u001b[1;33m)\u001b[0m\u001b[1;33m\u001b[0m\u001b[1;33m\u001b[0m\u001b[0m\n\u001b[0m\u001b[0;32m     16\u001b[0m \u001b[1;33m\u001b[0m\u001b[0m\n\u001b[0;32m     17\u001b[0m \u001b[0mf\u001b[0m\u001b[1;33m.\u001b[0m\u001b[0mclose\u001b[0m\u001b[1;33m(\u001b[0m\u001b[1;33m)\u001b[0m\u001b[1;33m\u001b[0m\u001b[1;33m\u001b[0m\u001b[0m\n",
      "\u001b[1;32mc:\\users\\ramsh\\appdata\\local\\programs\\python\\python37-32\\lib\\encodings\\cp1252.py\u001b[0m in \u001b[0;36mencode\u001b[1;34m(self, input, final)\u001b[0m\n\u001b[0;32m     17\u001b[0m \u001b[1;32mclass\u001b[0m \u001b[0mIncrementalEncoder\u001b[0m\u001b[1;33m(\u001b[0m\u001b[0mcodecs\u001b[0m\u001b[1;33m.\u001b[0m\u001b[0mIncrementalEncoder\u001b[0m\u001b[1;33m)\u001b[0m\u001b[1;33m:\u001b[0m\u001b[1;33m\u001b[0m\u001b[1;33m\u001b[0m\u001b[0m\n\u001b[0;32m     18\u001b[0m     \u001b[1;32mdef\u001b[0m \u001b[0mencode\u001b[0m\u001b[1;33m(\u001b[0m\u001b[0mself\u001b[0m\u001b[1;33m,\u001b[0m \u001b[0minput\u001b[0m\u001b[1;33m,\u001b[0m \u001b[0mfinal\u001b[0m\u001b[1;33m=\u001b[0m\u001b[1;32mFalse\u001b[0m\u001b[1;33m)\u001b[0m\u001b[1;33m:\u001b[0m\u001b[1;33m\u001b[0m\u001b[1;33m\u001b[0m\u001b[0m\n\u001b[1;32m---> 19\u001b[1;33m         \u001b[1;32mreturn\u001b[0m \u001b[0mcodecs\u001b[0m\u001b[1;33m.\u001b[0m\u001b[0mcharmap_encode\u001b[0m\u001b[1;33m(\u001b[0m\u001b[0minput\u001b[0m\u001b[1;33m,\u001b[0m\u001b[0mself\u001b[0m\u001b[1;33m.\u001b[0m\u001b[0merrors\u001b[0m\u001b[1;33m,\u001b[0m\u001b[0mencoding_table\u001b[0m\u001b[1;33m)\u001b[0m\u001b[1;33m[\u001b[0m\u001b[1;36m0\u001b[0m\u001b[1;33m]\u001b[0m\u001b[1;33m\u001b[0m\u001b[1;33m\u001b[0m\u001b[0m\n\u001b[0m\u001b[0;32m     20\u001b[0m \u001b[1;33m\u001b[0m\u001b[0m\n\u001b[0;32m     21\u001b[0m \u001b[1;32mclass\u001b[0m \u001b[0mIncrementalDecoder\u001b[0m\u001b[1;33m(\u001b[0m\u001b[0mcodecs\u001b[0m\u001b[1;33m.\u001b[0m\u001b[0mIncrementalDecoder\u001b[0m\u001b[1;33m)\u001b[0m\u001b[1;33m:\u001b[0m\u001b[1;33m\u001b[0m\u001b[1;33m\u001b[0m\u001b[0m\n",
      "\u001b[1;31mUnicodeEncodeError\u001b[0m: 'charmap' codec can't encode character '\\u20b9' in position 24: character maps to <undefined>"
     ]
    }
   ],
   "source": [
    "for container in containers:\n",
    "    product = container.div.img[\"alt\"]\n",
    "    \n",
    "    price_container = container.findAll(\"strike\", {\"id\" : \"price\"})\n",
    "    price = price_container[0].text.strip()\n",
    "    \n",
    "    final_price_container = container.findAll(\"span\", {\"id\" : \"final_price\"})\n",
    "    final_price = final_price_container[0].text.strip()\n",
    "    \n",
    "    #print (\"Product:\" + product)\n",
    "    #print (\"Price:\" + price)\n",
    "    #print (\"Final Price:\" + final_price)\n",
    "    \n",
    "    print (product + \",\" + price + \",\" + final_price + \"\\n\")\n",
    "    f.write(product + \",\" + price + \",\" + final_price + \"\\n\")\n",
    "    \n",
    "f.close()    "
   ]
  },
  {
   "cell_type": "code",
   "execution_count": null,
   "metadata": {},
   "outputs": [],
   "source": []
  }
 ],
 "metadata": {
  "kernelspec": {
   "display_name": "Python 3",
   "language": "python",
   "name": "python3"
  },
  "language_info": {
   "codemirror_mode": {
    "name": "ipython",
    "version": 3
   },
   "file_extension": ".py",
   "mimetype": "text/x-python",
   "name": "python",
   "nbconvert_exporter": "python",
   "pygments_lexer": "ipython3",
   "version": "3.7.7"
  }
 },
 "nbformat": 4,
 "nbformat_minor": 4
}
