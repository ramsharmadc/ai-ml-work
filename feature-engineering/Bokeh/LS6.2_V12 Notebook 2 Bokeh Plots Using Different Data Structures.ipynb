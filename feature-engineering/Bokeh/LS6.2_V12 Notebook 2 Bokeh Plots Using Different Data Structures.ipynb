{
 "cells": [
  {
   "cell_type": "markdown",
   "metadata": {},
   "source": [
    "# Notebook 2 - Bokeh Plots Using Different Data Structures"
   ]
  },
  {
   "cell_type": "code",
   "execution_count": 1,
   "metadata": {
    "collapsed": true
   },
   "outputs": [],
   "source": [
    "from bokeh.plotting import figure\n",
    "from bokeh.io import output_file\n",
    "from bokeh.io import show"
   ]
  },
  {
   "cell_type": "code",
   "execution_count": 3,
   "metadata": {
    "collapsed": true
   },
   "outputs": [],
   "source": [
    "#Using Lists"
   ]
  },
  {
   "cell_type": "code",
   "execution_count": 2,
   "metadata": {
    "collapsed": true
   },
   "outputs": [],
   "source": [
    "x = [ 1, 2, 3, 4, 5, 6, 7, 8, 9]\n",
    "y = [ 1, 4, 9, 16, 25, 36, 49, 64, 81]\n",
    "\n",
    "plot = figure(width=300, height=300)\n",
    "plot.line(x, y)\n",
    "\n",
    "output_file('line.html')\n",
    "\n",
    "show(plot)\n"
   ]
  },
  {
   "cell_type": "code",
   "execution_count": 35,
   "metadata": {
    "collapsed": true
   },
   "outputs": [],
   "source": [
    "#Using numpy arrays"
   ]
  },
  {
   "cell_type": "code",
   "execution_count": 3,
   "metadata": {
    "collapsed": true
   },
   "outputs": [],
   "source": [
    "import numpy as np\n",
    "\n",
    "x = [ 1, 2, 3, 4, 5, 6, 7, 8, 9]\n",
    "y = [ 1, 4, 9, 16, 25, 36, 49, 64, 81]\n",
    "\n",
    "x_array = np.array(x)\n",
    "y_array = np.array(y)\n",
    "\n",
    "plot = figure(width=300, height=300)\n",
    "plot.square(x_array, y_array)\n",
    "\n",
    "output_file(\"arrays.html\")\n",
    "\n",
    "show(plot)"
   ]
  },
  {
   "cell_type": "code",
   "execution_count": 8,
   "metadata": {
    "collapsed": true
   },
   "outputs": [],
   "source": [
    "#Using Pandas DataFrame"
   ]
  },
  {
   "cell_type": "code",
   "execution_count": 4,
   "metadata": {},
   "outputs": [
    {
     "name": "stdout",
     "output_type": "stream",
     "text": [
      "    mpg  cyl  displ   hp  weight  accel  yr  origin                       name\n",
      "0  18.0    8  307.0  130    3504   12.0  70       1  chevrolet chevelle malibu\n",
      "1  15.0    8  350.0  165    3693   11.5  70       1          buick skylark 320\n",
      "2  18.0    8  318.0  150    3436   11.0  70       1         plymouth satellite\n",
      "3  16.0    8  304.0  150    3433   12.0  70       1              amc rebel sst\n",
      "4  17.0    8  302.0  140    3449   10.5  70       1                ford torino\n",
      "<class 'pandas.core.frame.DataFrame'>\n"
     ]
    }
   ],
   "source": [
    "from bokeh.sampledata.autompg import autompg\n",
    "print(autompg.head())\n",
    "print(type(autompg))"
   ]
  },
  {
   "cell_type": "code",
   "execution_count": 5,
   "metadata": {
    "collapsed": true
   },
   "outputs": [],
   "source": [
    "plot = figure(title=\"MPG\")\n",
    "\n",
    "plot.line(x=autompg.index, y=autompg.mpg)\n",
    "plot.xaxis.axis_label = \"Record Number (index)\"\n",
    "plot.yaxis.axis_label = \"mpg\"\n",
    "\n",
    "output_file('line.html')\n",
    "\n",
    "show(plot)"
   ]
  },
  {
   "cell_type": "code",
   "execution_count": 38,
   "metadata": {
    "collapsed": true
   },
   "outputs": [],
   "source": [
    "#Using ColumnDataSource"
   ]
  },
  {
   "cell_type": "code",
   "execution_count": 6,
   "metadata": {
    "collapsed": true
   },
   "outputs": [],
   "source": [
    "from bokeh.models import ColumnDataSource\n",
    "\n",
    "source = ColumnDataSource(data={\n",
    "    'day' : [1, 2, 3, 4, 5],\n",
    "    'price' : [3, 7, 8, 5, 1],\n",
    "})\n",
    "\n",
    "plot = figure(plot_width=400, plot_height=400)\n",
    "plot.circle('day', 'price', size=10, source=source)\n",
    "\n",
    "output_file('ColumnDataSource.html')\n",
    "\n",
    "show(plot)\n"
   ]
  },
  {
   "cell_type": "code",
   "execution_count": 41,
   "metadata": {
    "collapsed": true
   },
   "outputs": [],
   "source": [
    "#Using ColumnDataSource with Pandas"
   ]
  },
  {
   "cell_type": "code",
   "execution_count": 7,
   "metadata": {
    "collapsed": true
   },
   "outputs": [],
   "source": [
    "from bokeh.sampledata.iris import flowers as df\n",
    "\n",
    "source = ColumnDataSource(df)\n",
    "\n",
    "plot = figure(plot_width=400, plot_height=400)\n",
    "plot.circle('petal_length', 'petal_width', source=source)\n",
    "\n",
    "output_file('ColumnDataSourceWithPandas.html')\n",
    "\n",
    "show(plot)"
   ]
  },
  {
   "cell_type": "code",
   "execution_count": null,
   "metadata": {
    "collapsed": true
   },
   "outputs": [],
   "source": []
  }
 ],
 "metadata": {
  "kernelspec": {
   "display_name": "Python 3",
   "language": "python",
   "name": "python3"
  },
  "language_info": {
   "codemirror_mode": {
    "name": "ipython",
    "version": 3
   },
   "file_extension": ".py",
   "mimetype": "text/x-python",
   "name": "python",
   "nbconvert_exporter": "python",
   "pygments_lexer": "ipython3",
   "version": "3.6.1"
  }
 },
 "nbformat": 4,
 "nbformat_minor": 2
}
