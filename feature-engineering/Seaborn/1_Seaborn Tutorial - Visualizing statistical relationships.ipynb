{
  "cells": [
    {
      "metadata": {},
      "cell_type": "markdown",
      "source": "# Notebook 1 - Seaborn Tutorial - Visualizing statistical relationships"
    },
    {
      "metadata": {
        "trusted": true
      },
      "cell_type": "code",
      "source": "import pandas as pd\nimport numpy as np\nimport seaborn as sns\nsns.__version__",
      "execution_count": 26,
      "outputs": [
        {
          "output_type": "execute_result",
          "execution_count": 26,
          "data": {
            "text/plain": "'0.9.0'"
          },
          "metadata": {}
        }
      ]
    },
    {
      "metadata": {
        "trusted": true
      },
      "cell_type": "code",
      "source": "#https://seaborn.pydata.org/tutorial.html",
      "execution_count": 3,
      "outputs": []
    },
    {
      "metadata": {
        "trusted": true
      },
      "cell_type": "code",
      "source": "tips = sns.load_dataset(\"tips\")\ntips.head()",
      "execution_count": null,
      "outputs": []
    },
    {
      "metadata": {},
      "cell_type": "markdown",
      "source": "# Visualizing statistical relationships"
    },
    {
      "metadata": {
        "trusted": true
      },
      "cell_type": "code",
      "source": "#scatterplot() (with kind=\"scatter\"; the default)\n#lineplot() (with kind=\"line\")\n#relplot()",
      "execution_count": null,
      "outputs": []
    },
    {
      "metadata": {},
      "cell_type": "markdown",
      "source": "# Scatter plots"
    },
    {
      "metadata": {
        "trusted": true
      },
      "cell_type": "code",
      "source": "sns.scatterplot(x=\"total_bill\", y=\"tip\", data=tips)",
      "execution_count": null,
      "outputs": []
    },
    {
      "metadata": {
        "trusted": true
      },
      "cell_type": "code",
      "source": "sns.relplot(x=\"total_bill\", y=\"tip\", data=tips);",
      "execution_count": null,
      "outputs": []
    },
    {
      "metadata": {
        "trusted": true
      },
      "cell_type": "code",
      "source": "sns.relplot(x=\"total_bill\", y=\"tip\", hue=\"time\", data=tips);",
      "execution_count": null,
      "outputs": []
    },
    {
      "metadata": {
        "trusted": true
      },
      "cell_type": "code",
      "source": "#Representing Third feature",
      "execution_count": 38,
      "outputs": []
    },
    {
      "metadata": {
        "trusted": true
      },
      "cell_type": "code",
      "source": "sns.relplot(x=\"total_bill\", y=\"size\", hue=\"smoker\", style=\"smoker\", data=tips);",
      "execution_count": null,
      "outputs": []
    },
    {
      "metadata": {
        "trusted": true
      },
      "cell_type": "code",
      "source": "sns.relplot(x=\"total_bill\", y=\"tip\", hue=\"time\", style=\"smoker\", data=tips);",
      "execution_count": null,
      "outputs": []
    },
    {
      "metadata": {
        "trusted": true
      },
      "cell_type": "code",
      "source": "#Representing more than two features",
      "execution_count": 39,
      "outputs": []
    },
    {
      "metadata": {
        "trusted": true
      },
      "cell_type": "code",
      "source": "sns.relplot(x=\"total_bill\", y=\"tip\", size=\"size\", data=tips);",
      "execution_count": null,
      "outputs": []
    },
    {
      "metadata": {
        "trusted": true
      },
      "cell_type": "code",
      "source": "sns.relplot(x=\"total_bill\", y=\"tip\", size=\"size\", sizes=(15, 200), data=tips);",
      "execution_count": null,
      "outputs": []
    },
    {
      "metadata": {},
      "cell_type": "markdown",
      "source": "# Line Plots"
    },
    {
      "metadata": {
        "trusted": true
      },
      "cell_type": "code",
      "source": "sns.lineplot(x=\"total_bill\", y=\"tip\", data=tips)",
      "execution_count": null,
      "outputs": []
    },
    {
      "metadata": {
        "trusted": true
      },
      "cell_type": "code",
      "source": "g = sns.relplot(x=\"total_bill\", y=\"tip\", kind=\"line\", data=tips)",
      "execution_count": null,
      "outputs": []
    },
    {
      "metadata": {
        "trusted": true
      },
      "cell_type": "code",
      "source": "#Representing Color pallete",
      "execution_count": 40,
      "outputs": []
    },
    {
      "metadata": {
        "trusted": true
      },
      "cell_type": "code",
      "source": "palette = sns.cubehelix_palette(light=.8, n_colors=2)\nsns.relplot(x=\"total_bill\", y=\"tip\",\n            hue=\"sex\", style=\"size\",\n            palette=palette,\n            kind=\"line\", data=tips);",
      "execution_count": null,
      "outputs": []
    },
    {
      "metadata": {
        "trusted": true
      },
      "cell_type": "code",
      "source": "#Representing Date Axis",
      "execution_count": null,
      "outputs": []
    },
    {
      "metadata": {
        "trusted": true
      },
      "cell_type": "code",
      "source": "df = pd.DataFrame(dict(time=pd.date_range(\"2017-1-1\", periods=500),\n                       value=np.random.randn(500).cumsum()))\ng = sns.relplot(x=\"time\", y=\"value\", kind=\"line\", data=df)\ng.fig.autofmt_xdate()",
      "execution_count": null,
      "outputs": []
    },
    {
      "metadata": {
        "trusted": true
      },
      "cell_type": "code",
      "source": "#Representing multiplots using col",
      "execution_count": 41,
      "outputs": []
    },
    {
      "metadata": {
        "trusted": true
      },
      "cell_type": "code",
      "source": "sns.relplot(x=\"size\", y=\"tip\", hue=\"time\", col=\"smoker\", kind=\"line\", data=tips);",
      "execution_count": null,
      "outputs": []
    },
    {
      "metadata": {
        "trusted": true
      },
      "cell_type": "code",
      "source": "#Representing Multip plot with query",
      "execution_count": 42,
      "outputs": []
    },
    {
      "metadata": {
        "trusted": true
      },
      "cell_type": "code",
      "source": "sns.relplot(x=\"total_bill\", y=\"tip\", hue=\"time\", \n            col=\"day\", col_wrap=5,\n            height=3, aspect=.75, linewidth=2.5,\n            kind=\"line\", data=tips.query(\"sex == 'Male'\"));",
      "execution_count": null,
      "outputs": []
    }
  ],
  "metadata": {
    "kernelspec": {
      "name": "python36",
      "display_name": "Python 3.6",
      "language": "python"
    },
    "language_info": {
      "mimetype": "text/x-python",
      "nbconvert_exporter": "python",
      "name": "python",
      "pygments_lexer": "ipython3",
      "version": "3.6.6",
      "file_extension": ".py",
      "codemirror_mode": {
        "version": 3,
        "name": "ipython"
      }
    }
  },
  "nbformat": 4,
  "nbformat_minor": 2
}