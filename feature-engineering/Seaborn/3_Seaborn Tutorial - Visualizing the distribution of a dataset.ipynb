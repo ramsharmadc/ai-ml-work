{
  "cells": [
    {
      "metadata": {
        "collapsed": true
      },
      "cell_type": "markdown",
      "source": "# Notebook 2 - Seaborn Tutorial - Visualizing the distribution of a dataset\n"
    },
    {
      "metadata": {
        "trusted": true
      },
      "cell_type": "code",
      "source": "import pandas as pd\nimport numpy as np\nimport matplotlib.pyplot as plt\nimport seaborn as sns\nsns.__version__\nsns.set(style=\"ticks\", color_codes=True)",
      "execution_count": 20,
      "outputs": []
    },
    {
      "metadata": {
        "trusted": true
      },
      "cell_type": "code",
      "source": "#https://seaborn.pydata.org/tutorial.html",
      "execution_count": 2,
      "outputs": []
    },
    {
      "metadata": {
        "trusted": true
      },
      "cell_type": "code",
      "source": "titanic = sns.load_dataset(\"titanic\")\ntitanic.head()",
      "execution_count": null,
      "outputs": []
    },
    {
      "metadata": {},
      "cell_type": "markdown",
      "source": "# Plotting univariate distributions"
    },
    {
      "metadata": {
        "trusted": true
      },
      "cell_type": "code",
      "source": "#Histograms",
      "execution_count": 16,
      "outputs": []
    },
    {
      "metadata": {
        "trusted": true
      },
      "cell_type": "code",
      "source": "sns.distplot(titanic[\"survived\"]);",
      "execution_count": null,
      "outputs": []
    },
    {
      "metadata": {
        "trusted": true
      },
      "cell_type": "code",
      "source": "sns.distplot(titanic[\"survived\"], kde=False, rug=False);",
      "execution_count": null,
      "outputs": []
    },
    {
      "metadata": {
        "trusted": true
      },
      "cell_type": "code",
      "source": "sns.distplot(titanic[\"pclass\"], kde=False, rug=False);",
      "execution_count": null,
      "outputs": []
    },
    {
      "metadata": {
        "trusted": true
      },
      "cell_type": "code",
      "source": "#Kernel Density Estimation Plots (KDE)",
      "execution_count": 17,
      "outputs": []
    },
    {
      "metadata": {
        "trusted": true
      },
      "cell_type": "code",
      "source": "sns.distplot(titanic[\"pclass\"], hist=False, rug=True);",
      "execution_count": null,
      "outputs": []
    },
    {
      "metadata": {
        "trusted": true
      },
      "cell_type": "code",
      "source": "sns.kdeplot(titanic[\"pclass\"])\nsns.kdeplot(titanic[\"survived\"], bw=.2, label=\"survived\")\nplt.legend();",
      "execution_count": null,
      "outputs": []
    },
    {
      "metadata": {},
      "cell_type": "markdown",
      "source": "# Plotting bivariate distributions"
    },
    {
      "metadata": {
        "trusted": true
      },
      "cell_type": "code",
      "source": "#jointplot",
      "execution_count": 23,
      "outputs": []
    },
    {
      "metadata": {
        "trusted": true
      },
      "cell_type": "code",
      "source": "sns.jointplot(x=titanic[\"age\"], y=titanic[\"pclass\"], data=titanic);",
      "execution_count": null,
      "outputs": []
    },
    {
      "metadata": {
        "trusted": true
      },
      "cell_type": "code",
      "source": "#Hexbin plots",
      "execution_count": 35,
      "outputs": []
    },
    {
      "metadata": {
        "trusted": true
      },
      "cell_type": "code",
      "source": "with sns.axes_style(\"white\"):\n    sns.jointplot(x=titanic[\"age\"], y=titanic[\"pclass\"], kind=\"hex\", color=\"k\");",
      "execution_count": null,
      "outputs": []
    },
    {
      "metadata": {
        "trusted": true
      },
      "cell_type": "code",
      "source": "#Kernel density estimation",
      "execution_count": 37,
      "outputs": []
    },
    {
      "metadata": {},
      "cell_type": "raw",
      "source": "snrys.jointplot(x=titanic[\"age\"], y=titanic[\"pclass\"], data=titanic, kind=\"kde\");"
    },
    {
      "metadata": {},
      "cell_type": "markdown",
      "source": "# Visualizing pairwise relationships in a dataset"
    },
    {
      "metadata": {
        "trusted": true
      },
      "cell_type": "code",
      "source": "mod_titanic = pd.DataFrame()\nmod_titanic[\"survived\"] = titanic[\"survived\"]\nmod_titanic[\"pclass\"] = titanic[\"pclass\"]\nmod_titanic[\"age\"] = titanic[\"age\"]\nmod_titanic.head()",
      "execution_count": null,
      "outputs": []
    },
    {
      "metadata": {
        "trusted": true
      },
      "cell_type": "code",
      "source": "sns.pairplot(mod_titanic);",
      "execution_count": null,
      "outputs": []
    },
    {
      "metadata": {
        "trusted": true
      },
      "cell_type": "code",
      "source": "iris = sns.load_dataset(\"iris\")\nsns.pairplot(iris);",
      "execution_count": null,
      "outputs": []
    }
  ],
  "metadata": {
    "kernelspec": {
      "name": "python36",
      "display_name": "Python 3.6",
      "language": "python"
    },
    "language_info": {
      "mimetype": "text/x-python",
      "nbconvert_exporter": "python",
      "name": "python",
      "pygments_lexer": "ipython3",
      "version": "3.6.6",
      "file_extension": ".py",
      "codemirror_mode": {
        "version": 3,
        "name": "ipython"
      }
    }
  },
  "nbformat": 4,
  "nbformat_minor": 2
}