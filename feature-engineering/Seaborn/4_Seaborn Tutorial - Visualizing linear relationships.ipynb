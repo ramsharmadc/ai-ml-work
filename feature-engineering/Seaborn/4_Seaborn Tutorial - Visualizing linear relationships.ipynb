{
  "cells": [
    {
      "metadata": {
        "collapsed": true
      },
      "cell_type": "markdown",
      "source": "# Notebook 4 - Seaborn Tutorial - PVisualizing linear relationships"
    },
    {
      "metadata": {
        "trusted": true
      },
      "cell_type": "code",
      "source": "import pandas as pd\nimport numpy as np\nimport seaborn as sns\nsns.__version__",
      "execution_count": 2,
      "outputs": [
        {
          "output_type": "execute_result",
          "execution_count": 2,
          "data": {
            "text/plain": "'0.9.0'"
          },
          "metadata": {}
        }
      ]
    },
    {
      "metadata": {
        "trusted": true
      },
      "cell_type": "code",
      "source": "#https://seaborn.pydata.org/tutorial.html",
      "execution_count": 3,
      "outputs": []
    },
    {
      "metadata": {
        "trusted": true
      },
      "cell_type": "code",
      "source": "tips = sns.load_dataset(\"tips\")\ntips.head()",
      "execution_count": null,
      "outputs": []
    },
    {
      "metadata": {},
      "cell_type": "markdown",
      "source": "# Functions to draw linear regression models"
    },
    {
      "metadata": {
        "trusted": true
      },
      "cell_type": "code",
      "source": "sns.regplot(x=\"total_bill\", y=\"size\", data=tips);",
      "execution_count": null,
      "outputs": []
    },
    {
      "metadata": {
        "trusted": true
      },
      "cell_type": "code",
      "source": "sns.lmplot(x=\"total_bill\", y=\"size\", data=tips);",
      "execution_count": null,
      "outputs": []
    },
    {
      "metadata": {
        "trusted": true
      },
      "cell_type": "code",
      "source": "sns.lmplot(x=\"total_bill\", y=\"size\", hue=\"smoker\", data=tips);",
      "execution_count": null,
      "outputs": []
    },
    {
      "metadata": {
        "trusted": true
      },
      "cell_type": "code",
      "source": "sns.lmplot(x=\"total_bill\", y=\"size\", hue=\"smoker\", data=tips,\n           markers=[\"o\", \"x\"], palette=\"Set1\");",
      "execution_count": null,
      "outputs": []
    },
    {
      "metadata": {
        "trusted": true
      },
      "cell_type": "code",
      "source": "sns.lmplot(x=\"total_bill\", y=\"size\", hue=\"smoker\", col=\"time\", data=tips);",
      "execution_count": null,
      "outputs": []
    },
    {
      "metadata": {
        "trusted": true
      },
      "cell_type": "code",
      "source": "sns.lmplot(x=\"total_bill\", y=\"size\", col=\"day\", data=tips, col_wrap=2, height=3);",
      "execution_count": null,
      "outputs": []
    },
    {
      "metadata": {
        "trusted": true
      },
      "cell_type": "code",
      "source": "sns.jointplot(x=\"total_bill\", y=\"size\", data=tips, kind=\"reg\");",
      "execution_count": null,
      "outputs": []
    },
    {
      "metadata": {
        "trusted": true
      },
      "cell_type": "code",
      "source": "sns.pairplot(tips, x_vars=[\"total_bill\", \"tip\"], y_vars=[\"size\"],\n             height=5, aspect=.8, kind=\"reg\");",
      "execution_count": null,
      "outputs": []
    },
    {
      "metadata": {
        "trusted": true
      },
      "cell_type": "code",
      "source": "sns.pairplot(tips, x_vars=[\"total_bill\", \"tip\"], y_vars=[\"size\"], hue=\"smoker\",\n             height=5, aspect=.8, kind=\"reg\");",
      "execution_count": null,
      "outputs": []
    }
  ],
  "metadata": {
    "kernelspec": {
      "name": "python36",
      "display_name": "Python 3.6",
      "language": "python"
    },
    "language_info": {
      "mimetype": "text/x-python",
      "nbconvert_exporter": "python",
      "name": "python",
      "pygments_lexer": "ipython3",
      "version": "3.6.6",
      "file_extension": ".py",
      "codemirror_mode": {
        "version": 3,
        "name": "ipython"
      }
    }
  },
  "nbformat": 4,
  "nbformat_minor": 2
}