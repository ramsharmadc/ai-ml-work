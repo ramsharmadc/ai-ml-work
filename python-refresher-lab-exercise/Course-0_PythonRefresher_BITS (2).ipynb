{
 "cells": [
  {
   "cell_type": "markdown",
   "metadata": {},
   "source": [
    "# Python Prelims"
   ]
  },
  {
   "cell_type": "markdown",
   "metadata": {},
   "source": [
    "## basics"
   ]
  },
  {
   "cell_type": "code",
   "execution_count": 1,
   "metadata": {},
   "outputs": [
    {
     "name": "stdout",
     "output_type": "stream",
     "text": [
      "heloo\n"
     ]
    }
   ],
   "source": [
    "print ('heloo')"
   ]
  },
  {
   "cell_type": "code",
   "execution_count": 2,
   "metadata": {},
   "outputs": [
    {
     "name": "stdout",
     "output_type": "stream",
     "text": [
      "tot => 272844\n"
     ]
    }
   ],
   "source": [
    "tot = 3498 * 78\n",
    "print(\"tot => \" + str(tot))"
   ]
  },
  {
   "cell_type": "code",
   "execution_count": 3,
   "metadata": {},
   "outputs": [
    {
     "name": "stdout",
     "output_type": "stream",
     "text": [
      "9\n"
     ]
    }
   ],
   "source": [
    "print(9)"
   ]
  },
  {
   "cell_type": "code",
   "execution_count": 4,
   "metadata": {},
   "outputs": [
    {
     "name": "stdout",
     "output_type": "stream",
     "text": [
      "2 2\n",
      "3 2\n"
     ]
    }
   ],
   "source": [
    "x = 2\n",
    "z = x\n",
    "print(x, z)\n",
    "x = 3\n",
    "print(x, z)"
   ]
  },
  {
   "cell_type": "code",
   "execution_count": 5,
   "metadata": {},
   "outputs": [
    {
     "data": {
      "text/plain": [
       "str"
      ]
     },
     "execution_count": 5,
     "metadata": {},
     "output_type": "execute_result"
    }
   ],
   "source": [
    "x = 'hello'\n",
    "type(x)"
   ]
  },
  {
   "cell_type": "code",
   "execution_count": 6,
   "metadata": {},
   "outputs": [
    {
     "data": {
      "text/plain": [
       "tuple"
      ]
     },
     "execution_count": 6,
     "metadata": {},
     "output_type": "execute_result"
    }
   ],
   "source": [
    "x=(1,2,3)\n",
    "type(x)\n"
   ]
  },
  {
   "cell_type": "code",
   "execution_count": 7,
   "metadata": {},
   "outputs": [
    {
     "data": {
      "text/plain": [
       "list"
      ]
     },
     "execution_count": 7,
     "metadata": {},
     "output_type": "execute_result"
    }
   ],
   "source": [
    "x=[1,2,3]\n",
    "type(x)"
   ]
  },
  {
   "cell_type": "code",
   "execution_count": 8,
   "metadata": {},
   "outputs": [
    {
     "name": "stdout",
     "output_type": "stream",
     "text": [
      "False\n"
     ]
    }
   ],
   "source": [
    "x = bool(0)\n",
    "print(x)"
   ]
  },
  {
   "cell_type": "code",
   "execution_count": 9,
   "metadata": {},
   "outputs": [
    {
     "name": "stdout",
     "output_type": "stream",
     "text": [
      "True\n"
     ]
    }
   ],
   "source": [
    "x = bool(1)\n",
    "print(x)"
   ]
  },
  {
   "cell_type": "code",
   "execution_count": 10,
   "metadata": {},
   "outputs": [
    {
     "name": "stdout",
     "output_type": "stream",
     "text": [
      "True\n"
     ]
    }
   ],
   "source": [
    "x = bool(1.234e3)\n",
    "print(x)"
   ]
  },
  {
   "cell_type": "code",
   "execution_count": 11,
   "metadata": {},
   "outputs": [
    {
     "data": {
      "text/plain": [
       "'world'"
      ]
     },
     "execution_count": 11,
     "metadata": {},
     "output_type": "execute_result"
    }
   ],
   "source": [
    "'hello' and 'world'\n"
   ]
  },
  {
   "cell_type": "code",
   "execution_count": 12,
   "metadata": {},
   "outputs": [
    {
     "data": {
      "text/plain": [
       "'python'"
      ]
     },
     "execution_count": 12,
     "metadata": {},
     "output_type": "execute_result"
    }
   ],
   "source": [
    "not ('hello' and 'world') or 'python'"
   ]
  },
  {
   "cell_type": "code",
   "execution_count": 13,
   "metadata": {},
   "outputs": [
    {
     "data": {
      "text/plain": [
       "True"
      ]
     },
     "execution_count": 13,
     "metadata": {},
     "output_type": "execute_result"
    }
   ],
   "source": [
    "a = \"hello\"\n",
    "b = \"hello\"\n",
    "a is b"
   ]
  },
  {
   "cell_type": "code",
   "execution_count": 14,
   "metadata": {},
   "outputs": [
    {
     "name": "stdout",
     "output_type": "stream",
     "text": [
      "False\n",
      "True\n"
     ]
    }
   ],
   "source": [
    "a = [1,2,3]\n",
    "b = [1,2,3]\n",
    "\n",
    "print(a is b)\n",
    "print(a ==b)\n",
    "    "
   ]
  },
  {
   "cell_type": "code",
   "execution_count": 15,
   "metadata": {},
   "outputs": [
    {
     "name": "stdout",
     "output_type": "stream",
     "text": [
      "[1, 2, 3]\n",
      "[1, 4, 3]\n"
     ]
    }
   ],
   "source": [
    "a = [1,2,3]\n",
    "b = a\n",
    "\n",
    "print(b)\n",
    "\n",
    "a[1]= 4\n",
    "\n",
    "print(b)"
   ]
  },
  {
   "cell_type": "code",
   "execution_count": 16,
   "metadata": {},
   "outputs": [
    {
     "data": {
      "text/plain": [
       "False"
      ]
     },
     "execution_count": 16,
     "metadata": {},
     "output_type": "execute_result"
    }
   ],
   "source": [
    "a = 5\n",
    "b = 9\n",
    "a > b"
   ]
  },
  {
   "cell_type": "markdown",
   "metadata": {},
   "source": [
    "## import math functions"
   ]
  },
  {
   "cell_type": "code",
   "execution_count": 17,
   "metadata": {},
   "outputs": [
    {
     "name": "stdout",
     "output_type": "stream",
     "text": [
      "3.141592653589793\n",
      "2.718281828459045\n",
      "24\n",
      "23\n",
      "3.0\n",
      "1.6379563235768832e+35\n"
     ]
    }
   ],
   "source": [
    "import math\n",
    "\n",
    "print(math.pi)\n",
    "print(math.e)\n",
    "print(math.ceil(23.12))\n",
    "print(math.floor(23.97))\n",
    "print(math.sqrt(9))\n",
    "print(math.exp(81.083927575384))\n"
   ]
  },
  {
   "cell_type": "markdown",
   "metadata": {},
   "source": [
    "## List Operations"
   ]
  },
  {
   "cell_type": "code",
   "execution_count": 18,
   "metadata": {},
   "outputs": [
    {
     "name": "stdout",
     "output_type": "stream",
     "text": [
      "<class 'list'>\n",
      "[29, 2.9, 'C', 'Hello', True, [3, 'he', (1, 2, 3)]]\n",
      "[3, 'he', (1, 2, 3)]\n",
      "(1, 2, 3)\n",
      "2\n",
      "[29, 2.9, 'C', 'Hello', True, [3, 'he', (1, 2, 3)], 'ERR']\n",
      "[1, 2, 3, 4, 5, 6, 7, 8, 9, 10, 11, 12, 13, 14, 15, 29, 2.9, 'C', 'Hello', True, [3, 'he', (1, 2, 3)], 'ERR']\n",
      "[14, 15, 1, 2, 3, 4, 5, 6, 7, 8, 9]\n",
      "3\n",
      "True\n",
      "True\n",
      "True\n",
      "False\n",
      "True\n",
      "True\n"
     ]
    }
   ],
   "source": [
    "L = [29, 2.9, 'C', 'Hello', True, [3, 'he', (1, 2, 3)]]\n",
    "\n",
    "print(type(L))\n",
    "print(L)\n",
    "print(L[5])\n",
    "print(L[5][2])\n",
    "print(L[5][2][1])\n",
    "\n",
    "L.append(\"ERR\")\n",
    "print(L)\n",
    "\n",
    "L2 = [1,2,3,4,5,6,7,8,9,10,11,12,13,14,15]\n",
    "print(L2+L)\n",
    "L2[1:7]\n",
    "L2[1:15:2]  ## highlight\n",
    "\n",
    "print((L2*2)[13:24]) ## higlight\n",
    "\n",
    "print(L.index('Hello'))\n",
    "\n",
    "print('Hello' in L)\n",
    "print([3, 'he', (1, 2, 3)] in L)\n",
    "\n",
    "L3 = [1,2,3,4,5,6,7,8,9,10,11,12,13,14,15]\n",
    "L4 = [1,2,3,4,5,6,7,8,9,10,11,12,13,14,15]\n",
    "print(L3==L4) #True\n",
    "\n",
    "L3 = [1,2,3,4,5,6,7,8,9,10,11,12,13,14,15]\n",
    "L4 = [1,2,3,4,5,6,7,8,9,10,11,12,13]\n",
    "print(L3==L4) #False\n",
    "print(L3 > L4) # True\n",
    "print(L4[0:5] == L3[0:5])\n"
   ]
  },
  {
   "cell_type": "code",
   "execution_count": 19,
   "metadata": {},
   "outputs": [
    {
     "name": "stdout",
     "output_type": "stream",
     "text": [
      "Hello\n",
      "['H', 'e', 'l', 'l', 'o']\n",
      "False\n"
     ]
    }
   ],
   "source": [
    "p = ['Hello']\n",
    "p2 = ['H','e','l','l','o']\n",
    "\n",
    "print(p[0])\n",
    "print(p2)\n",
    "print(p[0] in p2)"
   ]
  },
  {
   "cell_type": "markdown",
   "metadata": {},
   "source": [
    "## Strings"
   ]
  },
  {
   "cell_type": "code",
   "execution_count": 20,
   "metadata": {},
   "outputs": [
    {
     "name": "stdout",
     "output_type": "stream",
     "text": [
      "0\n",
      "5\n",
      "Hello Python\n",
      "['This', 'is', 'a', 'long', 'String']\n",
      "['This', ' is', ' a', ' long', ' String']\n",
      "10\n",
      "10\n"
     ]
    }
   ],
   "source": [
    "s = ''\n",
    "print(len(s))\n",
    "\n",
    "s = 'Hello'\n",
    "print(len(s))\n",
    "\n",
    "s = s + ' Python'\n",
    "print(s)\n",
    "\n",
    "s = \"This is a long String\"\n",
    "print(s.split()) #splits by whitespace, by default\n",
    "\n",
    "s = \"This, is, a, long, String\"\n",
    "print(s.split(','))\n",
    "\n",
    "s = \"This is a long String\"\n",
    "print(s.rfind('long'))\n",
    "\n",
    "s = \"This is a long String\"\n",
    "print(s.index('long'))"
   ]
  },
  {
   "cell_type": "markdown",
   "metadata": {},
   "source": [
    "## Set - Operations"
   ]
  },
  {
   "cell_type": "code",
   "execution_count": 21,
   "metadata": {},
   "outputs": [
    {
     "name": "stdout",
     "output_type": "stream",
     "text": [
      "False\n",
      "False\n",
      "{1, 2, 3, 4, 6, 7}\n",
      "{1, 3}\n",
      "{2, 4, 6}\n",
      "{7}\n"
     ]
    }
   ],
   "source": [
    "S1 = {1, 2, 3, 4, 6}\n",
    "S2 = {1, 3, 7}\n",
    "\n",
    "print(S1.issubset(S2))\n",
    "print(S1.issuperset(S2))\n",
    "print(S1.union(S2))\n",
    "print(S1.intersection(S2))\n",
    "print(S1.difference(S2))\n",
    "print(S2.difference(S1))"
   ]
  },
  {
   "cell_type": "markdown",
   "metadata": {},
   "source": [
    "## tuple - operations"
   ]
  },
  {
   "cell_type": "code",
   "execution_count": 22,
   "metadata": {},
   "outputs": [
    {
     "name": "stdout",
     "output_type": "stream",
     "text": [
      "()\n",
      "(1, 2, 3, 9, 10)\n",
      "(1, 2, 3, 'One', 'Two', 'Three')\n",
      "1 2 3 One Two Three\n",
      "([1, 2], [3, 4])\n",
      "([1, 2], ['c', 4])\n"
     ]
    }
   ],
   "source": [
    "t = ()\n",
    "print(t)\n",
    "\n",
    "t= (1, 2, 3) + (9, 10)\n",
    "print(t)\n",
    "\n",
    "t= (1, 2, 3) + (\"One\", \"Two\", \"Three\") #highlight: tuple can contain heterogenous types\n",
    "print(t)\n",
    "\n",
    "xInt, yInt, zInt, xStr, yStr, zStr = t #highlight: note the assignment\n",
    "print(xInt, yInt, zInt, xStr, yStr, zStr)\n",
    "\n",
    "#t[2] = '3' #throws error as tuple is immutable\n",
    "#print(t)\n",
    "\n",
    "t = ([1,2], [3,4])\n",
    "print(t)\n",
    "t[1][0] = 'c'  #but list in tuple is immutable, so it can be changed\n",
    "print(t)\n"
   ]
  },
  {
   "cell_type": "markdown",
   "metadata": {},
   "source": [
    "## Dictionaries"
   ]
  },
  {
   "cell_type": "code",
   "execution_count": 23,
   "metadata": {},
   "outputs": [
    {
     "name": "stdout",
     "output_type": "stream",
     "text": [
      "{'jose': 'A', 'San': 'A+', 'Clair': 'B', 'Kiera': 'AB'}\n",
      "A\n",
      "AB\n"
     ]
    }
   ],
   "source": [
    "grades = {'jose':'A', 'San':'A+', 'Clair':'B', 'Kiera':'AB'} #one way to define dictionary\n",
    "print(grades)\n",
    "print(grades['jose'])\n",
    "print(grades['Kiera'])"
   ]
  },
  {
   "cell_type": "code",
   "execution_count": 24,
   "metadata": {},
   "outputs": [
    {
     "name": "stdout",
     "output_type": "stream",
     "text": [
      "{'jose': 'A', 'San': 'A+', 'Clair': 'B', 'Kiera': 'AB'}\n"
     ]
    }
   ],
   "source": [
    "grades = dict(jose='A', San= 'A+', Clair= 'B', Kiera= 'AB') #another way to define dictionary, same dict as away\n",
    "print(grades)"
   ]
  },
  {
   "cell_type": "code",
   "execution_count": 25,
   "metadata": {},
   "outputs": [
    {
     "name": "stdout",
     "output_type": "stream",
     "text": [
      "{'jose': 'A', 'San': 'A+', 'Clair': 'B', 'Kiera': 'AB'}\n"
     ]
    }
   ],
   "source": [
    "grades = dict([('jose','A'), ('San','A+'), ('Clair','B'), ('Kiera','AB')]) #another way to define dictionary, same dict as away\n",
    "print(grades)"
   ]
  },
  {
   "cell_type": "markdown",
   "metadata": {},
   "source": [
    "## assignments"
   ]
  },
  {
   "cell_type": "code",
   "execution_count": 26,
   "metadata": {},
   "outputs": [
    {
     "name": "stdout",
     "output_type": "stream",
     "text": [
      "1\n",
      "2\n",
      "3\n"
     ]
    }
   ],
   "source": [
    "a,b,c = [1,2,3]\n",
    "print(a)\n",
    "print(b)\n",
    "print(c)"
   ]
  },
  {
   "cell_type": "code",
   "execution_count": 27,
   "metadata": {},
   "outputs": [
    {
     "name": "stdout",
     "output_type": "stream",
     "text": [
      "G\n",
      "I\n",
      "A\n"
     ]
    }
   ],
   "source": [
    "a, b, c = \"GIA\"\n",
    "print(a)\n",
    "print(b)\n",
    "print(c)"
   ]
  },
  {
   "cell_type": "code",
   "execution_count": 28,
   "metadata": {},
   "outputs": [
    {
     "name": "stdout",
     "output_type": "stream",
     "text": [
      "G\n",
      "I\n",
      "A\n"
     ]
    }
   ],
   "source": [
    "[a,b,c]=\"GIA\"\n",
    "print(a)\n",
    "print(b)\n",
    "print(c)"
   ]
  },
  {
   "cell_type": "code",
   "execution_count": 29,
   "metadata": {},
   "outputs": [
    {
     "name": "stdout",
     "output_type": "stream",
     "text": [
      "g\n",
      "reat\n"
     ]
    }
   ],
   "source": [
    "s = \"great\"\n",
    "[a, b] = s[0], s[1:]\n",
    "print(a)\n",
    "print(b)"
   ]
  },
  {
   "cell_type": "markdown",
   "metadata": {},
   "source": [
    "## control flow statements "
   ]
  },
  {
   "cell_type": "markdown",
   "metadata": {},
   "source": [
    "### If statements"
   ]
  },
  {
   "cell_type": "code",
   "execution_count": 30,
   "metadata": {},
   "outputs": [
    {
     "name": "stdout",
     "output_type": "stream",
     "text": [
      "largest: 11\n",
      "exp status: intemediate\n",
      "12\n",
      "1\n",
      "5\n",
      "9\n",
      "3\n",
      "8\n",
      "sum => 90\n"
     ]
    }
   ],
   "source": [
    "#find largest number\n",
    "a = 2\n",
    "b = 3\n",
    "c = 11\n",
    "l = a\n",
    "if b > l:\n",
    "    l = b\n",
    "if c > l:\n",
    "    l = c\n",
    "print(\"largest: \" + str(c))\n",
    "\n",
    "# find experince level\n",
    "status = 'fresher'\n",
    "exp = 10\n",
    "if(exp > 5):\n",
    "    status = 'intemediate'\n",
    "print('exp status: ' + status)\n",
    "\n",
    "#find largest by recursion\n",
    "def rec(a, b):\n",
    "    if a > b:\n",
    "        return a\n",
    "    return b\n",
    "\n",
    "c = rec(9, 12)\n",
    "print(c)\n",
    "\n",
    "## for loop\n",
    "l = [1, 5, 9, 3, 8]\n",
    "for i in l:\n",
    "    m = rec(1, i)\n",
    "    print(m)\n",
    "\n",
    "X = [1,2,4,5,68,10]\n",
    "sum=0\n",
    "for i in X:\n",
    "    sum+=i\n",
    "print(\"sum => \" +str(sum))"
   ]
  },
  {
   "cell_type": "markdown",
   "metadata": {},
   "source": [
    "## Range "
   ]
  },
  {
   "cell_type": "code",
   "execution_count": 31,
   "metadata": {},
   "outputs": [
    {
     "name": "stdout",
     "output_type": "stream",
     "text": [
      "range(0, 10)\n",
      "range(0, 9)\n",
      "10\n",
      "<class 'range'>\n",
      "6\n"
     ]
    }
   ],
   "source": [
    "print(range(10))\n",
    "print(range(0,9))\n",
    "print(len(range(0,10)))\n",
    "print(type(range(0,10)))\n",
    "\n",
    "#find index of minimum number in list\n",
    "X = [198, 87, 45, 63, 39, 71, 28, 111]\n",
    "min_idx = 0\n",
    "for i in range(len(X)):\n",
    "    if(X[i]<X[min_idx]):\n",
    "        min_idx=i\n",
    "print(min_idx)"
   ]
  },
  {
   "cell_type": "markdown",
   "metadata": {},
   "source": [
    "## while loop"
   ]
  },
  {
   "cell_type": "code",
   "execution_count": 32,
   "metadata": {},
   "outputs": [
    {
     "name": "stdout",
     "output_type": "stream",
     "text": [
      "1 2 3 4 5 2 4 6 8 "
     ]
    }
   ],
   "source": [
    "i = 1\n",
    "while i < 10 :     \n",
    "    if(i > 5): break     \n",
    "    print( i, end = ' ', ) #note how to print on the same line using end='\n",
    "    i+=1\n",
    "    \n",
    "# print event number\n",
    "start = 1\n",
    "while (start < 10):\n",
    "    if(start%2 == 0): print(start, end=' ')\n",
    "    start += 1\n",
    "    continue"
   ]
  },
  {
   "cell_type": "markdown",
   "metadata": {},
   "source": [
    "## functions"
   ]
  },
  {
   "cell_type": "code",
   "execution_count": 33,
   "metadata": {},
   "outputs": [],
   "source": [
    "def countX(arr, x):\n",
    "    i = 0\n",
    "    for x in arr:\n",
    "        i = i + 1\n",
    "    return i"
   ]
  },
  {
   "cell_type": "code",
   "execution_count": 34,
   "metadata": {},
   "outputs": [
    {
     "name": "stdout",
     "output_type": "stream",
     "text": [
      "7\n"
     ]
    }
   ],
   "source": [
    "x = countX([1,2,1,3,1,4,1], 1)\n",
    "print(x)"
   ]
  },
  {
   "cell_type": "code",
   "execution_count": 35,
   "metadata": {},
   "outputs": [],
   "source": [
    "# factorial function\n",
    "def fact(x):\n",
    "    r = 1\n",
    "    while x < 10:\n",
    "        r = r * x\n",
    "        x = x + 1\n",
    "    return r\n"
   ]
  },
  {
   "cell_type": "code",
   "execution_count": 36,
   "metadata": {},
   "outputs": [
    {
     "name": "stdout",
     "output_type": "stream",
     "text": [
      "15120\n"
     ]
    }
   ],
   "source": [
    "print(fact(5))"
   ]
  },
  {
   "cell_type": "code",
   "execution_count": 37,
   "metadata": {},
   "outputs": [],
   "source": [
    "def mutate(arr):\n",
    "    for i in range(len(arr)):\n",
    "        arr[i] = 'X'\n",
    "        "
   ]
  },
  {
   "cell_type": "code",
   "execution_count": 38,
   "metadata": {},
   "outputs": [
    {
     "name": "stdout",
     "output_type": "stream",
     "text": [
      "['X', 'X', 'X']\n"
     ]
    }
   ],
   "source": [
    "a = [1, 2, 3]\n",
    "mutate(a)\n",
    "print(a)"
   ]
  },
  {
   "cell_type": "code",
   "execution_count": null,
   "metadata": {},
   "outputs": [],
   "source": []
  },
  {
   "cell_type": "code",
   "execution_count": null,
   "metadata": {},
   "outputs": [],
   "source": []
  }
 ],
 "metadata": {
  "kernelspec": {
   "display_name": "Python 3",
   "language": "python",
   "name": "python3"
  },
  "language_info": {
   "codemirror_mode": {
    "name": "ipython",
    "version": 3
   },
   "file_extension": ".py",
   "mimetype": "text/x-python",
   "name": "python",
   "nbconvert_exporter": "python",
   "pygments_lexer": "ipython3",
   "version": "3.6.5"
  }
 },
 "nbformat": 4,
 "nbformat_minor": 2
}
