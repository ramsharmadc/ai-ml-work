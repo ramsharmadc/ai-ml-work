{
 "cells": [
  {
   "cell_type": "code",
   "execution_count": 26,
   "metadata": {},
   "outputs": [
    {
     "name": "stdout",
     "output_type": "stream",
     "text": [
      "{'jose': 'A', 'anoop': 'A-', 'charu': 'C', 'salim': ' B'}\n"
     ]
    }
   ],
   "source": [
    "#dictionary operations\n",
    "\n",
    "grades = {'jose' : 'A', 'anoop': 'A-', 'charu' : 'C', 'salim' :' B'} # creating a dictionary\n",
    "print (grades)"
   ]
  },
  {
   "cell_type": "code",
   "execution_count": 27,
   "metadata": {},
   "outputs": [
    {
     "name": "stdout",
     "output_type": "stream",
     "text": [
      "{'jose': 'A', 'anoop': 'A-', 'charu': 'C', 'salim': ' B'}\n"
     ]
    }
   ],
   "source": [
    "#dictionary operations\n",
    "\n",
    "grades = dict (jose = 'A', anoop= 'A-', charu = 'C', salim =' B') # Alternate way to create a dictionary\n",
    "print (grades)"
   ]
  },
  {
   "cell_type": "code",
   "execution_count": 28,
   "metadata": {},
   "outputs": [
    {
     "name": "stdout",
     "output_type": "stream",
     "text": [
      "{'jose': 'A', 'anoop': 'A-', 'charu': 'C', 'salim': 'B'}\n"
     ]
    }
   ],
   "source": [
    "#dictionary operations\n",
    "\n",
    "grades = dict ([ ('jose','A'),('anoop','A-'), ('charu','C'), ('salim','B')]) # Alternate way to create a dictionary\n",
    "print (grades)"
   ]
  },
  {
   "cell_type": "code",
   "execution_count": null,
   "metadata": {},
   "outputs": [],
   "source": [
    "#dictionary operations\n",
    "\n",
    "len(grades) # Number of items in the dictionary\n"
   ]
  },
  {
   "cell_type": "code",
   "execution_count": null,
   "metadata": {},
   "outputs": [],
   "source": [
    "#dictionary operations\n",
    "\n",
    "grades ['jose'] #Look-up the dictionary for a given key"
   ]
  },
  {
   "cell_type": "code",
   "execution_count": null,
   "metadata": {},
   "outputs": [],
   "source": [
    "#dictionary operations\n",
    "\n",
    "grades ['justin'] #Look-up the dictionary for a given key"
   ]
  },
  {
   "cell_type": "code",
   "execution_count": null,
   "metadata": {},
   "outputs": [],
   "source": [
    "#dictionary operations\n",
    "grades = {'jose' : 'A', 'anoop': 'A-', 'charu' : 'C', 'salim' :' B'} # creating a dictionary\n",
    "\n",
    "del grades['jose'] #deleting an entry with a key"
   ]
  },
  {
   "cell_type": "code",
   "execution_count": null,
   "metadata": {},
   "outputs": [],
   "source": [
    "print(grades)"
   ]
  },
  {
   "cell_type": "code",
   "execution_count": null,
   "metadata": {},
   "outputs": [],
   "source": [
    "#dictionary operations\n",
    "\n",
    "'jose' in grades #membership"
   ]
  },
  {
   "cell_type": "code",
   "execution_count": null,
   "metadata": {},
   "outputs": [],
   "source": [
    "#dictionary operations\n",
    "\n",
    "'jose' not in grades #membership"
   ]
  },
  {
   "cell_type": "code",
   "execution_count": null,
   "metadata": {},
   "outputs": [],
   "source": [
    "#dictionary operations\n",
    "grades.keys() #listing of all the keys"
   ]
  },
  {
   "cell_type": "code",
   "execution_count": null,
   "metadata": {},
   "outputs": [],
   "source": [
    "#dictionary operations\n",
    "grades.items() #listing of all the key-value pairs"
   ]
  },
  {
   "cell_type": "code",
   "execution_count": null,
   "metadata": {},
   "outputs": [],
   "source": [
    "#dictionary operations\n",
    "grades.get('anoop') #dictionary look-up"
   ]
  },
  {
   "cell_type": "code",
   "execution_count": null,
   "metadata": {},
   "outputs": [],
   "source": []
  },
  {
   "cell_type": "code",
   "execution_count": null,
   "metadata": {},
   "outputs": [],
   "source": []
  },
  {
   "cell_type": "code",
   "execution_count": null,
   "metadata": {},
   "outputs": [],
   "source": []
  }
 ],
 "metadata": {
  "kernelspec": {
   "display_name": "Python 3",
   "language": "python",
   "name": "python3"
  },
  "language_info": {
   "codemirror_mode": {
    "name": "ipython",
    "version": 3
   },
   "file_extension": ".py",
   "mimetype": "text/x-python",
   "name": "python",
   "nbconvert_exporter": "python",
   "pygments_lexer": "ipython3",
   "version": "3.6.7"
  }
 },
 "nbformat": 4,
 "nbformat_minor": 2
}
