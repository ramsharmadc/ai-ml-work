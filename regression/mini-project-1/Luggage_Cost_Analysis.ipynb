{
 "cells": [
  {
   "cell_type": "markdown",
   "metadata": {},
   "source": [
    "# Mini Project AIML - Linear Regression"
   ]
  },
  {
   "cell_type": "code",
   "execution_count": 1,
   "metadata": {},
   "outputs": [],
   "source": [
    "# The given problem of predicting cost of the bags should be placed in the category of \n",
    "# Regression problem as we have to find the process of finding a model or function\n",
    "# for distinguishing the data into continuous real values instead of using classes or \n",
    "# discrete values.We have to identify the distribution movement depending on the given \n",
    "# data(historical). \n",
    "\n",
    "# Because a regression predictive model predicts a quantity, the skill of the model must \n",
    "# be reported as an error in those predictions. Regression is one of the most popular \n",
    "# supervised learning algorithms in predictive data analysis."
   ]
  },
  {
   "cell_type": "markdown",
   "metadata": {},
   "source": [
    "### Part 1 - Exploratory Data Analysis"
   ]
  },
  {
   "cell_type": "code",
   "execution_count": 2,
   "metadata": {},
   "outputs": [],
   "source": [
    "# EDA, Exploratory Data Analysis is the process of performing \n",
    "# Descriptive Analytics or Data Exploration to perform descriptive analytics \n",
    "# before moving to building a predictive analytics model. \n",
    "# Descriptive statistics will help us to understand the variability in the \n",
    "# model and visualization of the data."
   ]
  },
  {
   "cell_type": "markdown",
   "metadata": {},
   "source": [
    "#### Data Analysis for the given Linear Regression problem "
   ]
  },
  {
   "cell_type": "code",
   "execution_count": 3,
   "metadata": {},
   "outputs": [],
   "source": [
    "## importing required library to read data from csv file\n",
    "import pandas as pd\n",
    "lugg_df = pd.read_csv('Data_miniproject.csv')"
   ]
  },
  {
   "cell_type": "code",
   "execution_count": 4,
   "metadata": {},
   "outputs": [
    {
     "data": {
      "text/html": [
       "<div>\n",
       "<style scoped>\n",
       "    .dataframe tbody tr th:only-of-type {\n",
       "        vertical-align: middle;\n",
       "    }\n",
       "\n",
       "    .dataframe tbody tr th {\n",
       "        vertical-align: top;\n",
       "    }\n",
       "\n",
       "    .dataframe thead th {\n",
       "        text-align: right;\n",
       "    }\n",
       "</style>\n",
       "<table border=\"1\" class=\"dataframe\">\n",
       "  <thead>\n",
       "    <tr style=\"text-align: right;\">\n",
       "      <th></th>\n",
       "      <th>Cost</th>\n",
       "      <th>Weight</th>\n",
       "      <th>Weight1</th>\n",
       "      <th>Length</th>\n",
       "      <th>Height</th>\n",
       "      <th>Width</th>\n",
       "    </tr>\n",
       "  </thead>\n",
       "  <tbody>\n",
       "    <tr>\n",
       "      <th>0</th>\n",
       "      <td>242.0</td>\n",
       "      <td>23.2</td>\n",
       "      <td>25.4</td>\n",
       "      <td>30.0</td>\n",
       "      <td>11.5200</td>\n",
       "      <td>4.0200</td>\n",
       "    </tr>\n",
       "    <tr>\n",
       "      <th>1</th>\n",
       "      <td>290.0</td>\n",
       "      <td>24.0</td>\n",
       "      <td>26.3</td>\n",
       "      <td>31.2</td>\n",
       "      <td>12.4800</td>\n",
       "      <td>4.3056</td>\n",
       "    </tr>\n",
       "    <tr>\n",
       "      <th>2</th>\n",
       "      <td>340.0</td>\n",
       "      <td>23.9</td>\n",
       "      <td>26.5</td>\n",
       "      <td>31.1</td>\n",
       "      <td>12.3778</td>\n",
       "      <td>4.6961</td>\n",
       "    </tr>\n",
       "    <tr>\n",
       "      <th>3</th>\n",
       "      <td>363.0</td>\n",
       "      <td>26.3</td>\n",
       "      <td>29.0</td>\n",
       "      <td>33.5</td>\n",
       "      <td>12.7300</td>\n",
       "      <td>4.4555</td>\n",
       "    </tr>\n",
       "    <tr>\n",
       "      <th>4</th>\n",
       "      <td>430.0</td>\n",
       "      <td>26.5</td>\n",
       "      <td>29.0</td>\n",
       "      <td>34.0</td>\n",
       "      <td>12.4440</td>\n",
       "      <td>5.1340</td>\n",
       "    </tr>\n",
       "  </tbody>\n",
       "</table>\n",
       "</div>"
      ],
      "text/plain": [
       "    Cost  Weight  Weight1  Length   Height   Width\n",
       "0  242.0    23.2     25.4    30.0  11.5200  4.0200\n",
       "1  290.0    24.0     26.3    31.2  12.4800  4.3056\n",
       "2  340.0    23.9     26.5    31.1  12.3778  4.6961\n",
       "3  363.0    26.3     29.0    33.5  12.7300  4.4555\n",
       "4  430.0    26.5     29.0    34.0  12.4440  5.1340"
      ]
     },
     "execution_count": 4,
     "metadata": {},
     "output_type": "execute_result"
    }
   ],
   "source": [
    "# get a peak of the dataset\n",
    "lugg_df.head()"
   ]
  },
  {
   "cell_type": "code",
   "execution_count": 5,
   "metadata": {},
   "outputs": [],
   "source": [
    "## Observations:\n",
    "## With a quick look we can observer the following:\n",
    "## 1. There is one dependent variable(Y) or Response which is column 'Cost' \n",
    "## 2. There are 5 independent variables or features as Height', Width', 'Length', 'Weight', 'Weight1'\n",
    "## 3. The given Regression problem is Multi-Variate Regression. \n",
    "## 4. The Linear Regression equation is of form: Y = α + β1X1 + β2X2 + β3X3\n",
    "## The selection of features plays the most important role in multivariate regression"
   ]
  },
  {
   "cell_type": "code",
   "execution_count": 6,
   "metadata": {},
   "outputs": [
    {
     "data": {
      "text/plain": [
       "(159, 6)"
      ]
     },
     "execution_count": 6,
     "metadata": {},
     "output_type": "execute_result"
    }
   ],
   "source": [
    "# to get the shape of our data\n",
    "lugg_df.shape"
   ]
  },
  {
   "cell_type": "code",
   "execution_count": 7,
   "metadata": {},
   "outputs": [],
   "source": [
    "## Observation:\n",
    "## We know that the total rows#(observations) is 159 and column#(characteristics) is 6\n",
    "## out of 6 characteristics:\n",
    "##    'Cost' column is dependent variable, which is to be predicted\n",
    "##     5 columns are features(independent) ('Height', 'Weight', 'Weight1', 'Length', 'Width')"
   ]
  },
  {
   "cell_type": "code",
   "execution_count": 8,
   "metadata": {},
   "outputs": [
    {
     "name": "stdout",
     "output_type": "stream",
     "text": [
      "<class 'pandas.core.frame.DataFrame'>\n",
      "RangeIndex: 159 entries, 0 to 158\n",
      "Data columns (total 6 columns):\n",
      " #   Column   Non-Null Count  Dtype  \n",
      "---  ------   --------------  -----  \n",
      " 0   Cost     159 non-null    float64\n",
      " 1   Weight   159 non-null    float64\n",
      " 2   Weight1  159 non-null    float64\n",
      " 3   Length   159 non-null    float64\n",
      " 4   Height   159 non-null    float64\n",
      " 5   Width    159 non-null    float64\n",
      "dtypes: float64(6)\n",
      "memory usage: 7.5 KB\n"
     ]
    }
   ],
   "source": [
    "# let's get some information about our data \n",
    "lugg_df.info() "
   ]
  },
  {
   "cell_type": "code",
   "execution_count": 9,
   "metadata": {},
   "outputs": [],
   "source": [
    "## Observation:\n",
    "## By looking at the information above, we can see\n",
    "# 1. data has only float values, so we need not to standardize the unit\n",
    "# 2. no variable column has null values, so we are good in terms of junk data"
   ]
  },
  {
   "cell_type": "code",
   "execution_count": 10,
   "metadata": {},
   "outputs": [
    {
     "data": {
      "text/html": [
       "<div>\n",
       "<style scoped>\n",
       "    .dataframe tbody tr th:only-of-type {\n",
       "        vertical-align: middle;\n",
       "    }\n",
       "\n",
       "    .dataframe tbody tr th {\n",
       "        vertical-align: top;\n",
       "    }\n",
       "\n",
       "    .dataframe thead th {\n",
       "        text-align: right;\n",
       "    }\n",
       "</style>\n",
       "<table border=\"1\" class=\"dataframe\">\n",
       "  <thead>\n",
       "    <tr style=\"text-align: right;\">\n",
       "      <th></th>\n",
       "      <th>Cost</th>\n",
       "      <th>Weight</th>\n",
       "      <th>Weight1</th>\n",
       "      <th>Length</th>\n",
       "      <th>Height</th>\n",
       "      <th>Width</th>\n",
       "    </tr>\n",
       "  </thead>\n",
       "  <tbody>\n",
       "    <tr>\n",
       "      <th>count</th>\n",
       "      <td>159.000000</td>\n",
       "      <td>159.000000</td>\n",
       "      <td>159.000000</td>\n",
       "      <td>159.000000</td>\n",
       "      <td>159.000000</td>\n",
       "      <td>159.000000</td>\n",
       "    </tr>\n",
       "    <tr>\n",
       "      <th>mean</th>\n",
       "      <td>398.326415</td>\n",
       "      <td>26.247170</td>\n",
       "      <td>28.415723</td>\n",
       "      <td>31.227044</td>\n",
       "      <td>8.970994</td>\n",
       "      <td>4.417486</td>\n",
       "    </tr>\n",
       "    <tr>\n",
       "      <th>std</th>\n",
       "      <td>357.978317</td>\n",
       "      <td>9.996441</td>\n",
       "      <td>10.716328</td>\n",
       "      <td>11.610246</td>\n",
       "      <td>4.286208</td>\n",
       "      <td>1.685804</td>\n",
       "    </tr>\n",
       "    <tr>\n",
       "      <th>min</th>\n",
       "      <td>0.000000</td>\n",
       "      <td>7.500000</td>\n",
       "      <td>8.400000</td>\n",
       "      <td>8.800000</td>\n",
       "      <td>1.728400</td>\n",
       "      <td>1.047600</td>\n",
       "    </tr>\n",
       "    <tr>\n",
       "      <th>25%</th>\n",
       "      <td>120.000000</td>\n",
       "      <td>19.050000</td>\n",
       "      <td>21.000000</td>\n",
       "      <td>23.150000</td>\n",
       "      <td>5.944800</td>\n",
       "      <td>3.385650</td>\n",
       "    </tr>\n",
       "    <tr>\n",
       "      <th>50%</th>\n",
       "      <td>273.000000</td>\n",
       "      <td>25.200000</td>\n",
       "      <td>27.300000</td>\n",
       "      <td>29.400000</td>\n",
       "      <td>7.786000</td>\n",
       "      <td>4.248500</td>\n",
       "    </tr>\n",
       "    <tr>\n",
       "      <th>75%</th>\n",
       "      <td>650.000000</td>\n",
       "      <td>32.700000</td>\n",
       "      <td>35.500000</td>\n",
       "      <td>39.650000</td>\n",
       "      <td>12.365900</td>\n",
       "      <td>5.584500</td>\n",
       "    </tr>\n",
       "    <tr>\n",
       "      <th>max</th>\n",
       "      <td>1650.000000</td>\n",
       "      <td>59.000000</td>\n",
       "      <td>63.400000</td>\n",
       "      <td>68.000000</td>\n",
       "      <td>18.957000</td>\n",
       "      <td>8.142000</td>\n",
       "    </tr>\n",
       "  </tbody>\n",
       "</table>\n",
       "</div>"
      ],
      "text/plain": [
       "              Cost      Weight     Weight1      Length      Height       Width\n",
       "count   159.000000  159.000000  159.000000  159.000000  159.000000  159.000000\n",
       "mean    398.326415   26.247170   28.415723   31.227044    8.970994    4.417486\n",
       "std     357.978317    9.996441   10.716328   11.610246    4.286208    1.685804\n",
       "min       0.000000    7.500000    8.400000    8.800000    1.728400    1.047600\n",
       "25%     120.000000   19.050000   21.000000   23.150000    5.944800    3.385650\n",
       "50%     273.000000   25.200000   27.300000   29.400000    7.786000    4.248500\n",
       "75%     650.000000   32.700000   35.500000   39.650000   12.365900    5.584500\n",
       "max    1650.000000   59.000000   63.400000   68.000000   18.957000    8.142000"
      ]
     },
     "execution_count": 10,
     "metadata": {},
     "output_type": "execute_result"
    }
   ],
   "source": [
    "# let's describe the data\n",
    "# The describe() function in pandas is very handy in getting various summary statistics.\n",
    "lugg_df.describe()"
   ]
  },
  {
   "cell_type": "code",
   "execution_count": 11,
   "metadata": {},
   "outputs": [],
   "source": [
    "## Observation:\n",
    "## By looking at the above result, we can see some statistics summary\n",
    "## we can see count, mean, standard deviation, minimum and maximum values and the quantiles of the data\n",
    "## we can derive some observations:\n",
    "##   1. the min and max of the the characteristics\n",
    "##   2. mean value is slightly greater than median value of each column \n",
    "##      which is represented by 50% (50th percentile) in index column.\n",
    "##   3. There is notably a large difference between 75th %tile and \n",
    "##        max values of predictors “Weight”, ”Weight1”,”Length”\n",
    "##   4. The above observations suggests that there are outliers"
   ]
  },
  {
   "cell_type": "code",
   "execution_count": 12,
   "metadata": {},
   "outputs": [
    {
     "data": {
      "text/plain": [
       "array([ 242. ,  290. ,  340. ,  363. ,  430. ,  450. ,  500. ,  390. ,\n",
       "        475. ,  600. ,  700. ,  610. ,  650. ,  575. ,  685. ,  620. ,\n",
       "        680. ,  725. ,  720. ,  714. ,  850. , 1000. ,  920. ,  955. ,\n",
       "        925. ,  975. ,  950. ,   40. ,   69. ,   78. ,   87. ,  120. ,\n",
       "          0. ,  110. ,  150. ,  145. ,  160. ,  140. ,  169. ,  161. ,\n",
       "        200. ,  180. ,  272. ,  270. ,  306. ,  540. ,  800. ,   55. ,\n",
       "         60. ,   90. ,  170. ,  273. ,  300. ,    5.9,   32. ,   51.5,\n",
       "         70. ,  100. ,   80. ,   85. ,  115. ,  125. ,  130. ,  135. ,\n",
       "        225. ,  188. ,  197. ,  218. ,  260. ,  265. ,  250. ,  320. ,\n",
       "        514. ,  556. ,  840. ,  690. ,  900. ,  820. , 1015. , 1100. ,\n",
       "        345. ,  456. ,  510. ,  567. ,  770. , 1250. , 1600. , 1550. ,\n",
       "       1650. ,    6.7,    7.5,    7. ,    9.7,    9.8,    8.7,   10. ,\n",
       "          9.9,   12.2,   13.4,   19.7,   19.9])"
      ]
     },
     "execution_count": 12,
     "metadata": {},
     "output_type": "execute_result"
    }
   ],
   "source": [
    "# find the unique \"Cost\" values\n",
    "lugg_df.Cost.unique()"
   ]
  },
  {
   "cell_type": "code",
   "execution_count": 13,
   "metadata": {},
   "outputs": [],
   "source": [
    "## Observation:\n",
    "## by above data we can infer that:\n",
    "## The target/dependent variable is continuous in nature\n",
    "## Cost value ranges from 0 to 1650"
   ]
  },
  {
   "cell_type": "code",
   "execution_count": 14,
   "metadata": {},
   "outputs": [
    {
     "data": {
      "text/plain": [
       "300.0     6\n",
       "500.0     5\n",
       "120.0     5\n",
       "700.0     5\n",
       "1000.0    5\n",
       "         ..\n",
       "556.0     1\n",
       "840.0     1\n",
       "690.0     1\n",
       "345.0     1\n",
       "242.0     1\n",
       "Name: Cost, Length: 101, dtype: int64"
      ]
     },
     "execution_count": 14,
     "metadata": {},
     "output_type": "execute_result"
    }
   ],
   "source": [
    "# to get the count of value of \"Cost\" group by different \"Count\"\n",
    "lugg_df.Cost.value_counts()"
   ]
  },
  {
   "cell_type": "code",
   "execution_count": 15,
   "metadata": {},
   "outputs": [
    {
     "data": {
      "text/plain": [
       "Cost       101\n",
       "Weight     116\n",
       "Weight1     93\n",
       "Length     124\n",
       "Height     154\n",
       "Width      152\n",
       "dtype: int64"
      ]
     },
     "execution_count": 15,
     "metadata": {},
     "output_type": "execute_result"
    }
   ],
   "source": [
    "## This shows the number of unique values for each coulmn\n",
    "## we see that we have almost discrete values for all the features\n",
    "\n",
    "lugg_df.nunique()"
   ]
  },
  {
   "cell_type": "code",
   "execution_count": 16,
   "metadata": {},
   "outputs": [
    {
     "data": {
      "text/plain": [
       "False"
      ]
     },
     "execution_count": 16,
     "metadata": {},
     "output_type": "execute_result"
    }
   ],
   "source": [
    "# check null or missing value\n",
    "\n",
    "lugg_df.isnull().values.any()"
   ]
  },
  {
   "cell_type": "markdown",
   "metadata": {},
   "source": [
    "#### Data cleanup and Transformation "
   ]
  },
  {
   "cell_type": "code",
   "execution_count": 17,
   "metadata": {},
   "outputs": [],
   "source": [
    "## Let's clean some data now\n",
    "## From the prelim data analysis (in info, description) we can see that\n",
    "## the columns \"Weight\" and \"Weight1\" are having almost same values,\n",
    "## also both the fields provides weight, so we can take the avg of these columns,\n",
    "## and use the Avg Weight as the new feature\n",
    "\n",
    "lugg_df['Weight'] = (lugg_df['Weight'] + lugg_df['Weight1'])/2\n",
    "lugg_df.head()\n",
    "\n",
    "## To remove the stale records which contains zeros, we can replace zero with the mean of that attribute\n",
    "lugg_df.replace(0,lugg_df.mean(axis=0),inplace=True)"
   ]
  },
  {
   "cell_type": "code",
   "execution_count": 18,
   "metadata": {},
   "outputs": [
    {
     "data": {
      "text/html": [
       "<div>\n",
       "<style scoped>\n",
       "    .dataframe tbody tr th:only-of-type {\n",
       "        vertical-align: middle;\n",
       "    }\n",
       "\n",
       "    .dataframe tbody tr th {\n",
       "        vertical-align: top;\n",
       "    }\n",
       "\n",
       "    .dataframe thead th {\n",
       "        text-align: right;\n",
       "    }\n",
       "</style>\n",
       "<table border=\"1\" class=\"dataframe\">\n",
       "  <thead>\n",
       "    <tr style=\"text-align: right;\">\n",
       "      <th></th>\n",
       "      <th>Cost</th>\n",
       "      <th>Weight</th>\n",
       "      <th>Length</th>\n",
       "      <th>Height</th>\n",
       "      <th>Width</th>\n",
       "    </tr>\n",
       "  </thead>\n",
       "  <tbody>\n",
       "    <tr>\n",
       "      <th>0</th>\n",
       "      <td>242.0</td>\n",
       "      <td>24.30</td>\n",
       "      <td>30.0</td>\n",
       "      <td>11.5200</td>\n",
       "      <td>4.0200</td>\n",
       "    </tr>\n",
       "    <tr>\n",
       "      <th>1</th>\n",
       "      <td>290.0</td>\n",
       "      <td>25.15</td>\n",
       "      <td>31.2</td>\n",
       "      <td>12.4800</td>\n",
       "      <td>4.3056</td>\n",
       "    </tr>\n",
       "    <tr>\n",
       "      <th>2</th>\n",
       "      <td>340.0</td>\n",
       "      <td>25.20</td>\n",
       "      <td>31.1</td>\n",
       "      <td>12.3778</td>\n",
       "      <td>4.6961</td>\n",
       "    </tr>\n",
       "    <tr>\n",
       "      <th>3</th>\n",
       "      <td>363.0</td>\n",
       "      <td>27.65</td>\n",
       "      <td>33.5</td>\n",
       "      <td>12.7300</td>\n",
       "      <td>4.4555</td>\n",
       "    </tr>\n",
       "    <tr>\n",
       "      <th>4</th>\n",
       "      <td>430.0</td>\n",
       "      <td>27.75</td>\n",
       "      <td>34.0</td>\n",
       "      <td>12.4440</td>\n",
       "      <td>5.1340</td>\n",
       "    </tr>\n",
       "  </tbody>\n",
       "</table>\n",
       "</div>"
      ],
      "text/plain": [
       "    Cost  Weight  Length   Height   Width\n",
       "0  242.0   24.30    30.0  11.5200  4.0200\n",
       "1  290.0   25.15    31.2  12.4800  4.3056\n",
       "2  340.0   25.20    31.1  12.3778  4.6961\n",
       "3  363.0   27.65    33.5  12.7300  4.4555\n",
       "4  430.0   27.75    34.0  12.4440  5.1340"
      ]
     },
     "execution_count": 18,
     "metadata": {},
     "output_type": "execute_result"
    }
   ],
   "source": [
    "## in th above result we can see that Avg weight is really close to Weight1 and Weight\n",
    "## Now we can remove \"Weight\" and \"Weight1\" and use \"Avg Weight\" for Weight feature\n",
    "\n",
    "lugg_df = pd.DataFrame(lugg_df, columns=['Cost', 'Weight', 'Length', 'Height', 'Width'])\n",
    "lugg_df.head()"
   ]
  },
  {
   "cell_type": "code",
   "execution_count": 19,
   "metadata": {},
   "outputs": [],
   "source": [
    "## We can also see that 'Length', 'Widht' and 'Height' are three relative dimensions using which,\n",
    "## we can calculate \"Volume\"\n",
    "## after calculatin \"Volume\", we can drop the featues 'Length', 'Widht' and 'Height'\n",
    "\n",
    "lugg_df['Volume'] = lugg_df['Length'] * lugg_df['Height'] * lugg_df['Width']\n",
    "lugg_df = pd.DataFrame(lugg_df, columns=['Cost', 'Weight', 'Volume'])"
   ]
  },
  {
   "cell_type": "code",
   "execution_count": 20,
   "metadata": {},
   "outputs": [
    {
     "data": {
      "text/html": [
       "<div>\n",
       "<style scoped>\n",
       "    .dataframe tbody tr th:only-of-type {\n",
       "        vertical-align: middle;\n",
       "    }\n",
       "\n",
       "    .dataframe tbody tr th {\n",
       "        vertical-align: top;\n",
       "    }\n",
       "\n",
       "    .dataframe thead th {\n",
       "        text-align: right;\n",
       "    }\n",
       "</style>\n",
       "<table border=\"1\" class=\"dataframe\">\n",
       "  <thead>\n",
       "    <tr style=\"text-align: right;\">\n",
       "      <th></th>\n",
       "      <th>Cost</th>\n",
       "      <th>Weight</th>\n",
       "      <th>Volume</th>\n",
       "    </tr>\n",
       "  </thead>\n",
       "  <tbody>\n",
       "    <tr>\n",
       "      <th>0</th>\n",
       "      <td>242.0</td>\n",
       "      <td>24.30</td>\n",
       "      <td>1389.312000</td>\n",
       "    </tr>\n",
       "    <tr>\n",
       "      <th>1</th>\n",
       "      <td>290.0</td>\n",
       "      <td>25.15</td>\n",
       "      <td>1676.497306</td>\n",
       "    </tr>\n",
       "    <tr>\n",
       "      <th>2</th>\n",
       "      <td>340.0</td>\n",
       "      <td>25.20</td>\n",
       "      <td>1807.761723</td>\n",
       "    </tr>\n",
       "    <tr>\n",
       "      <th>3</th>\n",
       "      <td>363.0</td>\n",
       "      <td>27.65</td>\n",
       "      <td>1900.070253</td>\n",
       "    </tr>\n",
       "    <tr>\n",
       "      <th>4</th>\n",
       "      <td>430.0</td>\n",
       "      <td>27.75</td>\n",
       "      <td>2172.174864</td>\n",
       "    </tr>\n",
       "  </tbody>\n",
       "</table>\n",
       "</div>"
      ],
      "text/plain": [
       "    Cost  Weight       Volume\n",
       "0  242.0   24.30  1389.312000\n",
       "1  290.0   25.15  1676.497306\n",
       "2  340.0   25.20  1807.761723\n",
       "3  363.0   27.65  1900.070253\n",
       "4  430.0   27.75  2172.174864"
      ]
     },
     "execution_count": 20,
     "metadata": {},
     "output_type": "execute_result"
    }
   ],
   "source": [
    "## Now we have 2 Features, and 1 Target\n",
    "## Features: \"Area\", \"Avg Weight\"\n",
    "## Target: \"Cost\"\n",
    "\n",
    "lugg_df.head()"
   ]
  },
  {
   "cell_type": "markdown",
   "metadata": {},
   "source": [
    "#### Linear Regression Equation: Y = α + β1X1 + β2X2 + β3X3 "
   ]
  },
  {
   "cell_type": "markdown",
   "metadata": {},
   "source": [
    "#### Standardization "
   ]
  },
  {
   "cell_type": "code",
   "execution_count": 21,
   "metadata": {},
   "outputs": [
    {
     "data": {
      "text/html": [
       "<div>\n",
       "<style scoped>\n",
       "    .dataframe tbody tr th:only-of-type {\n",
       "        vertical-align: middle;\n",
       "    }\n",
       "\n",
       "    .dataframe tbody tr th {\n",
       "        vertical-align: top;\n",
       "    }\n",
       "\n",
       "    .dataframe thead th {\n",
       "        text-align: right;\n",
       "    }\n",
       "</style>\n",
       "<table border=\"1\" class=\"dataframe\">\n",
       "  <thead>\n",
       "    <tr style=\"text-align: right;\">\n",
       "      <th></th>\n",
       "      <th>Cost</th>\n",
       "      <th>Weight</th>\n",
       "      <th>Volume</th>\n",
       "    </tr>\n",
       "  </thead>\n",
       "  <tbody>\n",
       "    <tr>\n",
       "      <th>0</th>\n",
       "      <td>-0.446858</td>\n",
       "      <td>-0.293673</td>\n",
       "      <td>-0.207097</td>\n",
       "    </tr>\n",
       "    <tr>\n",
       "      <th>1</th>\n",
       "      <td>-0.311814</td>\n",
       "      <td>-0.211329</td>\n",
       "      <td>-0.018413</td>\n",
       "    </tr>\n",
       "    <tr>\n",
       "      <th>2</th>\n",
       "      <td>-0.171144</td>\n",
       "      <td>-0.206485</td>\n",
       "      <td>0.067829</td>\n",
       "    </tr>\n",
       "    <tr>\n",
       "      <th>3</th>\n",
       "      <td>-0.106436</td>\n",
       "      <td>0.030860</td>\n",
       "      <td>0.128477</td>\n",
       "    </tr>\n",
       "    <tr>\n",
       "      <th>4</th>\n",
       "      <td>0.082063</td>\n",
       "      <td>0.040548</td>\n",
       "      <td>0.307253</td>\n",
       "    </tr>\n",
       "  </tbody>\n",
       "</table>\n",
       "</div>"
      ],
      "text/plain": [
       "       Cost    Weight    Volume\n",
       "0 -0.446858 -0.293673 -0.207097\n",
       "1 -0.311814 -0.211329 -0.018413\n",
       "2 -0.171144 -0.206485  0.067829\n",
       "3 -0.106436  0.030860  0.128477\n",
       "4  0.082063  0.040548  0.307253"
      ]
     },
     "execution_count": 21,
     "metadata": {},
     "output_type": "execute_result"
    }
   ],
   "source": [
    "## Standardization of the data\n",
    "## as now we have cleaned some data and have relevant attributes, we can do some standardization\n",
    "## this refinement wil bring our dataset to a common standard in terms of scale, quantity etc \n",
    "## this process is helpful to make the regression modelling work faster and accurately\n",
    "\n",
    "from sklearn import preprocessing\n",
    "\n",
    "# Get column names first\n",
    "names = lugg_df.columns\n",
    "\n",
    "# Create the Scaler object\n",
    "scaler = preprocessing.StandardScaler()\n",
    "\n",
    "# Fit your data on the scaler object\n",
    "lugg_df = scaler.fit_transform(lugg_df)\n",
    "lugg_df = pd.DataFrame(lugg_df, columns=names)\n",
    "lugg_df.head()"
   ]
  },
  {
   "cell_type": "code",
   "execution_count": 22,
   "metadata": {},
   "outputs": [
    {
     "data": {
      "text/html": [
       "<div>\n",
       "<style scoped>\n",
       "    .dataframe tbody tr th:only-of-type {\n",
       "        vertical-align: middle;\n",
       "    }\n",
       "\n",
       "    .dataframe tbody tr th {\n",
       "        vertical-align: top;\n",
       "    }\n",
       "\n",
       "    .dataframe thead th {\n",
       "        text-align: right;\n",
       "    }\n",
       "</style>\n",
       "<table border=\"1\" class=\"dataframe\">\n",
       "  <thead>\n",
       "    <tr style=\"text-align: right;\">\n",
       "      <th></th>\n",
       "      <th>Cost</th>\n",
       "      <th>Weight</th>\n",
       "      <th>Volume</th>\n",
       "    </tr>\n",
       "  </thead>\n",
       "  <tbody>\n",
       "    <tr>\n",
       "      <th>count</th>\n",
       "      <td>1.590000e+02</td>\n",
       "      <td>1.590000e+02</td>\n",
       "      <td>1.590000e+02</td>\n",
       "    </tr>\n",
       "    <tr>\n",
       "      <th>mean</th>\n",
       "      <td>1.284786e-16</td>\n",
       "      <td>3.910219e-17</td>\n",
       "      <td>-4.468822e-17</td>\n",
       "    </tr>\n",
       "    <tr>\n",
       "      <th>std</th>\n",
       "      <td>1.003160e+00</td>\n",
       "      <td>1.003160e+00</td>\n",
       "      <td>1.003160e+00</td>\n",
       "    </tr>\n",
       "    <tr>\n",
       "      <th>min</th>\n",
       "      <td>-1.111103e+00</td>\n",
       "      <td>-1.877588e+00</td>\n",
       "      <td>-1.106966e+00</td>\n",
       "    </tr>\n",
       "    <tr>\n",
       "      <th>25%</th>\n",
       "      <td>-7.830598e-01</td>\n",
       "      <td>-7.102379e-01</td>\n",
       "      <td>-7.971379e-01</td>\n",
       "    </tr>\n",
       "    <tr>\n",
       "      <th>50%</th>\n",
       "      <td>-3.118143e-01</td>\n",
       "      <td>-1.047657e-01</td>\n",
       "      <td>-4.486735e-01</td>\n",
       "    </tr>\n",
       "    <tr>\n",
       "      <th>75%</th>\n",
       "      <td>7.010118e-01</td>\n",
       "      <td>6.557074e-01</td>\n",
       "      <td>7.819387e-01</td>\n",
       "    </tr>\n",
       "    <tr>\n",
       "      <th>max</th>\n",
       "      <td>3.514418e+00</td>\n",
       "      <td>3.281035e+00</td>\n",
       "      <td>2.671987e+00</td>\n",
       "    </tr>\n",
       "  </tbody>\n",
       "</table>\n",
       "</div>"
      ],
      "text/plain": [
       "               Cost        Weight        Volume\n",
       "count  1.590000e+02  1.590000e+02  1.590000e+02\n",
       "mean   1.284786e-16  3.910219e-17 -4.468822e-17\n",
       "std    1.003160e+00  1.003160e+00  1.003160e+00\n",
       "min   -1.111103e+00 -1.877588e+00 -1.106966e+00\n",
       "25%   -7.830598e-01 -7.102379e-01 -7.971379e-01\n",
       "50%   -3.118143e-01 -1.047657e-01 -4.486735e-01\n",
       "75%    7.010118e-01  6.557074e-01  7.819387e-01\n",
       "max    3.514418e+00  3.281035e+00  2.671987e+00"
      ]
     },
     "execution_count": 22,
     "metadata": {},
     "output_type": "execute_result"
    }
   ],
   "source": [
    "lugg_df.describe()"
   ]
  },
  {
   "cell_type": "code",
   "execution_count": 23,
   "metadata": {},
   "outputs": [],
   "source": [
    "## Observation:\n",
    "    # After standardization we can see that al the fields have come to a standard scale which is good for our model"
   ]
  },
  {
   "cell_type": "markdown",
   "metadata": {},
   "source": [
    "#### Outliers "
   ]
  },
  {
   "cell_type": "code",
   "execution_count": 24,
   "metadata": {},
   "outputs": [],
   "source": [
    "## Outlier Detection Analysis\n",
    "## An outlier is a data point in a data set that is distant from all other observations. \n",
    "## A data point that lies outside the overall distribution of the dataset.\n",
    "## An outlier could exist in a dataset due to\n",
    "##     1. Variability in the data\n",
    "##     2. An experimental measurement error"
   ]
  },
  {
   "cell_type": "markdown",
   "metadata": {},
   "source": [
    "#### Finding outliers - Using Z-score "
   ]
  },
  {
   "cell_type": "code",
   "execution_count": 25,
   "metadata": {},
   "outputs": [
    {
     "name": "stdout",
     "output_type": "stream",
     "text": [
      "Z-Score => [[0.44685781 0.29367306 0.20709706]\n",
      " [0.31181432 0.21132884 0.01841304]\n",
      " [0.17114402 0.20648507 0.06782917]\n",
      " [0.10643568 0.03086004 0.12847693]\n",
      " [0.08206251 0.0405476  0.30725276]\n",
      " [0.13833063 0.08898538 0.40815269]\n",
      " [0.27900093 0.08898538 0.57664652]\n",
      " [0.03047372 0.14226693 0.24654861]\n",
      " [0.13833063 0.14226693 0.44450345]\n",
      " [0.27900093 0.21976737 0.55818552]\n",
      " [0.20866578 0.22945493 0.61157503]\n",
      " [0.27900093 0.24398626 0.52577157]\n",
      " [0.27900093 0.28758026 0.31741796]\n",
      " [0.17114402 0.33117426 0.60971493]\n",
      " [0.56034153 0.32633048 0.77002543]\n",
      " [0.56034153 0.32633048 0.98554042]\n",
      " [0.84168213 0.42320604 0.85653273]\n",
      " [0.84168213 0.42320604 0.8440146 ]\n",
      " [0.58847559 0.47164382 0.91547026]\n",
      " [0.70101183 0.47648759 0.98795626]\n",
      " [0.49000638 0.51523782 1.06677321]\n",
      " [0.79948104 0.52008159 1.09224516]\n",
      " [0.61660965 0.54914426 1.0179374 ]\n",
      " [0.78541401 0.58789448 1.40971535]\n",
      " [0.84168213 0.59273826 1.29535543]\n",
      " [0.91201727 0.58789448 1.54122955]\n",
      " [0.89795024 0.59758204 1.53806217]\n",
      " [0.88106981 0.67992626 1.51534427]\n",
      " [1.26369302 0.68477004 1.74142097]\n",
      " [1.68570392 0.76711426 2.3835388 ]\n",
      " [1.46063144 0.91242759 2.1758117 ]\n",
      " [1.55910065 0.91242759 2.16944928]\n",
      " [1.47469847 1.0189907  2.64761652]\n",
      " [1.61536877 1.1497727  2.67198684]\n",
      " [1.54503362 1.17883536 2.3100887 ]\n",
      " [1.01516581 1.33992905 1.01977891]\n",
      " [0.93357704 0.96695817 0.92049492]\n",
      " [0.90825638 0.88945772 0.89433361]\n",
      " [0.88293573 0.8071135  0.85982199]\n",
      " [0.79009333 0.77805084 0.7958381 ]\n",
      " [0.00704814 0.73445684 0.79479375]\n",
      " [0.81822739 0.71508173 0.80202973]\n",
      " [0.79009333 0.69086284 0.8062357 ]\n",
      " [0.70569116 0.59398728 0.76623961]\n",
      " [0.71975819 0.58914351 0.74413374]\n",
      " [0.6775571  0.56492462 0.67325232]\n",
      " [0.73382522 0.54070573 0.7621687 ]\n",
      " [0.6775571  0.53586195 0.72042794]\n",
      " [0.65223644 0.41961129 0.60350007]\n",
      " [0.67474369 0.44867395 0.67939143]\n",
      " [0.56502086 0.4389864  0.58235545]\n",
      " [0.62128898 0.28398551 0.61249461]\n",
      " [0.31181432 0.22586018 0.35409017]\n",
      " [0.36245563 0.12898462 0.29761072]\n",
      " [0.03047372 0.31664293 0.04809544]\n",
      " [0.36808244 0.24523529 0.44867355]\n",
      " [0.36808244 0.19679751 0.45371552]\n",
      " [0.26679982 0.05148418 0.28829275]\n",
      " [0.39153717 0.23429871 0.45501297]\n",
      " [1.12302272 0.74773915 0.89162282]\n",
      " [1.68570392 1.09649114 1.18393827]\n",
      " [0.97296472 1.28180372 0.94719102]\n",
      " [0.95889769 1.20430328 0.94588492]\n",
      " [0.87449551 1.00086461 0.86239288]\n",
      " [0.79009333 0.87977017 0.77717951]\n",
      " [0.70569116 0.78773839 0.68894294]\n",
      " [0.73382522 0.72476928 0.69117158]\n",
      " [0.64942304 0.72476928 0.63145313]\n",
      " [0.71975819 0.64726884 0.63317367]\n",
      " [0.56502086 0.50679928 0.47740329]\n",
      " [0.35964222 0.32273573 0.27460444]\n",
      " [0.28368026 0.22586018 0.20281384]\n",
      " [1.11110296 1.87758838 1.10269785]\n",
      " [1.03767306 1.37867927 1.0517708 ]\n",
      " [1.01516581 1.25274105 1.02212791]\n",
      " [0.98281164 1.13649039 0.9833191 ]\n",
      " [0.93076363 1.04445861 0.95585573]\n",
      " [0.84636145 0.99117706 0.90106856]\n",
      " [0.90825638 0.92820795 0.91290592]\n",
      " [0.90262957 0.8943015  0.89174734]\n",
      " [0.88856254 0.83617617 0.90667834]\n",
      " [0.88856254 0.79742595 0.92552496]\n",
      " [0.81822739 0.71023795 0.82073463]\n",
      " [0.80416036 0.71023795 0.83056082]\n",
      " [0.7760263  0.71023795 0.81126766]\n",
      " [0.76195927 0.68117528 0.78192941]\n",
      " [0.79009333 0.61336239 0.7984376 ]\n",
      " [0.79009333 0.61336239 0.81293284]\n",
      " [0.76195927 0.61336239 0.78735301]\n",
      " [0.74789224 0.61336239 0.80014293]\n",
      " [0.81822739 0.61336239 0.77925273]\n",
      " [0.76195927 0.56492462 0.7852543 ]\n",
      " [0.70569116 0.56492462 0.73176731]\n",
      " [0.71975819 0.54554951 0.77629703]\n",
      " [0.70569116 0.51648684 0.81530309]\n",
      " [0.64942304 0.46804906 0.7359601 ]\n",
      " [0.49468571 0.41961129 0.66499465]\n",
      " [0.71975819 0.41961129 0.71136016]\n",
      " [0.59878173 0.36148595 0.63704667]\n",
      " [0.62128898 0.32273573 0.70690842]\n",
      " [0.57346108 0.26945418 0.62652384]\n",
      " [0.51437955 0.15320351 0.57344308]\n",
      " [0.28368026 0.10476573 0.31364107]\n",
      " [0.3962165  0.08539062 0.5299488 ]\n",
      " [0.38214947 0.08539062 0.53946399]\n",
      " [0.42435056 0.08539062 0.48846255]\n",
      " [0.42435056 0.03695285 0.48480483]\n",
      " [0.28368026 0.04539138 0.42455658]\n",
      " [0.22741214 0.15195449 0.36544491]\n",
      " [0.31838862 0.41836226 0.22846625]\n",
      " [0.43655167 0.57336315 0.4511803 ]\n",
      " [1.23555896 0.62180093 1.07491643]\n",
      " [0.79948104 0.76711426 0.79385202]\n",
      " [0.84168213 0.74289537 0.67964976]\n",
      " [0.84168213 0.81555203 0.63718851]\n",
      " [0.81354807 0.82039581 0.61798136]\n",
      " [1.40436332 1.00930314 1.14999894]\n",
      " [0.70101183 1.00930314 0.69852915]\n",
      " [1.17929084 1.01414692 1.35986856]\n",
      " [1.26369302 1.07711603 1.23598492]\n",
      " [1.40436332 1.08195981 1.24656108]\n",
      " [1.727905   1.08195981 1.45385692]\n",
      " [1.17929084 1.08680359 0.94152482]\n",
      " [1.96704451 1.27571092 1.45631219]\n",
      " [1.68570392 1.36289892 1.45891117]\n",
      " [1.96704451 1.37743025 1.65424281]\n",
      " [1.68570392 1.40649292 1.98159796]\n",
      " [1.68570392 1.47430581 1.78448651]\n",
      " [0.56502086 0.36992448 0.69015426]\n",
      " [0.28368026 0.53461293 0.53048028]\n",
      " [0.28368026 0.63148848 0.45639542]\n",
      " [0.28368026 0.8446147  0.45889221]\n",
      " [0.08206251 0.91242759 0.23214447]\n",
      " [0.15707699 0.96086537 0.43468543]\n",
      " [0.15521107 1.34836758 0.17919188]\n",
      " [0.30713499 1.34836758 0.21013593]\n",
      " [0.39153717 1.37743025 0.08192041]\n",
      " [0.27900093 1.56633758 0.04524646]\n",
      " [0.46749913 1.67290069 0.09427988]\n",
      " [1.03862054 1.84727669 0.2689847 ]\n",
      " [1.54503362 2.19602869 0.87427249]\n",
      " [2.38905541 2.5835309  1.80786448]\n",
      " [3.37374749 2.97103312 1.36024407]\n",
      " [3.2330772  2.97103312 1.36024407]\n",
      " [3.51441779 3.2810349  2.49328786]\n",
      " [1.10885223 1.72258749 1.10696553]\n",
      " [1.10660151 1.65477461 1.10245691]\n",
      " [1.10800821 1.64508705 1.10476332]\n",
      " [1.10041201 1.61118061 1.09599815]\n",
      " [1.10013067 1.58696172 1.0982146 ]\n",
      " [1.10322542 1.57727416 1.09884415]\n",
      " [1.09956799 1.52883638 1.09542844]\n",
      " [1.09984933 1.52883638 1.09767499]\n",
      " [1.10013067 1.51430505 1.09793602]\n",
      " [1.0933785  1.49977372 1.09424335]\n",
      " [1.09000241 1.48039861 1.09253978]\n",
      " [1.0933785  1.43196083 1.09396487]\n",
      " [1.07227795 1.31571016 1.06058408]\n",
      " [1.07171527 1.25274105 1.06124269]]\n"
     ]
    }
   ],
   "source": [
    "# Z - Score\n",
    "# Formula for Z score = (Observation — Mean)/Standard Deviation\n",
    "#    z = (X — μ) / σ\n",
    "\n",
    "from scipy import stats\n",
    "import numpy as np\n",
    "\n",
    "z = np.abs(stats.zscore(lugg_df))\n",
    "print(\"Z-Score =>\", z)"
   ]
  },
  {
   "cell_type": "code",
   "execution_count": 26,
   "metadata": {},
   "outputs": [],
   "source": [
    "## Observation:\n",
    "     ## The above shape changes by -3 shape, so it means we have 3 outliers"
   ]
  },
  {
   "cell_type": "markdown",
   "metadata": {},
   "source": [
    "#### Finding outliers - Using IQR "
   ]
  },
  {
   "cell_type": "code",
   "execution_count": 27,
   "metadata": {},
   "outputs": [
    {
     "name": "stdout",
     "output_type": "stream",
     "text": [
      "IQR:\n",
      "Cost      1.484072\n",
      "Weight    1.365945\n",
      "Volume    1.579077\n",
      "dtype: float64\n",
      "\n",
      "Lower bound:\n",
      "Cost     -3.009167\n",
      "Weight   -2.759156\n",
      "Volume   -3.165753\n",
      "dtype: float64\n",
      "\n",
      "Upper bound:\n",
      "Cost      2.927119\n",
      "Weight    2.704625\n",
      "Volume    3.150554\n",
      "dtype: float64\n"
     ]
    }
   ],
   "source": [
    "# IQR - Interquartile range\n",
    "# Formula for IQR :\n",
    "    # IQR = Q3 - Q1\n",
    "# The interquartile range (IQR) is a measure of statistical dispersion, \n",
    "# being equal to the difference between 75th and 25th percentiles, or between upper and lower quartiles.\n",
    "\n",
    "Q1 = lugg_df.quantile(0.25)\n",
    "Q3 = lugg_df.quantile(0.75)\n",
    "IQR = Q3 - Q1\n",
    "\n",
    "print(\"IQR:\")\n",
    "print(IQR)\n",
    "\n",
    "lower_bound = Q1 -(1.5 * IQR) \n",
    "upper_bound = Q3 +(1.5 * IQR) \n",
    "\n",
    "print()\n",
    "print(\"Lower bound:\")\n",
    "print(lower_bound)\n",
    "print()\n",
    "print(\"Upper bound:\")\n",
    "print(upper_bound)"
   ]
  },
  {
   "cell_type": "code",
   "execution_count": 28,
   "metadata": {},
   "outputs": [],
   "source": [
    "## Observation - IQR:\n",
    "    ## lower_bound is -2 and upper bound is 3, so anything outside of (-2, 3) is an outlier."
   ]
  },
  {
   "cell_type": "code",
   "execution_count": 29,
   "metadata": {},
   "outputs": [],
   "source": [
    "## removing Outliers using IQR\n",
    "def remove_outlier(df, low, high):\n",
    "    #low = .05\n",
    "    #high = .95\n",
    "    quant_df = df.quantile([low, high])\n",
    "    for name in list(df.columns):\n",
    "#         if is_numeric_dtype(lugg_df[name]):\n",
    "        df = df[(df[name] > quant_df.loc[low, name]) \n",
    "        & (df[name] < quant_df.loc[high, name])]\n",
    "    return df"
   ]
  },
  {
   "cell_type": "code",
   "execution_count": 30,
   "metadata": {},
   "outputs": [
    {
     "data": {
      "text/plain": [
       "(156, 3)"
      ]
     },
     "execution_count": 30,
     "metadata": {},
     "output_type": "execute_result"
    }
   ],
   "source": [
    "# After removing outliers using Z-Score calculated above\n",
    "lugg_df = lugg_df[(z < 3).all(axis=1)]\n",
    "lugg_df.shape"
   ]
  },
  {
   "cell_type": "markdown",
   "metadata": {},
   "source": [
    "#### Correlation using Heat Map "
   ]
  },
  {
   "cell_type": "code",
   "execution_count": 31,
   "metadata": {},
   "outputs": [],
   "source": [
    "# The maximum value r = 1 corresponds to the case when there’s a perfect positive linear \n",
    "# relationship between x and y. In other words, larger x values correspond to larger y values and vice versa.\n",
    "\n",
    "# The value r > 0 indicates positive correlation between x and y\n",
    "# The value r = 0 corresponds to the case when x and y are independent\n",
    "# The value r < 0 indicates negative correlation between x and y\n",
    "# The minimal value r = −1 corresponds to the case when there’s a perfect negative \n",
    "#    linear relationship between x and y. In other words, larger x values correspond to smaller y values and vice versa."
   ]
  },
  {
   "cell_type": "code",
   "execution_count": 32,
   "metadata": {
    "scrolled": true
   },
   "outputs": [
    {
     "name": "stdout",
     "output_type": "stream",
     "text": [
      "Correlation Matrix:\n",
      "Correlation of Cost with Weight: 0.8960309891943178\n",
      "Correlation of Cost with Volume: 0.9550135685488005\n"
     ]
    },
    {
     "data": {
      "text/plain": [
       "<matplotlib.axes._subplots.AxesSubplot at 0xc980650>"
      ]
     },
     "execution_count": 32,
     "metadata": {},
     "output_type": "execute_result"
    },
    {
     "data": {
      "image/png": "[encoded data removed]",
      "text/plain": [
       "<Figure size 432x288 with 2 Axes>"
      ]
     },
     "metadata": {
      "needs_background": "light"
     },
     "output_type": "display_data"
    }
   ],
   "source": [
    "## Finding Correlation and depicting using Heat Map\n",
    "\n",
    "import seaborn as sb\n",
    "\n",
    "correlation_matrix = np.corrcoef(lugg_df.T)\n",
    "print(\"Correlation Matrix:\")\n",
    "print(\"Correlation of Cost with Weight:\", correlation_matrix[0,1])\n",
    "print(\"Correlation of Cost with Volume:\", correlation_matrix[0,2])\n",
    "sb.heatmap(data=correlation_matrix, annot=True)"
   ]
  },
  {
   "cell_type": "code",
   "execution_count": 33,
   "metadata": {},
   "outputs": [],
   "source": [
    "## Observation - Correlation\n",
    "    # we can see that the correlation of the \"Cost\" with \"Weight\" and \"Volume\" is ~1, so it's nearly perfect correlation "
   ]
  },
  {
   "cell_type": "markdown",
   "metadata": {},
   "source": [
    "### Part 2 - Plotting of various graphs & correlations"
   ]
  },
  {
   "cell_type": "markdown",
   "metadata": {},
   "source": [
    "#### Scatter Plot "
   ]
  },
  {
   "cell_type": "code",
   "execution_count": 34,
   "metadata": {},
   "outputs": [
    {
     "data": {
      "image/png": "[encoded data removed]",
      "text/plain": [
       "<Figure size 864x576 with 1 Axes>"
      ]
     },
     "metadata": {
      "needs_background": "light"
     },
     "output_type": "display_data"
    }
   ],
   "source": [
    "    # Finding Correlation between Cost and Weight\n",
    "    import matplotlib.pyplot as plt\n",
    "\n",
    "    fig, ax  = plt.subplots(figsize=(12, 8))\n",
    "    ax.scatter(lugg_df['Cost'], lugg_df['Weight'])\n",
    "    ax.set_xlabel('Weight of bag')\n",
    "    ax.set_ylabel('Cost of bag')\n",
    "    plt.show()"
   ]
  },
  {
   "cell_type": "code",
   "execution_count": 35,
   "metadata": {},
   "outputs": [],
   "source": [
    "## Observation - Scatterplot b/w Cost and Weight\n",
    "    # we can see that both the varibales \"Cost\" and \"weight\" have a positive correlation\n",
    "    # there is straight line of regression with 3 point as outliers which are outside the line"
   ]
  },
  {
   "cell_type": "code",
   "execution_count": 36,
   "metadata": {},
   "outputs": [
    {
     "data": {
      "image/png": "[encoded data removed]",
      "text/plain": [
       "<Figure size 864x576 with 1 Axes>"
      ]
     },
     "metadata": {
      "needs_background": "light"
     },
     "output_type": "display_data"
    }
   ],
   "source": [
    "# Finding Correlation between Cost and Volume\n",
    "import matplotlib.pyplot as plt\n",
    "\n",
    "fig, ax  = plt.subplots(figsize=(12, 8))\n",
    "ax.scatter(lugg_df['Cost'], lugg_df['Volume'])\n",
    "ax.set_xlabel('Volume of bag')\n",
    "ax.set_ylabel('Cost of bag')\n",
    "plt.show()"
   ]
  },
  {
   "cell_type": "code",
   "execution_count": 37,
   "metadata": {},
   "outputs": [],
   "source": [
    "## Observation - Scatterplot b/w Cost and Volume\n",
    "    # we can see that both the varibales \"Cost\" and \"Volume\" have a positive correlation\n",
    "    # there is straight line of regression with 3 point as outliers which are outside the line"
   ]
  },
  {
   "cell_type": "code",
   "execution_count": 38,
   "metadata": {},
   "outputs": [
    {
     "data": {
      "text/plain": [
       "<matplotlib.axes._subplots.AxesSubplot at 0xde4eeb0>"
      ]
     },
     "execution_count": 38,
     "metadata": {},
     "output_type": "execute_result"
    },
    {
     "data": {
      "image/png": "[encoded data removed]",
      "text/plain": [
       "<Figure size 432x288 with 1 Axes>"
      ]
     },
     "metadata": {
      "needs_background": "light"
     },
     "output_type": "display_data"
    }
   ],
   "source": [
    "## Distribution Plot for Cost (the dependent variable)\n",
    "sb.distplot(lugg_df['Cost'])"
   ]
  },
  {
   "cell_type": "code",
   "execution_count": 39,
   "metadata": {},
   "outputs": [
    {
     "data": {
      "text/plain": [
       "<matplotlib.axes._subplots.AxesSubplot at 0xdc71430>"
      ]
     },
     "execution_count": 39,
     "metadata": {},
     "output_type": "execute_result"
    },
    {
     "data": {
      "image/png": "[encoded data removed]",
      "text/plain": [
       "<Figure size 432x288 with 1 Axes>"
      ]
     },
     "metadata": {
      "needs_background": "light"
     },
     "output_type": "display_data"
    }
   ],
   "source": [
    "## Distribution Plot for Weight\n",
    "sb.distplot(lugg_df['Weight'])"
   ]
  },
  {
   "cell_type": "code",
   "execution_count": 40,
   "metadata": {},
   "outputs": [
    {
     "data": {
      "text/plain": [
       "<matplotlib.axes._subplots.AxesSubplot at 0xde68510>"
      ]
     },
     "execution_count": 40,
     "metadata": {},
     "output_type": "execute_result"
    },
    {
     "data": {
      "image/png": "[encoded data removed]",
      "text/plain": [
       "<Figure size 432x288 with 1 Axes>"
      ]
     },
     "metadata": {
      "needs_background": "light"
     },
     "output_type": "display_data"
    }
   ],
   "source": [
    "## Distribution plot for Volume\n",
    "sb.distplot(lugg_df['Volume'])"
   ]
  },
  {
   "cell_type": "markdown",
   "metadata": {},
   "source": [
    "#### Categorical plot "
   ]
  },
  {
   "cell_type": "code",
   "execution_count": 41,
   "metadata": {},
   "outputs": [],
   "source": [
    "# Categorical plotting represents the categorical data with a scatter plot, \n",
    "# All of the points belonging to one category would fall on the same position \n",
    "#     along the axis corresponding to the categorical variable. "
   ]
  },
  {
   "cell_type": "code",
   "execution_count": 42,
   "metadata": {},
   "outputs": [
    {
     "data": {
      "image/png": "[encoded data removed]",
      "text/plain": [
       "<Figure size 360x360 with 1 Axes>"
      ]
     },
     "metadata": {
      "needs_background": "light"
     },
     "output_type": "display_data"
    }
   ],
   "source": [
    "## Categorical plot for Cost vs Weight\n",
    "sb.catplot(x=\"Weight\", y=\"Cost\", data=lugg_df);"
   ]
  },
  {
   "cell_type": "code",
   "execution_count": 43,
   "metadata": {},
   "outputs": [
    {
     "data": {
      "image/png": "[encoded data removed]",
      "text/plain": [
       "<Figure size 360x360 with 1 Axes>"
      ]
     },
     "metadata": {
      "needs_background": "light"
     },
     "output_type": "display_data"
    }
   ],
   "source": [
    "## Categorical plot for Cost vs Volume\n",
    "sb.catplot(x=\"Volume\", y=\"Cost\", data=lugg_df);"
   ]
  },
  {
   "cell_type": "markdown",
   "metadata": {},
   "source": [
    "#### Box Plot "
   ]
  },
  {
   "cell_type": "code",
   "execution_count": 44,
   "metadata": {},
   "outputs": [],
   "source": [
    "# Box Plot is the visual representation of the depicting groups of numerical data through their quartiles\n",
    "# Boxplot is also used for detect the outlier in data set\n",
    "# It captures the summary of the data efficiently with a simple box and whiskers and allows us to compare easily across groups\n",
    "# Boxplot summarizes a sample data using 25th, 50th and 75th percentiles\n",
    "# These percentiles are also known as the lower quartile, median and upper quartile"
   ]
  },
  {
   "cell_type": "code",
   "execution_count": 45,
   "metadata": {},
   "outputs": [
    {
     "data": {
      "text/plain": [
       "<matplotlib.axes._subplots.AxesSubplot at 0xdcc44d0>"
      ]
     },
     "execution_count": 45,
     "metadata": {},
     "output_type": "execute_result"
    },
    {
     "data": {
      "image/png": "[encoded data removed]",
      "text/plain": [
       "<Figure size 432x288 with 1 Axes>"
      ]
     },
     "metadata": {
      "needs_background": "light"
     },
     "output_type": "display_data"
    }
   ],
   "source": [
    "## box plot for Cost\n",
    "import seaborn as sb\n",
    "sb.boxplot(x=lugg_df['Cost'])"
   ]
  },
  {
   "cell_type": "code",
   "execution_count": 46,
   "metadata": {},
   "outputs": [
    {
     "data": {
      "text/plain": [
       "<matplotlib.axes._subplots.AxesSubplot at 0xdf7bbd0>"
      ]
     },
     "execution_count": 46,
     "metadata": {},
     "output_type": "execute_result"
    },
    {
     "data": {
      "image/png": "[encoded data removed]",
      "text/plain": [
       "<Figure size 432x288 with 1 Axes>"
      ]
     },
     "metadata": {
      "needs_background": "light"
     },
     "output_type": "display_data"
    }
   ],
   "source": [
    "## box plot for Weight\n",
    "sb.boxplot(x=lugg_df['Weight'])"
   ]
  },
  {
   "cell_type": "code",
   "execution_count": 47,
   "metadata": {},
   "outputs": [
    {
     "data": {
      "text/plain": [
       "<matplotlib.axes._subplots.AxesSubplot at 0xdd5ab70>"
      ]
     },
     "execution_count": 47,
     "metadata": {},
     "output_type": "execute_result"
    },
    {
     "data": {
      "image/png": "[encoded data removed]",
      "text/plain": [
       "<Figure size 432x288 with 1 Axes>"
      ]
     },
     "metadata": {
      "needs_background": "light"
     },
     "output_type": "display_data"
    }
   ],
   "source": [
    "## box plot for Volume\n",
    "sb.boxplot(x=lugg_df['Volume'])"
   ]
  },
  {
   "cell_type": "markdown",
   "metadata": {},
   "source": [
    "#### Line Plot"
   ]
  },
  {
   "cell_type": "code",
   "execution_count": 48,
   "metadata": {},
   "outputs": [],
   "source": [
    "# The lineplot (lmplot) is one of the most basic plots. \n",
    "# It shows a line on a 2 dimensional plane. \n",
    "# We can plot it with seaborn or matlotlib depending on your preference.\n",
    "# it shows the behaviour of Target variable w.r.t the change in the feature"
   ]
  },
  {
   "cell_type": "code",
   "execution_count": 49,
   "metadata": {},
   "outputs": [
    {
     "data": {
      "text/plain": [
       "<matplotlib.axes._subplots.AxesSubplot at 0xe09c650>"
      ]
     },
     "execution_count": 49,
     "metadata": {},
     "output_type": "execute_result"
    },
    {
     "data": {
      "image/png": "[encoded data removed]",
      "text/plain": [
       "<Figure size 432x288 with 1 Axes>"
      ]
     },
     "metadata": {
      "needs_background": "light"
     },
     "output_type": "display_data"
    }
   ],
   "source": [
    "## Line plot for Cost vs Weight\n",
    "sb.lineplot(x='Weight',y='Cost',data=lugg_df)"
   ]
  },
  {
   "cell_type": "code",
   "execution_count": 50,
   "metadata": {},
   "outputs": [
    {
     "data": {
      "text/plain": [
       "<matplotlib.axes._subplots.AxesSubplot at 0xe0a8db0>"
      ]
     },
     "execution_count": 50,
     "metadata": {},
     "output_type": "execute_result"
    },
    {
     "data": {
      "image/png": "[encoded data removed]",
      "text/plain": [
       "<Figure size 432x288 with 1 Axes>"
      ]
     },
     "metadata": {
      "needs_background": "light"
     },
     "output_type": "display_data"
    }
   ],
   "source": [
    "## Line plot for Cost vs Volume\n",
    "sb.lineplot(x='Volume',y='Cost',data=lugg_df)"
   ]
  },
  {
   "cell_type": "markdown",
   "metadata": {},
   "source": [
    "#### Histogram plot "
   ]
  },
  {
   "cell_type": "code",
   "execution_count": 51,
   "metadata": {},
   "outputs": [],
   "source": [
    "## A histogram is a plot of the frequency distribution of numeric array by splitting it to small equal-sized bins."
   ]
  },
  {
   "cell_type": "code",
   "execution_count": 52,
   "metadata": {},
   "outputs": [
    {
     "data": {
      "image/png": "[encoded data removed]",
      "text/plain": [
       "<Figure size 288x216 with 1 Axes>"
      ]
     },
     "metadata": {
      "needs_background": "light"
     },
     "output_type": "display_data"
    }
   ],
   "source": [
    "## Histogram for Cost\n",
    "plt.figure(figsize=(4, 3))\n",
    "plt.hist(lugg_df['Cost'], bins=50)\n",
    "plt.gca().set(title='Frequency Histogram of Cost',xlabel='Cost', ylabel='Frequency');\n",
    "plt.show()"
   ]
  },
  {
   "cell_type": "code",
   "execution_count": 53,
   "metadata": {},
   "outputs": [
    {
     "data": {
      "image/png": "[encoded data removed]",
      "text/plain": [
       "<Figure size 288x216 with 1 Axes>"
      ]
     },
     "metadata": {
      "needs_background": "light"
     },
     "output_type": "display_data"
    }
   ],
   "source": [
    "## Histogram for Weight\n",
    "plt.figure(figsize=(4, 3))\n",
    "plt.hist(lugg_df['Weight'], bins=50)\n",
    "plt.gca().set(title='Frequency Histogram of Weight', xlabel='Weight', ylabel='Frequency');\n",
    "plt.show()"
   ]
  },
  {
   "cell_type": "code",
   "execution_count": 54,
   "metadata": {},
   "outputs": [
    {
     "data": {
      "image/png": "[encoded data removed]",
      "text/plain": [
       "<Figure size 288x216 with 1 Axes>"
      ]
     },
     "metadata": {
      "needs_background": "light"
     },
     "output_type": "display_data"
    }
   ],
   "source": [
    "## Histogram for Volume\n",
    "plt.figure(figsize=(4, 3))\n",
    "plt.hist(lugg_df['Volume'], bins=50)\n",
    "plt.gca().set(title='Frequency Histogram of Volume', xlabel='Volume', ylabel='Frequency');\n",
    "plt.show()"
   ]
  },
  {
   "cell_type": "markdown",
   "metadata": {},
   "source": [
    "#### Linear Regression Using sklearn"
   ]
  },
  {
   "cell_type": "code",
   "execution_count": 55,
   "metadata": {},
   "outputs": [
    {
     "name": "stdout",
     "output_type": "stream",
     "text": [
      "Intercept => -0.023993763880718326\n",
      "Coeficient => [0.60894546 0.34731377]\n"
     ]
    }
   ],
   "source": [
    "import sklearn\n",
    "from sklearn import linear_model\n",
    "\n",
    "X = lugg_df[['Volume', 'Weight']]\n",
    "Y = lugg_df['Cost']\n",
    "\n",
    "## running LR model with sklearn\n",
    "reg = linear_model.LinearRegression()\n",
    "reg.fit(X,Y)\n",
    "\n",
    "## intercept and coefficients\n",
    "print('Intercept =>', reg.intercept_)\n",
    "print('Coeficient =>', reg.coef_)"
   ]
  },
  {
   "cell_type": "code",
   "execution_count": 56,
   "metadata": {},
   "outputs": [],
   "source": [
    "## Observation:\n",
    "    # the Intercept(m) is -0.023993763880718326\n",
    "    # the coefficients (w1, w2) are (0.60894546 , 0.34731377)"
   ]
  },
  {
   "cell_type": "code",
   "execution_count": 57,
   "metadata": {},
   "outputs": [
    {
     "name": "stdout",
     "output_type": "stream",
     "text": [
      "X_Train = (117, 2)\n",
      "Y_Train = (117,)\n",
      "X_Test = (39, 2)\n",
      "Y_Test = (39,)\n",
      "            0         1\n",
      "48   0.133229  0.326819\n",
      "4    0.374236  0.429967\n",
      "70   0.220262  0.348534\n",
      "54   0.305656  0.491857\n",
      "43   0.090164  0.287731\n",
      "..        ...       ...\n",
      "8    0.410555  0.452769\n",
      "73   0.014606  0.111835\n",
      "144  0.000583  0.052117\n",
      "118  0.652783  0.648208\n",
      "99   0.105865  0.348534\n",
      "\n",
      "[117 rows x 2 columns]\n",
      "48    -0.652236\n",
      "4      0.082063\n",
      "70    -0.359642\n",
      "54    -0.030474\n",
      "43    -0.705691\n",
      "         ...   \n",
      "8      0.138331\n",
      "73    -1.037673\n",
      "147   -1.108008\n",
      "118    1.179291\n",
      "99    -0.621289\n",
      "Name: Cost, Length: 117, dtype: float64\n"
     ]
    }
   ],
   "source": [
    "# Training and testing datasets splitting with cross_validation\n",
    "# Training and testing splitting data with 75% and 25%\n",
    "# randomserach cross_validation is used\n",
    "\n",
    "import sklearn as skl\n",
    "from sklearn import preprocessing\n",
    "\n",
    "X = lugg_df[['Volume', 'Weight']]\n",
    "Y = lugg_df['Cost']\n",
    "\n",
    "min_max_scaler = preprocessing.MinMaxScaler()\n",
    "\n",
    "X_df = pd.DataFrame(min_max_scaler.fit_transform(pd.DataFrame(X)))\n",
    "Y_df=Y\n",
    "#Y_df =  pd.DataFrame(min_max_scaler.fit_transform(pd.DataFrame(Y)))\n",
    "\n",
    "X_train, X_test, Y_train, Y_test = skl.model_selection.train_test_split(X_df,\n",
    "                                                                             Y_df,\n",
    "                                                                             test_size = 0.25,\n",
    "                                                                             random_state = 5)\n",
    "print(\"X_Train =\", X_train.shape)\n",
    "print(\"Y_Train =\", Y_train.shape)\n",
    "\n",
    "print(\"X_Test =\", X_test.shape)\n",
    "print(\"Y_Test =\", Y_test.shape)\n",
    "print(X_train)\n",
    "print(Y_train)"
   ]
  },
  {
   "cell_type": "code",
   "execution_count": 58,
   "metadata": {},
   "outputs": [],
   "source": [
    "## Observation:\n",
    "    # we have splitted our data set in Training Data set and Test Data set in the ratio of 70-30"
   ]
  },
  {
   "cell_type": "code",
   "execution_count": 59,
   "metadata": {},
   "outputs": [
    {
     "name": "stdout",
     "output_type": "stream",
     "text": [
      "Coefficients => [2.28696736 1.5380761 ]\n",
      "RMSE => 0.22297094239929793\n"
     ]
    },
    {
     "data": {
      "image/png": "[encoded data removed]",
      "text/plain": [
       "<Figure size 432x288 with 1 Axes>"
      ]
     },
     "metadata": {
      "needs_background": "light"
     },
     "output_type": "display_data"
    }
   ],
   "source": [
    "## Caclulating RMSE using sklearn LR model\n",
    "from sklearn.linear_model import LinearRegression\n",
    "lm = LinearRegression()\n",
    "\n",
    "lm.fit(X_train, Y_train)\n",
    "Y_pred = lm.predict(X_test)\n",
    "\n",
    "error=abs(Y_test-Y_pred)\n",
    "total_error = np.dot(error, error)\n",
    "\n",
    "print(\"Coefficients =>\", lm.coef_)\n",
    "\n",
    "# Compute RMSE\n",
    "rmse_lr= np.sqrt(total_error/len(error))\n",
    "print('RMSE =>',rmse_lr)\n",
    "\n",
    "# plt.show()\n",
    "plt.plot(Y_test, Y_pred)\n",
    "plt.plot([0,50],[0,50], 'r-')\n",
    "plt.title(\"Cost vs Predicted Cost : $Y_i$ vs $\\hat{Y}_i$\")\n",
    "plt.xlabel('Cost')\n",
    "plt.ylabel('Predicted Cost')\n",
    "plt.show()"
   ]
  },
  {
   "cell_type": "code",
   "execution_count": 60,
   "metadata": {},
   "outputs": [],
   "source": [
    "## Observation:\n",
    "# In the result shown above, "
   ]
  },
  {
   "cell_type": "code",
   "execution_count": 61,
   "metadata": {},
   "outputs": [
    {
     "data": {
      "text/plain": [
       "<matplotlib.axes._subplots.AxesSubplot at 0xe149310>"
      ]
     },
     "execution_count": 61,
     "metadata": {},
     "output_type": "execute_result"
    },
    {
     "data": {
      "image/png": "[encoded data removed]",
      "text/plain": [
       "<Figure size 432x288 with 1 Axes>"
      ]
     },
     "metadata": {
      "needs_background": "light"
     },
     "output_type": "display_data"
    }
   ],
   "source": [
    "## Scatter plot to depict relation bewtween Test data and predicted Y\n",
    "sb.scatterplot(X_test[0], Y_test , color='green')\n",
    "sb.lineplot(X_test[0], Y_test , color='red')\n",
    "sb.lineplot(X_test[1], Y_pred, color='blue')"
   ]
  },
  {
   "cell_type": "code",
   "execution_count": 62,
   "metadata": {},
   "outputs": [
    {
     "data": {
      "text/plain": [
       "<matplotlib.axes._subplots.AxesSubplot at 0xdd77310>"
      ]
     },
     "execution_count": 62,
     "metadata": {},
     "output_type": "execute_result"
    },
    {
     "data": {
      "image/png": "[encoded data removed]",
      "text/plain": [
       "<Figure size 432x288 with 1 Axes>"
      ]
     },
     "metadata": {},
     "output_type": "display_data"
    }
   ],
   "source": [
    "## Showing delta_Error and prediction of price using Linear regression\n",
    "## depicting difference between Actual Y and Predicted Y\n",
    "\n",
    "delta_y = Y_test - Y_pred\n",
    "\n",
    "fig3 = plt.figure( facecolor='y', edgecolor='k')\n",
    "fig3.suptitle('delta_Error and prediction of price using Linear regression', fontsize=12)\n",
    "        \n",
    "sb.set_style('whitegrid')\n",
    "\n",
    "# show delta in Green color\n",
    "sb.kdeplot(np.array(delta_y),shade=True, color=\"g\", bw=0.5)\n",
    "\n",
    "# show Actual Y in Blue color\n",
    "sb.kdeplot(np.array(Y_test),shade=True, color=\"b\", bw=0.5)\n",
    "\n",
    "# show Predicted Y in Red color\n",
    "sb.kdeplot(np.array(Y_pred),shade=True, color=\"r\", bw=0.5)"
   ]
  },
  {
   "cell_type": "code",
   "execution_count": 63,
   "metadata": {},
   "outputs": [],
   "source": [
    "## Observation:\n",
    "    # In the above graph, we can see that there is very less difference between the actual Y vs predicted Y\n",
    "    # the delta is shown at the middle where there is slight deviation "
   ]
  },
  {
   "cell_type": "markdown",
   "metadata": {},
   "source": [
    "### Part 3 - Model Building using Multiple Linear Regression "
   ]
  },
  {
   "cell_type": "markdown",
   "metadata": {},
   "source": [
    "#### 3.1 SGD  - Stochastic Gradient Descent"
   ]
  },
  {
   "cell_type": "code",
   "execution_count": 64,
   "metadata": {},
   "outputs": [
    {
     "data": {
      "text/html": [
       "<div>\n",
       "<style scoped>\n",
       "    .dataframe tbody tr th:only-of-type {\n",
       "        vertical-align: middle;\n",
       "    }\n",
       "\n",
       "    .dataframe tbody tr th {\n",
       "        vertical-align: top;\n",
       "    }\n",
       "\n",
       "    .dataframe thead th {\n",
       "        text-align: right;\n",
       "    }\n",
       "</style>\n",
       "<table border=\"1\" class=\"dataframe\">\n",
       "  <thead>\n",
       "    <tr style=\"text-align: right;\">\n",
       "      <th></th>\n",
       "      <th>Model</th>\n",
       "      <th>Batch_Size</th>\n",
       "      <th>RMSE</th>\n",
       "      <th>MSE</th>\n",
       "      <th>Iteration</th>\n",
       "      <th>Optimal learning Rate</th>\n",
       "      <th>Cost_History</th>\n",
       "    </tr>\n",
       "  </thead>\n",
       "  <tbody>\n",
       "  </tbody>\n",
       "</table>\n",
       "</div>"
      ],
      "text/plain": [
       "Empty DataFrame\n",
       "Columns: [Model, Batch_Size, RMSE, MSE, Iteration, Optimal learning Rate, Cost_History]\n",
       "Index: []"
      ]
     },
     "execution_count": 64,
     "metadata": {},
     "output_type": "execute_result"
    }
   ],
   "source": [
    "## creating a template to store the iteration results in SDG algo\n",
    "models_performence1 = {\n",
    "    'Model':[],\n",
    "    'Batch_Size':[],\n",
    "    'RMSE': [], \n",
    "    'MSE':[],\n",
    "    'Iteration':[],\n",
    "    'Optimal learning Rate':[],\n",
    "    'Cost_History':[],\n",
    "    \n",
    "  \n",
    "}\n",
    "\n",
    "columns = [\"Model\",\"Batch_Size\",\"RMSE\",\"MSE\", \"Iteration\", \"Optimal learning Rate\", \"Cost_History\"]\n",
    "\n",
    "pd.DataFrame(models_performence1, columns=columns)"
   ]
  },
  {
   "cell_type": "code",
   "execution_count": 65,
   "metadata": {},
   "outputs": [],
   "source": [
    "## a utility method to return sqaure of a given number\n",
    "\n",
    "def square(list):\n",
    "        return [(i ** 2) for i in list]"
   ]
  },
  {
   "cell_type": "code",
   "execution_count": 66,
   "metadata": {},
   "outputs": [],
   "source": [
    "## Implementing SGD function\n",
    "## It takes the batch size and the number of iterations\n",
    "## Few assumption while implementinf the SDG algo\n",
    "# we will use - sklearn.linear_model.SGDRegressor\n",
    "# alpha is as learning rate\n",
    "# n_iter is as batch size\n",
    "\n",
    "from sklearn import linear_model\n",
    "import warnings\n",
    "warnings.filterwarnings(\"ignore\")\n",
    "\n",
    "#Here, alpha is as learning rate\n",
    "\n",
    "def SGD_model(x, initial_batch_size):\n",
    "    \n",
    "    print(\"Running Stochastic Gradient Descent (SGD) model...\")\n",
    "    \n",
    "    #initial_batch_size=100\n",
    "    batch=[]\n",
    "    \n",
    "    ## Iterate for number of iterations\n",
    "    for l in range(x):\n",
    "        batch_size_value= initial_batch_size + initial_batch_size * l\n",
    "        batch.append(batch_size_value)        \n",
    "        z=0        \n",
    "        scale_max=np.max(Y_test[0:batch_size_value])        \n",
    "        Learning_rate=1 # initial learning rate=1\n",
    "        score=[]\n",
    "        LR=[] # storing value for learning rate\n",
    "        Total_score=[]\n",
    "        epoch1=[]\n",
    "        global delta_error\n",
    "        delta_error=[]\n",
    "        Y_Test=[]\n",
    "        global Y_hat_Predicted\n",
    "        Y_hat_Predicted=[]\n",
    "        test_cost=[]\n",
    "        train_cost=[]\n",
    "        n_iter=100\n",
    "        \n",
    "        ## iterate over each element for the batch size\n",
    "        for k in range(1, batch_size_value+1):\n",
    "            # Appending learning rate \n",
    "            LR.append(Learning_rate) \n",
    "            \n",
    "            # SGDRegressor\n",
    "            sgdreg = linear_model.SGDRegressor(penalty='none', \n",
    "                                               alpha=Learning_rate,\n",
    "                                               n_iter_no_change=100)\n",
    "            yii=Y_train[0:batch_size_value]\n",
    "            xii=X_train[0:batch_size_value]\n",
    "            xtt=X_test[0:batch_size_value]\n",
    "            ytt=Y_test[0:batch_size_value]\n",
    "            Y_Test.append(ytt)\n",
    "            \n",
    "            clf=sgdreg.fit(xii,yii)\n",
    "            Traing_score=clf.score(xii,yii)\n",
    "            train_cost.append(Traing_score)\n",
    "            training_error=1-Traing_score\n",
    "             \n",
    "            # p predicting on x_test\n",
    "            \n",
    "            # Predicted value of y\n",
    "            y_hat = sgdreg.predict(xtt)\n",
    "                        \n",
    "            clf1=sgdreg.fit(xtt,ytt)\n",
    "            Testing_score=clf1.score(xtt,ytt)\n",
    "            test_cost.append(Testing_score)\n",
    "            Testing_error=1-Testing_score\n",
    "            Y_hat_Predicted.append(y_hat)\n",
    "            # error = Y_test - y_prediction\n",
    "            err = abs(ytt - y_hat)\n",
    "            delta_error.append(err)\n",
    "            \n",
    "            score.append(Testing_score)\n",
    "            # print(rmse)\n",
    "            \n",
    "            # Iteration \n",
    "            iteration_no=sgdreg.n_iter_\n",
    "            epoch1.append(iteration_no)\n",
    "            #print('Epoch=',iteration_no)\n",
    "            #print('Learning_rate',Learning_rate) \n",
    "\n",
    "            Learning_rate=Learning_rate/2\n",
    "            z+=1\n",
    "            \n",
    "        print(\"\\nTraining Error =>\",training_error)  \n",
    "        print(\"Testing_error =>\",Testing_error)\n",
    "       \n",
    "        models_performence1['Cost_History'].append(train_cost)\n",
    "        models_performence1['Model'].append('sklearn.linear_model.SGDRegressor')\n",
    "        models_performence1['Iteration'].append(sum(epoch1)/len(epoch1))\n",
    "        global best_Learning_rate\n",
    "        best_Learning_rate=LR[score.index(min(score))]\n",
    "        models_performence1['Optimal learning Rate'].append(best_Learning_rate)\n",
    "        print('The best value of best_Learning_rate is: %d.' % (best_Learning_rate),7)\n",
    "        MSEscore=scale_max*sum(score)/len(score)\n",
    "        score_value=np.sqrt(MSEscore)\n",
    "        print('Batch Size =>',batch[l])\n",
    "        \n",
    "        models_performence1['Batch_Size'].append(batch[l])\n",
    "        print(\"RMSE with batch size\",str(batch[l]),\"is\",score_value)\n",
    "        models_performence1['RMSE'].append(score_value)\n",
    "        print(\"MSE with batch size\",str(batch[l]),\"is\",MSEscore)\n",
    "        models_performence1['MSE'].append(MSEscore)"
   ]
  },
  {
   "cell_type": "code",
   "execution_count": 67,
   "metadata": {},
   "outputs": [
    {
     "name": "stdout",
     "output_type": "stream",
     "text": [
      "Running Stochastic Gradient Descent (SGD) model...\n",
      "\n",
      "Training Error => 0.1995539805864862\n",
      "Testing_error => 0.17676528495596022\n",
      "The best value of best_Learning_rate is: 0. 7\n",
      "Batch Size => 50\n",
      "RMSE with batch size 50 is 1.4029252535949133\n",
      "MSE with batch size 50 is 1.9681992671743518\n",
      "\n",
      "Training Error => 0.08638527110804717\n",
      "Testing_error => 0.176450978069976\n",
      "The best value of best_Learning_rate is: 0. 7\n",
      "Batch Size => 100\n",
      "RMSE with batch size 100 is 1.4028605657435849\n",
      "MSE with batch size 100 is 1.968017766918411\n",
      "\n",
      "Training Error => 0.06695098496931273\n",
      "Testing_error => 0.17684662749033486\n",
      "The best value of best_Learning_rate is: 0. 7\n",
      "Batch Size => 150\n",
      "RMSE with batch size 150 is 1.4028763047809472\n",
      "MSE with batch size 150 is 1.9680619265158448\n"
     ]
    }
   ],
   "source": [
    "SGD_model(3,50)"
   ]
  },
  {
   "cell_type": "code",
   "execution_count": 68,
   "metadata": {},
   "outputs": [
    {
     "data": {
      "text/html": [
       "<div>\n",
       "<style scoped>\n",
       "    .dataframe tbody tr th:only-of-type {\n",
       "        vertical-align: middle;\n",
       "    }\n",
       "\n",
       "    .dataframe tbody tr th {\n",
       "        vertical-align: top;\n",
       "    }\n",
       "\n",
       "    .dataframe thead th {\n",
       "        text-align: right;\n",
       "    }\n",
       "</style>\n",
       "<table border=\"1\" class=\"dataframe\">\n",
       "  <thead>\n",
       "    <tr style=\"text-align: right;\">\n",
       "      <th></th>\n",
       "      <th>Model</th>\n",
       "      <th>Batch_Size</th>\n",
       "      <th>RMSE</th>\n",
       "      <th>MSE</th>\n",
       "      <th>Iteration</th>\n",
       "      <th>Optimal learning Rate</th>\n",
       "    </tr>\n",
       "  </thead>\n",
       "  <tbody>\n",
       "    <tr>\n",
       "      <th>0</th>\n",
       "      <td>sklearn.linear_model.SGDRegressor</td>\n",
       "      <td>50</td>\n",
       "      <td>1.402925</td>\n",
       "      <td>1.968199</td>\n",
       "      <td>214.620000</td>\n",
       "      <td>9.536743e-07</td>\n",
       "    </tr>\n",
       "    <tr>\n",
       "      <th>1</th>\n",
       "      <td>sklearn.linear_model.SGDRegressor</td>\n",
       "      <td>100</td>\n",
       "      <td>1.402861</td>\n",
       "      <td>1.968018</td>\n",
       "      <td>214.520000</td>\n",
       "      <td>2.328306e-10</td>\n",
       "    </tr>\n",
       "    <tr>\n",
       "      <th>2</th>\n",
       "      <td>sklearn.linear_model.SGDRegressor</td>\n",
       "      <td>150</td>\n",
       "      <td>1.402876</td>\n",
       "      <td>1.968062</td>\n",
       "      <td>214.513333</td>\n",
       "      <td>1.577722e-30</td>\n",
       "    </tr>\n",
       "  </tbody>\n",
       "</table>\n",
       "</div>"
      ],
      "text/plain": [
       "                               Model  Batch_Size      RMSE       MSE  \\\n",
       "0  sklearn.linear_model.SGDRegressor          50  1.402925  1.968199   \n",
       "1  sklearn.linear_model.SGDRegressor         100  1.402861  1.968018   \n",
       "2  sklearn.linear_model.SGDRegressor         150  1.402876  1.968062   \n",
       "\n",
       "    Iteration  Optimal learning Rate  \n",
       "0  214.620000           9.536743e-07  \n",
       "1  214.520000           2.328306e-10  \n",
       "2  214.513333           1.577722e-30  "
      ]
     },
     "execution_count": 68,
     "metadata": {},
     "output_type": "execute_result"
    }
   ],
   "source": [
    "columns = [\"Model\",\"Batch_Size\",\"RMSE\",\"MSE\", \"Iteration\", \"Optimal learning Rate\"]\n",
    "pd.DataFrame(models_performence1, columns=columns)"
   ]
  },
  {
   "cell_type": "code",
   "execution_count": 69,
   "metadata": {},
   "outputs": [],
   "source": [
    "## Observation:\n",
    "# In sklearn SGDRegressor, It is observed that as batch size increases optimal learning rate decreses.\n",
    "# RMSE value is around 1.4  \n",
    "# MSE value is around 1.9\n",
    "# RMSE value for batch size 100 is approximately same with other batch size.\n",
    "# For Batch size=150, RMSE & learning Rate is lowest."
   ]
  },
  {
   "cell_type": "markdown",
   "metadata": {},
   "source": [
    "#### 3.3 - Regression Modeeling using MBGD - Mini Batch Gradient Descent "
   ]
  },
  {
   "cell_type": "code",
   "execution_count": 70,
   "metadata": {},
   "outputs": [],
   "source": [
    "# function to compute hypothesis / predictions \n",
    "def hypothesis(X, theta): \n",
    "    return np.dot(X, theta) "
   ]
  },
  {
   "cell_type": "code",
   "execution_count": 71,
   "metadata": {},
   "outputs": [],
   "source": [
    "def cost_function(X, Y, B):\n",
    "    m = len(Y)\n",
    "    J = np.sum((X.dot(B) - Y) ** 2)/(2 * m)\n",
    "    return J"
   ]
  },
  {
   "cell_type": "code",
   "execution_count": 72,
   "metadata": {},
   "outputs": [],
   "source": [
    "# function to compute gradient of error function w.r.t. theta \n",
    "def calc_gradient(X, y, theta): \n",
    "    h = hypothesis(X, theta) \n",
    "    loss = h - y\n",
    "    grad = np.dot(X.transpose(), loss) \n",
    "    return grad"
   ]
  },
  {
   "cell_type": "code",
   "execution_count": 73,
   "metadata": {},
   "outputs": [],
   "source": [
    "def create_minibatches(inputs, targets, batchsize, shuffle=False):\n",
    "    print(\"\\t\\tCreating mini batches with following params:\")\n",
    "    print(\"\\t\\tInput size:\", inputs.shape[0])\n",
    "    print(\"\\t\\tTarget size:\", targets.shape[0])\n",
    "    print(\"\\t\\tBatch Size: \", batchsize)\n",
    "    \n",
    "    assert inputs.shape[0] == targets.shape[0]\n",
    "\n",
    "    for start_idx in range(0, inputs.shape[0], batchsize):\n",
    "        end_idx = min(start_idx + batchsize, inputs.shape[0])\n",
    "        if shuffle:\n",
    "            excerpt = indices[start_idx:end_idx]\n",
    "        else:\n",
    "            excerpt = slice(start_idx, end_idx)\n",
    "        yield inputs[excerpt], targets[excerpt]"
   ]
  },
  {
   "cell_type": "code",
   "execution_count": 74,
   "metadata": {},
   "outputs": [],
   "source": [
    "def mini_batch_gradient_descent(X, Y, alpha, iterations, batch_size):\n",
    "    \n",
    "    print(\"Calculating Mini-Gradient Descent...Start\")\n",
    "    \n",
    "    cost_history = [0] * (iterations)\n",
    "    m = len(Y)    \n",
    "    \n",
    "    for iteration in range(iterations):    \n",
    "        print(\"\\tIteration of Mini-Gradient Descent...\")\n",
    "        \n",
    "        mini_batches = create_minibatches(X, Y, batch_size)        \n",
    "        \n",
    "        for mini_batch in mini_batches:             \n",
    "            \n",
    "            X_minB, Y_minB = mini_batch            \n",
    "            theta = np.zeros((X_minB.T.shape[0], 1)) \n",
    "            \n",
    "            # Gradient Calculation            \n",
    "            gradient = calc_gradient(X_minB, Y_minB, theta)\n",
    "            \n",
    "            # Changing Values of theta using Gradient\n",
    "            theta = theta - alpha * gradient\n",
    "            \n",
    "            # New Cost Value\n",
    "            cost = cost_function(X_minB, Y_minB, theta)\n",
    "            \n",
    "        cost_history.append(cost)\n",
    "            \n",
    "    print(\"Calculating Mini-Gradient Descent...Finished\")    \n",
    "    return theta, cost_history"
   ]
  },
  {
   "cell_type": "code",
   "execution_count": 75,
   "metadata": {},
   "outputs": [
    {
     "name": "stdout",
     "output_type": "stream",
     "text": [
      "Intial Cost before Applying Mini-Batch Gradient Descent: 44.731778246634896\n",
      "Calculating Mini-Gradient Descent...Start\n",
      "\tIteration of Mini-Gradient Descent...\n",
      "\t\tCreating mini batches with following params:\n",
      "\t\tInput size: 117\n",
      "\t\tTarget size: 117\n",
      "\t\tBatch Size:  10\n",
      "\tIteration of Mini-Gradient Descent...\n",
      "\t\tCreating mini batches with following params:\n",
      "\t\tInput size: 117\n",
      "\t\tTarget size: 117\n",
      "\t\tBatch Size:  10\n",
      "\tIteration of Mini-Gradient Descent...\n",
      "\t\tCreating mini batches with following params:\n",
      "\t\tInput size: 117\n",
      "\t\tTarget size: 117\n",
      "\t\tBatch Size:  10\n",
      "Calculating Mini-Gradient Descent...Finished\n",
      "\n",
      "\tBias => [[-2.13316066e-04  5.59636725e-03  9.68314440e-04 -7.26371142e-03\n",
      "  -7.75605746e-03  8.25503589e-03 -4.34902284e-03]\n",
      " [-6.23359513e-05  1.63538960e-03  2.82964161e-04 -2.12262662e-03\n",
      "  -2.26650167e-03  2.41231486e-03 -1.27088635e-03]\n",
      " [-8.10316497e-05  2.12587303e-03  3.67830318e-04 -2.75924139e-03\n",
      "  -2.94626721e-03  3.13581245e-03 -1.65204854e-03]]\n",
      "\n",
      "\tCoefficients => 2.329577589255856\n"
     ]
    }
   ],
   "source": [
    "## Driver program to run the Mini-Batch Gradient Descent Algorithm\n",
    "\n",
    "m = len(X_train[0])  # number of features\n",
    "x0 = np.ones(m)      # a scalar vector of 1's\n",
    "\n",
    "# preparing features and traget\n",
    "X = np.array([x0, X_train[0].values, X_train[1].values]).T\n",
    "Y = np.array(Y_train.values)\n",
    "\n",
    "## Calculating Intial Cost before Applying Mini-Batch Gradient Descent\n",
    "theta = np.zeros((3, 1)) \n",
    "inital_cost = cost_function(X, Y, theta)\n",
    "print(\"Intial Cost before Applying Mini-Batch Gradient Descent:\", inital_cost)\n",
    "\n",
    "alpha = 0.001   #learning rate (alpha)\n",
    "iterations = 3\n",
    "batch_size = 10\n",
    "\n",
    "theta, error_list = mini_batch_gradient_descent(X, Y, alpha, iterations, batch_size)\n",
    "\n",
    "print(\"\\n\\tBias =>\", theta) \n",
    "print(\"\\n\\tCoefficients =>\", error_list[-1]) \n"
   ]
  },
  {
   "cell_type": "code",
   "execution_count": 76,
   "metadata": {},
   "outputs": [],
   "source": [
    "# Model Evaluation - R2 Score\n",
    "def r2_score(Y, Y_pred):\n",
    "    mean_y = np.mean(Y)\n",
    "    ss_tot = sum((Y - mean_y) ** 2)\n",
    "    ss_res = sum((Y - Y_pred) ** 2)\n",
    "    r2 = 1 - (ss_res / ss_tot)\n",
    "    return r2"
   ]
  },
  {
   "cell_type": "code",
   "execution_count": 77,
   "metadata": {},
   "outputs": [
    {
     "name": "stdout",
     "output_type": "stream",
     "text": [
      "Evaulation of Mini-Batch Gradient Descent model:\n",
      "\t MSE => 0.7652041600433653\n",
      "\t RMSE => 0.8747594869696271\n",
      "\t R^2 => 0.9913863919804308\n"
     ]
    }
   ],
   "source": [
    "from sklearn.metrics import mean_squared_error\n",
    "\n",
    "print(\"Evaulation of Mini-Batch Gradient Descent model:\")\n",
    "\n",
    "# calculating Y_pred by taking dot product of X and Theta\n",
    "\n",
    "X = np.array([x0, X_train[0].values, X_train[1].values]).T\n",
    "# Y_pred=np.dot(X, theta)\n",
    "\n",
    "theta_min = [] \n",
    "  \n",
    "# using np.mean() \n",
    "for i in range(len(theta)): \n",
    "    theta_min.append(np.min(theta[i])) \n",
    "\n",
    "Y_pred=np.dot(X, theta_min)\n",
    "\n",
    "# Mean Squared Error\n",
    "mse = mean_squared_error(Y, Y_pred)\n",
    "print(\"\\t MSE =>\", mse)\n",
    "\n",
    "# calculating RMSE (Root Mean Square Error)\n",
    "rmse = np.sqrt(mse)\n",
    "print(\"\\t RMSE =>\", rmse)\n",
    "\n",
    "# calculating R^2 \n",
    "mean_y = np.mean(Y)\n",
    "ybar = np.sum(Y)/len(Y)\n",
    "ss_tot = np.sum((Y - ybar)**2)\n",
    "ss_res = mse\n",
    "r2_score = 1 - (ss_res / ss_tot)\n",
    "print(\"\\t R^2 =>\", r2_score)"
   ]
  },
  {
   "cell_type": "code",
   "execution_count": 78,
   "metadata": {},
   "outputs": [],
   "source": [
    "## Observation:\n",
    "    # We have very low value of RMSE score and a good R^2R score. I guess our model was pretty good.\n",
    "    # MSE => 0.7652041600433653\n",
    "    # RMSE => 0.8747594869696271\n",
    "    # R^2 => 0.9913863919804308"
   ]
  },
  {
   "cell_type": "code",
   "execution_count": 79,
   "metadata": {},
   "outputs": [
    {
     "data": {
      "image/png": "[encoded data removed]",
      "text/plain": [
       "<Figure size 432x288 with 1 Axes>"
      ]
     },
     "metadata": {},
     "output_type": "display_data"
    }
   ],
   "source": [
    "# visualising gradient descent \n",
    "plt.plot(error_list) \n",
    "plt.xlabel(\"Number of iterations\") \n",
    "plt.ylabel(\"Cost\") \n",
    "plt.show() "
   ]
  },
  {
   "cell_type": "markdown",
   "metadata": {},
   "source": [
    "#### 3.3 - Implementing Regression using Normal SK-Learn library"
   ]
  },
  {
   "cell_type": "code",
   "execution_count": 80,
   "metadata": {},
   "outputs": [
    {
     "name": "stdout",
     "output_type": "stream",
     "text": [
      "Evaluation of Normal SK-Learn library:\n",
      "\t Intercept(m)=> -1.3494301715153054\n",
      "\t Coefficients(Wn) => [2.28696736 1.5380761 ]\n",
      "\t MSE => 0.03091267585764252\n",
      "\t RMSE => 0.17582000983290416\n",
      "\t R^2 => 0.9592872682486968\n"
     ]
    }
   ],
   "source": [
    "from sklearn.linear_model import LinearRegression\n",
    "from sklearn.metrics import mean_squared_error\n",
    "\n",
    "# Model Intialization\n",
    "linearRegModel = LinearRegression()\n",
    "\n",
    "# Data Fitting\n",
    "# After defining the model, our next step is to train it. \n",
    "# We re going to use the \"linear_regression.fit\" method provided by sklearn to train the model.\n",
    "# Note that we’re passing variables X_train and Y_train, created in an earlier step, to the fit method.\n",
    "\n",
    "linReg = linearRegModel.fit(X_train, Y_train)\n",
    "\n",
    "# Y Prediction\n",
    "# we’ll be using the model to predict the target values for given features. \n",
    "# the input to the predict function will be the feature variable x  \n",
    "# the output will be a variable y_pred that will contain all the predictions generated by the model.\n",
    "\n",
    "Y_pred = linReg.predict(X_train)\n",
    "\n",
    "# Model Evaluation\n",
    "mse = mean_squared_error(Y_train, Y_pred)\n",
    "rmse = np.sqrt(mse)\n",
    "r2 = linReg.score(X_train, Y_train)\n",
    "\n",
    "coeffs = linReg.coef_\n",
    "intercept = linReg.intercept_\n",
    "\n",
    "print(\"Evaluation of Normal SK-Learn library:\")\n",
    "print(\"\\t Intercept(m)=>\", intercept)\n",
    "print(\"\\t Coefficients(Wn) =>\", coeffs)\n",
    "\n",
    "print(\"\\t MSE =>\", mse)\n",
    "print(\"\\t RMSE =>\", rmse)\n",
    "print(\"\\t R^2 =>\", r2)"
   ]
  },
  {
   "cell_type": "code",
   "execution_count": 81,
   "metadata": {},
   "outputs": [
    {
     "data": {
      "image/png": "[encoded data removed]",
      "text/plain": [
       "<Figure size 432x288 with 1 Axes>"
      ]
     },
     "metadata": {},
     "output_type": "display_data"
    }
   ],
   "source": [
    "## Plotting the Linear Regression Model\n",
    "plt.scatter(X_train[0], Y_train, color ='b') \n",
    "plt.plot(X_train, Y_pred,'g*')\n",
    "plt.xlabel('Features')\n",
    "plt.ylabel('Cost')\n",
    "plt.show()"
   ]
  },
  {
   "cell_type": "markdown",
   "metadata": {},
   "source": [
    "### Part 4 - Calculating the R squared, RMSE and MSE for the model  "
   ]
  },
  {
   "cell_type": "code",
   "execution_count": 82,
   "metadata": {},
   "outputs": [
    {
     "name": "stdout",
     "output_type": "stream",
     "text": [
      "Results of sklearn.metrics:\n",
      "\t MAE: 0.12175296319586673\n",
      "\t MSE: 0.03091267585764252\n",
      "\t RMSE: 0.17582000983290416\n",
      "\t R-Squared(R^2): 0.9592872682486968\n"
     ]
    }
   ],
   "source": [
    "## Trying to evaluate without any modelling, just by using the raw formulas \n",
    "\n",
    "import sklearn.metrics as metrics\n",
    "\n",
    "# calculating mean absolute error\n",
    "mae = metrics.mean_absolute_error(Y_train, Y_pred)\n",
    "\n",
    "# calculating mean squared error\n",
    "mse = metrics.mean_squared_error(Y_train, Y_pred)\n",
    "\n",
    "# calculating root mean squared error\n",
    "rmse = np.sqrt(mse) \n",
    "\n",
    "# calculating R^2 score\n",
    "r2 = metrics.r2_score(Y_train, Y_pred)\n",
    "\n",
    "print(\"Results of sklearn.metrics:\")\n",
    "print(\"\\t MAE:\",mae)\n",
    "print(\"\\t MSE:\", mse)\n",
    "print(\"\\t RMSE:\", rmse)\n",
    "print(\"\\t R-Squared(R^2):\", r2)"
   ]
  },
  {
   "cell_type": "code",
   "execution_count": 83,
   "metadata": {},
   "outputs": [],
   "source": [
    "## Finished"
   ]
  }
 ],
 "metadata": {
  "kernelspec": {
   "display_name": "Python 3",
   "language": "python",
   "name": "python3"
  },
  "language_info": {
   "codemirror_mode": {
    "name": "ipython",
    "version": 3
   },
   "file_extension": ".py",
   "mimetype": "text/x-python",
   "name": "python",
   "nbconvert_exporter": "python",
   "pygments_lexer": "ipython3",
   "version": "3.7.7"
  }
 },
 "nbformat": 4,
 "nbformat_minor": 4
}
